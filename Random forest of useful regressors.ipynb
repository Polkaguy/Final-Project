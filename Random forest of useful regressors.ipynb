{
 "cells": [
  {
   "cell_type": "code",
   "execution_count": 1,
   "metadata": {},
   "outputs": [
    {
     "name": "stderr",
     "output_type": "stream",
     "text": [
      "Using TensorFlow backend.\n"
     ]
    }
   ],
   "source": [
    "import pandas as pd\n",
    "import numpy as np\n",
    "import matplotlib.pyplot as plt\n",
    "import os\n",
    "import re\n",
    "\n",
    "import warnings\n",
    "warnings.filterwarnings('ignore')\n",
    "\n",
    "from sklearn.metrics import r2_score\n",
    "from sklearn.preprocessing import PolynomialFeatures\n",
    "from sklearn.preprocessing import StandardScaler\n",
    "from sklearn.linear_model import Ridge\n",
    "from sklearn.linear_model import Lasso\n",
    "from sklearn.linear_model import RidgeCV\n",
    "from sklearn.linear_model import LassoCV\n",
    "from sklearn.linear_model import LinearRegression\n",
    "from sklearn.decomposition import PCA\n",
    "from sklearn.linear_model import LogisticRegression\n",
    "from sklearn.linear_model import LogisticRegressionCV\n",
    "\n",
    "from keras.models import Sequential\n",
    "from keras.layers import Dense\n",
    "\n",
    "from sklearn.ensemble import RandomForestRegressor\n",
    "\n",
    "from sklearn.model_selection import train_test_split\n",
    "from sklearn.model_selection import cross_val_score\n",
    "from sklearn.model_selection import LeaveOneOut\n",
    "from sklearn.model_selection import KFold\n",
    "\n",
    "import pickle\n",
    "\n",
    "from pandas.core import datetools\n",
    "%matplotlib inline\n"
   ]
  },
  {
   "cell_type": "markdown",
   "metadata": {},
   "source": [
    "# Data Acquisition\n",
    "The following code imports and validates the LendingClub data."
   ]
  },
  {
   "cell_type": "code",
   "execution_count": 2,
   "metadata": {},
   "outputs": [
    {
     "name": "stdout",
     "output_type": "stream",
     "text": [
      "Read from pickle\n",
      "(1873317, 154)\n"
     ]
    }
   ],
   "source": [
    "# Imports loan data\n",
    "\n",
    "df = pd.DataFrame()\n",
    "basepath='./Source Data/Loan Data/'\n",
    "files = os.listdir(basepath)\n",
    "csvs = []\n",
    "\n",
    "for file in files:\n",
    "    if re.match('.*csv$',file):\n",
    "        csvs += [file]\n",
    "\n",
    "try:\n",
    "    #ignore this - was trying to pickle the data into\n",
    "    #formats like feather, hdf5, native python pickling, etc\n",
    "    # but found issues on python 3.7\n",
    "    df=pickle.load(open('full_data.p', 'rb'))\n",
    "    print('Read from pickle')\n",
    "except:\n",
    "    dates = [\n",
    "        'next_pymnt_d',\n",
    "        'hardship_start_date',\n",
    "        'hardship_end_date',\n",
    "        'payment_plan_start_date',\n",
    "        'earliest_cr_line',\n",
    "        'issue_d',\n",
    "        'debt_settlement_flag_date',\n",
    "        'last_pymnt_d'\n",
    "\n",
    "    ]\n",
    "    cols = df.dtypes\n",
    "    for csv in csvs:\n",
    "        path = basepath + csv\n",
    "        print(\"Reading\",path)\n",
    "        tdf = pd.read_csv(path,header=1,parse_dates=dates,low_memory=False)\n",
    "        df=df.append(tdf)\n",
    "    df.reset_index(inplace=True) # This will help with joining back data if necessary.\n",
    "    # Convert dates to datetime\n",
    "    #df['issue_d'] = pd.to_datetime(df['issue_d'])\n",
    "    #df['debt_settlement_flag_date'] = pd.to_datetime(df['debt_settlement_flag_date'])\n",
    "    df['earliest_cr_line'] = pd.to_datetime(df['earliest_cr_line'])\n",
    "    \n",
    "    #determine age of credit line prior to loan issue and convert to integer\n",
    "    # days of credit history\n",
    "    df['earliest_cr_line'] = (df['issue_d']-df['earliest_cr_line']).dt.days\n",
    "    \n",
    "    # convert issue_d to a year to consider economic conditions\n",
    "    #SHOULD WE GO TO QUARTERS?\n",
    "    #df['issue_d'] = df['issue_d'].dt.year\n",
    "    \n",
    "    df['duration'] = (df['last_pymnt_d'] - df['issue_d']).dt.days / 30\n",
    "    pickle.dump( df, open( \"full_data.p\", \"wb\" ) )\n",
    "\n",
    "print(df.shape)"
   ]
  },
  {
   "cell_type": "code",
   "execution_count": 3,
   "metadata": {},
   "outputs": [
    {
     "name": "stdout",
     "output_type": "stream",
     "text": [
      "(1020552, 70)\n"
     ]
    }
   ],
   "source": [
    "# Limit to loans that are paid in full or written off. Uses dates so that \n",
    "# loans that are delinquent are not disproportionaltely dropped from data\n",
    "\n",
    "mature_filter = (df['loan_status']=='Fully Paid')|(df['loan_status']=='Charged Off')\n",
    "reduced_df = df[mature_filter] # Pulls only loans that are charged off or paid in full.\n",
    "#\n",
    "## Use my documentation to filter to only useful regressors\n",
    "data_dict = pd.read_excel('./Source Data/LCDataDictionary.xlsx',sheet_name='LoanStats')\n",
    "features = list(data_dict[data_dict['Useful Predictor']=='Yes']['LoanStatNew'].values)+['duration']\n",
    "reduced_df=reduced_df[features]\n",
    "\n",
    "# Combines fields when necessary\n",
    "reduced_df['fico_est'] = (reduced_df['fico_range_low']+reduced_df['fico_range_high'])/2\n",
    "\n",
    "reduced_df.drop(columns=['fico_range_low','fico_range_high'],inplace=True)\n",
    "print(reduced_df.shape)"
   ]
  },
  {
   "cell_type": "code",
   "execution_count": 4,
   "metadata": {},
   "outputs": [
    {
     "name": "stdout",
     "output_type": "stream",
     "text": [
      "(1020552, 69)\n"
     ]
    }
   ],
   "source": [
    "# Convert strings to numbers emp_length, int_rate, revol_util\n",
    "emp_length_map={'10+ years':10, '< 1 year':0, '1 year':1, '3 years':3, '8 years':8, '9 years':9,\n",
    "                '4 years':4, '5 years':5, '6 years':6, '2 years':2, '7 years':7}\n",
    "\n",
    "reduced_df['emp_length']=reduced_df['emp_length'].replace(pd.Series(emp_length_map))\n",
    "\n",
    "grade_map={\"A\":1,\"B\":2,\"C\":3,\"D\":4,\"E\":5,\"F\":6,\"G\":7}\n",
    "reduced_df['grade']=reduced_df['grade'].replace(pd.Series(grade_map))\n",
    "\n",
    "reduced_df['int_rate']=reduced_df['int_rate'].apply(lambda x: float(x[:-1]))\n",
    "reduced_df['revol_util']=reduced_df['revol_util'].apply(lambda x:\n",
    "                                                        x[:-1] if isinstance(x, str) else np.nan).astype(float)\n",
    "\n",
    "reduced_df['earliest_cr_line']=reduced_df['earliest_cr_line'].apply(lambda x:\n",
    "                                                        0.0 if np.isnan(x) else x)\n",
    "\n",
    "reduced_df.drop(columns=['emp_title'],inplace=True)\n",
    "\n",
    "print(reduced_df.shape)"
   ]
  },
  {
   "cell_type": "code",
   "execution_count": 5,
   "metadata": {},
   "outputs": [
    {
     "name": "stdout",
     "output_type": "stream",
     "text": [
      "{'application_type_Joint App', 'purpose_medical', 'purpose_renewable_energy', 'purpose_home_improvement', 'verification_status_Verified', 'purpose_debt_consolidation', 'term_ 60 months', 'purpose_major_purchase', 'purpose_small_business', 'purpose_house', 'purpose_other', 'verification_status_Source Verified'}\n",
      "(1020552, 77)\n"
     ]
    }
   ],
   "source": [
    "seta=set(reduced_df.columns)\n",
    "\n",
    "\n",
    "# 8/8 consolidated purpose\n",
    "# Consolidated where logical\n",
    "reduced_df['purpose'].replace('credit_card','debt_consolidation',inplace=True)\n",
    "reduced_df['purpose'].replace('educational','other',inplace=True)\n",
    "reduced_df['purpose'].replace('wedding','major_purchase',inplace=True)\n",
    "reduced_df['purpose'].replace('vacation','major_purchase',inplace=True)\n",
    "reduced_df['purpose'].replace('moving','house',inplace=True)\n",
    "reduced_df['purpose'].replace('home_improvement ','house',inplace=True)\n",
    "reduced_df['purpose'].replace('renewable_energy ','house',inplace=True)\n",
    "\n",
    "reduced_df=pd.get_dummies(data=reduced_df,columns=['application_type','term',\n",
    "                                                   'verification_status','purpose'],\n",
    "                          drop_first=True)\n",
    "\n",
    "# 8/8 removed 'home_ownership\n",
    "reduced_df['home_ownership'] = np.where(reduced_df['home_ownership']=='OWN',1,0)\n",
    "\n",
    "setb=set(reduced_df.columns)\n",
    "print(setb-seta)\n",
    "print(reduced_df.shape)"
   ]
  },
  {
   "cell_type": "markdown",
   "metadata": {},
   "source": [
    "# How to treat NaN?"
   ]
  },
  {
   "cell_type": "markdown",
   "metadata": {},
   "source": [
    "For now, let's remove majority NaN columns..."
   ]
  },
  {
   "cell_type": "code",
   "execution_count": 6,
   "metadata": {},
   "outputs": [
    {
     "name": "stdout",
     "output_type": "stream",
     "text": [
      "0 annual_inc_joint 9529\n",
      "1 dti_joint 9529\n",
      "2 mths_since_last_record 172185\n",
      "3 mths_since_recent_bc_dlq 240759\n",
      "4 mths_since_last_major_derog 264308\n",
      "5 mths_since_rcnt_il 289098\n",
      "6 all_util 296067\n",
      "7 inq_last_12m 296092\n",
      "8 open_acc_6m 296092\n",
      "9 total_cu_tl 296092\n",
      "10 inq_fi 296093\n",
      "11 open_il_12m 296093\n",
      "12 open_il_24m 296093\n",
      "13 open_rv_12m 296093\n",
      "14 open_rv_24m 296093\n",
      "15 mths_since_recent_revol_delinq 338379\n",
      "16 mths_since_last_delinq 503506\n",
      "17 mths_since_recent_inq 881746\n",
      "18 mo_sin_old_il_acct 924972\n",
      "19 mo_sin_old_rev_tl_op 953024\n",
      "20 mo_sin_rcnt_rev_tl_op 953024\n",
      "21 num_rev_accts 953024\n",
      "22 mo_sin_rcnt_tl 953025\n",
      "23 num_accts_ever_120_pd 953025\n",
      "24 num_bc_tl 953025\n"
     ]
    }
   ],
   "source": [
    "has_data = {}\n",
    "for column in reduced_df.columns:\n",
    "    has_data[column] = len(reduced_df[column].dropna())\n",
    "has_data\n",
    "\n",
    "order_has_data=sorted(has_data, key=lambda dict_key: has_data[dict_key])\n",
    "\n",
    "top_sparse=25\n",
    "for i,j in zip(range(top_sparse),order_has_data[0:top_sparse]):\n",
    "    print(i,j, has_data[j])"
   ]
  },
  {
   "cell_type": "code",
   "execution_count": 7,
   "metadata": {},
   "outputs": [
    {
     "name": "stdout",
     "output_type": "stream",
     "text": [
      "(882558, 58)\n"
     ]
    }
   ],
   "source": [
    "nonnan_df=reduced_df.drop(columns=order_has_data[0:19]).dropna()\n",
    "nonnan_df = nonnan_df[nonnan_df['duration']!=0]\n",
    "print(nonnan_df.shape)"
   ]
  },
  {
   "cell_type": "code",
   "execution_count": 8,
   "metadata": {},
   "outputs": [
    {
     "data": {
      "text/plain": [
       "count    1.018723e+06\n",
       "mean     2.010069e+01\n",
       "std      1.230952e+01\n",
       "min     -0.000000e+00\n",
       "25%      1.013333e+01\n",
       "50%      1.830000e+01\n",
       "75%      3.043333e+01\n",
       "max      7.100000e+01\n",
       "Name: duration, dtype: float64"
      ]
     },
     "execution_count": 8,
     "metadata": {},
     "output_type": "execute_result"
    }
   ],
   "source": [
    "reduced_df['duration'].describe()"
   ]
  },
  {
   "cell_type": "markdown",
   "metadata": {},
   "source": [
    "# Interaction Variables\n",
    "I added anything that an amount as an interaction variable compared with income."
   ]
  },
  {
   "cell_type": "code",
   "execution_count": 9,
   "metadata": {},
   "outputs": [],
   "source": [
    "poly_vars = ['dti','inq_last_6mths']\n",
    "\n",
    "for col in poly_vars:\n",
    "    new_title = col + '_2'\n",
    "    nonnan_df[new_title] = nonnan_df[col] * nonnan_df[col]\n",
    "    new_title = col + '_3'\n",
    "    nonnan_df[new_title] = nonnan_df[col] * nonnan_df[col] * nonnan_df[col]\n",
    "for col in ['revol_util','tot_coll_amt','loan_amnt','installment']:\n",
    "    new_title = col + '_over_inc'\n",
    "    nonnan_df[new_title] = nonnan_df[col] / nonnan_df['annual_inc']"
   ]
  },
  {
   "cell_type": "markdown",
   "metadata": {},
   "source": [
    "# Let's work with training and test sets"
   ]
  },
  {
   "cell_type": "code",
   "execution_count": 10,
   "metadata": {},
   "outputs": [
    {
     "name": "stdout",
     "output_type": "stream",
     "text": [
      "(1873317, 154) (882558, 66)\n",
      "(706046, 64) (176512, 64)\n"
     ]
    }
   ],
   "source": [
    "print(df.shape,nonnan_df.shape)\n",
    "\n",
    "# need to look at interest rate as well!!!\n",
    "y=nonnan_df['total_pymnt']/(nonnan_df['duration'])\n",
    "\n",
    "traintest_df=nonnan_df.drop(columns=['total_pymnt','duration'])\n",
    "traintest_df['issue_d'] = traintest_df['issue_d'].dt.year\n",
    "\n",
    "X_train, X_test, y_train, y_test = train_test_split(\n",
    "    traintest_df,y,test_size=0.2,random_state=42)#,stratify=nonnan_df[['loan_status']])\n",
    "\n",
    "Xscaler = StandardScaler()\n",
    "Xscaler.fit_transform(X_train,X_test)\n",
    "\n",
    "print(X_train.shape,X_test.shape)"
   ]
  },
  {
   "cell_type": "code",
   "execution_count": 11,
   "metadata": {},
   "outputs": [
    {
     "name": "stdout",
     "output_type": "stream",
     "text": [
      "-932312.7754150295\n",
      "[ 1.34138952e-04  6.05343824e-03 -8.76772183e+01 -1.08575649e+02\n",
      " -5.28469917e+01 -1.78674922e+01  1.25561030e+01 -3.45283932e+02\n",
      "  5.76616173e+01  2.88376839e+01 -5.47421314e-01  1.55929546e+02\n",
      "  4.61388740e+02  1.15438015e-01  1.75604032e-01 -5.81052136e-02\n",
      "  4.07207003e-01  1.07649480e+01 -4.85009763e-02 -2.32315481e+01\n",
      "  1.59629294e+00  1.50044980e+01  1.07497238e+01  1.99266325e+01\n",
      "  4.32554785e+00 -3.89143119e+01  1.24880226e+01  2.98159567e+01\n",
      "  1.13631817e+01 -3.07578269e+01  2.09176390e-02 -1.10444140e+02\n",
      "  9.35734149e+01  4.12701690e-04 -2.79198519e+00  2.38163725e+01\n",
      " -4.86903499e-03  3.64670732e-04 -1.17348295e-04 -1.54937272e-03\n",
      "  2.30464085e-04 -9.93148880e-05 -2.57445089e-02  3.07168385e+00\n",
      "  9.75317254e+02 -1.42197120e+02 -1.51372036e+02 -1.37623911e+02\n",
      " -1.14213554e+02 -6.33919265e+01  2.71775865e+02 -9.15537006e+00\n",
      " -9.18975051e+01 -7.71197948e+01 -5.24596767e+01 -2.63441885e+02\n",
      "  9.09087317e-02 -6.62301659e-05 -1.53110512e+01  1.92241171e+00\n",
      "  8.35412515e+04 -1.82585655e+00 -1.29804616e+03  2.58089522e+04]\n",
      "The training set OLS regression R^2 score is: 0.163155\n",
      "The test set OLS regression R^2 score is: 0.159259\n"
     ]
    }
   ],
   "source": [
    "LCOLSModel = LinearRegression().fit(X_train, y_train)\n",
    "\n",
    "print(LCOLSModel.intercept_)\n",
    "print(LCOLSModel.coef_)\n",
    "\n",
    "# your code here\n",
    "trainR2 = r2_score(y_train,LCOLSModel.predict(X_train))\n",
    "\n",
    "testR2 = r2_score(y_test,LCOLSModel.predict(X_test))\n",
    "\n",
    "print(\"The training set OLS regression R^2 score is: %f\" % trainR2)\n",
    "print(\"The test set OLS regression R^2 score is: %f\" % testR2)"
   ]
  },
  {
   "cell_type": "code",
   "execution_count": 12,
   "metadata": {},
   "outputs": [
    {
     "name": "stdout",
     "output_type": "stream",
     "text": [
      "Best model searched:\n",
      "alpha = 0.001\n",
      "intercept = -932300.8718353666\n",
      "betas = [ 1.34102619e-04  6.06228648e-03 -8.76867749e+01 -1.08593264e+02\n",
      " -5.28665991e+01 -1.78634636e+01  1.25486166e+01 -3.45251749e+02\n",
      "  5.76863364e+01  2.88274886e+01 -5.49085913e-01  1.55948028e+02\n",
      "  4.61382895e+02  1.15441021e-01  1.75596715e-01 -5.90055960e-02\n",
      "  4.09807837e-01  1.07573335e+01 -4.85875377e-02 -2.32353510e+01\n",
      "  1.60143075e+00  1.49992941e+01  1.07479689e+01  1.99242523e+01\n",
      "  4.32720775e+00 -3.89229976e+01  1.24697722e+01  2.98299409e+01\n",
      "  1.13528492e+01 -3.07405206e+01  2.12028708e-02 -1.10455210e+02\n",
      "  9.35816679e+01  4.09902164e-04 -2.77238962e+00  2.38221358e+01\n",
      " -4.87275419e-03  3.64717242e-04 -1.15768402e-04 -1.55412526e-03\n",
      "  2.28273979e-04 -9.83636457e-05 -2.57514297e-02  3.07135046e+00\n",
      "  9.75148905e+02 -1.42745409e+02 -1.51371511e+02 -1.37609985e+02\n",
      " -1.14226547e+02 -6.34069214e+01  2.71734906e+02 -9.19688813e+00\n",
      " -9.19551816e+01 -7.71431645e+01 -5.25070852e+01 -2.63487586e+02\n",
      "  9.09573250e-02 -6.62896796e-05 -1.53112005e+01  1.92261675e+00\n",
      "  8.23924747e+04 -1.57153787e+00 -1.29333183e+03  2.57694944e+04], \n",
      "The training set Ridge regression R^2 score is: 0.163155\n",
      "The test set Ridge regression R^2 score is: 0.159258\n"
     ]
    }
   ],
   "source": [
    "lambdas = [.001, .005, 1, 5, 10, 50, 100, 500, 1000]\n",
    "\n",
    "kfold = KFold(5, shuffle=True) # use this for testing\n",
    "\n",
    "LCRRModel = RidgeCV(alphas=lambdas, cv=kfold)\n",
    "LCRRModel.fit(X_train, y_train)\n",
    "LCRR_shrinkage_parameter=LCRRModel.alpha_\n",
    "\n",
    "print(\"Best model searched:\\nalpha = {}\\nintercept = {}\\nbetas = {}, \".format(LCRR_shrinkage_parameter,\n",
    "                                                                            LCRRModel.intercept_,\n",
    "                                                                            LCRRModel.coef_\n",
    "                                                                            )\n",
    "     )\n",
    "\n",
    "RRtrainR2 = r2_score(y_train,LCRRModel.predict(X_train))\n",
    "RRtestR2 = r2_score(y_test,LCRRModel.predict(X_test))\n",
    "print(\"The training set Ridge regression R^2 score is: %f\" % RRtrainR2)\n",
    "print(\"The test set Ridge regression R^2 score is: %f\" % RRtestR2)"
   ]
  },
  {
   "cell_type": "code",
   "execution_count": 13,
   "metadata": {},
   "outputs": [
    {
     "name": "stdout",
     "output_type": "stream",
     "text": [
      "Best model searched:\n",
      "alpha = 0.001\n",
      "intercept = -932283.4661448685\n",
      "betas = [ 1.33532708e-04  6.13703924e-03 -8.76823261e+01 -1.08712923e+02\n",
      " -5.30404960e+01 -1.78382808e+01  1.24833413e+01 -3.45067348e+02\n",
      "  5.79406242e+01  2.87394219e+01 -5.37533415e-01  1.56333346e+02\n",
      "  4.61373023e+02  1.14781623e-01  1.75565532e-01 -6.54490398e-02\n",
      "  4.25064987e-01  1.06922379e+01 -4.98101352e-02 -2.32512477e+01\n",
      "  1.53891870e+00  1.50066456e+01  1.07404367e+01  2.00012628e+01\n",
      "  4.29530718e+00 -3.89724841e+01  9.59478375e+00  2.98915021e+01\n",
      "  1.12347385e+01 -2.79023328e+01  2.30162137e-02 -1.10496845e+02\n",
      "  9.33804192e+01  3.89205920e-04 -2.63735533e+00  2.37897156e+01\n",
      " -4.89363120e-03  3.65443941e-04 -1.02909344e-04 -1.59085694e-03\n",
      "  2.10775391e-04 -9.33263367e-05 -2.58265242e-02  3.07053105e+00\n",
      "  9.73470652e+02 -1.52152421e+02 -1.51418500e+02 -1.37530929e+02\n",
      " -1.13627935e+02 -6.28607704e+01  2.71709903e+02 -9.00622273e+00\n",
      " -9.18971728e+01 -7.68769233e+01 -5.08868609e+01 -2.63206600e+02\n",
      "  9.14996746e-02 -6.71684531e-05 -1.53309266e+01  1.92545175e+00\n",
      "  7.45483810e+04  0.00000000e+00 -1.14740635e+03  2.17968043e+04], \n",
      "The training set Lasso regression R^2 score is: 0.163153\n",
      "The test set Lasso regression R^2 score is: 0.159268\n"
     ]
    }
   ],
   "source": [
    "LCLRModel = LassoCV(alphas=lambdas, cv=kfold)\n",
    "LCLRModel.fit(X_train, y_train)\n",
    "LCLR_shrinkage_parameter = LCLRModel.alpha_\n",
    "print(\"Best model searched:\\nalpha = {}\\nintercept = {}\\nbetas = {}, \".format(LCLR_shrinkage_parameter,\n",
    "                                                                            LCLRModel.intercept_,\n",
    "                                                                            LCLRModel.coef_\n",
    "                                                                            )\n",
    "     )\n",
    "\n",
    "LRtrainR2 = r2_score(y_train,LCLRModel.predict(X_train))\n",
    "LRtestR2 = r2_score(y_test,LCLRModel.predict(X_test))\n",
    "print(\"The training set Lasso regression R^2 score is: %f\" % LRtrainR2)\n",
    "print(\"The test set Lasso regression R^2 score is: %f\" % LRtestR2)"
   ]
  },
  {
   "cell_type": "code",
   "execution_count": 14,
   "metadata": {},
   "outputs": [],
   "source": [
    "coef_df=pd.DataFrame(np.array([X_train.columns,\n",
    "                               LCOLSModel.coef_,\n",
    "                               LCRRModel.coef_,\n",
    "                               LCLRModel.coef_]).T,columns=[\"feature\",\"OLS\",\"RR\",\"LR\"])"
   ]
  },
  {
   "cell_type": "code",
   "execution_count": 15,
   "metadata": {},
   "outputs": [
    {
     "name": "stdout",
     "output_type": "stream",
     "text": [
      "                                feature          OLS           RR           LR\n",
      "0                            annual_inc  0.000134139  0.000134103  0.000133533\n",
      "1                        bc_open_to_buy   0.00605344   0.00606229   0.00613704\n",
      "2              chargeoff_within_12_mths     -87.6772     -87.6868     -87.6823\n",
      "3            collections_12_mths_ex_med     -108.576     -108.593     -108.713\n",
      "4                           delinq_2yrs      -52.847     -52.8666     -53.0405\n",
      "5                                   dti     -17.8675     -17.8635     -17.8383\n",
      "6                            emp_length      12.5561      12.5486      12.4833\n",
      "7                                 grade     -345.284     -345.252     -345.067\n",
      "8                        home_ownership      57.6616      57.6863      57.9406\n",
      "9                        inq_last_6mths      28.8377      28.8275      28.7394\n",
      "10                          installment    -0.547421    -0.549086    -0.537533\n",
      "11                             int_rate       155.93      155.948      156.333\n",
      "12                              issue_d      461.389      461.383      461.373\n",
      "13                            loan_amnt     0.115438     0.115441     0.114782\n",
      "14                 mo_sin_old_rev_tl_op     0.175604     0.175597     0.175566\n",
      "15                mo_sin_rcnt_rev_tl_op   -0.0581052   -0.0590056    -0.065449\n",
      "16                       mo_sin_rcnt_tl     0.407207     0.409808     0.425065\n",
      "17                             mort_acc      10.7649      10.7573      10.6922\n",
      "18                 mths_since_recent_bc    -0.048501   -0.0485875   -0.0498101\n",
      "19                num_accts_ever_120_pd     -23.2315     -23.2354     -23.2512\n",
      "20                          num_bc_sats      1.59629      1.60143      1.53892\n",
      "21                            num_bc_tl      15.0045      14.9993      15.0066\n",
      "22                            num_il_tl      10.7497       10.748      10.7404\n",
      "23                        num_op_rev_tl      19.9266      19.9243      20.0013\n",
      "24                        num_rev_accts      4.32555      4.32721      4.29531\n",
      "25                  num_rev_tl_bal_gt_0     -38.9143      -38.923     -38.9725\n",
      "26                             num_sats       12.488      12.4698      9.59478\n",
      "27                   num_tl_90g_dpd_24m       29.816      29.8299      29.8915\n",
      "28                   num_tl_op_past_12m      11.3632      11.3528      11.2347\n",
      "29                             open_acc     -30.7578     -30.7405     -27.9023\n",
      "..                                  ...          ...          ...          ...\n",
      "34                           revol_util     -2.79199     -2.77239     -2.63736\n",
      "35                            tax_liens      23.8164      23.8221      23.7897\n",
      "36                         tot_coll_amt  -0.00486903  -0.00487275  -0.00489363\n",
      "37                      tot_hi_cred_lim  0.000364671  0.000364717  0.000365444\n",
      "38                    total_bal_ex_mort -0.000117348 -0.000115768 -0.000102909\n",
      "39                       total_bc_limit  -0.00154937  -0.00155413  -0.00159086\n",
      "40           total_il_high_credit_limit  0.000230464  0.000228274  0.000210775\n",
      "41                     total_rev_hi_lim -9.93149e-05 -9.83636e-05 -9.33263e-05\n",
      "42                     earliest_cr_line   -0.0257445   -0.0257514   -0.0258265\n",
      "43                             fico_est      3.07168      3.07135      3.07053\n",
      "44           application_type_Joint App      975.317      975.149      973.471\n",
      "45                      term_ 60 months     -142.197     -142.745     -152.152\n",
      "46  verification_status_Source Verified     -151.372     -151.372     -151.419\n",
      "47         verification_status_Verified     -137.624      -137.61     -137.531\n",
      "48           purpose_debt_consolidation     -114.214     -114.227     -113.628\n",
      "49             purpose_home_improvement     -63.3919     -63.4069     -62.8608\n",
      "50                        purpose_house      271.776      271.735       271.71\n",
      "51               purpose_major_purchase     -9.15537     -9.19689     -9.00622\n",
      "52                      purpose_medical     -91.8975     -91.9552     -91.8972\n",
      "53                        purpose_other     -77.1198     -77.1432     -76.8769\n",
      "54             purpose_renewable_energy     -52.4597     -52.5071     -50.8869\n",
      "55               purpose_small_business     -263.442     -263.488     -263.207\n",
      "56                                dti_2    0.0909087    0.0909573    0.0914997\n",
      "57                                dti_3 -6.62302e-05 -6.62897e-05 -6.71685e-05\n",
      "58                     inq_last_6mths_2     -15.3111     -15.3112     -15.3309\n",
      "59                     inq_last_6mths_3      1.92241      1.92262      1.92545\n",
      "60                  revol_util_over_inc      83541.3      82392.5      74548.4\n",
      "61                tot_coll_amt_over_inc     -1.82586     -1.57154            0\n",
      "62                   loan_amnt_over_inc     -1298.05     -1293.33     -1147.41\n",
      "63                 installment_over_inc        25809      25769.5      21796.8\n",
      "\n",
      "[64 rows x 4 columns]\n"
     ]
    }
   ],
   "source": [
    "print(coef_df)"
   ]
  },
  {
   "cell_type": "code",
   "execution_count": 16,
   "metadata": {},
   "outputs": [
    {
     "data": {
      "image/png": "[encoded data removed]",
      "text/plain": [
       "<Figure size 1440x720 with 1 Axes>"
      ]
     },
     "metadata": {},
     "output_type": "display_data"
    }
   ],
   "source": [
    "# your code here\n",
    "plt.figure(figsize=(20,10))\n",
    "plt.bar(coef_df[\"feature\"],[-abs(x) for x in coef_df[\"OLS\"].values],label='OLS',alpha=1.0)\n",
    "plt.bar(coef_df[\"feature\"],-abs(coef_df[\"RR\"]),label='RR',alpha=0.5)\n",
    "plt.bar(coef_df[\"feature\"],abs(coef_df[\"LR\"]),label='LR',alpha=0.5)\n",
    "plt.yscale(\"linear\")\n",
    "\n",
    "plt.legend()\n",
    "plt.show()"
   ]
  },
  {
   "cell_type": "code",
   "execution_count": 17,
   "metadata": {},
   "outputs": [
    {
     "data": {
      "text/html": [
       "<div>\n",
       "<style scoped>\n",
       "    .dataframe tbody tr th:only-of-type {\n",
       "        vertical-align: middle;\n",
       "    }\n",
       "\n",
       "    .dataframe tbody tr th {\n",
       "        vertical-align: top;\n",
       "    }\n",
       "\n",
       "    .dataframe thead th {\n",
       "        text-align: right;\n",
       "    }\n",
       "</style>\n",
       "<table border=\"1\" class=\"dataframe\">\n",
       "  <thead>\n",
       "    <tr style=\"text-align: right;\">\n",
       "      <th></th>\n",
       "      <th>feature</th>\n",
       "      <th>OLS</th>\n",
       "      <th>RR</th>\n",
       "      <th>LR</th>\n",
       "    </tr>\n",
       "  </thead>\n",
       "  <tbody>\n",
       "    <tr>\n",
       "      <th>3</th>\n",
       "      <td>collections_12_mths_ex_med</td>\n",
       "      <td>-108.576</td>\n",
       "      <td>-108.593</td>\n",
       "      <td>-108.713</td>\n",
       "    </tr>\n",
       "    <tr>\n",
       "      <th>7</th>\n",
       "      <td>grade</td>\n",
       "      <td>-345.284</td>\n",
       "      <td>-345.252</td>\n",
       "      <td>-345.067</td>\n",
       "    </tr>\n",
       "    <tr>\n",
       "      <th>11</th>\n",
       "      <td>int_rate</td>\n",
       "      <td>155.93</td>\n",
       "      <td>155.948</td>\n",
       "      <td>156.333</td>\n",
       "    </tr>\n",
       "    <tr>\n",
       "      <th>12</th>\n",
       "      <td>issue_d</td>\n",
       "      <td>461.389</td>\n",
       "      <td>461.383</td>\n",
       "      <td>461.373</td>\n",
       "    </tr>\n",
       "    <tr>\n",
       "      <th>31</th>\n",
       "      <td>pub_rec</td>\n",
       "      <td>-110.444</td>\n",
       "      <td>-110.455</td>\n",
       "      <td>-110.497</td>\n",
       "    </tr>\n",
       "    <tr>\n",
       "      <th>44</th>\n",
       "      <td>application_type_Joint App</td>\n",
       "      <td>975.317</td>\n",
       "      <td>975.149</td>\n",
       "      <td>973.471</td>\n",
       "    </tr>\n",
       "    <tr>\n",
       "      <th>45</th>\n",
       "      <td>term_ 60 months</td>\n",
       "      <td>-142.197</td>\n",
       "      <td>-142.745</td>\n",
       "      <td>-152.152</td>\n",
       "    </tr>\n",
       "    <tr>\n",
       "      <th>46</th>\n",
       "      <td>verification_status_Source Verified</td>\n",
       "      <td>-151.372</td>\n",
       "      <td>-151.372</td>\n",
       "      <td>-151.419</td>\n",
       "    </tr>\n",
       "    <tr>\n",
       "      <th>47</th>\n",
       "      <td>verification_status_Verified</td>\n",
       "      <td>-137.624</td>\n",
       "      <td>-137.61</td>\n",
       "      <td>-137.531</td>\n",
       "    </tr>\n",
       "    <tr>\n",
       "      <th>48</th>\n",
       "      <td>purpose_debt_consolidation</td>\n",
       "      <td>-114.214</td>\n",
       "      <td>-114.227</td>\n",
       "      <td>-113.628</td>\n",
       "    </tr>\n",
       "    <tr>\n",
       "      <th>50</th>\n",
       "      <td>purpose_house</td>\n",
       "      <td>271.776</td>\n",
       "      <td>271.735</td>\n",
       "      <td>271.71</td>\n",
       "    </tr>\n",
       "    <tr>\n",
       "      <th>55</th>\n",
       "      <td>purpose_small_business</td>\n",
       "      <td>-263.442</td>\n",
       "      <td>-263.488</td>\n",
       "      <td>-263.207</td>\n",
       "    </tr>\n",
       "    <tr>\n",
       "      <th>60</th>\n",
       "      <td>revol_util_over_inc</td>\n",
       "      <td>83541.3</td>\n",
       "      <td>82392.5</td>\n",
       "      <td>74548.4</td>\n",
       "    </tr>\n",
       "    <tr>\n",
       "      <th>62</th>\n",
       "      <td>loan_amnt_over_inc</td>\n",
       "      <td>-1298.05</td>\n",
       "      <td>-1293.33</td>\n",
       "      <td>-1147.41</td>\n",
       "    </tr>\n",
       "    <tr>\n",
       "      <th>63</th>\n",
       "      <td>installment_over_inc</td>\n",
       "      <td>25809</td>\n",
       "      <td>25769.5</td>\n",
       "      <td>21796.8</td>\n",
       "    </tr>\n",
       "  </tbody>\n",
       "</table>\n",
       "</div>"
      ],
      "text/plain": [
       "                                feature      OLS       RR       LR\n",
       "3            collections_12_mths_ex_med -108.576 -108.593 -108.713\n",
       "7                                 grade -345.284 -345.252 -345.067\n",
       "11                             int_rate   155.93  155.948  156.333\n",
       "12                              issue_d  461.389  461.383  461.373\n",
       "31                              pub_rec -110.444 -110.455 -110.497\n",
       "44           application_type_Joint App  975.317  975.149  973.471\n",
       "45                      term_ 60 months -142.197 -142.745 -152.152\n",
       "46  verification_status_Source Verified -151.372 -151.372 -151.419\n",
       "47         verification_status_Verified -137.624  -137.61 -137.531\n",
       "48           purpose_debt_consolidation -114.214 -114.227 -113.628\n",
       "50                        purpose_house  271.776  271.735   271.71\n",
       "55               purpose_small_business -263.442 -263.488 -263.207\n",
       "60                  revol_util_over_inc  83541.3  82392.5  74548.4\n",
       "62                   loan_amnt_over_inc -1298.05 -1293.33 -1147.41\n",
       "63                 installment_over_inc    25809  25769.5  21796.8"
      ]
     },
     "execution_count": 17,
     "metadata": {},
     "output_type": "execute_result"
    }
   ],
   "source": [
    "coef_df[abs(coef_df['OLS'])>100]"
   ]
  },
  {
   "cell_type": "code",
   "execution_count": null,
   "metadata": {},
   "outputs": [],
   "source": []
  },
  {
   "cell_type": "markdown",
   "metadata": {},
   "source": [
    "# Advanced Models\n",
    "We continue to have problems with multicolinearity which may be contributing to some of the problems we are seeing in the data. I am going to try additional models that may be more suitable.\n",
    "\n",
    "Because of the sheer size of our dataset, the following block of code take a long time to run. I ran one with full datasets without much luck. To reduce the runtime, I pulled a random sample from the dataset."
   ]
  },
  {
   "cell_type": "code",
   "execution_count": 18,
   "metadata": {},
   "outputs": [],
   "source": [
    "sample_percent = .05 # I put this ridiculouly low to ensure code would compile. I will run again overnight with a \n",
    "# larger number for additional insights.\n",
    "X_train_sample = X_train.reset_index(drop=True).sample(int(len(X_train)*sample_percent),random_state=42)\n",
    "y_train_sample = y_train.reset_index(drop=True).iloc[X_train_sample.index]"
   ]
  },
  {
   "cell_type": "code",
   "execution_count": 19,
   "metadata": {},
   "outputs": [
    {
     "name": "stdout",
     "output_type": "stream",
     "text": [
      "_________________________________________________________________\n",
      "Layer (type)                 Output Shape              Param #   \n",
      "=================================================================\n",
      "dense_1 (Dense)              (None, 800)               52000     \n",
      "_________________________________________________________________\n",
      "dense_2 (Dense)              (None, 800)               640800    \n",
      "_________________________________________________________________\n",
      "dense_3 (Dense)              (None, 400)               320400    \n",
      "_________________________________________________________________\n",
      "dense_4 (Dense)              (None, 400)               160400    \n",
      "_________________________________________________________________\n",
      "dense_5 (Dense)              (None, 400)               160400    \n",
      "_________________________________________________________________\n",
      "dense_6 (Dense)              (None, 1)                 401       \n",
      "=================================================================\n",
      "Total params: 1,334,401\n",
      "Trainable params: 1,334,401\n",
      "Non-trainable params: 0\n",
      "_________________________________________________________________\n"
     ]
    }
   ],
   "source": [
    "neu_net = Sequential([\n",
    "    Dense(800, input_shape=(X_train.shape[1],), activation='relu'),\n",
    "    Dense(800, activation='relu'),\n",
    "    Dense(400, activation='relu'),\n",
    "    Dense(400, activation='relu'),\n",
    "    Dense(400, activation='relu'),\n",
    "    Dense(1, activation='relu')\n",
    "])\n",
    "neu_net.compile(loss='mean_absolute_error', optimizer='adam')\n",
    "neu_net.summary()"
   ]
  },
  {
   "cell_type": "code",
   "execution_count": 20,
   "metadata": {},
   "outputs": [],
   "source": [
    "#neu_net.fit(X_train_sample,y_train_sample, epochs=20, batch_size=64, validation_split = .25)\n",
    "# I was not seeing improvement between epochs. This is not sutiable data for neural net"
   ]
  },
  {
   "cell_type": "markdown",
   "metadata": {},
   "source": [
    "I don't see an improvement in the loss function. I'm going to try alternative methods."
   ]
  },
  {
   "cell_type": "code",
   "execution_count": null,
   "metadata": {},
   "outputs": [
    {
     "data": {
      "text/plain": [
       "0.0389345614664689"
      ]
     },
     "execution_count": 21,
     "metadata": {},
     "output_type": "execute_result"
    }
   ],
   "source": [
    "RF_model = RandomForestRegressor(10)\n",
    "RF_model.fit(X_train_sample,y_train_sample)\n",
    "RF_model.score(X_test,y_test)"
   ]
  },
  {
   "cell_type": "code",
   "execution_count": null,
   "metadata": {},
   "outputs": [],
   "source": [
    "size = []\n",
    "avg_score = []\n",
    "sd_score = []\n",
    "for i in range(5,30):\n",
    "    s = i * 4\n",
    "    size += [s]\n",
    "    RF_model = RandomForestRegressor(s)\n",
    "    cv = cross_val_score(RF_model,X_train_sample,y_train_sample,cv=6,n_jobs=4)\n",
    "    avg_score +=  [np.average(cv)]\n",
    "    sd_score += [np.std(cv)]\n",
    "    print(i,'complete')\n",
    "    print(avg_score,'avg_score')\n",
    "    "
   ]
  },
  {
   "cell_type": "markdown",
   "metadata": {},
   "source": [
    "Score stopped at around .12. Additional features do not enhance random forest. Using crossvalidation on Pavan's model."
   ]
  },
  {
   "cell_type": "code",
   "execution_count": null,
   "metadata": {},
   "outputs": [],
   "source": [
    "plt.plot(size,avg_score)\n",
    "bound = []\n",
    "for i in range(len(size)):\n",
    "    bound += [avg_score[i]+sd_score[i]]\n",
    "plt.plot(size,bound,c='orange')\n",
    "\n",
    "bound = []\n",
    "for i in range(len(size)):\n",
    "    bound += [avg_score[i]-sd_score[i]]\n",
    "plt.plot(size,bound,c='orange')"
   ]
  },
  {
   "cell_type": "code",
   "execution_count": null,
   "metadata": {},
   "outputs": [],
   "source": []
  }
 ],
 "metadata": {
  "kernelspec": {
   "display_name": "Python 3",
   "language": "python",
   "name": "python3"
  },
  "language_info": {
   "codemirror_mode": {
    "name": "ipython",
    "version": 3
   },
   "file_extension": ".py",
   "mimetype": "text/x-python",
   "name": "python",
   "nbconvert_exporter": "python",
   "pygments_lexer": "ipython3",
   "version": "3.6.5"
  },
  "toc": {
   "base_numbering": 1,
   "nav_menu": {},
   "number_sections": false,
   "sideBar": true,
   "skip_h1_title": false,
   "title_cell": "Table of Contents",
   "title_sidebar": "Contents",
   "toc_cell": false,
   "toc_position": {},
   "toc_section_display": true,
   "toc_window_display": false
  }
 },
 "nbformat": 4,
 "nbformat_minor": 2
}
