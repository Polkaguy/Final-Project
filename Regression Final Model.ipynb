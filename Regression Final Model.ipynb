{
 "cells": [
  {
   "cell_type": "code",
   "execution_count": 1,
   "metadata": {},
   "outputs": [
    {
     "name": "stderr",
     "output_type": "stream",
     "text": [
      "Using TensorFlow backend.\n"
     ]
    }
   ],
   "source": [
    "import pandas as pd\n",
    "import numpy as np\n",
    "import matplotlib.pyplot as plt\n",
    "import os\n",
    "import re\n",
    "\n",
    "import warnings\n",
    "warnings.filterwarnings('ignore')\n",
    "\n",
    "from sklearn.metrics import r2_score\n",
    "from sklearn.preprocessing import PolynomialFeatures\n",
    "from sklearn.preprocessing import StandardScaler\n",
    "from sklearn.linear_model import Ridge\n",
    "from sklearn.linear_model import Lasso\n",
    "from sklearn.linear_model import RidgeCV\n",
    "from sklearn.linear_model import LassoCV\n",
    "from sklearn.linear_model import LinearRegression\n",
    "from sklearn.decomposition import PCA\n",
    "from sklearn.linear_model import LogisticRegression\n",
    "from sklearn.linear_model import LogisticRegressionCV\n",
    "\n",
    "from keras.models import Sequential\n",
    "from keras.layers import Dense\n",
    "\n",
    "from sklearn.ensemble import RandomForestRegressor\n",
    "\n",
    "from sklearn.model_selection import train_test_split\n",
    "from sklearn.model_selection import cross_val_score\n",
    "from sklearn.model_selection import LeaveOneOut\n",
    "from sklearn.model_selection import KFold\n",
    "\n",
    "#import statsmodels.api as sm,\n",
    "\n",
    "import seaborn as sns; sns.set()\n",
    "\n",
    "from pandas.core import datetools\n",
    "%matplotlib inline\n",
    "\n",
    "import pickle\n"
   ]
  },
  {
   "cell_type": "markdown",
   "metadata": {},
   "source": [
    "# Data Acquisition\n",
    "The following code imports and validates the LendingClub data."
   ]
  },
  {
   "cell_type": "code",
   "execution_count": 2,
   "metadata": {},
   "outputs": [
    {
     "name": "stdout",
     "output_type": "stream",
     "text": [
      "Read from pickle\n",
      "(1873317, 154)\n"
     ]
    }
   ],
   "source": [
    "# Imports loan data\n",
    "\n",
    "df = pd.DataFrame()\n",
    "basepath='./Source Data/Loan Data/'\n",
    "files = os.listdir(basepath)\n",
    "csvs = []\n",
    "\n",
    "for file in files:\n",
    "    if re.match('.*csv$',file):\n",
    "        csvs += [file]\n",
    "\n",
    "try:\n",
    "    df=pickle.load(open('full_data.p', 'rb'))\n",
    "    print('Read from pickle')\n",
    "except:\n",
    "    dates = [\n",
    "        'next_pymnt_d',\n",
    "        'hardship_start_date',\n",
    "        'hardship_end_date',\n",
    "        'payment_plan_start_date',\n",
    "        'earliest_cr_line',\n",
    "        'issue_d',\n",
    "        'debt_settlement_flag_date',\n",
    "        'last_pymnt_d'\n",
    "\n",
    "    ]\n",
    "    cols = df.dtypes\n",
    "    for csv in csvs:\n",
    "        path = basepath + csv\n",
    "        print(\"Reading\",path)\n",
    "        tdf = pd.read_csv(path,header=1,parse_dates=dates,low_memory=False)\n",
    "        df=df.append(tdf)\n",
    "    df.reset_index(inplace=True) # This will help with joining back data if necessary.\n",
    "    # Convert dates to datetime\n",
    "    #df['issue_d'] = pd.to_datetime(df['issue_d'])\n",
    "    #df['debt_settlement_flag_date'] = pd.to_datetime(df['debt_settlement_flag_date'])\n",
    "    df['earliest_cr_line'] = pd.to_datetime(df['earliest_cr_line'])\n",
    "    \n",
    "    #determine age of credit line prior to loan issue and convert to integer\n",
    "    # days of credit history\n",
    "    df['earliest_cr_line'] = (df['issue_d']-df['earliest_cr_line']).dt.days\n",
    "    \n",
    "    # convert issue_d to a year to consider economic conditions\n",
    "    #SHOULD WE GO TO QUARTERS?\n",
    "    #df['issue_d'] = df['issue_d'].dt.year\n",
    "    \n",
    "    df['duration'] = (df['last_pymnt_d'] - df['issue_d']).dt.days / 30\n",
    "    pickle.dump( df, open( \"full_data.p\", \"wb\" ) )\n",
    "\n",
    "print(df.shape)"
   ]
  },
  {
   "cell_type": "code",
   "execution_count": 3,
   "metadata": {},
   "outputs": [],
   "source": [
    "has_data = {}\n",
    "for column in df.columns:\n",
    "    has_data[column] = len(df[column].dropna())\n",
    "\n",
    "order_has_data=sorted(has_data, key=lambda dict_key: has_data[dict_key])"
   ]
  },
  {
   "cell_type": "code",
   "execution_count": 4,
   "metadata": {},
   "outputs": [],
   "source": [
    "# Convert dates to datetime\n",
    "df['issue_d'] = pd.to_datetime(df['issue_d'])\n",
    "df['earliest_cr_line'] = pd.to_datetime(df['earliest_cr_line'])\n",
    "\n",
    "#determine age of credit line prior to loan issue and convert to integer\n",
    "# days of credit history\n",
    "df['earliest_cr_line'] = (df['issue_d']-df['earliest_cr_line']).dt.days\n",
    "\n",
    "# convert issue_d to a year to consider economic conditions\n",
    "#SHOULD WE GO TO QUARTERS?\n",
    "df['issue_d'] = df['issue_d'].dt.year"
   ]
  },
  {
   "cell_type": "code",
   "execution_count": 5,
   "metadata": {},
   "outputs": [
    {
     "name": "stdout",
     "output_type": "stream",
     "text": [
      "(1020552, 69)\n"
     ]
    }
   ],
   "source": [
    "# Limit to loans that are paid in full or written off. Uses dates so that \n",
    "# loans that are delinquent are not disproportionaltely dropped from data\n",
    "\n",
    "mature_filter = (df['loan_status']=='Fully Paid')|(df['loan_status']=='Charged Off')\n",
    "#latest_mature = df[~mature_filter]['issue_d'].min()\n",
    "#latest_mature\n",
    "#reduced_df = df[df['issue_d']<=latest_mature]\n",
    "reduced_df = df[mature_filter] # Pulls only loans that are charged off or paid in full.\n",
    "#\n",
    "## Use my documentation to filter to only \n",
    "data_dict = pd.read_excel('./Source Data/LCDataDictionary.xlsx',sheet_name='LoanStats')\n",
    "features = list(data_dict[data_dict['Useful Predictor']=='Yes']['LoanStatNew'].values)\n",
    "reduced_df=reduced_df[features]\n",
    "\n",
    "# Combines fields when necessary\n",
    "reduced_df['fico_est'] = (reduced_df['fico_range_low']+reduced_df['fico_range_high'])/2\n",
    "\n",
    "reduced_df.drop(columns=['fico_range_low','fico_range_high'],inplace=True)\n",
    "print(reduced_df.shape)"
   ]
  },
  {
   "cell_type": "code",
   "execution_count": 6,
   "metadata": {},
   "outputs": [
    {
     "name": "stdout",
     "output_type": "stream",
     "text": [
      "(1020552, 68)\n"
     ]
    }
   ],
   "source": [
    "# Convert strings to numbers emp_length, int_rate, revol_util\n",
    "emp_length_map={'10+ years':10, '< 1 year':0, '1 year':1, '3 years':3, '8 years':8, '9 years':9,\n",
    "                '4 years':4, '5 years':5, '6 years':6, '2 years':2, '7 years':7}\n",
    "\n",
    "reduced_df['emp_length']=reduced_df['emp_length'].replace(pd.Series(emp_length_map))\n",
    "\n",
    "grade_map={\"A\":1,\"B\":2,\"C\":3,\"D\":4,\"E\":5,\"F\":6,\"G\":7}\n",
    "reduced_df['grade']=reduced_df['grade'].replace(pd.Series(grade_map))\n",
    "\n",
    "reduced_df['int_rate']=reduced_df['int_rate'].apply(lambda x: float(x[:-1]))\n",
    "reduced_df['revol_util']=reduced_df['revol_util'].apply(lambda x:\n",
    "                                                        x[:-1] if isinstance(x, str) else np.nan).astype(float)\n",
    "\n",
    "reduced_df['earliest_cr_line']=reduced_df['earliest_cr_line'].apply(lambda x:\n",
    "                                                        0.0 if np.isnan(x) else x)\n",
    "\n",
    "reduced_df.drop(columns=['emp_title'],inplace=True)\n",
    "\n",
    "print(reduced_df.shape)"
   ]
  },
  {
   "cell_type": "code",
   "execution_count": 7,
   "metadata": {},
   "outputs": [],
   "source": [
    "# Consolidated where logical\n",
    "reduced_df['purpose'].replace('credit_card','debt_consolidation',inplace=True)\n",
    "reduced_df['purpose'].replace('educational','other',inplace=True)\n",
    "reduced_df['purpose'].replace('wedding','major_purchase',inplace=True)\n",
    "reduced_df['purpose'].replace('vacation','major_purchase',inplace=True)\n",
    "reduced_df['purpose'].replace('moving','house',inplace=True)\n",
    "reduced_df['purpose'].replace('home_improvement ','house',inplace=True)\n",
    "reduced_df['purpose'].replace('renewable_energy ','house',inplace=True)"
   ]
  },
  {
   "cell_type": "code",
   "execution_count": 8,
   "metadata": {},
   "outputs": [
    {
     "name": "stdout",
     "output_type": "stream",
     "text": [
      "{'purpose_small_business', 'purpose_home_improvement', 'purpose_house', 'verification_status_Verified', 'purpose_debt_consolidation', 'term_ 60 months', 'purpose_renewable_energy', 'verification_status_Source Verified', 'application_type_Joint App', 'purpose_major_purchase', 'purpose_other', 'purpose_medical'}\n",
      "(1020552, 76)\n"
     ]
    }
   ],
   "source": [
    "seta=set(reduced_df.columns)\n",
    "\n",
    "\n",
    "# 8/8 consolidated purpose\n",
    "\n",
    "reduced_df=pd.get_dummies(data=reduced_df,columns=['application_type','term',\n",
    "                                                   'verification_status','purpose'],\n",
    "                          drop_first=True)\n",
    "\n",
    "# 8/8 removed 'home_ownership\n",
    "reduced_df['home_ownership'] = np.where(reduced_df['home_ownership']=='OWN',1,0)\n",
    "\n",
    "setb=set(reduced_df.columns)\n",
    "print(setb-seta)\n",
    "print(reduced_df.shape)"
   ]
  },
  {
   "cell_type": "code",
   "execution_count": 9,
   "metadata": {},
   "outputs": [],
   "source": [
    "has_data = {}\n",
    "for column in reduced_df.columns:\n",
    "    has_data[column] = len(reduced_df[column].dropna())\n",
    "has_data\n",
    "\n",
    "order_has_data=sorted(has_data, key=lambda dict_key: has_data[dict_key])\n",
    "\n",
    "top_sparse=25"
   ]
  },
  {
   "cell_type": "code",
   "execution_count": 10,
   "metadata": {},
   "outputs": [
    {
     "name": "stdout",
     "output_type": "stream",
     "text": [
      "(1020552, 57)\n"
     ]
    }
   ],
   "source": [
    "nonnan_df=reduced_df.drop(columns=order_has_data[0:19])\n",
    "print(nonnan_df.shape)"
   ]
  },
  {
   "cell_type": "code",
   "execution_count": 11,
   "metadata": {},
   "outputs": [
    {
     "name": "stdout",
     "output_type": "stream",
     "text": [
      "191 890451\n",
      "(890451, 57)\n"
     ]
    }
   ],
   "source": [
    "print(len(reduced_df.dropna()),len(nonnan_df.dropna()))\n",
    "nonnan_df=nonnan_df.dropna()\n",
    "print(nonnan_df.shape)\n",
    "\n",
    "n_options = {}\n",
    "for column in nonnan_df.columns:\n",
    "    n_options[column] = len(nonnan_df[column].unique())\n",
    "#n_options\n",
    "order_n_options=sorted(n_options, key=lambda dict_key: n_options[dict_key])\n"
   ]
  },
  {
   "cell_type": "code",
   "execution_count": 12,
   "metadata": {},
   "outputs": [
    {
     "data": {
      "text/plain": [
       "count    890451.000000\n",
       "mean          0.078961\n",
       "std           0.058131\n",
       "min           0.000123\n",
       "25%           0.047093\n",
       "50%           0.072570\n",
       "75%           0.104865\n",
       "max          31.792800\n",
       "Name: percent_of_income, dtype: float64"
      ]
     },
     "execution_count": 12,
     "metadata": {},
     "output_type": "execute_result"
    }
   ],
   "source": [
    "revolving = [\n",
    "    'bc_open_to_buy',\n",
    "    'num_rev_accts',\n",
    "    'num_rev_tl_bal_gt_0',\n",
    "    'revol_bal',\n",
    "    'revol_util',\n",
    "    'total_rev_hi_lim',\n",
    "    'tot_hi_cred_lim',\n",
    "    'num_il_tl',\n",
    "    'open_acc',\n",
    "    'num_bc_tl',\n",
    "    'num_sats',\n",
    "    'num_op_rev_tl',\n",
    "    'num_bc_sats',\n",
    "    'mo_sin_old_rev_tl_op',\n",
    "    'total_il_high_credit_limit'\n",
    "]\n",
    "\n",
    "to_remove = revolving.copy()\n",
    "to_remove += ['grade'] # Extra code to drop grade\n",
    "\n",
    "# Additional factors to remove\n",
    "if 'installment' not in to_remove:\n",
    "    to_remove += ['installment']\n",
    "to_remove += ['total_pymnt','loan_amnt']\n",
    "   \n",
    "    \n",
    "features = list(set(nonnan_df.columns) - set(to_remove))\n",
    "\n",
    "nonnan_df['percent_of_income'] = nonnan_df['installment']*12/nonnan_df['annual_inc']\n",
    "nonnan_df['percent_of_income'].describe()"
   ]
  },
  {
   "cell_type": "markdown",
   "metadata": {},
   "source": [
    "# Let's work with training and test sets\n",
    "In this section, we compile and test our final model. It incorporates predictors for continuous variables such as regressions after incorporating our best classification models."
   ]
  },
  {
   "cell_type": "code",
   "execution_count": 13,
   "metadata": {},
   "outputs": [
    {
     "data": {
      "text/html": [
       "<div>\n",
       "<style scoped>\n",
       "    .dataframe tbody tr th:only-of-type {\n",
       "        vertical-align: middle;\n",
       "    }\n",
       "\n",
       "    .dataframe tbody tr th {\n",
       "        vertical-align: top;\n",
       "    }\n",
       "\n",
       "    .dataframe thead th {\n",
       "        text-align: right;\n",
       "    }\n",
       "</style>\n",
       "<table border=\"1\" class=\"dataframe\">\n",
       "  <thead>\n",
       "    <tr style=\"text-align: right;\">\n",
       "      <th></th>\n",
       "      <th>annual_inc</th>\n",
       "      <th>bc_open_to_buy</th>\n",
       "      <th>chargeoff_within_12_mths</th>\n",
       "      <th>collections_12_mths_ex_med</th>\n",
       "      <th>delinq_2yrs</th>\n",
       "      <th>dti</th>\n",
       "      <th>emp_length</th>\n",
       "      <th>grade</th>\n",
       "      <th>home_ownership</th>\n",
       "      <th>inq_last_6mths</th>\n",
       "      <th>...</th>\n",
       "      <th>purpose_major_purchase</th>\n",
       "      <th>purpose_medical</th>\n",
       "      <th>purpose_other</th>\n",
       "      <th>purpose_renewable_energy</th>\n",
       "      <th>purpose_small_business</th>\n",
       "      <th>percent_of_income</th>\n",
       "      <th>DT</th>\n",
       "      <th>RF</th>\n",
       "      <th>Log</th>\n",
       "      <th>Ada</th>\n",
       "    </tr>\n",
       "  </thead>\n",
       "  <tbody>\n",
       "    <tr>\n",
       "      <th>42538</th>\n",
       "      <td>32760.0</td>\n",
       "      <td>2689.0</td>\n",
       "      <td>0.0</td>\n",
       "      <td>0.0</td>\n",
       "      <td>0.0</td>\n",
       "      <td>27.06</td>\n",
       "      <td>4.0</td>\n",
       "      <td>5.0</td>\n",
       "      <td>0.0</td>\n",
       "      <td>0.0</td>\n",
       "      <td>...</td>\n",
       "      <td>0.0</td>\n",
       "      <td>0.0</td>\n",
       "      <td>0.0</td>\n",
       "      <td>0.0</td>\n",
       "      <td>0.0</td>\n",
       "      <td>0.118513</td>\n",
       "      <td>0.0</td>\n",
       "      <td>0.0</td>\n",
       "      <td>1.0</td>\n",
       "      <td>0.0</td>\n",
       "    </tr>\n",
       "    <tr>\n",
       "      <th>42539</th>\n",
       "      <td>325000.0</td>\n",
       "      <td>13901.0</td>\n",
       "      <td>0.0</td>\n",
       "      <td>0.0</td>\n",
       "      <td>0.0</td>\n",
       "      <td>18.55</td>\n",
       "      <td>5.0</td>\n",
       "      <td>1.0</td>\n",
       "      <td>0.0</td>\n",
       "      <td>1.0</td>\n",
       "      <td>...</td>\n",
       "      <td>0.0</td>\n",
       "      <td>0.0</td>\n",
       "      <td>0.0</td>\n",
       "      <td>0.0</td>\n",
       "      <td>0.0</td>\n",
       "      <td>0.032216</td>\n",
       "      <td>1.0</td>\n",
       "      <td>1.0</td>\n",
       "      <td>1.0</td>\n",
       "      <td>1.0</td>\n",
       "    </tr>\n",
       "    <tr>\n",
       "      <th>42540</th>\n",
       "      <td>40000.0</td>\n",
       "      <td>1428.0</td>\n",
       "      <td>0.0</td>\n",
       "      <td>0.0</td>\n",
       "      <td>0.0</td>\n",
       "      <td>16.94</td>\n",
       "      <td>10.0</td>\n",
       "      <td>2.0</td>\n",
       "      <td>0.0</td>\n",
       "      <td>0.0</td>\n",
       "      <td>...</td>\n",
       "      <td>0.0</td>\n",
       "      <td>0.0</td>\n",
       "      <td>0.0</td>\n",
       "      <td>0.0</td>\n",
       "      <td>0.0</td>\n",
       "      <td>0.122220</td>\n",
       "      <td>1.0</td>\n",
       "      <td>1.0</td>\n",
       "      <td>1.0</td>\n",
       "      <td>1.0</td>\n",
       "    </tr>\n",
       "    <tr>\n",
       "      <th>42541</th>\n",
       "      <td>63000.0</td>\n",
       "      <td>2969.0</td>\n",
       "      <td>0.0</td>\n",
       "      <td>0.0</td>\n",
       "      <td>0.0</td>\n",
       "      <td>16.51</td>\n",
       "      <td>2.0</td>\n",
       "      <td>1.0</td>\n",
       "      <td>0.0</td>\n",
       "      <td>0.0</td>\n",
       "      <td>...</td>\n",
       "      <td>0.0</td>\n",
       "      <td>0.0</td>\n",
       "      <td>0.0</td>\n",
       "      <td>0.0</td>\n",
       "      <td>0.0</td>\n",
       "      <td>0.090724</td>\n",
       "      <td>1.0</td>\n",
       "      <td>1.0</td>\n",
       "      <td>1.0</td>\n",
       "      <td>1.0</td>\n",
       "    </tr>\n",
       "    <tr>\n",
       "      <th>42542</th>\n",
       "      <td>100000.0</td>\n",
       "      <td>4822.0</td>\n",
       "      <td>0.0</td>\n",
       "      <td>0.0</td>\n",
       "      <td>0.0</td>\n",
       "      <td>22.18</td>\n",
       "      <td>10.0</td>\n",
       "      <td>2.0</td>\n",
       "      <td>0.0</td>\n",
       "      <td>0.0</td>\n",
       "      <td>...</td>\n",
       "      <td>0.0</td>\n",
       "      <td>0.0</td>\n",
       "      <td>0.0</td>\n",
       "      <td>0.0</td>\n",
       "      <td>0.0</td>\n",
       "      <td>0.097776</td>\n",
       "      <td>1.0</td>\n",
       "      <td>1.0</td>\n",
       "      <td>1.0</td>\n",
       "      <td>1.0</td>\n",
       "    </tr>\n",
       "  </tbody>\n",
       "</table>\n",
       "<p>5 rows × 62 columns</p>\n",
       "</div>"
      ],
      "text/plain": [
       "       annual_inc  bc_open_to_buy  chargeoff_within_12_mths  \\\n",
       "42538     32760.0          2689.0                       0.0   \n",
       "42539    325000.0         13901.0                       0.0   \n",
       "42540     40000.0          1428.0                       0.0   \n",
       "42541     63000.0          2969.0                       0.0   \n",
       "42542    100000.0          4822.0                       0.0   \n",
       "\n",
       "       collections_12_mths_ex_med  delinq_2yrs    dti  emp_length  grade  \\\n",
       "42538                         0.0          0.0  27.06         4.0    5.0   \n",
       "42539                         0.0          0.0  18.55         5.0    1.0   \n",
       "42540                         0.0          0.0  16.94        10.0    2.0   \n",
       "42541                         0.0          0.0  16.51         2.0    1.0   \n",
       "42542                         0.0          0.0  22.18        10.0    2.0   \n",
       "\n",
       "       home_ownership  inq_last_6mths ...   purpose_major_purchase  \\\n",
       "42538             0.0             0.0 ...                      0.0   \n",
       "42539             0.0             1.0 ...                      0.0   \n",
       "42540             0.0             0.0 ...                      0.0   \n",
       "42541             0.0             0.0 ...                      0.0   \n",
       "42542             0.0             0.0 ...                      0.0   \n",
       "\n",
       "       purpose_medical  purpose_other  purpose_renewable_energy  \\\n",
       "42538              0.0            0.0                       0.0   \n",
       "42539              0.0            0.0                       0.0   \n",
       "42540              0.0            0.0                       0.0   \n",
       "42541              0.0            0.0                       0.0   \n",
       "42542              0.0            0.0                       0.0   \n",
       "\n",
       "       purpose_small_business  percent_of_income   DT   RF  Log  Ada  \n",
       "42538                     0.0           0.118513  0.0  0.0  1.0  0.0  \n",
       "42539                     0.0           0.032216  1.0  1.0  1.0  1.0  \n",
       "42540                     0.0           0.122220  1.0  1.0  1.0  1.0  \n",
       "42541                     0.0           0.090724  1.0  1.0  1.0  1.0  \n",
       "42542                     0.0           0.097776  1.0  1.0  1.0  1.0  \n",
       "\n",
       "[5 rows x 62 columns]"
      ]
     },
     "execution_count": 13,
     "metadata": {},
     "output_type": "execute_result"
    }
   ],
   "source": [
    "# Loads and combines the \n",
    "\n",
    "# Loads classification\n",
    "cat_preds = pickle.load(open(\"pred_for_final.pkl\",'rb'))\n",
    "\n",
    "df = pd.concat([nonnan_df,cat_preds],axis=1).dropna()\n",
    "df.head()\n"
   ]
  },
  {
   "cell_type": "code",
   "execution_count": 14,
   "metadata": {},
   "outputs": [
    {
     "name": "stdout",
     "output_type": "stream",
     "text": [
      "['num_tl_op_past_12m', 'home_ownership', 'purpose_house', 'tax_liens', 'dti', 'total_bal_ex_mort', 'int_rate', 'application_type_Joint App', 'mort_acc', 'mths_since_recent_bc', 'earliest_cr_line', 'purpose_medical', 'percent_bc_gt_75', 'emp_length', 'total_bc_limit', 'num_accts_ever_120_pd', 'issue_d', 'annual_inc', 'pub_rec', 'verification_status_Verified', 'term_ 60 months', 'purpose_major_purchase', 'collections_12_mths_ex_med', 'inq_last_6mths', 'purpose_small_business', 'purpose_home_improvement', 'purpose_debt_consolidation', 'mo_sin_rcnt_rev_tl_op', 'delinq_2yrs', 'verification_status_Source Verified', 'purpose_renewable_energy', 'num_tl_90g_dpd_24m', 'tot_coll_amt', 'chargeoff_within_12_mths', 'purpose_other', 'fico_est', 'mo_sin_rcnt_tl', 'pub_rec_bankruptcies']\n",
      "(705900, 38) (176475, 38)\n"
     ]
    }
   ],
   "source": [
    "y=df['total_pymnt']/(df['installment']*36 + df['installment']*df['term_ 60 months']*24)\n",
    "print(features)\n",
    "traintest_df=df[features]\n",
    "\n",
    "X_train, X_test, y_train, y_test = train_test_split(\n",
    "    traintest_df,y,test_size=0.2,random_state=42)#,stratify=nonnan_df[['loan_status']])\n",
    "\n",
    "Xscaler = StandardScaler()\n",
    "Xscaler.fit_transform(X_train,X_test)\n",
    "\n",
    "print(X_train.shape,X_test.shape)"
   ]
  },
  {
   "cell_type": "code",
   "execution_count": 15,
   "metadata": {},
   "outputs": [
    {
     "name": "stdout",
     "output_type": "stream",
     "text": [
      "-4.9747557436936685\n",
      "[-3.72611385e-03  8.48061421e-04 -6.54276913e-03 -3.89736093e-03\n",
      " -1.57406971e-03  1.07324378e-07 -1.41145657e-02  9.71332390e-14\n",
      "  5.10380288e-03  1.75642746e-04 -1.25310339e-04 -1.63470874e-02\n",
      " -1.44113459e-05  1.01214391e-03  5.55147735e-08  1.36130698e-03\n",
      "  3.98446170e-03 -5.26164820e-09  3.81117149e-03 -1.07134402e-02\n",
      " -1.37817991e-01 -1.08155241e-02 -6.47743820e-03 -5.03624389e-03\n",
      " -3.89125643e-02 -6.87988816e-03 -4.40897520e-03 -6.16919067e-05\n",
      " -2.53372539e-03 -9.19560918e-03 -2.55866548e-02  5.46572211e-04\n",
      "  2.29823015e-08 -1.09225394e-03  6.53817253e-04  1.20527825e-04\n",
      "  9.09518109e-05 -1.78271107e-03]\n",
      "The training set OLS regression R^2 score is: 0.237292\n",
      "The test set OLS regression R^2 score is: 0.261977\n"
     ]
    }
   ],
   "source": [
    "LCOLSModel = LinearRegression().fit(X_train, y_train)\n",
    "\n",
    "print(LCOLSModel.intercept_)\n",
    "print(LCOLSModel.coef_)\n",
    "\n",
    "# your code here\n",
    "trainR2 = r2_score(y_train,LCOLSModel.predict(X_train))\n",
    "\n",
    "testR2 = r2_score(y_test,LCOLSModel.predict(X_test))\n",
    "\n",
    "print(\"The training set OLS regression R^2 score is: %f\" % trainR2)\n",
    "print(\"The test set OLS regression R^2 score is: %f\" % testR2)"
   ]
  },
  {
   "cell_type": "code",
   "execution_count": 16,
   "metadata": {},
   "outputs": [
    {
     "name": "stdout",
     "output_type": "stream",
     "text": [
      "Best model searched:\n",
      "alpha = 100\n",
      "intercept = -4.970195394763961\n",
      "betas = [-3.72174290e-03  8.53514544e-04 -5.06050113e-03 -3.86839778e-03\n",
      " -1.57379709e-03  1.07194630e-07 -1.41251223e-02  0.00000000e+00\n",
      "  5.10024302e-03  1.75556584e-04 -1.25306293e-04 -1.47357320e-02\n",
      " -1.42961562e-05  1.01122751e-03  5.51889257e-08  1.36119215e-03\n",
      "  3.98165253e-03 -5.30143219e-09  3.78393404e-03 -1.07165878e-02\n",
      " -1.37661902e-01 -9.37144703e-03 -6.43141912e-03 -5.02942516e-03\n",
      " -3.69675481e-02 -5.48484691e-03 -3.03201767e-03 -6.16540380e-05\n",
      " -2.53165728e-03 -9.19987761e-03 -1.95795561e-02  5.43961431e-04\n",
      "  2.30394552e-08 -1.07912531e-03  2.05906868e-03  1.20184725e-04\n",
      "  9.11062674e-05 -1.75681052e-03], \n",
      "The training set Ridge regression R^2 score is: 0.237291\n",
      "The test set Ridge regression R^2 score is: 0.261972\n"
     ]
    }
   ],
   "source": [
    "lambdas = [.001, .005, 1, 5, 10, 50, 100, 500, 1000]\n",
    "\n",
    "kfold = KFold(5, shuffle=True) # use this for testing\n",
    "\n",
    "LCRRModel = RidgeCV(alphas=lambdas, cv=kfold)\n",
    "LCRRModel.fit(X_train, y_train)\n",
    "LCRR_shrinkage_parameter=LCRRModel.alpha_\n",
    "\n",
    "print(\"Best model searched:\\nalpha = {}\\nintercept = {}\\nbetas = {}, \".format(LCRR_shrinkage_parameter,\n",
    "                                                                            LCRRModel.intercept_,\n",
    "                                                                            LCRRModel.coef_\n",
    "                                                                            )\n",
    "     )\n",
    "\n",
    "RRtrainR2 = r2_score(y_train,LCRRModel.predict(X_train))\n",
    "RRtestR2 = r2_score(y_test,LCRRModel.predict(X_test))\n",
    "print(\"The training set Ridge regression R^2 score is: %f\" % RRtrainR2)\n",
    "print(\"The test set Ridge regression R^2 score is: %f\" % RRtestR2)"
   ]
  },
  {
   "cell_type": "code",
   "execution_count": 17,
   "metadata": {},
   "outputs": [
    {
     "name": "stdout",
     "output_type": "stream",
     "text": [
      "Best model searched:\n",
      "alpha = 0.001\n",
      "intercept = 2.8772753654536327\n",
      "betas = [-3.32039779e-03  0.00000000e+00 -0.00000000e+00 -0.00000000e+00\n",
      " -1.55185509e-03  9.75448006e-08 -1.48229719e-02  0.00000000e+00\n",
      "  4.61847323e-03  1.67540417e-04 -1.14540030e-04 -0.00000000e+00\n",
      " -0.00000000e+00  9.48772521e-04  2.64224196e-08  5.53884578e-04\n",
      "  0.00000000e+00 -1.18209854e-08  0.00000000e+00 -6.04993888e-04\n",
      " -1.30452299e-01 -0.00000000e+00 -0.00000000e+00 -3.70259540e-03\n",
      " -0.00000000e+00 -0.00000000e+00  0.00000000e+00 -4.25931416e-05\n",
      " -8.04195575e-04 -1.84018765e-04 -0.00000000e+00 -0.00000000e+00\n",
      "  2.54569900e-08 -0.00000000e+00  0.00000000e+00  1.12155049e-04\n",
      "  8.61619814e-05  0.00000000e+00], \n",
      "The training set Lasso regression R^2 score is: 0.236532\n",
      "The test set Lasso regression R^2 score is: 0.261045\n"
     ]
    }
   ],
   "source": [
    "LCLRModel = LassoCV(alphas=lambdas, cv=kfold)\n",
    "LCLRModel.fit(X_train, y_train)\n",
    "LCLR_shrinkage_parameter = LCLRModel.alpha_\n",
    "print(\"Best model searched:\\nalpha = {}\\nintercept = {}\\nbetas = {}, \".format(LCLR_shrinkage_parameter,\n",
    "                                                                            LCLRModel.intercept_,\n",
    "                                                                            LCLRModel.coef_\n",
    "                                                                            )\n",
    "     )\n",
    "\n",
    "LRtrainR2 = r2_score(y_train,LCLRModel.predict(X_train))\n",
    "LRtestR2 = r2_score(y_test,LCLRModel.predict(X_test))\n",
    "print(\"The training set Lasso regression R^2 score is: %f\" % LRtrainR2)\n",
    "print(\"The test set Lasso regression R^2 score is: %f\" % LRtestR2)"
   ]
  },
  {
   "cell_type": "code",
   "execution_count": 18,
   "metadata": {},
   "outputs": [],
   "source": [
    "coef_df=pd.DataFrame(np.array([X_train.columns,\n",
    "                               LCOLSModel.coef_,\n",
    "                               LCRRModel.coef_,\n",
    "                               LCLRModel.coef_]).T,columns=[\"feature\",\"OLS\",\"RR\",\"LR\"])"
   ]
  },
  {
   "cell_type": "code",
   "execution_count": 19,
   "metadata": {},
   "outputs": [
    {
     "name": "stdout",
     "output_type": "stream",
     "text": [
      "                                feature          OLS           RR           LR\n",
      "0                    num_tl_op_past_12m  -0.00372611  -0.00372174   -0.0033204\n",
      "1                        home_ownership  0.000848061  0.000853515            0\n",
      "2                         purpose_house  -0.00654277   -0.0050605           -0\n",
      "3                             tax_liens  -0.00389736   -0.0038684           -0\n",
      "4                                   dti  -0.00157407   -0.0015738  -0.00155186\n",
      "5                     total_bal_ex_mort  1.07324e-07  1.07195e-07  9.75448e-08\n",
      "6                              int_rate   -0.0141146   -0.0141251    -0.014823\n",
      "7            application_type_Joint App  9.71332e-14            0            0\n",
      "8                              mort_acc    0.0051038   0.00510024   0.00461847\n",
      "9                  mths_since_recent_bc  0.000175643  0.000175557   0.00016754\n",
      "10                     earliest_cr_line  -0.00012531 -0.000125306  -0.00011454\n",
      "11                      purpose_medical   -0.0163471   -0.0147357           -0\n",
      "12                     percent_bc_gt_75 -1.44113e-05 -1.42962e-05           -0\n",
      "13                           emp_length   0.00101214   0.00101123  0.000948773\n",
      "14                       total_bc_limit  5.55148e-08  5.51889e-08  2.64224e-08\n",
      "15                num_accts_ever_120_pd   0.00136131   0.00136119  0.000553885\n",
      "16                              issue_d   0.00398446   0.00398165            0\n",
      "17                           annual_inc -5.26165e-09 -5.30143e-09  -1.1821e-08\n",
      "18                              pub_rec   0.00381117   0.00378393            0\n",
      "19         verification_status_Verified   -0.0107134   -0.0107166 -0.000604994\n",
      "20                      term_ 60 months    -0.137818    -0.137662    -0.130452\n",
      "21               purpose_major_purchase   -0.0108155  -0.00937145           -0\n",
      "22           collections_12_mths_ex_med  -0.00647744  -0.00643142           -0\n",
      "23                       inq_last_6mths  -0.00503624  -0.00502943   -0.0037026\n",
      "24               purpose_small_business   -0.0389126   -0.0369675           -0\n",
      "25             purpose_home_improvement  -0.00687989  -0.00548485           -0\n",
      "26           purpose_debt_consolidation  -0.00440898  -0.00303202            0\n",
      "27                mo_sin_rcnt_rev_tl_op -6.16919e-05  -6.1654e-05 -4.25931e-05\n",
      "28                          delinq_2yrs  -0.00253373  -0.00253166 -0.000804196\n",
      "29  verification_status_Source Verified  -0.00919561  -0.00919988 -0.000184019\n",
      "30             purpose_renewable_energy   -0.0255867   -0.0195796           -0\n",
      "31                   num_tl_90g_dpd_24m  0.000546572  0.000543961           -0\n",
      "32                         tot_coll_amt  2.29823e-08  2.30395e-08   2.5457e-08\n",
      "33             chargeoff_within_12_mths  -0.00109225  -0.00107913           -0\n",
      "34                        purpose_other  0.000653817   0.00205907            0\n",
      "35                             fico_est  0.000120528  0.000120185  0.000112155\n",
      "36                       mo_sin_rcnt_tl  9.09518e-05  9.11063e-05   8.6162e-05\n",
      "37                 pub_rec_bankruptcies  -0.00178271  -0.00175681            0\n"
     ]
    }
   ],
   "source": [
    "print(coef_df)"
   ]
  },
  {
   "cell_type": "code",
   "execution_count": 20,
   "metadata": {},
   "outputs": [
    {
     "data": {
      "image/png": "[encoded data removed]",
      "text/plain": [
       "<Figure size 1440x720 with 1 Axes>"
      ]
     },
     "metadata": {},
     "output_type": "display_data"
    }
   ],
   "source": [
    "# your code here\n",
    "plt.figure(figsize=(20,10))\n",
    "plt.bar(coef_df[\"feature\"],[-abs(x) for x in coef_df[\"OLS\"].values],label='OLS',alpha=1.0)\n",
    "plt.bar(coef_df[\"feature\"],[-abs(x) for x in coef_df[\"RR\"].values],label='RR',alpha=0.5)\n",
    "plt.bar(coef_df[\"feature\"],[abs(x) for x in coef_df[\"LR\"].values],alpha=0.5)\n",
    "plt.yscale(\"linear\")\n",
    "\n",
    "plt.legend()\n",
    "plt.show()"
   ]
  },
  {
   "cell_type": "code",
   "execution_count": 21,
   "metadata": {},
   "outputs": [],
   "source": [
    "#size = []\n",
    "#avg_score = []\n",
    "#sd_score = []\n",
    "#for i in range(3,15):\n",
    "#    s = i * 4\n",
    "#    RF_model = RandomForestRegressor(s,n_jobs=4)\n",
    "#    cv = cross_val_score(RF_model,X_train,y_train,cv=4)\n",
    "#    size += [s]\n",
    "#    avg_score +=  [np.average(cv)]\n",
    "#    sd_score += [np.std(cv)]\n",
    "#    print(i,'complete')\n",
    "#    "
   ]
  },
  {
   "cell_type": "code",
   "execution_count": 22,
   "metadata": {},
   "outputs": [],
   "source": [
    "#plt.plot(size,avg_score)\n",
    "#bound = []\n",
    "#for i in range(len(size)):\n",
    "#    bound += [avg_score[i]+sd_score[i]]\n",
    "#plt.plot(size,bound,c='orange')\n",
    "#\n",
    "#bound = []\n",
    "#for i in range(len(size)):\n",
    "#    bound += [avg_score[i]-sd_score[i]]\n",
    "#plt.plot(size,bound,c='orange')\n",
    "#plt.legend(['Average','$\\mu\\pm\\sigma$'])\n",
    "#plt.title('Cross validation of decision tree')\n",
    "#plt.xlabel('Tree Depth')\n",
    "#plt.ylabel('$R^2$ from cross validation')\n",
    "#"
   ]
  },
  {
   "cell_type": "markdown",
   "metadata": {},
   "source": [
    "I ran cross validation overnight and found that we see the ideal tree depth is approximately 50. Here is a single model with tree depth of 50. I did not have to run the code again when testing fully, but included the code I used to document our methods."
   ]
  },
  {
   "cell_type": "code",
   "execution_count": 23,
   "metadata": {},
   "outputs": [
    {
     "name": "stdout",
     "output_type": "stream",
     "text": [
      "The training set Random Forest regression R^2 score is: 0.882680\n",
      "The test set Random Forest regression R^2 score is: 0.244598\n"
     ]
    }
   ],
   "source": [
    "RF_model = RandomForestRegressor(50,n_jobs=4)\n",
    "RF_final = RF_model.fit(X_train,y_train)\n",
    "RFtrainR2 = r2_score(y_train,RF_final.predict(X_train))\n",
    "RFtestR2 = r2_score(y_test,RF_final.predict(X_test))\n",
    "print(\"The training set Random Forest regression R^2 score is: %f\" % RFtrainR2)\n",
    "print(\"The test set Random Forest regression R^2 score is: %f\" % RFtestR2)"
   ]
  },
  {
   "cell_type": "markdown",
   "metadata": {},
   "source": [
    "Our ridge outperforms the Random forest. I will show the diagnostics from the Ridge regression which we will use in the final submission."
   ]
  },
  {
   "cell_type": "code",
   "execution_count": 27,
   "metadata": {},
   "outputs": [
    {
     "data": {
      "text/plain": [
       "Text(0,0.5,'$\\\\epsilon$')"
      ]
     },
     "execution_count": 27,
     "metadata": {},
     "output_type": "execute_result"
    },
    {
     "data": {
      "image/png": "[encoded data removed]",
      "text/plain": [
       "<Figure size 864x432 with 1 Axes>"
      ]
     },
     "metadata": {},
     "output_type": "display_data"
    }
   ],
   "source": [
    "y_hat = LCRRModel.predict(X_test)\n",
    "resids = y_hat - y_test\n",
    "\n",
    "plt.figure(figsize=(12,6))\n",
    "plt.scatter(y_hat,resids,marker='.',alpha=.4)\n",
    "plt.title(\"Fitted vs Residual\")\n",
    "plt.xlabel('$\\hat{y}$')\n",
    "plt.ylabel('$\\epsilon$')"
   ]
  },
  {
   "cell_type": "code",
   "execution_count": null,
   "metadata": {},
   "outputs": [],
   "source": []
  }
 ],
 "metadata": {
  "kernelspec": {
   "display_name": "Python 3",
   "language": "python",
   "name": "python3"
  },
  "language_info": {
   "codemirror_mode": {
    "name": "ipython",
    "version": 3
   },
   "file_extension": ".py",
   "mimetype": "text/x-python",
   "name": "python",
   "nbconvert_exporter": "python",
   "pygments_lexer": "ipython3",
   "version": "3.6.5"
  },
  "toc": {
   "base_numbering": 1,
   "nav_menu": {},
   "number_sections": false,
   "sideBar": true,
   "skip_h1_title": false,
   "title_cell": "Table of Contents",
   "title_sidebar": "Contents",
   "toc_cell": false,
   "toc_position": {},
   "toc_section_display": true,
   "toc_window_display": false
  }
 },
 "nbformat": 4,
 "nbformat_minor": 2
}
