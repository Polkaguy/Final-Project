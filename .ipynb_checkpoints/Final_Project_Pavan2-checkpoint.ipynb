{
 "cells": [
  {
   "cell_type": "code",
   "execution_count": 71,
   "metadata": {},
   "outputs": [
    {
     "name": "stderr",
     "output_type": "stream",
     "text": [
      "Using TensorFlow backend.\n"
     ]
    }
   ],
   "source": [
    "import pandas as pd\n",
    "import numpy as np\n",
    "import matplotlib.pyplot as plt\n",
    "import os\n",
    "import re\n",
    "\n",
    "import warnings\n",
    "warnings.filterwarnings('ignore')\n",
    "\n",
    "from sklearn.metrics import r2_score\n",
    "from sklearn.preprocessing import PolynomialFeatures\n",
    "from sklearn.preprocessing import StandardScaler\n",
    "from sklearn.linear_model import Ridge\n",
    "from sklearn.linear_model import Lasso\n",
    "from sklearn.linear_model import RidgeCV\n",
    "from sklearn.linear_model import LassoCV\n",
    "from sklearn.linear_model import LinearRegression\n",
    "from sklearn.decomposition import PCA\n",
    "from sklearn.linear_model import LogisticRegression\n",
    "from sklearn.linear_model import LogisticRegressionCV\n",
    "\n",
    "from sklearn.model_selection import cross_val_score\n",
    "from sklearn.utils import resample\n",
    "from sklearn.tree import DecisionTreeClassifier\n",
    "from sklearn.ensemble import RandomForestClassifier\n",
    "from sklearn.ensemble import AdaBoostClassifier\n",
    "from sklearn.linear_model import LogisticRegressionCV\n",
    "\n",
    "from sklearn.model_selection import GridSearchCV\n",
    "\n",
    "from sklearn.model_selection import cross_val_score\n",
    "from sklearn.metrics import accuracy_score\n",
    "from sklearn.model_selection import KFold\n",
    "from sklearn.metrics import make_scorer\n",
    "\n",
    "from keras.models import Sequential\n",
    "from keras.layers import Dense\n",
    "\n",
    "import tensorflow as tf\n",
    "\n",
    "from sklearn.model_selection import train_test_split\n",
    "from sklearn.model_selection import cross_val_score\n",
    "from sklearn.model_selection import LeaveOneOut\n",
    "from sklearn.model_selection import KFold\n",
    "\n",
    "#import statsmodels.api as sm,\n",
    "\n",
    "import seaborn as sns; sns.set()\n",
    "\n",
    "from pandas.core import datetools\n",
    "%matplotlib inline\n"
   ]
  },
  {
   "cell_type": "markdown",
   "metadata": {},
   "source": [
    "# Data Acquisition\n",
    "The following code imports and validates the LendingClub data."
   ]
  },
  {
   "cell_type": "code",
   "execution_count": 2,
   "metadata": {},
   "outputs": [],
   "source": [
    "converters = dict(\n",
    "    id=str,\n",
    "    desc=str,\n",
    "    hardship_type=str,\n",
    "    hardship_reason=str,\n",
    "    hardship_status=str,\n",
    "    hardship_loan_status=str,\n",
    "    verification_status_joint=str\n",
    ")\n",
    "dates = [\n",
    "    'next_pymnt_d',\n",
    "    'hardship_start_date',\n",
    "    'hardship_end_date',\n",
    "    'payment_plan_start_date',\n",
    "    'earliest_cr_line',\n",
    "    'issue_d'\n",
    "]"
   ]
  },
  {
   "cell_type": "code",
   "execution_count": 3,
   "metadata": {},
   "outputs": [
    {
     "name": "stdout",
     "output_type": "stream",
     "text": [
      "Reading ./Source Data/Loan Data/LoanStats3a_securev1.csv\n",
      "Reading ./Source Data/Loan Data/LoanStats3b_securev1.csv\n",
      "Reading ./Source Data/Loan Data/LoanStats3c_securev1.csv\n",
      "Reading ./Source Data/Loan Data/LoanStats3d_securev1.csv\n",
      "Reading ./Source Data/Loan Data/LoanStats_securev1_2016Q1.csv\n",
      "Reading ./Source Data/Loan Data/LoanStats_securev1_2016Q2.csv\n",
      "Reading ./Source Data/Loan Data/LoanStats_securev1_2016Q3.csv\n",
      "Reading ./Source Data/Loan Data/LoanStats_securev1_2016Q4.csv\n",
      "Reading ./Source Data/Loan Data/LoanStats_securev1_2017Q1.csv\n",
      "Reading ./Source Data/Loan Data/LoanStats_securev1_2017Q2.csv\n",
      "Reading ./Source Data/Loan Data/LoanStats_securev1_2017Q3.csv\n",
      "Reading ./Source Data/Loan Data/LoanStats_securev1_2017Q4.csv\n",
      "Reading ./Source Data/Loan Data/LoanStats_securev1_2018Q1.csv\n",
      "(1873317, 152)\n"
     ]
    }
   ],
   "source": [
    "# Imports loan data\n",
    "\n",
    "df = pd.DataFrame()\n",
    "basepath='./Source Data/Loan Data/'\n",
    "files = os.listdir(basepath)\n",
    "csvs = []\n",
    "\n",
    "for file in files:\n",
    "    if re.match('.*csv$',file):\n",
    "        csvs += [file]\n",
    "\n",
    "if 0:\n",
    "    #ignore this - was trying to pickle the data into\n",
    "    #formats like feather, hdf5, native python pickling, etc\n",
    "    # but found issues on python 3.7\n",
    "    df=pd.read_pickle(basepath+'df.pkl')\n",
    "else:\n",
    "    cols = df.dtypes\n",
    "    for csv in csvs:\n",
    "        path = basepath + csv\n",
    "        print(\"Reading\",path)\n",
    "        tdf = pd.read_csv(path,header=1,low_memory=False)\n",
    "        df=df.append(tdf)\n",
    "    \n",
    "df.reset_index(inplace=True) # This will help with joining back data if necessary.\n",
    "\n",
    "print(df.shape)"
   ]
  },
  {
   "cell_type": "code",
   "execution_count": 4,
   "metadata": {},
   "outputs": [
    {
     "name": "stdout",
     "output_type": "stream",
     "text": [
      "index                                           int64\n",
      "id                                             object\n",
      "member_id                                     float64\n",
      "loan_amnt                                     float64\n",
      "funded_amnt                                   float64\n",
      "funded_amnt_inv                               float64\n",
      "term                                           object\n",
      "int_rate                                       object\n",
      "installment                                   float64\n",
      "grade                                          object\n",
      "sub_grade                                      object\n",
      "emp_title                                      object\n",
      "emp_length                                     object\n",
      "home_ownership                                 object\n",
      "annual_inc                                    float64\n",
      "verification_status                            object\n",
      "issue_d                                        object\n",
      "loan_status                                    object\n",
      "pymnt_plan                                     object\n",
      "url                                            object\n",
      "desc                                           object\n",
      "purpose                                        object\n",
      "title                                          object\n",
      "zip_code                                       object\n",
      "addr_state                                     object\n",
      "dti                                           float64\n",
      "delinq_2yrs                                   float64\n",
      "earliest_cr_line                               object\n",
      "fico_range_low                                float64\n",
      "fico_range_high                               float64\n",
      "inq_last_6mths                                float64\n",
      "mths_since_last_delinq                        float64\n",
      "mths_since_last_record                        float64\n",
      "open_acc                                      float64\n",
      "pub_rec                                       float64\n",
      "revol_bal                                     float64\n",
      "revol_util                                     object\n",
      "total_acc                                     float64\n",
      "initial_list_status                            object\n",
      "out_prncp                                     float64\n",
      "out_prncp_inv                                 float64\n",
      "total_pymnt                                   float64\n",
      "total_pymnt_inv                               float64\n",
      "total_rec_prncp                               float64\n",
      "total_rec_int                                 float64\n",
      "total_rec_late_fee                            float64\n",
      "recoveries                                    float64\n",
      "collection_recovery_fee                       float64\n",
      "last_pymnt_d                                   object\n",
      "last_pymnt_amnt                               float64\n",
      "next_pymnt_d                                   object\n",
      "last_credit_pull_d                             object\n",
      "last_fico_range_high                          float64\n",
      "last_fico_range_low                           float64\n",
      "collections_12_mths_ex_med                    float64\n",
      "mths_since_last_major_derog                   float64\n",
      "policy_code                                   float64\n",
      "application_type                               object\n",
      "annual_inc_joint                              float64\n",
      "dti_joint                                     float64\n",
      "verification_status_joint                      object\n",
      "acc_now_delinq                                float64\n",
      "tot_coll_amt                                  float64\n",
      "tot_cur_bal                                   float64\n",
      "open_acc_6m                                   float64\n",
      "open_act_il                                   float64\n",
      "open_il_12m                                   float64\n",
      "open_il_24m                                   float64\n",
      "mths_since_rcnt_il                            float64\n",
      "total_bal_il                                  float64\n",
      "il_util                                       float64\n",
      "open_rv_12m                                   float64\n",
      "open_rv_24m                                   float64\n",
      "max_bal_bc                                    float64\n",
      "all_util                                      float64\n",
      "total_rev_hi_lim                              float64\n",
      "inq_fi                                        float64\n",
      "total_cu_tl                                   float64\n",
      "inq_last_12m                                  float64\n",
      "acc_open_past_24mths                          float64\n",
      "avg_cur_bal                                   float64\n",
      "bc_open_to_buy                                float64\n",
      "bc_util                                       float64\n",
      "chargeoff_within_12_mths                      float64\n",
      "delinq_amnt                                   float64\n",
      "mo_sin_old_il_acct                            float64\n",
      "mo_sin_old_rev_tl_op                          float64\n",
      "mo_sin_rcnt_rev_tl_op                         float64\n",
      "mo_sin_rcnt_tl                                float64\n",
      "mort_acc                                      float64\n",
      "mths_since_recent_bc                          float64\n",
      "mths_since_recent_bc_dlq                      float64\n",
      "mths_since_recent_inq                         float64\n",
      "mths_since_recent_revol_delinq                float64\n",
      "num_accts_ever_120_pd                         float64\n",
      "num_actv_bc_tl                                float64\n",
      "num_actv_rev_tl                               float64\n",
      "num_bc_sats                                   float64\n",
      "num_bc_tl                                     float64\n",
      "num_il_tl                                     float64\n",
      "num_op_rev_tl                                 float64\n",
      "num_rev_accts                                 float64\n",
      "num_rev_tl_bal_gt_0                           float64\n",
      "num_sats                                      float64\n",
      "num_tl_120dpd_2m                              float64\n",
      "num_tl_30dpd                                  float64\n",
      "num_tl_90g_dpd_24m                            float64\n",
      "num_tl_op_past_12m                            float64\n",
      "pct_tl_nvr_dlq                                float64\n",
      "percent_bc_gt_75                              float64\n",
      "pub_rec_bankruptcies                          float64\n",
      "tax_liens                                     float64\n",
      "tot_hi_cred_lim                               float64\n",
      "total_bal_ex_mort                             float64\n",
      "total_bc_limit                                float64\n",
      "total_il_high_credit_limit                    float64\n",
      "revol_bal_joint                               float64\n",
      "sec_app_fico_range_low                        float64\n",
      "sec_app_fico_range_high                       float64\n",
      "sec_app_earliest_cr_line                       object\n",
      "sec_app_inq_last_6mths                        float64\n",
      "sec_app_mort_acc                              float64\n",
      "sec_app_open_acc                              float64\n",
      "sec_app_revol_util                            float64\n",
      "sec_app_open_act_il                           float64\n",
      "sec_app_num_rev_accts                         float64\n",
      "sec_app_chargeoff_within_12_mths              float64\n",
      "sec_app_collections_12_mths_ex_med            float64\n",
      "sec_app_mths_since_last_major_derog           float64\n",
      "hardship_flag                                  object\n",
      "hardship_type                                  object\n",
      "hardship_reason                                object\n",
      "hardship_status                                object\n",
      "deferral_term                                 float64\n",
      "hardship_amount                               float64\n",
      "hardship_start_date                            object\n",
      "hardship_end_date                              object\n",
      "payment_plan_start_date                        object\n",
      "hardship_length                               float64\n",
      "hardship_dpd                                  float64\n",
      "hardship_loan_status                           object\n",
      "orig_projected_additional_accrued_interest    float64\n",
      "hardship_payoff_balance_amount                float64\n",
      "hardship_last_payment_amount                  float64\n",
      "disbursement_method                            object\n",
      "debt_settlement_flag                           object\n",
      "debt_settlement_flag_date                      object\n",
      "settlement_status                              object\n",
      "settlement_date                                object\n",
      "settlement_amount                             float64\n",
      "settlement_percentage                         float64\n",
      "settlement_term                               float64\n",
      "dtype: object\n"
     ]
    }
   ],
   "source": [
    "pd.set_option('display.max_rows', 200)\n",
    "print(df.dtypes)\n",
    "pd.set_option('display.max_rows', 200)"
   ]
  },
  {
   "cell_type": "code",
   "execution_count": 11,
   "metadata": {},
   "outputs": [],
   "source": [
    "# Checks for duplicates within our combined data\n",
    "#df['count']=1 # Generate field to measure the number of occurances\n",
    "\n",
    "#counts = df.groupby('id')['count'].count()\n",
    "#print('Data are duplicated %i times.' % len(counts[counts>1]))"
   ]
  },
  {
   "cell_type": "markdown",
   "metadata": {},
   "source": [
    "Data are duplicated 0 times.\n",
    "\n",
    "Some data are not useful as a predictor. Because we are going to use these data as a training set, we need to remove data that are not useful for predictions. There are two categories of data that are not useful for predictions. First, we need information about loans that have fully run their course. That is to say, we need to see loans that have either been paid in full or written off. It is not useful to see loans that are currently delinquent or current on payments but still early in the loan. Second, we need to remove predictors that are not import for predicting the loan. For example the URL has no impact on the borrower's ability to repay the loan. If we need this data in the future, we can still pair it back with the original dataframe."
   ]
  },
  {
   "cell_type": "code",
   "execution_count": 5,
   "metadata": {},
   "outputs": [
    {
     "name": "stdout",
     "output_type": "stream",
     "text": [
      "0 member_id 0\n",
      "1 orig_projected_additional_accrued_interest 5846\n",
      "2 hardship_type 7288\n",
      "3 hardship_reason 7288\n",
      "4 hardship_status 7288\n",
      "5 deferral_term 7288\n",
      "6 hardship_amount 7288\n",
      "7 hardship_start_date 7288\n",
      "8 hardship_end_date 7288\n",
      "9 payment_plan_start_date 7288\n",
      "10 hardship_length 7288\n",
      "11 hardship_dpd 7288\n",
      "12 hardship_loan_status 7288\n",
      "13 hardship_payoff_balance_amount 7288\n",
      "14 hardship_last_payment_amount 7288\n",
      "15 sec_app_mths_since_last_major_derog 18992\n",
      "16 debt_settlement_flag_date 21652\n",
      "17 settlement_status 21652\n",
      "18 settlement_date 21652\n",
      "19 settlement_amount 21652\n",
      "20 settlement_percentage 21652\n",
      "21 settlement_term 21652\n",
      "22 sec_app_revol_util 54417\n",
      "23 revol_bal_joint 55366\n",
      "24 sec_app_fico_range_low 55367\n",
      "25 sec_app_fico_range_high 55367\n",
      "26 sec_app_earliest_cr_line 55367\n",
      "27 sec_app_inq_last_6mths 55367\n",
      "28 sec_app_mort_acc 55367\n",
      "29 sec_app_open_acc 55367\n",
      "30 sec_app_open_act_il 55367\n",
      "31 sec_app_num_rev_accts 55367\n",
      "32 sec_app_chargeoff_within_12_mths 55367\n",
      "33 sec_app_collections_12_mths_ex_med 55367\n",
      "34 verification_status_joint 67736\n",
      "35 dti_joint 68052\n",
      "36 annual_inc_joint 68056\n",
      "37 desc 126067\n",
      "38 mths_since_last_record 311441\n",
      "39 mths_since_recent_bc_dlq 442889\n",
      "40 mths_since_last_major_derog 490703\n",
      "41 mths_since_recent_revol_delinq 628495\n",
      "42 next_pymnt_d 852738\n",
      "43 il_util 867280\n",
      "44 mths_since_last_delinq 930745\n",
      "45 mths_since_rcnt_il 977488\n",
      "46 all_util 1007043\n",
      "47 open_acc_6m 1007160\n",
      "48 total_cu_tl 1007160\n",
      "49 inq_last_12m 1007160\n"
     ]
    }
   ],
   "source": [
    "has_data = {}\n",
    "for column in df.columns:\n",
    "    has_data[column] = len(df[column].dropna())\n",
    "#print(len(has_data))\n",
    "#has_data\n",
    "\n",
    "order_has_data=sorted(has_data, key=lambda dict_key: has_data[dict_key])\n",
    "\n",
    "top_sparse=50\n",
    "for i,j in zip(order_has_data[0:top_sparse],range(top_sparse)):\n",
    "    print(j, i, has_data[i])"
   ]
  },
  {
   "cell_type": "markdown",
   "metadata": {},
   "source": [
    "Based on the data, it appears that joint applications are a fairly new development in these data. We see only about 50,000 instances where the data are included for joint applications. The following visualization shows the relationship for income in joint applicants."
   ]
  },
  {
   "cell_type": "code",
   "execution_count": 13,
   "metadata": {},
   "outputs": [
    {
     "data": {
      "image/png": "[encoded data removed]",
      "text/plain": [
       "<Figure size 432x288 with 1 Axes>"
      ]
     },
     "metadata": {},
     "output_type": "display_data"
    }
   ],
   "source": [
    "joint_fil = (df['annual_inc']>0)&(df['annual_inc_joint']>0)\n",
    "plt.scatter(df[joint_fil]['annual_inc'],df[joint_fil]['annual_inc_joint'])\n",
    "plt.title('Income vs. Joint Income')\n",
    "plt.xlabel('Annual income')\n",
    "plt.ylabel('Annual income joint')\n",
    "plt.show;\n"
   ]
  },
  {
   "cell_type": "markdown",
   "metadata": {},
   "source": [
    "Because of the high risk of multicolinearity, and the small number of observations, we are dropping this from the dataset. We will still keep a dummy variable that treats joint applications differently, but we will not consider the joint income of applicants."
   ]
  },
  {
   "cell_type": "code",
   "execution_count": 6,
   "metadata": {},
   "outputs": [
    {
     "name": "stdout",
     "output_type": "stream",
     "text": [
      "(1873317, 152)\n"
     ]
    }
   ],
   "source": [
    "# Convert dates to datetime\n",
    "df['issue_d'] = pd.to_datetime(df['issue_d'])\n",
    "df['earliest_cr_line'] = pd.to_datetime(df['earliest_cr_line'])\n",
    "\n",
    "#determine age of credit line prior to loan issue and convert to integer\n",
    "# days of credit history\n",
    "df['earliest_cr_line'] = (df['issue_d']-df['earliest_cr_line']).dt.days\n",
    "\n",
    "# convert issue_d to a year to consider economic conditions\n",
    "#SHOULD WE GO TO QUARTERS?\n",
    "df['issue_d'] = df['issue_d'].dt.year\n",
    "\n",
    "print(df.shape)"
   ]
  },
  {
   "cell_type": "code",
   "execution_count": 21,
   "metadata": {},
   "outputs": [
    {
     "name": "stdout",
     "output_type": "stream",
     "text": [
      "(1020552, 36)\n"
     ]
    }
   ],
   "source": [
    "# Limit to loans that are paid in full or written off. Uses dates so that \n",
    "# loans that are delinquent are not disproportionaltely dropped from data\n",
    "\n",
    "mature_filter = (df['loan_status']=='Fully Paid')|(df['loan_status']=='Charged Off')\n",
    "#mature_filter = (df['loan_status']=='Fully Paid')\n",
    "#latest_mature = df[~mature_filter]['issue_d'].min()\n",
    "#latest_mature\n",
    "#reduced_df = df[df['issue_d']<=latest_mature]\n",
    "reduced_df = df[mature_filter] # Pulls only loans that are charged off or paid in full.\n",
    "#\n",
    "## Use my documentation to filter to only \n",
    "data_dict = pd.read_excel('./Source Data/LCDataDictionary.xlsx',sheet_name='LoanStats')\n",
    "features = list(data_dict[data_dict['Useful Predictor']=='Yes']['LoanStatNew'].values)\n",
    "kaggle_features=[\"addr_state\", \"annual_inc\", \"delinq_2yrs\", \"desc\", \"dti\", \"earliest_cr_line\", \"emp_length\",\n",
    "                 \"emp_title\", \"grade\", \"home_ownership\", \"id\", \"inq_fi\", \"inq_last_6mths\", \"installment\",\n",
    "                 \"int_rate\", \"loan_amnt\", \"loan_status\", \"mths_since_last_delinq\", \"mths_since_last_major_derog\",\n",
    "                 \"mths_since_last_record\", \"open_acc\", \"pub_rec\", \"purpose\", \"pymnt_plan\", \"revol_bal\",\n",
    "                 \"revol_util\", \"sub_grade\", \"term\", \"title\", \"total_acc\", \"url\", \"verification_status\", \"zip_code\"]\n",
    "#reduced_df=reduced_df[features]\n",
    "non_kaggle_features=['application_type','fico_range_low','fico_range_high',\"total_pymnt\"]\n",
    "reduced_df=reduced_df[kaggle_features+non_kaggle_features]\n",
    "\n",
    "# Combines fields when necessary\n",
    "reduced_df['fico_est'] = (reduced_df['fico_range_low']+reduced_df['fico_range_high'])/2\n",
    "\n",
    "reduced_df.drop(columns=['fico_range_low','fico_range_high'],inplace=True)\n",
    "\n",
    "print(reduced_df.shape)"
   ]
  },
  {
   "cell_type": "code",
   "execution_count": 16,
   "metadata": {},
   "outputs": [],
   "source": [
    "# backup our df\n",
    "backup_df = reduced_df.copy()"
   ]
  },
  {
   "cell_type": "code",
   "execution_count": 17,
   "metadata": {},
   "outputs": [],
   "source": [
    "#restore our df\n",
    "reduced_df = backup_df.copy()"
   ]
  },
  {
   "cell_type": "code",
   "execution_count": 22,
   "metadata": {},
   "outputs": [
    {
     "name": "stdout",
     "output_type": "stream",
     "text": [
      "(1020552, 28)\n"
     ]
    }
   ],
   "source": [
    "# Convert strings to numbers emp_length, int_rate, revol_util\n",
    "emp_length_map={'10+ years':10, '< 1 year':0, '1 year':1, '3 years':3, '8 years':8, '9 years':9,\n",
    "                '4 years':4, '5 years':5, '6 years':6, '2 years':2, '7 years':7}\n",
    "\n",
    "reduced_df['emp_length']=reduced_df['emp_length'].replace(pd.Series(emp_length_map))\n",
    "\n",
    "grade_map={\"A\":1,\"B\":2,\"C\":3,\"D\":4,\"E\":5,\"F\":6,\"G\":7}\n",
    "reduced_df['grade']=reduced_df['grade'].replace(pd.Series(grade_map))\n",
    "\n",
    "reduced_df['int_rate']=reduced_df['int_rate'].apply(lambda x: float(x[:-1]))\n",
    "reduced_df['revol_util']=reduced_df['revol_util'].apply(lambda x:\n",
    "                                                        x[:-1] if isinstance(x, str) else np.nan).astype(float)\n",
    "\n",
    "reduced_df['earliest_cr_line']=reduced_df['earliest_cr_line'].apply(lambda x:\n",
    "                                                        0.0 if np.isnan(x) else x)\n",
    "\n",
    "reduced_df.drop(columns=['title','emp_title','desc','url','id','sub_grade','addr_state','zip_code'],inplace=True)\n",
    "\n",
    "print(reduced_df.shape)"
   ]
  },
  {
   "cell_type": "markdown",
   "metadata": {},
   "source": [
    "# Which values are categorical?"
   ]
  },
  {
   "cell_type": "code",
   "execution_count": 23,
   "metadata": {},
   "outputs": [
    {
     "name": "stdout",
     "output_type": "stream",
     "text": [
      "pymnt_plan 1 ['n']\n",
      "loan_status 2 ['Fully Paid' 'Charged Off']\n",
      "term 2 [' 36 months' ' 60 months']\n",
      "application_type 2 ['Individual' 'Joint App']\n",
      "verification_status 3 ['Verified' 'Source Verified' 'Not Verified']\n",
      "home_ownership 6 ['RENT' 'OWN' 'MORTGAGE' 'OTHER' 'NONE' 'ANY']\n",
      "grade 7 [2 3 1 5 6 4 7]\n",
      "inq_last_6mths 10 [ 1.  5.  2.  0.  3.  4.  6.  7.  8. nan]\n",
      "emp_length 12 [10.  0.  1.  3.  8.  9.  4.  5.  6.  2.  7. nan]\n",
      "purpose 14 ['credit_card' 'car' 'small_business' 'other' 'wedding'\n",
      " 'debt_consolidation' 'home_improvement' 'major_purchase' 'medical'\n",
      " 'moving' 'vacation' 'house' 'renewable_energy' 'educational']\n",
      "delinq_2yrs 30 [ 0.  2.  3.  1.  4.  6.  5.  8.  7.  9. 11. 15. 13. 10. 12. 17. 18. 29.\n",
      " 24. 14. 21. 22. 19. 16. 30. 26. 20. 27. 39. 25.]\n",
      "inq_fi 30 [nan  2.  0.  1.  5.  3.  4.  6. 16.  7.  9. 10. 11. 13. 17.  8. 12. 14.\n",
      " 15. 24. 20. 21. 18. 19. 23. 28. 22. 25. 27. 32.]\n",
      "pub_rec 34 [ 0.  1.  2.  3.  4.  5.  6.  9.  8.  7. 11. 49. 10. 54. 12. 18. 19. 16.\n",
      " 15. 40. 63. 13. 21. 34. 17. 20. 86. 14. 46. 47. 24. 25. 28. 22.]\n",
      "fico_est 40 [737.  742.  692.  697.  732.  662.  677.  727.  712.  707.  722.  667.\n",
      " 672.  762.  687.  757.  682.  702.  792.  752.  717.  767.  747.  772.\n",
      " 782.  777.  797.  812.  802.  817.  787.  807.  827.  822.  632.  627.\n",
      " 832.  842.  847.5 837. ]\n",
      "open_acc 82 [ 3.  2. 10. 15.  9.  7.  4. 11. 14. 12. 20.  8.  6. 17.  5. 13. 16. 30.\n",
      " 21. 18. 19. 27. 23. 34. 25. 22. 24. 26. 32. 28. 29. 33. 31. 39. 35. 36.\n",
      " 38. 44. 41. 42. 40.  1. 37. 45. 49. 53. 51. 43.  0. 62. 46. 48. 50. 52.\n",
      " 54. 47. 76. 58. 55. 84. 75. 61. 67. 57. 68. 70. 60. 56. 64. 79. 59. 74.\n",
      " 90. 65. 77. 81. 71. 63. 80. 72. 86. 66.]\n",
      "mths_since_last_record 125 [ nan 113. 105.  97.  33.  93.  52.  85.  90.  91. 114.  92. 117.  87.\n",
      "  45.  83. 118.  38. 101. 100. 112. 110.  88.  79.  77. 107. 102.  98.\n",
      "  95. 103.  96. 116. 111.  89. 108.  29. 106. 115.  53.  86.  57.  63.\n",
      "  94. 109.  99. 104.  76.  61.  28.  23.  75.  47.  82.  21.  62.  44.\n",
      "  80.  67. 119.  42.  34.  66.  58.  22.  56.  72.  64.  50.  69.  49.\n",
      "  74.  35.  12.  26.  78.  54.  37.  73.  11.  31.  59.  32.  81.  68.\n",
      "  55.  39.  51.  70.  30.  41.  71.  40.  43.  27.  65.  46.  19.  17.\n",
      "  25.  13.  48.  36.   7.  60.  14.   6.  18.   0.  20. 120. 129.   5.\n",
      "  24.  84.  15.  10.  16.   8.   9.   3. 121.   4.   1.   2. 123.]\n",
      "total_acc 137 [  9.   4.  10.  37.  38.  12.  11.  13.   3.  23.  34.  29.  28.  42.\n",
      "  14.  22.  21.  17.   7.  31.  44.  26.  16.   6.  18.  27.  24.  25.\n",
      "  40.  35.   8.  20.  15.  19.  36.  51.  32.  30.  33.  46.   5.  61.\n",
      "  56.  50.  41.  39.  79.  62.  43.  47.  53.  45.  60.  55.  52.  58.\n",
      "  54.  57.  49.  63.  48.  59.  77.  87.  75.  72.  64.  67.  78.  76.\n",
      "  74.  66.  81.  90.  80.  71.  69.  73.  70.  68.  65.   2. 105.  83.\n",
      "  84.  98.  88.  82.  91.  99.  86.  93.  92.  96. 101. 150.  95.  85.\n",
      "  89. 156. 106.  97. 119. 124. 100.  94. 121. 102. 117. 116. 118. 111.\n",
      " 112. 125. 110. 135. 104. 151. 130. 107. 113. 169. 129. 126. 137. 103.\n",
      " 109. 138. 162. 114. 108. 176. 115. 133. 120. 144. 122.]\n",
      "mths_since_last_delinq 158 [ nan  35.  38.  61.   8.  20.  18.  68.  45.  48.  41.  40.  74.  25.\n",
      "  53.  39.  10.  26.  56.  77.  28.  52.  24.  16.  60.  54.  23.   9.\n",
      "  11.  13.  65.  19.  80.  22.  59.  79.  44.  64.  57.  14.  63.  49.\n",
      "  15.  73.  70.  29.  51.   5.  75.  55.   2.  30.  47.  33.  69.   4.\n",
      "  43.  21.  27.  46.  81.  78.  82.  31.  76.  62.  72.  42.  50.   3.\n",
      "  12.  67.  36.  34.  58.  17.  71.  66.  32.   6.  37.   7.   1.  83.\n",
      "  86. 115.  96. 103. 120. 106.  89. 107.  85.  97.  95.   0. 110.  84.\n",
      " 135.  88.  87. 122.  91. 146. 134. 114.  99.  93. 127. 101.  94. 102.\n",
      " 129. 113. 139. 131. 156. 143. 109. 119. 149. 118. 130. 148. 126.  90.\n",
      " 141. 116. 100. 152.  98.  92. 108. 133. 104. 111. 105. 170. 124. 136.\n",
      " 180. 188. 140. 151. 159. 112. 171. 142. 125. 117. 123. 176. 137. 121.\n",
      " 158. 192. 132. 160.]\n",
      "mths_since_last_major_derog 166 [ nan  53.  34.  69.  71.  54.   7.  16.  33.  45.  59.  11.   8.  56.\n",
      "  50.  32.  76.  70.  39.  49.  64.  62.  74.  52.  46.  60.  51.  77.\n",
      "  27.  72.  22.  48.  58.  10.  73.  23.  61.  35.  57.  40.  18.  25.\n",
      "  63.  21.  47.  41.  80.  68.  44.  31.  28.  65.  30.  13.  15.  75.\n",
      "  26.  67.  12.  81.   5.  14.   6.  19.  43.  29.  42.  37.  38.  17.\n",
      "   4.  24.   9.  79.  66.  20.  36. 110.   1.  84.  78.  55.   2.   3.\n",
      "  82. 135. 152.  92. 115.  88.  95. 100. 123. 106.  83. 102.  94.  87.\n",
      "  85. 122.  89.   0. 109.  86.  91. 146. 134. 114.  99.  97.  93.  96.\n",
      "  90. 165. 127. 119. 101. 124. 129. 113. 120. 139. 131. 112. 156. 143.\n",
      " 149. 118. 130. 104. 111. 148. 126. 141. 116. 133. 108.  98. 107. 147.\n",
      " 121. 154. 105. 103. 162. 140. 170. 136. 180. 188. 151. 159. 137. 117.\n",
      " 171. 142. 125. 132. 153. 145. 176. 150. 158. 197. 192. 160.]\n",
      "int_rate 616 [10.65 15.27 15.96 13.49 12.69  7.9  18.64 21.28 14.65  9.91 16.29  6.03\n",
      " 11.71 12.42 14.27 16.77  7.51  8.9  18.25  6.62 19.91 17.27 17.58 21.67\n",
      " 19.42 22.06 20.89 20.3  23.91 19.03 23.52 23.13 22.74 22.35 24.11  6.\n",
      " 22.11  7.49 11.99  5.99 10.99  9.99 18.79 11.49  8.49 15.99 16.49  6.99\n",
      " 12.99 15.23 14.79  5.42 10.59 17.49 15.62 21.36 19.29 13.99 18.39 16.89\n",
      " 17.99 20.62 20.99 22.85 19.69 20.25 23.22 21.74 22.48 23.59 12.62 18.07\n",
      " 11.63  7.91  7.42 11.14 20.2  12.12 19.39 16.11 17.54 22.64 13.84 16.59\n",
      " 17.19 12.87 20.69  9.67 21.82 19.79 18.49 22.94 24.59 24.4  21.48 14.82\n",
      " 14.17  7.29 17.88 20.11 16.02 17.51 13.43 14.91 13.06 15.28 15.65 17.14\n",
      " 11.11 10.37 16.4   7.66 10.   18.62 10.74  5.79  6.92  9.63 14.54 12.68\n",
      " 19.36 13.8  18.99 21.59 20.85 21.22 19.74 20.48  6.91 12.23 12.61 10.36\n",
      "  6.17  6.54  9.25 16.69 15.95  8.88 13.35  9.62 16.32 12.98 14.83 13.72\n",
      " 14.09 14.46 20.03 17.8  15.2  15.57 18.54 19.66 17.06 18.17 17.43 20.4\n",
      " 20.77 18.91 21.14 17.44 13.23  7.88 11.12 13.61 10.38 17.56 17.93 15.58\n",
      " 13.98 14.84 15.21  6.76  6.39 11.86  7.14 14.35 16.82 10.75 14.72 16.45\n",
      " 18.67 20.53 19.41 20.16 21.27 18.3  19.04 20.9  21.64 12.73 10.25 13.11\n",
      " 10.62 13.48 14.59 16.07 15.7   9.88 11.36 15.33 13.85 14.96 14.22  7.74\n",
      " 13.22 13.57  8.59 17.04 14.61  8.94 12.18 11.83 11.48 16.35 13.92 15.31\n",
      " 14.26 19.13 12.53 16.7  16.   17.39 18.09  7.4  18.43 17.74  7.05 20.52\n",
      " 20.86 19.47 18.78 21.21 19.82 20.17 13.16  8.   13.47 12.21 16.63  9.32\n",
      " 12.84 11.26 15.68 15.37 10.95 11.89 14.11 13.79  7.68 11.58  7.37 16.95\n",
      " 15.05 18.53 14.74 14.42 18.21 17.26 18.84 17.9  19.16 13.67  9.38 12.72\n",
      " 13.36 11.46 10.51  9.07 13.04 11.78 12.41 10.83 12.09 17.46 14.3  17.15\n",
      " 15.25 10.2  15.88 14.93 16.2  18.72 14.62  8.32 14.12 10.96 10.33 10.01\n",
      " 12.86 11.28 11.59  8.63 12.54 12.22 11.91 15.38 16.96 13.17  9.7  16.33\n",
      " 14.75 15.07 16.01 10.71 10.64  9.76 11.34 10.39 13.87 11.03 11.66 13.24\n",
      " 10.08  9.45 13.55 12.29 11.97 12.92 15.45 14.5  14.18 15.13 16.08 15.76\n",
      " 17.03 17.34 16.71  9.83 13.62 10.46  9.51  9.2  13.3  10.78  7.75  8.38\n",
      " 12.36 12.67 11.72 13.93  8.07  7.43 12.04 14.25 14.88 11.41 11.09 10.14\n",
      " 16.15 15.83  7.12 18.36  9.64  9.96 11.22  9.01  9.33 11.54 12.17 12.8\n",
      " 14.38 13.75 14.7  12.49 14.07 10.91 13.12 10.28  8.7  14.67 15.01 22.9\n",
      "  7.62 13.53 12.85 16.24 19.97 14.47 14.98 19.22 20.5  15.61 23.4  17.57\n",
      " 16.99 23.7  22.4  25.89 25.8  24.08 24.99 26.06 25.99 25.57 24.5  25.83\n",
      " 17.76 15.1  17.1  21.7  19.52 19.2  18.55 23.1  21.    6.97  8.6  13.68\n",
      " 16.78 11.55 22.2  18.85  9.71 14.33 15.22 22.7  13.05 23.5  21.6  12.35\n",
      " 20.8  24.89 21.15 20.31 25.28 17.77 19.05 10.16 19.72 23.28 15.8  18.75\n",
      " 23.76 20.49 23.83 24.7  23.63 21.98 22.95 22.47 21.49 24.83 21.97 15.81\n",
      " 22.45 22.78 23.33 19.99 24.2  24.76 24.33 23.26 24.52 14.28 12.39 13.66\n",
      " 15.59 14.31 11.44 17.86 14.99 10.49  9.49 22.99  8.19 21.99  8.67 19.24\n",
      " 23.99  6.49 22.15  7.69 18.24 11.67  8.39 10.15 14.49  9.17 23.43 13.65\n",
      " 14.64 21.18 18.92 14.16 17.97  5.32 19.89 15.77 14.85 13.44  9.8  12.88\n",
      " 24.24 19.48 26.99 27.49 27.99 28.49 25.09 28.99  7.89 16.55  7.26 14.48\n",
      " 13.18 15.41  6.89 12.59  6.24 18.2  27.88 27.31 26.77 12.05  8.18 16.9\n",
      " 13.33 11.53 19.19 25.78  5.93  6.68 11.47  9.16 19.53  7.39  9.75 20.75\n",
      " 28.34 26.57 28.14 28.67 25.88 27.34 15.29 14.77 22.39 24.49 12.79 27.79\n",
      "  7.99 26.49 28.18 25.29 25.69  7.59  8.99 28.88 29.67 29.96 30.99 23.32\n",
      " 25.11 26.14 25.44 25.65 28.69 12.74  7.24  8.24 25.49 11.39 26.24 29.99\n",
      " 24.74 30.89 29.49 30.84 30.79 30.74 30.49 30.94  7.07  7.97  7.35 24.85\n",
      " 14.08  9.93 30.65 21.45  9.44 18.06 10.42 13.59  7.21 20.   17.09 26.3\n",
      " 25.82 23.88 22.91 29.69 30.75 30.17 28.72  6.08  6.72  7.34 15.04 11.98\n",
      " 17.47  7.96 13.58 18.45 10.41  6.07 25.81 21.85 10.9   9.92  9.43  6.71\n",
      " 23.87  5.31 20.39 24.84]\n",
      "revol_util 1336 [ 83.7   9.4  98.5 ... 123.5 125.  120.9]\n",
      "loan_amnt 1526 [ 5000.  2500.  2400. ... 36375. 38050. 35725.]\n",
      "earliest_cr_line 2711 [ 9830.  4627.  3682. ... 21366. 20729. 18111.]\n"
     ]
    },
    {
     "name": "stdout",
     "output_type": "stream",
     "text": [
      "dti 5648 [27.65  1.    8.72 ... 98.8  69.62 65.24]\n",
      "annual_inc 53722 [ 24000.    30000.    12252.   ...  52979.94 162537.    89625.39]\n",
      "revol_bal 75740 [ 13648.   1687.   2956. ...  61950.  61356. 141952.]\n",
      "installment 76852 [ 162.87   59.83   84.33 ...  162.95  605.   1142.33]\n",
      "total_pymnt 968429 [ 5863.1551867   1014.53        3005.66684414 ...  7428.09944457\n",
      " 12483.1542331  14662.94701135]\n"
     ]
    }
   ],
   "source": [
    "n_options = {}\n",
    "for column in reduced_df.columns:\n",
    "    n_options[column] = len(reduced_df[column].unique())\n",
    "#n_options\n",
    "order_n_options=sorted(n_options, key=lambda dict_key: n_options[dict_key])\n",
    "\n",
    "for i in order_n_options[0:50]:\n",
    "    print(i, n_options[i],reduced_df[i].unique())"
   ]
  },
  {
   "cell_type": "markdown",
   "metadata": {},
   "source": [
    "Based on these results, we will have to encode several data as dummy variables:\n",
    "\n",
    "- application_type\n",
    "- term\n",
    "- verification_status\n",
    "- home_ownership\n",
    "- purpose\n"
   ]
  },
  {
   "cell_type": "code",
   "execution_count": 24,
   "metadata": {},
   "outputs": [
    {
     "name": "stdout",
     "output_type": "stream",
     "text": [
      "{'purpose_credit_card', 'purpose_major_purchase', 'term_ 60 months', 'purpose_home_improvement', 'home_ownership_MORTGAGE', 'application_type_Joint App', 'purpose_medical', 'purpose_moving', 'verification_status_Verified', 'purpose_educational', 'purpose_other', 'home_ownership_NONE', 'purpose_house', 'loan_status_Fully Paid', 'home_ownership_RENT', 'verification_status_Source Verified', 'purpose_debt_consolidation', 'purpose_vacation', 'home_ownership_OWN', 'purpose_wedding', 'home_ownership_OTHER', 'purpose_small_business', 'purpose_renewable_energy'}\n",
      "(1020552, 44)\n"
     ]
    }
   ],
   "source": [
    "seta=set(reduced_df.columns)\n",
    "\n",
    "reduced_df=pd.get_dummies(data=reduced_df,columns=['pymnt_plan','loan_status','application_type','term',\n",
    "                                                   'verification_status',\n",
    "                                                   'home_ownership','purpose'],\n",
    "                          drop_first=True)\n",
    "\n",
    "\n",
    "setb=set(reduced_df.columns)\n",
    "print(setb-seta)\n",
    "print(reduced_df.shape)"
   ]
  },
  {
   "cell_type": "markdown",
   "metadata": {},
   "source": [
    "# How to treat NaN?"
   ]
  },
  {
   "cell_type": "markdown",
   "metadata": {},
   "source": [
    "For now, let's remove majority NaN columns..."
   ]
  },
  {
   "cell_type": "code",
   "execution_count": 77,
   "metadata": {},
   "outputs": [
    {
     "name": "stdout",
     "output_type": "stream",
     "text": [
      "0 mths_since_last_record 172185\n",
      "1 mths_since_last_major_derog 264308\n",
      "2 inq_fi 296093\n",
      "3 mths_since_last_delinq 503506\n",
      "4 emp_length 965386\n",
      "5 revol_util 1019945\n",
      "6 dti 1020435\n",
      "7 inq_last_6mths 1020551\n",
      "8 annual_inc 1020552\n",
      "9 delinq_2yrs 1020552\n",
      "10 earliest_cr_line 1020552\n",
      "11 grade 1020552\n",
      "12 installment 1020552\n",
      "13 int_rate 1020552\n",
      "14 loan_amnt 1020552\n",
      "15 open_acc 1020552\n",
      "16 pub_rec 1020552\n",
      "17 revol_bal 1020552\n",
      "18 total_acc 1020552\n",
      "19 total_pymnt 1020552\n",
      "20 fico_est 1020552\n",
      "21 loan_status_Fully Paid 1020552\n",
      "22 application_type_Joint App 1020552\n",
      "23 term_ 60 months 1020552\n",
      "24 verification_status_Source Verified 1020552\n"
     ]
    }
   ],
   "source": [
    "has_data = {}\n",
    "for column in reduced_df.columns:\n",
    "    has_data[column] = len(reduced_df[column].dropna())\n",
    "has_data\n",
    "\n",
    "order_has_data=sorted(has_data, key=lambda dict_key: has_data[dict_key])\n",
    "\n",
    "top_sparse=25\n",
    "for i,j in zip(range(top_sparse),order_has_data[0:top_sparse]):\n",
    "    print(i,j, has_data[j])"
   ]
  },
  {
   "cell_type": "code",
   "execution_count": 79,
   "metadata": {},
   "outputs": [
    {
     "name": "stdout",
     "output_type": "stream",
     "text": [
      "(1020552, 44)\n",
      "14988 1020552\n"
     ]
    }
   ],
   "source": [
    "nonnan_df=reduced_df.fillna(0)\n",
    "#nonnan_df=reduced_df.drop(columns=order_has_data[0:4])\n",
    "print(nonnan_df.shape)\n",
    "print(len(reduced_df.dropna()),len(nonnan_df.dropna()))"
   ]
  },
  {
   "cell_type": "code",
   "execution_count": 80,
   "metadata": {},
   "outputs": [
    {
     "name": "stdout",
     "output_type": "stream",
     "text": [
      "(1020552, 44)\n",
      "loan_status_Fully Paid 2 [1 0]\n",
      "application_type_Joint App 2 [0 1]\n",
      "term_ 60 months 2 [0 1]\n",
      "verification_status_Source Verified 2 [0 1]\n",
      "verification_status_Verified 2 [1 0]\n",
      "home_ownership_MORTGAGE 2 [0 1]\n",
      "home_ownership_NONE 2 [0 1]\n",
      "home_ownership_OTHER 2 [0 1]\n",
      "home_ownership_OWN 2 [0 1]\n",
      "home_ownership_RENT 2 [1 0]\n",
      "purpose_credit_card 2 [1 0]\n",
      "purpose_debt_consolidation 2 [0 1]\n",
      "purpose_educational 2 [0 1]\n",
      "purpose_home_improvement 2 [0 1]\n",
      "purpose_house 2 [0 1]\n",
      "purpose_major_purchase 2 [0 1]\n",
      "purpose_medical 2 [0 1]\n",
      "purpose_moving 2 [0 1]\n",
      "purpose_other 2 [0 1]\n",
      "purpose_renewable_energy 2 [0 1]\n",
      "purpose_small_business 2 [0 1]\n",
      "purpose_vacation 2 [0 1]\n",
      "purpose_wedding 2 [0 1]\n",
      "grade 7 [2 3 1 5 6 4 7]\n",
      "inq_last_6mths 9 [1. 5. 2. 0. 3. 4. 6. 7. 8.]\n",
      "emp_length 11 [10.  0.  1.  3.  8.  9.  4.  5.  6.  2.  7.]\n",
      "inq_fi 29 [ 0.  2.  1.  5.  3.  4.  6. 16.  7.  9. 10. 11. 13. 17.  8. 12. 14. 15.\n",
      " 24. 20. 21. 18. 19. 23. 28. 22. 25. 27. 32.]\n",
      "delinq_2yrs 30 [ 0.  2.  3.  1.  4.  6.  5.  8.  7.  9. 11. 15. 13. 10. 12. 17. 18. 29.\n",
      " 24. 14. 21. 22. 19. 16. 30. 26. 20. 27. 39. 25.]\n",
      "pub_rec 34 [ 0.  1.  2.  3.  4.  5.  6.  9.  8.  7. 11. 49. 10. 54. 12. 18. 19. 16.\n",
      " 15. 40. 63. 13. 21. 34. 17. 20. 86. 14. 46. 47. 24. 25. 28. 22.]\n",
      "fico_est 40 [737.  742.  692.  697.  732.  662.  677.  727.  712.  707.  722.  667.\n",
      " 672.  762.  687.  757.  682.  702.  792.  752.  717.  767.  747.  772.\n",
      " 782.  777.  797.  812.  802.  817.  787.  807.  827.  822.  632.  627.\n",
      " 832.  842.  847.5 837. ]\n",
      "open_acc 82 [ 3.  2. 10. 15.  9.  7.  4. 11. 14. 12. 20.  8.  6. 17.  5. 13. 16. 30.\n",
      " 21. 18. 19. 27. 23. 34. 25. 22. 24. 26. 32. 28. 29. 33. 31. 39. 35. 36.\n",
      " 38. 44. 41. 42. 40.  1. 37. 45. 49. 53. 51. 43.  0. 62. 46. 48. 50. 52.\n",
      " 54. 47. 76. 58. 55. 84. 75. 61. 67. 57. 68. 70. 60. 56. 64. 79. 59. 74.\n",
      " 90. 65. 77. 81. 71. 63. 80. 72. 86. 66.]\n",
      "mths_since_last_record 124 [  0. 113. 105.  97.  33.  93.  52.  85.  90.  91. 114.  92. 117.  87.\n",
      "  45.  83. 118.  38. 101. 100. 112. 110.  88.  79.  77. 107. 102.  98.\n",
      "  95. 103.  96. 116. 111.  89. 108.  29. 106. 115.  53.  86.  57.  63.\n",
      "  94. 109.  99. 104.  76.  61.  28.  23.  75.  47.  82.  21.  62.  44.\n",
      "  80.  67. 119.  42.  34.  66.  58.  22.  56.  72.  64.  50.  69.  49.\n",
      "  74.  35.  12.  26.  78.  54.  37.  73.  11.  31.  59.  32.  81.  68.\n",
      "  55.  39.  51.  70.  30.  41.  71.  40.  43.  27.  65.  46.  19.  17.\n",
      "  25.  13.  48.  36.   7.  60.  14.   6.  18.  20. 120. 129.   5.  24.\n",
      "  84.  15.  10.  16.   8.   9.   3. 121.   4.   1.   2. 123.]\n",
      "total_acc 137 [  9.   4.  10.  37.  38.  12.  11.  13.   3.  23.  34.  29.  28.  42.\n",
      "  14.  22.  21.  17.   7.  31.  44.  26.  16.   6.  18.  27.  24.  25.\n",
      "  40.  35.   8.  20.  15.  19.  36.  51.  32.  30.  33.  46.   5.  61.\n",
      "  56.  50.  41.  39.  79.  62.  43.  47.  53.  45.  60.  55.  52.  58.\n",
      "  54.  57.  49.  63.  48.  59.  77.  87.  75.  72.  64.  67.  78.  76.\n",
      "  74.  66.  81.  90.  80.  71.  69.  73.  70.  68.  65.   2. 105.  83.\n",
      "  84.  98.  88.  82.  91.  99.  86.  93.  92.  96. 101. 150.  95.  85.\n",
      "  89. 156. 106.  97. 119. 124. 100.  94. 121. 102. 117. 116. 118. 111.\n",
      " 112. 125. 110. 135. 104. 151. 130. 107. 113. 169. 129. 126. 137. 103.\n",
      " 109. 138. 162. 114. 108. 176. 115. 133. 120. 144. 122.]\n",
      "mths_since_last_delinq 157 [  0.  35.  38.  61.   8.  20.  18.  68.  45.  48.  41.  40.  74.  25.\n",
      "  53.  39.  10.  26.  56.  77.  28.  52.  24.  16.  60.  54.  23.   9.\n",
      "  11.  13.  65.  19.  80.  22.  59.  79.  44.  64.  57.  14.  63.  49.\n",
      "  15.  73.  70.  29.  51.   5.  75.  55.   2.  30.  47.  33.  69.   4.\n",
      "  43.  21.  27.  46.  81.  78.  82.  31.  76.  62.  72.  42.  50.   3.\n",
      "  12.  67.  36.  34.  58.  17.  71.  66.  32.   6.  37.   7.   1.  83.\n",
      "  86. 115.  96. 103. 120. 106.  89. 107.  85.  97.  95. 110.  84. 135.\n",
      "  88.  87. 122.  91. 146. 134. 114.  99.  93. 127. 101.  94. 102. 129.\n",
      " 113. 139. 131. 156. 143. 109. 119. 149. 118. 130. 148. 126.  90. 141.\n",
      " 116. 100. 152.  98.  92. 108. 133. 104. 111. 105. 170. 124. 136. 180.\n",
      " 188. 140. 151. 159. 112. 171. 142. 125. 117. 123. 176. 137. 121. 158.\n",
      " 192. 132. 160.]\n",
      "mths_since_last_major_derog 165 [  0.  53.  34.  69.  71.  54.   7.  16.  33.  45.  59.  11.   8.  56.\n",
      "  50.  32.  76.  70.  39.  49.  64.  62.  74.  52.  46.  60.  51.  77.\n",
      "  27.  72.  22.  48.  58.  10.  73.  23.  61.  35.  57.  40.  18.  25.\n",
      "  63.  21.  47.  41.  80.  68.  44.  31.  28.  65.  30.  13.  15.  75.\n",
      "  26.  67.  12.  81.   5.  14.   6.  19.  43.  29.  42.  37.  38.  17.\n",
      "   4.  24.   9.  79.  66.  20.  36. 110.   1.  84.  78.  55.   2.   3.\n",
      "  82. 135. 152.  92. 115.  88.  95. 100. 123. 106.  83. 102.  94.  87.\n",
      "  85. 122.  89. 109.  86.  91. 146. 134. 114.  99.  97.  93.  96.  90.\n",
      " 165. 127. 119. 101. 124. 129. 113. 120. 139. 131. 112. 156. 143. 149.\n",
      " 118. 130. 104. 111. 148. 126. 141. 116. 133. 108.  98. 107. 147. 121.\n",
      " 154. 105. 103. 162. 140. 170. 136. 180. 188. 151. 159. 137. 117. 171.\n",
      " 142. 125. 132. 153. 145. 176. 150. 158. 197. 192. 160.]\n",
      "int_rate 616 [10.65 15.27 15.96 13.49 12.69  7.9  18.64 21.28 14.65  9.91 16.29  6.03\n",
      " 11.71 12.42 14.27 16.77  7.51  8.9  18.25  6.62 19.91 17.27 17.58 21.67\n",
      " 19.42 22.06 20.89 20.3  23.91 19.03 23.52 23.13 22.74 22.35 24.11  6.\n",
      " 22.11  7.49 11.99  5.99 10.99  9.99 18.79 11.49  8.49 15.99 16.49  6.99\n",
      " 12.99 15.23 14.79  5.42 10.59 17.49 15.62 21.36 19.29 13.99 18.39 16.89\n",
      " 17.99 20.62 20.99 22.85 19.69 20.25 23.22 21.74 22.48 23.59 12.62 18.07\n",
      " 11.63  7.91  7.42 11.14 20.2  12.12 19.39 16.11 17.54 22.64 13.84 16.59\n",
      " 17.19 12.87 20.69  9.67 21.82 19.79 18.49 22.94 24.59 24.4  21.48 14.82\n",
      " 14.17  7.29 17.88 20.11 16.02 17.51 13.43 14.91 13.06 15.28 15.65 17.14\n",
      " 11.11 10.37 16.4   7.66 10.   18.62 10.74  5.79  6.92  9.63 14.54 12.68\n",
      " 19.36 13.8  18.99 21.59 20.85 21.22 19.74 20.48  6.91 12.23 12.61 10.36\n",
      "  6.17  6.54  9.25 16.69 15.95  8.88 13.35  9.62 16.32 12.98 14.83 13.72\n",
      " 14.09 14.46 20.03 17.8  15.2  15.57 18.54 19.66 17.06 18.17 17.43 20.4\n",
      " 20.77 18.91 21.14 17.44 13.23  7.88 11.12 13.61 10.38 17.56 17.93 15.58\n",
      " 13.98 14.84 15.21  6.76  6.39 11.86  7.14 14.35 16.82 10.75 14.72 16.45\n",
      " 18.67 20.53 19.41 20.16 21.27 18.3  19.04 20.9  21.64 12.73 10.25 13.11\n",
      " 10.62 13.48 14.59 16.07 15.7   9.88 11.36 15.33 13.85 14.96 14.22  7.74\n",
      " 13.22 13.57  8.59 17.04 14.61  8.94 12.18 11.83 11.48 16.35 13.92 15.31\n",
      " 14.26 19.13 12.53 16.7  16.   17.39 18.09  7.4  18.43 17.74  7.05 20.52\n",
      " 20.86 19.47 18.78 21.21 19.82 20.17 13.16  8.   13.47 12.21 16.63  9.32\n",
      " 12.84 11.26 15.68 15.37 10.95 11.89 14.11 13.79  7.68 11.58  7.37 16.95\n",
      " 15.05 18.53 14.74 14.42 18.21 17.26 18.84 17.9  19.16 13.67  9.38 12.72\n",
      " 13.36 11.46 10.51  9.07 13.04 11.78 12.41 10.83 12.09 17.46 14.3  17.15\n",
      " 15.25 10.2  15.88 14.93 16.2  18.72 14.62  8.32 14.12 10.96 10.33 10.01\n",
      " 12.86 11.28 11.59  8.63 12.54 12.22 11.91 15.38 16.96 13.17  9.7  16.33\n",
      " 14.75 15.07 16.01 10.71 10.64  9.76 11.34 10.39 13.87 11.03 11.66 13.24\n",
      " 10.08  9.45 13.55 12.29 11.97 12.92 15.45 14.5  14.18 15.13 16.08 15.76\n",
      " 17.03 17.34 16.71  9.83 13.62 10.46  9.51  9.2  13.3  10.78  7.75  8.38\n",
      " 12.36 12.67 11.72 13.93  8.07  7.43 12.04 14.25 14.88 11.41 11.09 10.14\n",
      " 16.15 15.83  7.12 18.36  9.64  9.96 11.22  9.01  9.33 11.54 12.17 12.8\n",
      " 14.38 13.75 14.7  12.49 14.07 10.91 13.12 10.28  8.7  14.67 15.01 22.9\n",
      "  7.62 13.53 12.85 16.24 19.97 14.47 14.98 19.22 20.5  15.61 23.4  17.57\n",
      " 16.99 23.7  22.4  25.89 25.8  24.08 24.99 26.06 25.99 25.57 24.5  25.83\n",
      " 17.76 15.1  17.1  21.7  19.52 19.2  18.55 23.1  21.    6.97  8.6  13.68\n",
      " 16.78 11.55 22.2  18.85  9.71 14.33 15.22 22.7  13.05 23.5  21.6  12.35\n",
      " 20.8  24.89 21.15 20.31 25.28 17.77 19.05 10.16 19.72 23.28 15.8  18.75\n",
      " 23.76 20.49 23.83 24.7  23.63 21.98 22.95 22.47 21.49 24.83 21.97 15.81\n",
      " 22.45 22.78 23.33 19.99 24.2  24.76 24.33 23.26 24.52 14.28 12.39 13.66\n",
      " 15.59 14.31 11.44 17.86 14.99 10.49  9.49 22.99  8.19 21.99  8.67 19.24\n",
      " 23.99  6.49 22.15  7.69 18.24 11.67  8.39 10.15 14.49  9.17 23.43 13.65\n",
      " 14.64 21.18 18.92 14.16 17.97  5.32 19.89 15.77 14.85 13.44  9.8  12.88\n",
      " 24.24 19.48 26.99 27.49 27.99 28.49 25.09 28.99  7.89 16.55  7.26 14.48\n",
      " 13.18 15.41  6.89 12.59  6.24 18.2  27.88 27.31 26.77 12.05  8.18 16.9\n",
      " 13.33 11.53 19.19 25.78  5.93  6.68 11.47  9.16 19.53  7.39  9.75 20.75\n",
      " 28.34 26.57 28.14 28.67 25.88 27.34 15.29 14.77 22.39 24.49 12.79 27.79\n",
      "  7.99 26.49 28.18 25.29 25.69  7.59  8.99 28.88 29.67 29.96 30.99 23.32\n",
      " 25.11 26.14 25.44 25.65 28.69 12.74  7.24  8.24 25.49 11.39 26.24 29.99\n",
      " 24.74 30.89 29.49 30.84 30.79 30.74 30.49 30.94  7.07  7.97  7.35 24.85\n",
      " 14.08  9.93 30.65 21.45  9.44 18.06 10.42 13.59  7.21 20.   17.09 26.3\n",
      " 25.82 23.88 22.91 29.69 30.75 30.17 28.72  6.08  6.72  7.34 15.04 11.98\n",
      " 17.47  7.96 13.58 18.45 10.41  6.07 25.81 21.85 10.9   9.92  9.43  6.71\n",
      " 23.87  5.31 20.39 24.84]\n",
      "revol_util 1335 [ 83.7   9.4  98.5 ... 123.5 125.  120.9]\n",
      "loan_amnt 1526 [ 5000.  2500.  2400. ... 36375. 38050. 35725.]\n",
      "earliest_cr_line 2711 [ 9830.  4627.  3682. ... 21366. 20729. 18111.]\n",
      "dti 5647 [27.65  1.    8.72 ... 98.8  69.62 65.24]\n",
      "annual_inc 53722 [ 24000.    30000.    12252.   ...  52979.94 162537.    89625.39]\n",
      "revol_bal 75740 [ 13648.   1687.   2956. ...  61950.  61356. 141952.]\n",
      "installment 76852 [ 162.87   59.83   84.33 ...  162.95  605.   1142.33]\n"
     ]
    },
    {
     "name": "stdout",
     "output_type": "stream",
     "text": [
      "total_pymnt 968429 [ 5863.1551867   1014.53        3005.66684414 ...  7428.09944457\n",
      " 12483.1542331  14662.94701135]\n"
     ]
    }
   ],
   "source": [
    "nonnan_df=nonnan_df.dropna()\n",
    "print(nonnan_df.shape)\n",
    "\n",
    "n_options = {}\n",
    "for column in nonnan_df.columns:\n",
    "    n_options[column] = len(nonnan_df[column].unique())\n",
    "#n_options\n",
    "order_n_options=sorted(n_options, key=lambda dict_key: n_options[dict_key])\n",
    "\n",
    "for i in order_n_options[0:49]:\n",
    "    print(i, n_options[i],nonnan_df[i].unique())"
   ]
  },
  {
   "cell_type": "markdown",
   "metadata": {},
   "source": [
    "# What factors are correlated?"
   ]
  },
  {
   "cell_type": "code",
   "execution_count": 81,
   "metadata": {},
   "outputs": [
    {
     "name": "stdout",
     "output_type": "stream",
     "text": [
      "grade                            int64\n",
      "inq_last_6mths                 float64\n",
      "emp_length                     float64\n",
      "inq_fi                         float64\n",
      "delinq_2yrs                    float64\n",
      "pub_rec                        float64\n",
      "fico_est                       float64\n",
      "open_acc                       float64\n",
      "mths_since_last_record         float64\n",
      "total_acc                      float64\n",
      "mths_since_last_delinq         float64\n",
      "mths_since_last_major_derog    float64\n",
      "int_rate                       float64\n",
      "revol_util                     float64\n",
      "loan_amnt                      float64\n",
      "earliest_cr_line               float64\n",
      "dti                            float64\n",
      "annual_inc                     float64\n",
      "revol_bal                      float64\n",
      "installment                    float64\n",
      "total_pymnt                    float64\n",
      "dtype: object\n"
     ]
    }
   ],
   "source": [
    "#correlatable columns\n",
    "corr_columns = order_n_options[23:]\n",
    "print(nonnan_df[corr_columns].dtypes)"
   ]
  },
  {
   "cell_type": "code",
   "execution_count": 84,
   "metadata": {},
   "outputs": [
    {
     "name": "stdout",
     "output_type": "stream",
     "text": [
      "Factors with high correlation (> +/-0.7) are:\n",
      "\t 0 grade vs int_rate = 0.9536114143945985\n",
      "\t 1 int_rate vs grade = 0.9536114143945984\n",
      "\t 2 loan_amnt vs installment = 0.9534684520154317\n",
      "\t 3 loan_amnt vs total_pymnt = 0.846491557976213\n",
      "\t 4 installment vs loan_amnt = 0.9534684520154317\n",
      "\t 5 installment vs total_pymnt = 0.8106348318551941\n",
      "\t 6 total_pymnt vs loan_amnt = 0.846491557976213\n",
      "\t 7 total_pymnt vs installment = 0.8106348318551941\n"
     ]
    },
    {
     "data": {
      "image/png": "[encoded data removed]",
      "text/plain": [
       "<Figure size 936x720 with 2 Axes>"
      ]
     },
     "metadata": {},
     "output_type": "display_data"
    }
   ],
   "source": [
    "corr_df=nonnan_df[corr_columns]\n",
    "\n",
    "matrix=np.corrcoef(corr_df,rowvar=False)-np.eye(len(corr_df.columns))\n",
    "\n",
    "\n",
    "i,j=np.nonzero(abs(matrix) > 0.7)\n",
    "print(\"Factors with high correlation (> +/-0.7) are:\")\n",
    "for k in range(len(i)):\n",
    "    print(\"\\t\",k,corr_df.columns[i[k]],\"vs\",corr_df.columns[j[k]],\"=\",matrix[i[k]][j[k]])\n",
    "    \n",
    "\n",
    "# cube each value to highlight higher correlation elements\n",
    "matrix=abs(matrix**3)\n",
    "plt.figure(figsize=(13,10))\n",
    "plt.pcolor(matrix,cmap='brg')\n",
    "\n",
    "plt.xticks(range(len(corr_df.columns)), corr_df.columns,rotation='vertical')\n",
    "plt.yticks(range(len(corr_df.columns)), corr_df.columns)\n",
    "plt.colorbar(cmap='brg')\n",
    "plt.show()"
   ]
  },
  {
   "cell_type": "markdown",
   "metadata": {},
   "source": [
    "## Removing redundancy\n",
    "We see that some of the factors in this dataset are two ways of measuring the same thing. For example, interest rates (`int_rate`) and the grading of the loan (`grade`) two ways of saying the same thing. A lower grade of loan indicates higher risk and higher risk is offset with a higher interest rate. Indeed, we see a large amount of correlation between the two fields.\n",
    "\n",
    "As another example, we can see the percentage of bankcard accounts > 75% of the limit (`percent_bc_gt_75`) is highly correlated with the utilization of bank cards(`revol_bal`). Both of these are similar to the maximum amount of credit utilization (`total_rev_hi_lim`).\n",
    "\n",
    "For this reason we need to select variables with high correlation and choose the variables that will have the biggest impact on our model. I have created the following groups that will need to be consolidated.\n",
    "\n",
    "## High-Magnitude Factors\n",
    "The following code regularizes the data and then looks for the regressor that, when considered independently has the higest impact on the model."
   ]
  },
  {
   "cell_type": "code",
   "execution_count": null,
   "metadata": {},
   "outputs": [],
   "source": [
    "# Create standardized dataframe\n",
    "std_df = nonnan_df.copy()\n",
    "std_df.drop(columns=['out_prncp', 'out_prncp_inv'],inplace=True) # Drop because there is no variation in these columns\n",
    "y=nonnan_df['total_pymnt']/nonnan_df['loan_amnt']\n",
    "for col in std_df.columns:\n",
    "    std_df[col] = (std_df[col] - std_df[col].min()) / (std_df[col].max() - std_df[col].min())\n",
    "x_full=std_df.drop(columns=['loan_amnt','loan_amnt'])\n",
    "# Revolving debt maximum related variables\n",
    "revolving = [\n",
    "    'bc_open_to_buy',\n",
    "    'num_rev_accts',\n",
    "    'num_rev_tl_bal_gt_0',\n",
    "    'revol_bal',\n",
    "    'revol_util',\n",
    "    'total_rev_hi_lim',\n",
    "    'tot_hi_cred_lim',\n",
    "    'num_il_tl',\n",
    "    'open_acc',\n",
    "    'num_bc_tl'\n",
    "]\n",
    "\n",
    "test_df = pd.DataFrame(columns=['Predictor','ABS Coef','R2'])\n",
    "for col in revolving:\n",
    "    cols_to_drop = revolving.copy()\n",
    "    cols_to_drop.remove(col)\n",
    "    x=x_full.drop(columns=cols_to_drop)\n",
    "    test_reg = LinearRegression().fit(x,y)\n",
    "    test_coef = test_reg.coef_[list(x.columns).index(col)]\n",
    "    test_score = test_reg.score(x,y)\n",
    "    test_df = test_df.append({\n",
    "        'Predictor':col,\n",
    "        'ABS Coef':abs(test_coef),\n",
    "        'R2':test_score\n",
    "    },ignore_index=True)\n",
    "test_df"
   ]
  },
  {
   "cell_type": "markdown",
   "metadata": {},
   "source": [
    "By far, total Revolving Debt limit has the biggest impact in terms of magnitude. We should keep this as the one regressor to represent revolving debt. This will help us to eliminate multicolinearity. Let's explore the impact this has on our correlation matrix\n",
    "\n",
    "Note:\n",
    "I did not perform the same analysis for the grade and interest rate. The loans are structured so that the grade determines the range of interest rates. The steps within the grade specifically determine the interest rate. Therefore, the grade the step and the rate all give the same information, but the rate gives the specific detail.\n",
    "\n",
    "Note: In the new dataset, I replace the payment amount with the percentage of income that is dedicated to the payment. We can have all the factors to calculate loan amount (term, rate, and original balance) as individual regressors. Replacing it will still capture a critical element of the loan amount while removing multicolinearity."
   ]
  },
  {
   "cell_type": "code",
   "execution_count": null,
   "metadata": {},
   "outputs": [],
   "source": [
    "reduc_corr_columns = corr_columns.copy()\n",
    "\n",
    "#reduc_corr_columns[]\n",
    "to_remove = revolving.copy()\n",
    "to_remove += ['grade'] # Extra code to drop grade\n",
    "\n",
    "to_remove.remove('total_rev_hi_lim')\n",
    "for x in to_remove:\n",
    "    reduc_corr_columns.remove(x)\n",
    "\n",
    "corr_df=nonnan_df[reduc_corr_columns]\n",
    "\n",
    "matrix=np.corrcoef(corr_df,rowvar=False)-np.eye(len(corr_df.columns))\n",
    "\n",
    "\n",
    "i,j=np.nonzero(abs(matrix) > 0.7)\n",
    "print(\"Factors with high correlation (> +/-0.7) are:\")\n",
    "for k in range(len(i)):\n",
    "    print(\"\\t\",k,corr_df.columns[i[k]],\"vs\",corr_df.columns[j[k]],\"=\",matrix[i[k]][j[k]])\n",
    "    \n",
    "\n",
    "# cube each value to highlight higher correlation elements\n",
    "matrix=abs(matrix**3)\n",
    "plt.figure(figsize=(13,10))\n",
    "plt.pcolor(matrix,cmap='brg')\n",
    "\n",
    "plt.xticks(range(len(corr_df.columns)), corr_df.columns,rotation='vertical')\n",
    "plt.yticks(range(len(corr_df.columns)), corr_df.columns)\n",
    "plt.colorbar(cmap='brg')\n",
    "plt.show()"
   ]
  },
  {
   "cell_type": "markdown",
   "metadata": {},
   "source": [
    "Notes:\n",
    "- We still see some multicolinearity with the loan payment section. I plan to address additional factors in the factoring for income section.\n",
    "- Total payments is one of the planned Y variables. For instances where it has high correlation, we expect to see strong relationships.\n"
   ]
  },
  {
   "cell_type": "markdown",
   "metadata": {},
   "source": [
    "# Factoring for income\n",
    "The correlation matrix emphasizes some factors in the data are highly correlated. In some instances, this correlation may be due to the fact that the predictors are dependent on other predictors. For example, we can consider three predictors in concert: the income, the loan repayment and the interest rate assigned by Lending Club. We are assuming that a higher amount of risk is related to a higher interest rate. That is to say, Lending Club assesses that loans are riskier based on loan to income ratio."
   ]
  },
  {
   "cell_type": "code",
   "execution_count": null,
   "metadata": {},
   "outputs": [],
   "source": [
    "# Shows the relationship between loan repayment and income:\n",
    "features = ['annual_inc','installment','int_rate']"
   ]
  },
  {
   "cell_type": "code",
   "execution_count": null,
   "metadata": {},
   "outputs": [],
   "source": [
    "# Large outliers make the trend difficult to understand so I'm making a trimmed df\n",
    "temp_df = nonnan_df[nonnan_df['annual_inc']<150000][['installment','annual_inc']]\n",
    "x = temp_df['annual_inc']\n",
    "y = temp_df['installment']\n",
    "plt.figure(figsize=(12,12))\n",
    "plt.hexbin(x,y,gridsize =40)\n",
    "plt.xlabel('Annual Income ($)')\n",
    "plt.ylabel('Loan Installment Amount ($)')\n",
    "plt.title('Income vs. Payment')\n",
    "plt.show()"
   ]
  },
  {
   "cell_type": "markdown",
   "metadata": {},
   "source": [
    "While it looks like income and loan amount are both approximately normally distributed, we see that there is a clear fan pattern here. No monthly loan payment is larger than approximately 1% of annual income. We may be able to keep valuable information from both datasets and reduce multicolinearity by considering not the individuals variables, but the relationships between them."
   ]
  },
  {
   "cell_type": "code",
   "execution_count": null,
   "metadata": {},
   "outputs": [],
   "source": [
    "nonnan_df['percent_of_income'] = nonnan_df['installment']*12/nonnan_df['annual_inc']\n",
    "nonnan_df['percent_of_income'].describe()"
   ]
  },
  {
   "cell_type": "markdown",
   "metadata": {},
   "source": [
    "Because we see some odd cases, I looked up an extreme and found that we see odd values when considering joint incomes. These instances are rare (fewer than 40 cases where total payments are greater than total income). This loan was funded as a joint application. As a result we are going to have to throw out any data about joint applications as it only represents 8000 cases, but creates significant leverage points."
   ]
  },
  {
   "cell_type": "code",
   "execution_count": null,
   "metadata": {},
   "outputs": [],
   "source": [
    "# Testing an extreme example from the\n",
    "df.iloc[1542746]"
   ]
  },
  {
   "cell_type": "code",
   "execution_count": null,
   "metadata": {},
   "outputs": [],
   "source": [
    "nonnan_df = nonnan_df[nonnan_df['application_type_Joint App']==0]"
   ]
  },
  {
   "cell_type": "code",
   "execution_count": 86,
   "metadata": {},
   "outputs": [],
   "source": [
    "# Additional factors to remove\n",
    "to_remove=[]\n",
    "if 'installment' not in to_remove:\n",
    "    #to_remove += ['installment']\n",
    "    to_remove += ['total_pymnt','loan_amnt','grade','loan_status_Fully Paid']\n",
    "features = list(set(nonnan_df.columns) - set(to_remove))"
   ]
  },
  {
   "cell_type": "markdown",
   "metadata": {},
   "source": [
    "# Let's work with training and test sets"
   ]
  },
  {
   "cell_type": "code",
   "execution_count": 101,
   "metadata": {},
   "outputs": [
    {
     "name": "stdout",
     "output_type": "stream",
     "text": [
      "(1873317, 152) (1020552, 44)\n",
      "['purpose_credit_card', 'purpose_major_purchase', 'int_rate', 'inq_last_6mths', 'installment', 'term_ 60 months', 'purpose_home_improvement', 'total_acc', 'annual_inc', 'application_type_Joint App', 'home_ownership_MORTGAGE', 'purpose_medical', 'verification_status_Verified', 'purpose_moving', 'revol_util', 'revol_bal', 'purpose_educational', 'purpose_small_business', 'dti', 'inq_fi', 'delinq_2yrs', 'emp_length', 'purpose_other', 'mths_since_last_major_derog', 'open_acc', 'mths_since_last_record', 'home_ownership_NONE', 'purpose_house', 'home_ownership_RENT', 'verification_status_Source Verified', 'purpose_debt_consolidation', 'purpose_vacation', 'fico_est', 'mths_since_last_delinq', 'home_ownership_OWN', 'purpose_wedding', 'pub_rec', 'home_ownership_OTHER', 'earliest_cr_line', 'purpose_renewable_energy']\n",
      "Index(['purpose_credit_card', 'purpose_major_purchase', 'int_rate',\n",
      "       'inq_last_6mths', 'installment', 'term_ 60 months',\n",
      "       'purpose_home_improvement', 'total_acc', 'annual_inc',\n",
      "       'application_type_Joint App', 'home_ownership_MORTGAGE',\n",
      "       'purpose_medical', 'verification_status_Verified', 'purpose_moving',\n",
      "       'revol_util', 'revol_bal', 'purpose_educational',\n",
      "       'purpose_small_business', 'dti', 'inq_fi', 'delinq_2yrs', 'emp_length',\n",
      "       'purpose_other', 'mths_since_last_major_derog', 'open_acc',\n",
      "       'mths_since_last_record', 'home_ownership_NONE', 'purpose_house',\n",
      "       'home_ownership_RENT', 'verification_status_Source Verified',\n",
      "       'purpose_debt_consolidation', 'purpose_vacation', 'fico_est',\n",
      "       'mths_since_last_delinq', 'home_ownership_OWN', 'purpose_wedding',\n",
      "       'pub_rec', 'home_ownership_OTHER', 'earliest_cr_line',\n",
      "       'purpose_renewable_energy'],\n",
      "      dtype='object')\n",
      "(653152, 40) (163289, 40) (204111, 40)\n"
     ]
    }
   ],
   "source": [
    "print(df.shape,nonnan_df.shape)\n",
    "\n",
    "# need to look at interest rate as well!!!\n",
    "#y=nonnan_df['total_pymnt']/(nonnan_df['installment']*36 + nonnan_df['installment']*nonnan_df['term_ 60 months']*24)\n",
    "y=nonnan_df['loan_status_Fully Paid']\n",
    "#y=nonnan_df['total_pymnt']/nonnan_df['loan_amnt']\n",
    "print(features)\n",
    "traintest_df=nonnan_df[features]\n",
    "print(traintest_df.columns)\n",
    "\n",
    "Xscaler = StandardScaler()\n",
    "Xscaler.fit_transform(traintest_df)\n",
    "\n",
    "X_traintune, X_test, y_traintune, y_test = train_test_split(\n",
    "    traintest_df,y,test_size=0.2)#,random_state=42)#,stratify=nonnan_df[['loan_status']])\n",
    "\n",
    "X_train, X_tune, y_train, y_tune = train_test_split(\n",
    "    X_traintune,y_traintune,test_size=0.2)#,random_state=42)#,stratify=nonnan_df[['loan_status']])\n",
    "\n",
    "print(X_train.shape,X_tune.shape,X_test.shape)"
   ]
  },
  {
   "cell_type": "code",
   "execution_count": 88,
   "metadata": {},
   "outputs": [
    {
     "name": "stdout",
     "output_type": "stream",
     "text": [
      "0.7955449599824409 0.40330303247902916\n"
     ]
    }
   ],
   "source": [
    "print(y.mean(),y.std())"
   ]
  },
  {
   "cell_type": "code",
   "execution_count": null,
   "metadata": {},
   "outputs": [],
   "source": [
    "# your code here\n",
    "\n",
    "pca = PCA(n_components=.95,svd_solver=\"full\")\n",
    "principalComponents = pca.fit(X_train)\n",
    "\n",
    "print(\"PCA used %d components to capture >95%% variance.\"% len(pca.components_))\n",
    "print(\"Total variance captured = %f.\" % pca.explained_variance_ratio_.sum())\n",
    "#print(principalComponents.components_)\n",
    "\n",
    "X_pca_train = pca.transform(X_train)\n",
    "X_pca_test = pca.transform(X_test)\n"
   ]
  },
  {
   "cell_type": "code",
   "execution_count": 102,
   "metadata": {},
   "outputs": [
    {
     "name": "stdout",
     "output_type": "stream",
     "text": [
      "DecisionTreeClassifier(class_weight=None, criterion='gini', max_depth=7,\n",
      "            max_features=None, max_leaf_nodes=None,\n",
      "            min_impurity_decrease=0.0, min_impurity_split=None,\n",
      "            min_samples_leaf=1, min_samples_split=2,\n",
      "            min_weight_fraction_leaf=0.0, presort=False, random_state=None,\n",
      "            splitter='best')\n",
      "\n",
      "Best decision tree score: 0.7976933393758268 occurs at depth: 7\n",
      "Decision Tree test prediction accuracy: 0.795675\n"
     ]
    }
   ],
   "source": [
    "# your code here\n",
    "#kfold=KFold(5, shuffle=True)\n",
    "\n",
    "parameters = {'max_depth':range(1,15)}\n",
    "clf = GridSearchCV(DecisionTreeClassifier(), parameters, n_jobs=4,cv=5)\n",
    "clf.fit(X=X_train, y=y_train)\n",
    "dtclf = clf.best_estimator_\n",
    "\n",
    "results=clf.cv_results_\n",
    "\n",
    "print(tree_model)\n",
    "\n",
    "print(\"\\nBest decision tree score: {} occurs at depth: {}\".format(\n",
    "    clf.best_score_, clf.best_params_['max_depth']))\n",
    "\n",
    "print(\"Decision Tree test prediction accuracy: %f\" % accuracy_score(dtclf.predict(X_test),y_test))"
   ]
  },
  {
   "cell_type": "code",
   "execution_count": 93,
   "metadata": {},
   "outputs": [
    {
     "name": "stdout",
     "output_type": "stream",
     "text": [
      "Random Forest training prediction accuracy: 0.795438\n",
      "Random Forest test prediction accuracy: 0.795974\n"
     ]
    }
   ],
   "source": [
    "# your code here\n",
    "rfclf = RandomForestClassifier(n_estimators=25,max_depth=10)\n",
    "rfclf.fit(X_train, y_train)\n",
    "\n",
    "print(\"Random Forest training prediction accuracy: %f\" % accuracy_score(rfclf.predict(X_train),y_train))\n",
    "\n",
    "print(\"Random Forest test prediction accuracy: %f\" % accuracy_score(rfclf.predict(X_test),y_test))"
   ]
  },
  {
   "cell_type": "code",
   "execution_count": 95,
   "metadata": {},
   "outputs": [
    {
     "data": {
      "text/plain": [
       "AdaBoostClassifier(algorithm='SAMME.R',\n",
       "          base_estimator=DecisionTreeClassifier(class_weight=None, criterion='gini', max_depth=3,\n",
       "            max_features=None, max_leaf_nodes=None,\n",
       "            min_impurity_decrease=0.0, min_impurity_split=None,\n",
       "            min_samples_leaf=1, min_samples_split=2,\n",
       "            min_weight_fraction_leaf=0.0, presort=False, random_state=None,\n",
       "            splitter='best'),\n",
       "          learning_rate=0.05, n_estimators=50, random_state=None)"
      ]
     },
     "execution_count": 95,
     "metadata": {},
     "output_type": "execute_result"
    }
   ],
   "source": [
    "# your code here\n",
    "basic=DecisionTreeClassifier(max_depth=3)\n",
    "abclf = AdaBoostClassifier(n_estimators=50,\n",
    "                         learning_rate=0.05,\n",
    "                         base_estimator=basic)\n",
    "# Train model\n",
    "abclf.fit(X_train, y_train)"
   ]
  },
  {
   "cell_type": "code",
   "execution_count": 96,
   "metadata": {},
   "outputs": [
    {
     "name": "stdout",
     "output_type": "stream",
     "text": [
      "Adaboost test prediction accuracy: 0.797311\n"
     ]
    }
   ],
   "source": [
    "print(\"Adaboost test prediction accuracy: %f\" % accuracy_score(abclf.predict(X_test),y_test))"
   ]
  },
  {
   "cell_type": "code",
   "execution_count": 94,
   "metadata": {},
   "outputs": [
    {
     "name": "stdout",
     "output_type": "stream",
     "text": [
      "Logistic model accuracy: 0.7962824149604872\n",
      "\n",
      "Logistic coefficients weights:\n",
      "purpose_credit_card purpose_major_purchase int_rate inq_last_6mths installment term_ 60 months purpose_home_improvement total_acc annual_inc application_type_Joint App home_ownership_MORTGAGE purpose_medical verification_status_Verified purpose_moving revol_util revol_bal purpose_educational purpose_small_business dti inq_fi delinq_2yrs emp_length purpose_other mths_since_last_major_derog open_acc mths_since_last_record home_ownership_NONE purpose_house home_ownership_RENT verification_status_Source Verified purpose_debt_consolidation purpose_vacation fico_est mths_since_last_delinq home_ownership_OWN purpose_wedding pub_rec home_ownership_OTHER earliest_cr_line purpose_renewable_energy\n",
      "0.0013600898228827599 -7.40140669717309e-05 -0.07584407884287264 -0.005695748368687748 -0.0004885864526639768 -0.007293815580224885 -4.021689028832225e-05 0.0071509993781865636 1.7525776335348655e-06 0.0002099796759348569 0.003118882091170028 -0.00012516080171790428 -0.0017060886151619476 -9.479886868780021e-05 -0.001360147080637869 4.2068163088875274e-06 -2.4983254327084133e-06 -0.00036765240477466674 -0.024776692895733695 -0.0035110941648664627 -0.0017341989680720816 0.00755467504829849 -0.0003135978145906202 -0.001383584418953495 -0.015372180169571403 -0.0010469547660483384 1.115785356427466e-06 -1.2922122499124682e-05 -0.0031076492779027565 -0.0017004683777320597 -0.0006574258086548938 -1.8820681759753902e-05 0.0042657099661477065 0.0006612405931690779 -0.00025554759722095835 4.0081704312408415e-05 -0.0005277379889055052 -1.6689491718677988e-06 1.2427113888002822e-06 -1.2101506802496476e-05\n"
     ]
    }
   ],
   "source": [
    "# your code here\n",
    "fitted_logreg = LogisticRegressionCV().fit(X_train, y_train)\n",
    "print(\"Logistic model accuracy: {}\".format(fitted_logreg.score(X_test, y_test)))\n",
    "                                           \n",
    "#print(\"\\nLogistic coefficients weights:\")\n",
    "#print(*X_train, sep=' ')\n",
    "#print(*fitted_logreg.coef_[0], sep=' ')\n"
   ]
  },
  {
   "cell_type": "code",
   "execution_count": 65,
   "metadata": {},
   "outputs": [
    {
     "name": "stdout",
     "output_type": "stream",
     "text": [
      "0.7691795518114681\n",
      "[-6.17784099e-03 -2.04445097e-02 -1.42777908e-02 -1.48564970e-03\n",
      " -1.35672911e-01 -1.87085977e-02  7.08825284e-04 -3.53424553e-08\n",
      " -4.41525897e-02  9.99856257e-02 -2.66682956e-02 -5.35790544e-03\n",
      " -2.38557861e-02  5.75824126e-04  5.15320246e-08  7.32739999e-04\n",
      " -3.73966901e-02 -1.86606205e-03 -1.96873482e-03  6.56516750e-04\n",
      " -1.33318395e-02 -1.59656313e-03  2.22763743e-01 -6.90043942e-03\n",
      "  7.78156282e-02 -1.95063621e-02 -1.02260326e-02 -1.46730307e-02\n",
      "  2.98008314e-04  8.27984695e-02  6.35827919e-02 -3.88383502e-03\n",
      "  1.25916934e-01  3.61043286e-07 -3.63684600e-02]\n",
      "The training set OLS regression R^2 score is: 0.196863\n",
      "The test set OLS regression R^2 score is: 0.212366\n"
     ]
    }
   ],
   "source": [
    "LCOLSModel = LinearRegression().fit(X_train, y_train)\n",
    "\n",
    "print(LCOLSModel.intercept_)\n",
    "print(LCOLSModel.coef_)\n",
    "\n",
    "# your code here\n",
    "trainR2 = r2_score(y_train,LCOLSModel.predict(X_train))\n",
    "\n",
    "testR2 = r2_score(y_test,LCOLSModel.predict(X_test))\n",
    "\n",
    "print(\"The training set OLS regression R^2 score is: %f\" % trainR2)\n",
    "print(\"The test set OLS regression R^2 score is: %f\" % testR2)"
   ]
  },
  {
   "cell_type": "code",
   "execution_count": 58,
   "metadata": {},
   "outputs": [
    {
     "name": "stdout",
     "output_type": "stream",
     "text": [
      "Best model searched:\n",
      "alpha = 0.005\n",
      "intercept = 0.4896490524484959\n",
      "betas = [-9.92683104e-04 -6.30684798e-03 -7.91581167e-03  3.17232674e-03\n",
      " -8.15363479e-02 -4.69949523e-03 -2.06627828e-04 -5.31838429e-08\n",
      " -7.71642231e-02  6.86748819e-02 -9.76371414e-03  5.20853991e-03\n",
      " -8.83148479e-03  5.44092491e-04 -1.05456773e-07  3.45977121e-02\n",
      "  9.92811968e-03 -1.58545582e-04  5.73050146e-04  4.22116694e-04\n",
      " -4.35037901e-03  4.28399859e-04  1.34734115e-01 -8.11627336e-03\n",
      "  5.00489679e-01  7.09062830e-02 -4.62039033e-03 -1.10293222e-03\n",
      " -5.10248051e-03 -5.34687895e-05  6.50428143e-02  3.45494969e-02\n",
      " -1.53439619e-03  1.16026022e-01  3.54698733e-07 -1.05099537e-02], \n",
      "The training set Ridge regression R^2 score is: 0.757304\n",
      "The test set Ridge regression R^2 score is: 0.817908\n"
     ]
    }
   ],
   "source": [
    "lambdas = [.001, .005, 1, 5, 10, 50, 100, 500, 1000]\n",
    "\n",
    "kfold = KFold(5, shuffle=True) # use this for testing\n",
    "\n",
    "LCRRModel = RidgeCV(alphas=lambdas, cv=kfold)\n",
    "LCRRModel.fit(X_train, y_train)\n",
    "LCRR_shrinkage_parameter=LCRRModel.alpha_\n",
    "\n",
    "print(\"Best model searched:\\nalpha = {}\\nintercept = {}\\nbetas = {}, \".format(LCRR_shrinkage_parameter,\n",
    "                                                                            LCRRModel.intercept_,\n",
    "                                                                            LCRRModel.coef_\n",
    "                                                                            )\n",
    "     )\n",
    "\n",
    "RRtrainR2 = r2_score(y_train,LCRRModel.predict(X_train))\n",
    "RRtestR2 = r2_score(y_test,LCRRModel.predict(X_test))\n",
    "print(\"The training set Ridge regression R^2 score is: %f\" % RRtrainR2)\n",
    "print(\"The test set Ridge regression R^2 score is: %f\" % RRtestR2)"
   ]
  },
  {
   "cell_type": "code",
   "execution_count": 66,
   "metadata": {},
   "outputs": [
    {
     "name": "stdout",
     "output_type": "stream",
     "text": [
      "Best model searched:\n",
      "alpha = 0.001\n",
      "intercept = 0.8325637276714343\n",
      "betas = [ 0.00000000e+00 -0.00000000e+00 -1.50320473e-02 -0.00000000e+00\n",
      " -1.27339415e-01 -0.00000000e+00  6.47953033e-04 -4.38414765e-08\n",
      " -0.00000000e+00  1.40590857e-02 -0.00000000e+00 -0.00000000e+00\n",
      " -0.00000000e+00  6.38707208e-04  6.07725804e-08  0.00000000e+00\n",
      " -0.00000000e+00 -1.89026618e-03 -2.75860806e-04  7.00525955e-04\n",
      " -0.00000000e+00 -1.39376083e-03  0.00000000e+00  0.00000000e+00\n",
      " -1.29952064e-03 -1.32150752e-02  0.00000000e+00 -0.00000000e+00\n",
      "  3.08595988e-04 -0.00000000e+00  0.00000000e+00 -9.62011189e-04\n",
      "  0.00000000e+00  2.66988767e-07 -0.00000000e+00], \n",
      "The training set Lasso regression R^2 score is: 0.195592\n",
      "The test set Lasso regression R^2 score is: 0.210944\n"
     ]
    }
   ],
   "source": [
    "LCLRModel = LassoCV(alphas=lambdas, cv=kfold)\n",
    "LCLRModel.fit(X_train, y_train)\n",
    "LCLR_shrinkage_parameter = LCLRModel.alpha_\n",
    "print(\"Best model searched:\\nalpha = {}\\nintercept = {}\\nbetas = {}, \".format(LCLR_shrinkage_parameter,\n",
    "                                                                            LCLRModel.intercept_,\n",
    "                                                                            LCLRModel.coef_\n",
    "                                                                            )\n",
    "     )\n",
    "\n",
    "LRtrainR2 = r2_score(y_train,LCLRModel.predict(X_train))\n",
    "LRtestR2 = r2_score(y_test,LCLRModel.predict(X_test))\n",
    "print(\"The training set Lasso regression R^2 score is: %f\" % LRtrainR2)\n",
    "print(\"The test set Lasso regression R^2 score is: %f\" % LRtestR2)"
   ]
  },
  {
   "cell_type": "code",
   "execution_count": 60,
   "metadata": {},
   "outputs": [],
   "source": [
    "coef_df=pd.DataFrame(np.array([X_train.columns,\n",
    "                               LCOLSModel.coef_,\n",
    "                               LCRRModel.coef_,\n",
    "                               LCLRModel.coef_]).T,columns=[\"feature\",\"OLS\",\"RR\",\"LR\"])"
   ]
  },
  {
   "cell_type": "code",
   "execution_count": 61,
   "metadata": {},
   "outputs": [
    {
     "name": "stdout",
     "output_type": "stream",
     "text": [
      "                                feature          OLS           RR           LR\n",
      "0                   purpose_credit_card -0.000992678 -0.000992683            0\n",
      "1                purpose_major_purchase  -0.00630684  -0.00630685           -0\n",
      "2                              int_rate  -0.00791581  -0.00791581  -0.00815296\n",
      "3                        inq_last_6mths   0.00317233   0.00317233   0.00232957\n",
      "4                       term_ 60 months   -0.0815363   -0.0815363   -0.0760818\n",
      "5              purpose_home_improvement  -0.00469949   -0.0046995           -0\n",
      "6                             total_acc -0.000206628 -0.000206628 -0.000164197\n",
      "7                            annual_inc -5.31838e-08 -5.31838e-08 -5.51971e-08\n",
      "8            application_type_Joint App   -0.0771643   -0.0771642           -0\n",
      "9               home_ownership_MORTGAGE    0.0686956    0.0686749           -0\n",
      "10                      purpose_medical  -0.00976371  -0.00976371           -0\n",
      "11         verification_status_Verified   0.00520854   0.00520854   0.00104463\n",
      "12                       purpose_moving  -0.00883149  -0.00883148           -0\n",
      "13                           revol_util  0.000544092  0.000544092  0.000558447\n",
      "14                            revol_bal -1.05457e-07 -1.05457e-07 -1.01093e-07\n",
      "15                  purpose_educational    0.0345984    0.0345977            0\n",
      "16               purpose_small_business   0.00992813   0.00992812            0\n",
      "17                                  dti -0.000158545 -0.000158546 -0.000250975\n",
      "18                          delinq_2yrs   0.00057305   0.00057305            0\n",
      "19                           emp_length  0.000422117  0.000422117   0.00033905\n",
      "20                        purpose_other  -0.00435038  -0.00435038           -0\n",
      "21                             open_acc    0.0004284    0.0004284  0.000373943\n",
      "22                  home_ownership_NONE     0.134775     0.134734            0\n",
      "23                        purpose_house  -0.00811627  -0.00811627           -0\n",
      "24               loan_status_Fully Paid      0.50049      0.50049     0.493965\n",
      "25                  home_ownership_RENT     0.070927    0.0709063            0\n",
      "26  verification_status_Source Verified  -0.00462039  -0.00462039  -0.00289543\n",
      "27           purpose_debt_consolidation  -0.00110292  -0.00110293            0\n",
      "28                     purpose_vacation  -0.00510248  -0.00510248           -0\n",
      "29                             fico_est -5.34688e-05 -5.34688e-05  -6.0666e-05\n",
      "30                   home_ownership_OWN    0.0650635    0.0650428           -0\n",
      "31                      purpose_wedding    0.0345496    0.0345495            0\n",
      "32                              pub_rec  -0.00153439   -0.0015344           -0\n",
      "33                 home_ownership_OTHER     0.116052     0.116026            0\n",
      "34                     earliest_cr_line  3.54699e-07  3.54699e-07  2.14514e-07\n",
      "35             purpose_renewable_energy   -0.0105101     -0.01051           -0\n"
     ]
    }
   ],
   "source": [
    "print(coef_df)"
   ]
  },
  {
   "cell_type": "code",
   "execution_count": null,
   "metadata": {},
   "outputs": [],
   "source": [
    "# your code here\n",
    "plt.figure(figsize=(20,10))\n",
    "plt.bar(coef_df[\"feature\"],-abs(coef_df[\"OLS\"]),label='OLS',alpha=1.0)\n",
    "plt.bar(coef_df[\"feature\"],-abs(coef_df[\"RR\"]),label='RR',alpha=0.5)\n",
    "plt.bar(coef_df[\"feature\"],abs(coef_df[\"LR\"]),label='LR',alpha=0.5)\n",
    "plt.yscale(\"linear\")\n",
    "\n",
    "plt.legend()\n",
    "plt.show()"
   ]
  },
  {
   "cell_type": "markdown",
   "metadata": {},
   "source": [
    "# Code for cleanup in the future"
   ]
  },
  {
   "cell_type": "code",
   "execution_count": null,
   "metadata": {},
   "outputs": [],
   "source": []
  },
  {
   "cell_type": "code",
   "execution_count": null,
   "metadata": {},
   "outputs": [],
   "source": [
    "order=sorted(has_data, key=lambda dict_key: has_data[dict_key])\n",
    "\n",
    "for i in order:\n",
    "    print(i, has_data[i])"
   ]
  },
  {
   "cell_type": "markdown",
   "metadata": {},
   "source": [
    "# Heat map Visualizations"
   ]
  },
  {
   "cell_type": "code",
   "execution_count": null,
   "metadata": {},
   "outputs": [],
   "source": [
    "#Explore the loan status versus purpose\n",
    "import seaborn as sns; sns.set()\n",
    "\n",
    "purp_loan= ['purpose', 'loan_status']\n",
    "cm = sns.light_palette(\"red\", as_cmap=True)\n",
    "pd.crosstab(df[purp_loan[0]], df[purp_loan[1]]).style.background_gradient(cmap = cm)"
   ]
  },
  {
   "cell_type": "code",
   "execution_count": null,
   "metadata": {},
   "outputs": [],
   "source": [
    "# Explore the loan status versus loan grade\n",
    "loan_grade = ['loan_status', 'grade']\n",
    "cm = sns.light_palette(\"red\", as_cmap=True)\n",
    "pd.crosstab(df[loan_grade[0]], df[loan_grade[1]]).style.background_gradient(cmap = cm)"
   ]
  },
  {
   "cell_type": "code",
   "execution_count": null,
   "metadata": {},
   "outputs": [],
   "source": [
    "#Explore the loan status versus home ownership\n",
    "loan_home = ['loan_status', 'home_ownership']\n",
    "cm = sns.light_palette(\"red\", as_cmap=True)\n",
    "pd.crosstab(df[loan_home[0]], df[loan_home[1]]).style.background_gradient(cmap = cm)\n"
   ]
  },
  {
   "cell_type": "code",
   "execution_count": null,
   "metadata": {},
   "outputs": [],
   "source": [
    "#Exploring the loan_status versus loan application_type\n",
    "loan_application = ['loan_status', 'application_type']\n",
    "cm = sns.light_palette(\"red\", as_cmap=True)\n",
    "pd.crosstab(df[loan_application[0]], df[loan_application[1]]).style.background_gradient(cmap = cm)"
   ]
  },
  {
   "cell_type": "code",
   "execution_count": null,
   "metadata": {},
   "outputs": [],
   "source": [
    "#Exploring the State Address versus Loan Status\n",
    "adress_loan = ['addr_state', 'loan_status']\n",
    "cm = sns.light_palette(\"red\", as_cmap=True)\n",
    "pd.crosstab(df[adress_loan[0]], df[adress_loan[1]]).style.background_gradient(cmap = cm)"
   ]
  },
  {
   "cell_type": "code",
   "execution_count": null,
   "metadata": {},
   "outputs": [],
   "source": [
    "# Explore distrubution of loan interest rates\n",
    "plt.figure(figsize = (15,12))\n",
    "plt.subplot(211)\n",
    "g1 = sns.countplot(x=\"int_rate\",data=df, \n",
    "                   palette=\"Set2\")\n",
    "g1.set_xlabel(\"Loan Interest Rate\", fontsize=12)\n",
    "g1.set_ylabel(\"Count\", fontsize=12)\n",
    "g1.set_title(\"Distribuition of Loan Interest Rates\", fontsize=20)\n",
    "\n",
    "plt.subplots_adjust(wspace = 0.4, hspace = 1.2,top = 2)\n",
    "\n",
    "plt.show()"
   ]
  },
  {
   "cell_type": "code",
   "execution_count": null,
   "metadata": {},
   "outputs": [],
   "source": [
    "plt.figure(figsize = (10,6))\n",
    "\n",
    "g = sns.violinplot(x=\"home_ownership\",y=\"loan_amnt\",data=df,\n",
    "               kind=\"violin\",\n",
    "               split=True,palette=\"hls\",\n",
    "               hue=\"application_type\")\n",
    "g.set_title(\"Homer Ownership - Loan Distribuition\", fontsize=20)\n",
    "g.set_xlabel(\"\", fontsize=15)\n",
    "g.set_ylabel(\"Loan Amount\", fontsize=15)\n",
    "\n",
    "plt.show()"
   ]
  },
  {
   "cell_type": "code",
   "execution_count": null,
   "metadata": {},
   "outputs": [],
   "source": [
    "# Explore Loan Purpose\n",
    "print(\"Purposes count description: \")\n",
    "print(pd.crosstab(df.purpose, df.application_type))\n",
    "\n",
    "plt.figure(figsize = (12,8))\n",
    "\n",
    "plt.subplot(211)\n",
    "g = sns.countplot(x=\"purpose\",data=df,\n",
    "                  palette='hls')\n",
    "g.set_xticklabels(g.get_xticklabels(),rotation=45)\n",
    "g.set_title(\"Application Type - Loan Amount\", fontsize=20)\n",
    "g.set_xlabel(\"\", fontsize=15)\n",
    "g.set_ylabel(\"Loan Amount\", fontsize=15)\n",
    "\n",
    "plt.subplot(212)\n",
    "g1 = sns.violinplot(x=\"purpose\",y=\"loan_amnt\",data=df,\n",
    "               hue=\"application_type\", split=True)\n",
    "g1.set_xticklabels(g1.get_xticklabels(),rotation=45)\n",
    "g1.set_title(\"Application Type - Loan Amount\", fontsize=20)\n",
    "g1.set_xlabel(\"\", fontsize=15)\n",
    "g1.set_ylabel(\"Loan Amount\", fontsize=15)\n",
    "\n",
    "plt.subplots_adjust(wspace = 0.2, hspace = 0.8,top = 0.9)\n",
    "plt.show()"
   ]
  },
  {
   "cell_type": "code",
   "execution_count": null,
   "metadata": {},
   "outputs": [],
   "source": [
    "plt.figure(figsize = (12,6))\n",
    "\n",
    "g = sns.violinplot(x='loan_status', y=\"installment\",\n",
    "                   data=df)\n",
    "g.set_xticklabels(g.get_xticklabels(),rotation=45)\n",
    "g.set_xlabel(\"\", fontsize=12)\n",
    "g.set_ylabel(\"Installment Distrubution\", fontsize=15)\n",
    "g.set_title(\"Loan Status by Installment\", fontsize=20)\n",
    "\n",
    "plt.show()"
   ]
  },
  {
   "cell_type": "code",
   "execution_count": null,
   "metadata": {},
   "outputs": [],
   "source": [
    "df.loc[df.loan_status == \\\n",
    "            'Does not meet the credit policy. Status:Fully Paid', 'loan_status'] = 'NMCP Fully Paid'\n",
    "df.loc[df.loan_status == \\\n",
    "            'Does not meet the credit policy. Status:Charged Off', 'loan_status'] = 'NMCP Charged Off'"
   ]
  },
  {
   "cell_type": "code",
   "execution_count": null,
   "metadata": {},
   "outputs": [],
   "source": [
    "print(df.loan_status.value_counts())\n",
    "\n",
    "plt.figure(figsize = (18,21))\n",
    "\n",
    "plt.subplot(311)\n",
    "g = sns.countplot(x=\"loan_status\", data=df)\n",
    "g.set_xticklabels(g.get_xticklabels(),rotation=45)\n",
    "g.set_xlabel(\"\", fontsize=12)\n",
    "g.set_ylabel(\"Count\", fontsize=15)\n",
    "g.set_title(\"Loan Status Count\", fontsize=20)\n",
    "\n",
    "plt.subplot(312)\n",
    "g1 = sns.boxplot(x=\"loan_status\", y=\"total_acc\", data=df)\n",
    "g1.set_xticklabels(g1.get_xticklabels(),rotation=45)\n",
    "g1.set_xlabel(\"\", fontsize=12)\n",
    "g1.set_ylabel(\"Total Acc\", fontsize=15)\n",
    "g1.set_title(\"Duration Count\", fontsize=20)\n",
    "\n",
    "plt.subplot(313)\n",
    "g2 = sns.violinplot(x=\"loan_status\", y=\"loan_amnt\", data=df)\n",
    "g2.set_xticklabels(g2.get_xticklabels(),rotation=45)\n",
    "g2.set_xlabel(\"Duration Distribuition\", fontsize=15)\n",
    "g2.set_ylabel(\"Count\", fontsize=15)\n",
    "g2.set_title(\"Loan Amount\", fontsize=20)\n",
    "\n",
    "plt.subplots_adjust(wspace = 0.2, hspace = 0.7,top = 0.9)\n",
    "\n",
    "plt.show()"
   ]
  },
  {
   "cell_type": "code",
   "execution_count": null,
   "metadata": {},
   "outputs": [],
   "source": []
  }
 ],
 "metadata": {
  "kernelspec": {
   "display_name": "Python 3",
   "language": "python",
   "name": "python3"
  },
  "language_info": {
   "codemirror_mode": {
    "name": "ipython",
    "version": 3
   },
   "file_extension": ".py",
   "mimetype": "text/x-python",
   "name": "python",
   "nbconvert_exporter": "python",
   "pygments_lexer": "ipython3",
   "version": "3.6.5"
  },
  "toc": {
   "base_numbering": 1,
   "nav_menu": {},
   "number_sections": false,
   "sideBar": true,
   "skip_h1_title": false,
   "title_cell": "Table of Contents",
   "title_sidebar": "Contents",
   "toc_cell": false,
   "toc_position": {},
   "toc_section_display": true,
   "toc_window_display": false
  }
 },
 "nbformat": 4,
 "nbformat_minor": 2
}
