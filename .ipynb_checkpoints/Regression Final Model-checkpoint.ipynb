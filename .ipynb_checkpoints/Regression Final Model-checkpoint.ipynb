{
 "cells": [
  {
   "cell_type": "code",
   "execution_count": 1,
   "metadata": {},
   "outputs": [
    {
     "name": "stderr",
     "output_type": "stream",
     "text": [
      "Using TensorFlow backend.\n"
     ]
    }
   ],
   "source": [
    "import pandas as pd\n",
    "import numpy as np\n",
    "import matplotlib.pyplot as plt\n",
    "import os\n",
    "import re\n",
    "\n",
    "import warnings\n",
    "warnings.filterwarnings('ignore')\n",
    "\n",
    "from sklearn.metrics import r2_score\n",
    "from sklearn.preprocessing import PolynomialFeatures\n",
    "from sklearn.preprocessing import StandardScaler\n",
    "from sklearn.linear_model import Ridge\n",
    "from sklearn.linear_model import Lasso\n",
    "from sklearn.linear_model import RidgeCV\n",
    "from sklearn.linear_model import LassoCV\n",
    "from sklearn.linear_model import LinearRegression\n",
    "from sklearn.decomposition import PCA\n",
    "from sklearn.linear_model import LogisticRegression\n",
    "from sklearn.linear_model import LogisticRegressionCV\n",
    "\n",
    "from keras.models import Sequential\n",
    "from keras.layers import Dense\n",
    "\n",
    "from sklearn.ensemble import RandomForestRegressor\n",
    "\n",
    "from sklearn.model_selection import train_test_split\n",
    "from sklearn.model_selection import cross_val_score\n",
    "from sklearn.model_selection import LeaveOneOut\n",
    "from sklearn.model_selection import KFold\n",
    "\n",
    "#import statsmodels.api as sm,\n",
    "\n",
    "import seaborn as sns; sns.set()\n",
    "\n",
    "from pandas.core import datetools\n",
    "%matplotlib inline\n",
    "\n",
    "import pickle\n"
   ]
  },
  {
   "cell_type": "markdown",
   "metadata": {},
   "source": [
    "# Data Acquisition\n",
    "The following code imports and validates the LendingClub data."
   ]
  },
  {
   "cell_type": "code",
   "execution_count": 2,
   "metadata": {},
   "outputs": [],
   "source": [
    "df = pickle.load(open(\"sub_data.p\",'rb'))\n",
    "mature_filter = (df['loan_status']=='Fully Paid')|(df['loan_status']=='Charged Off')\n",
    "df = df[mature_filter]"
   ]
  },
  {
   "cell_type": "code",
   "execution_count": 3,
   "metadata": {},
   "outputs": [],
   "source": [
    "has_data = {}\n",
    "for column in df.columns:\n",
    "    has_data[column] = len(df[column].dropna())\n",
    "\n",
    "order_has_data=sorted(has_data, key=lambda dict_key: has_data[dict_key])"
   ]
  },
  {
   "cell_type": "code",
   "execution_count": 4,
   "metadata": {},
   "outputs": [],
   "source": [
    "# Convert dates to datetime\n",
    "df['issue_d'] = pd.to_datetime(df['issue_d'])\n",
    "df['earliest_cr_line'] = pd.to_datetime(df['earliest_cr_line'])\n",
    "\n",
    "#determine age of credit line prior to loan issue and convert to integer\n",
    "# days of credit history\n",
    "df['earliest_cr_line'] = (df['issue_d']-df['earliest_cr_line']).dt.days\n",
    "\n",
    "# convert issue_d to a year to consider economic conditions\n",
    "#SHOULD WE GO TO QUARTERS?\n",
    "df['issue_d'] = df['issue_d'].dt.year"
   ]
  },
  {
   "cell_type": "code",
   "execution_count": 5,
   "metadata": {},
   "outputs": [
    {
     "name": "stdout",
     "output_type": "stream",
     "text": [
      "(102069, 69)\n"
     ]
    }
   ],
   "source": [
    "# Limit to loans that are paid in full or written off. Uses dates so that \n",
    "# loans that are delinquent are not disproportionaltely dropped from data\n",
    "\n",
    "mature_filter = (df['loan_status']=='Fully Paid')|(df['loan_status']=='Charged Off')\n",
    "#latest_mature = df[~mature_filter]['issue_d'].min()\n",
    "#latest_mature\n",
    "#reduced_df = df[df['issue_d']<=latest_mature]\n",
    "reduced_df = df[mature_filter] # Pulls only loans that are charged off or paid in full.\n",
    "#\n",
    "## Use my documentation to filter to only \n",
    "data_dict = pd.read_excel('./Source Data/LCDataDictionary.xlsx',sheet_name='LoanStats')\n",
    "features = list(data_dict[data_dict['Useful Predictor']=='Yes']['LoanStatNew'].values)\n",
    "reduced_df=reduced_df[features]\n",
    "\n",
    "# Combines fields when necessary\n",
    "reduced_df['fico_est'] = (reduced_df['fico_range_low']+reduced_df['fico_range_high'])/2\n",
    "\n",
    "reduced_df.drop(columns=['fico_range_low','fico_range_high'],inplace=True)\n",
    "print(reduced_df.shape)"
   ]
  },
  {
   "cell_type": "code",
   "execution_count": 6,
   "metadata": {},
   "outputs": [
    {
     "name": "stdout",
     "output_type": "stream",
     "text": [
      "(102069, 68)\n"
     ]
    }
   ],
   "source": [
    "# Convert strings to numbers emp_length, int_rate, revol_util\n",
    "emp_length_map={'10+ years':10, '< 1 year':0, '1 year':1, '3 years':3, '8 years':8, '9 years':9,\n",
    "                '4 years':4, '5 years':5, '6 years':6, '2 years':2, '7 years':7}\n",
    "\n",
    "reduced_df['emp_length']=reduced_df['emp_length'].replace(pd.Series(emp_length_map))\n",
    "\n",
    "grade_map={\"A\":1,\"B\":2,\"C\":3,\"D\":4,\"E\":5,\"F\":6,\"G\":7}\n",
    "reduced_df['grade']=reduced_df['grade'].replace(pd.Series(grade_map))\n",
    "\n",
    "reduced_df['int_rate']=reduced_df['int_rate'].apply(lambda x: float(x[:-1]))\n",
    "reduced_df['revol_util']=reduced_df['revol_util'].apply(lambda x:\n",
    "                                                        x[:-1] if isinstance(x, str) else np.nan).astype(float)\n",
    "\n",
    "reduced_df['earliest_cr_line']=reduced_df['earliest_cr_line'].apply(lambda x:\n",
    "                                                        0.0 if np.isnan(x) else x)\n",
    "\n",
    "reduced_df.drop(columns=['emp_title'],inplace=True)\n",
    "\n",
    "print(reduced_df.shape)"
   ]
  },
  {
   "cell_type": "markdown",
   "metadata": {},
   "source": [
    "# Which values are categorical?"
   ]
  },
  {
   "cell_type": "code",
   "execution_count": 7,
   "metadata": {},
   "outputs": [
    {
     "name": "stdout",
     "output_type": "stream",
     "text": [
      "application_type 2 ['Individual' 'Joint App']\n",
      "term 2 [' 36 months' ' 60 months']\n",
      "verification_status 3 ['Verified' 'Source Verified' 'Not Verified']\n",
      "chargeoff_within_12_mths 6 [ 0.  1.  2.  3.  4. nan]\n",
      "home_ownership 6 ['MORTGAGE' 'OWN' 'RENT' 'ANY' 'NONE' 'OTHER']\n",
      "grade 7 [1 2 5 4 3 7 6]\n",
      "collections_12_mths_ex_med 8 [ 0.  1.  2.  3.  4.  5. nan 12.]\n",
      "inq_last_6mths 9 [2. 1. 0. 3. 5. 4. 6. 8. 7.]\n",
      "pub_rec_bankruptcies 9 [ 0.  1.  2.  3. nan  4.  5.  6.  7.]\n",
      "emp_length 12 [ 0. nan 10.  2.  7.  8.  3.  1.  6.  9.  5.  4.]\n",
      "issue_d 12 [2015 2014 2012 2016 2017 2013 2018 2009 2010 2011 2008 2007]\n",
      "open_il_12m 13 [nan  2.  0.  1.  4.  3.  6.  5. 14.  9. 10.  7.  8.]\n",
      "purpose 14 ['credit_card' 'debt_consolidation' 'home_improvement' 'small_business'\n",
      " 'other' 'car' 'moving' 'major_purchase' 'medical' 'vacation' 'house'\n",
      " 'educational' 'wedding' 'renewable_energy']\n",
      "tax_liens 16 [ 0.  2.  1.  4.  3.  5.  6.  7. 12.  8. 18. 15.  9. 11. 45. nan]\n",
      "open_acc_6m 17 [nan  3.  0.  2.  1.  5.  4.  6. 10.  9.  8.  7. 12. 16. 13. 11. 14.]\n",
      "pub_rec 18 [ 0.  1.  2.  3.  5.  6.  7.  4.  8. 13. 12.  9. 20. 19. 15. 11. 46. 10.]\n",
      "num_tl_90g_dpd_24m 19 [ 0.  1. nan 10.  4.  2. 15.  3.  6.  5. 12.  7.  8.  9. 18. 14. 11. 13.\n",
      " 16.]\n",
      "delinq_2yrs 20 [ 0.  1.  4.  2. 10.  3.  5. 15.  8.  7.  6.  9. 11. 12. 13. 19. 14. 16.\n",
      " 20. 18.]\n",
      "inq_fi 20 [nan  2.  1.  0.  3.  6.  5.  4.  8.  7. 14.  9. 13. 15. 10. 11. 12. 17.\n",
      " 19. 28.]\n",
      "open_il_24m 20 [nan  2.  1.  0.  3.  6.  8.  4.  5.  7. 11. 10. 12. 30. 16. 15.  9. 14.\n",
      " 13. 23.]\n",
      "open_rv_12m 22 [nan  4.  1.  0.  3.  2.  5.  7.  6. 11. 12.  8.  9. 16. 13. 10. 14. 18.\n",
      " 15. 24. 20. 17.]\n",
      "num_accts_ever_120_pd 26 [ 0.  3.  2.  1.  6.  5. nan  8. 10.  4. 17.  7. 12.  9. 13. 14. 11. 15.\n",
      " 20. 16. 18. 21. 24. 23. 22. 34.]\n",
      "num_tl_op_past_12m 26 [ 2.  3.  1.  7.  4.  0.  5. nan  6.  8.  9. 10. 11. 17. 15. 14. 12. 16.\n",
      " 13. 21. 23. 25. 24. 20. 19. 18.]\n",
      "inq_last_12m 27 [nan 10.  1.  0.  8.  7.  2.  3.  4.  6.  5.  9. 14. 13. 11. 12. 16. 19.\n",
      " 23. 15. 21. 22. 17. 18. 20. 31. 25.]\n",
      "mths_since_recent_inq 27 [ 1.  0.  2.  8.  3. 10. nan 11. 15.  5.  9.  6.  7. 13. 12. 17. 16. 19.\n",
      " 21. 14. 24. 22.  4. 20. 18. 23. 25.]\n",
      "mort_acc 29 [ 6.  0.  4.  3.  1.  2.  5.  7. nan  9.  8. 10. 16. 14. 11. 12. 17. 13.\n",
      " 15. 32. 27. 22. 18. 21. 25. 20. 28. 30. 19.]\n",
      "open_rv_24m 33 [nan  6.  1.  0.  5.  4.  2.  3.  8.  7.  9. 10. 13. 19. 11. 15. 16. 12.\n",
      " 17. 28. 14. 18. 27. 22. 24. 20. 21. 29. 23. 31. 26. 25. 45.]\n",
      "total_cu_tl 36 [nan  0.  3. 11. 10.  2. 16.  1.  8.  4.  5.  9. 15. 17.  7.  6. 14. 29.\n",
      " 18. 13. 20. 19. 12. 27. 23. 22. 21. 24. 35. 34. 26. 30. 49. 25. 31. 42.]\n",
      "fico_est 38 [717.  662.  692.  697.  687.  682.  702.  667.  762.  737.  727.  802.\n",
      " 672.  752.  722.  712.  772.  707.  677.  747.  782.  742.  732.  787.\n",
      " 757.  777.  807.  767.  817.  822.  812.  792.  827.  797.  837.  832.\n",
      " 842.  847.5]\n",
      "num_bc_sats 40 [15.  4.  3.  1.  5.  2.  8.  6.  7.  0. nan 10. 13.  9. 16. 11. 12. 14.\n",
      " 18. 35. 20. 17. 31. 21. 22. 25. 19. 24. 33. 32. 28. 26. 23. 39. 36. 30.\n",
      " 27. 29. 41. 34.]\n",
      "num_rev_tl_bal_gt_0 40 [ 7.  5.  6.  4. 13.  8.  2. 11.  3.  1.  9. nan  0. 10. 20. 12. 16. 14.\n",
      " 15. 24. 17. 22. 18. 23. 19. 21. 26. 25. 32. 30. 35. 28. 31. 29. 38. 43.\n",
      " 27. 41. 33. 34.]\n",
      "num_bc_tl 51 [24.  7. 11.  5.  6. 12.  4. 14. 10.  8.  9. 16.  2.  3.  1. nan 13. 18.\n",
      " 15. 25.  0. 20. 17. 21. 19. 23. 34. 30. 26. 39. 35. 27. 28. 22. 33. 31.\n",
      " 37. 36. 29. 38. 32. 47. 49. 50. 46. 41. 42. 48. 40. 43. 44.]\n",
      "num_op_rev_tl 51 [18.  7.  6. 16.  8.  4.  9.  3. 10. 15. 11.  2.  5. 13. nan  1. 27. 22.\n",
      " 20. 17. 14. 12. 24. 19. 37. 29. 21. 23. 28. 30. 25. 26. 38.  0. 31. 34.\n",
      " 43. 39. 36. 40. 32. 33. 35. 51. 41. 47. 55. 42. 62. 56. 45.]\n",
      "num_sats 57 [19.  7.  8.  9. 17. 25. 10. 18.  4. 13. 15. 11.  5.  6. 22. 14. 16. 12.\n",
      " nan 28. 23.  3. 20. 29. 24. 38.  2. 21. 34. 26. 31. 47. 30. 32. 27.  1.\n",
      " 36. 33. 40. 48. 41. 43. 42. 35. 52. 37. 39. 45. 44. 51. 57. 46. 53. 75.\n",
      " 56. 67. 49.]\n",
      "open_acc 57 [19.  7.  8.  9. 17. 25. 10. 18.  4. 13. 15. 11.  5.  6. 12. 22. 14. 16.\n",
      "  3. 28. 23. 20. 21. 29. 24. 38.  2. 34. 26. 27. 31. 47. 30. 32.  1. 36.\n",
      " 33. 41. 48. 42. 43. 35. 44. 53. 37. 39. 45. 52. 40. 51. 57. 46. 55. 76.\n",
      " 56. 68. 49.]\n",
      "num_rev_accts 81 [ 32.  12.  17.  20.  10.  18.   5.  24.  25.   9.  19.   8.  11.  21.\n",
      "  14.  22.  15.   6.   7.   4.  16.  nan  26.  23.  13.  52.  36.   2.\n",
      "  30.   3.  31.  27.  39.  35.  42.  54.  33.  29.  48.  43.  34.  38.\n",
      "  44.  28.  37.  40.  53.  41.  58.  51.  49.  50.  45.  57.  46.  74.\n",
      "  55.  59.  47.  56.  60.  63.  61.  67.  96.  65.  71.   1. 102.  83.\n",
      "  62.  64.  75.  69.   0.  81.  77.  68.  72.  85.  66.]\n",
      "num_il_tl 83 [  8.   5.   6.   9.   3.  16.  35.  14.   7.  19.   0.   4.  12.  11.\n",
      "   2.  15.  18.  33.  10.  20.   1.  22.  nan  32.  17.  38.  24.  13.\n",
      "  46.  25.  30.  27.  21.  37.  26.  31.  23.  29.  28.  41.  45.  39.\n",
      "  63.  57.  49.  34.  36.  43.  48.  47.  66.  40.  74.  78.  50.  55.\n",
      "  44.  52.  69.  60.  58.  42.  53.  54.  75.  68.  51.  64.  61.  65.\n",
      "  59.  56.  73.  72.  81.  83.  85.  79.  97. 100.  67.  70. 121.]\n",
      "mths_since_last_delinq 117 [ 65.  48.  54.  14.  nan  29.  19.  18.  69.  62.   4.  23.  12.  30.\n",
      "   8.  26.  10.   3.  39.   9.  17.   6.  47.  11.  25.  15.  20.  73.\n",
      "  33.  52.  16.  56.  36.  31.  28.  68.  51.   2.  77.  40.  60.  79.\n",
      "  58.  55.  74.  71.  13.  41.  43.  37.   5.  49.   7.  75.  64.  24.\n",
      "  21.  50.  76.  27.  80.  42.  61.  35.  44.  59.  34.  78.  57.  32.\n",
      "  45.  67.  63.  70.   0.  22.  72.  81.   1.  53. 108.  82.  38.  66.\n",
      "  46.  97. 103.  84. 127.  83.  90. 114. 106.  85.  88.  91. 100. 121.\n",
      "  89.  87. 120.  86.  94. 152.  96.  93.  98. 104. 135. 141.  92. 109.\n",
      " 110. 117.  95. 159. 126.]\n",
      "mths_since_last_record 122 [ nan 113.  62.  69.  36.  70.  71.  74.  35.  52.  90.  76.  54.  87.\n",
      "  81.  47.  67. 109.  46.  65.  27.  68.  30.  75.  37.  89. 103.  93.\n",
      "  40.  94.  82.  98.  41.  78.  97. 104.  53. 102. 116.  96.  48.  64.\n",
      "  79.  49.  57. 114.  73.  32.  45. 101.  72.  55. 106. 107.  77. 112.\n",
      "  61. 105.  85.  83.  59.  31.  88.  51.  43.  38. 110.  33. 100.  50.\n",
      "  44.   9.   2.  80.  99.  95.  42. 118.  60.  56.  17. 117.  92.  22.\n",
      " 119. 111. 115.  16.   0.  19.  58. 108.  86.  29.  34.  14.   8.  10.\n",
      "  66.  20.  91.  25.  63.   4.  23.  84.   3.   6.  24.  39.  11.  26.\n",
      "  21.  12.   5.  18.  28.  15.  13.   7.   1. 120.]\n",
      "mths_since_recent_bc_dlq 124 [ nan  65.  29.  46.  63.  37.  30.  39.  26.  10.   8.  18.  74.  66.\n",
      "  42.  27.  15.  69.  77.  33.  52.  36.  68.  28.  19.  23.  73.  51.\n",
      "   2.  81.  59.  48.  60.  32.  56.  58.  16.  55.  11.  20.  43.  47.\n",
      "  12.   9.   5.  49.  62.   7.  31.  75.  64.  24.  14.  50.  61.  40.\n",
      "  25.  80.  70.   3.  22.  78.  45.   4.  13.  34.  17.  44.  72.  41.\n",
      "  67.  38.  71.   6.  53. 108.  82.  79.  35.  54.   1.  83.  88.  21.\n",
      "  94.  76.  57.  85. 115.   0.  84. 119. 127.  90. 105. 104.  89. 106.\n",
      "  87. 153.  93. 100.  91.  86.  97. 121.  92.  96. 139.  95. 152. 131.\n",
      " 145.  98. 109. 114. 135. 103.  99. 110. 102. 159. 101. 107.]\n",
      "mo_sin_rcnt_tl 127 [  5.   9.   2.  12.   0.   7.   8.  25.  11.   3.   1.  27.   4.   6.\n",
      "  13.  26.  32.  16.  39.  15.  nan  50.  19.  17.  30.  10.  18.  28.\n",
      "  23.  20.  29.  34.  54.  52.  64.  22.  21.  33.  14.  41.  24.  38.\n",
      "  40.  31. 100.  45.  61.  35.  58.  68.  43.  81.  51.  59.  87.  36.\n",
      "  42.  65.  48.  86.  60.  71.  37.  63.  67.  46.  89.  49.  47.  75.\n",
      "  72.  76. 148.  88.  56.  44.  62. 184.  79.  84.  93. 107.  91.  55.\n",
      "  73.  90. 125.  83.  53.  85.  66.  82.  97.  57.  74.  96.  92.  70.\n",
      "  95. 105.  78. 136. 140.  69.  94. 133.  99. 106. 120. 182.  80. 117.\n",
      " 109. 122. 108.  98.  77. 166. 119. 103. 113. 110. 112. 186. 114. 162.\n",
      " 111.]\n",
      "mths_since_recent_revol_delinq 127 [ nan  48.  61.  29.  46.  18.  63.   4.  37.  30.  39.  26.  10.   3.\n",
      "   8.   9.  36.  65.  74.  62.  21.  27.  15.  69.  73.  33.  52.  68.\n",
      "  28.  19.  23.  51.   2.  14.  77.  16.  81.  59.  66.  49.  60.  32.\n",
      "  56.  79.  17.  58.  55.  11.  20.  41.  43.  47.  12.   5.   7.  31.\n",
      "  75.  64.  24.  76.  83.  50.  40.  25.  80.  42.  71.  35.  78.  67.\n",
      "  45.  13.  70.  34.   6.  22.  44.  72.   0.  53. 108.  57.  82.  38.\n",
      "  54.   1.  84.  97.  85. 115.  89. 127. 119. 116.  90.  91.  88. 105.\n",
      " 114. 101. 106. 153.  93.  87. 100.  86.  94. 121. 110.  92.  98.  96.\n",
      " 139.  99. 152. 113. 104. 103. 135. 107. 141. 109. 117. 102.  95. 159.\n",
      " 126.]\n",
      "mths_since_last_major_derog 129 [ nan  61.  41.  63.  37.  12.  33.  39.  26.  57.  11.  52.  31.  51.\n",
      "  10.  62.  69.  49.  36.  68.  23.   2.  77.   4.  54.  60.  45.  56.\n",
      "  29.  24.  27.  58.  55.  74.  71.  17.  70.  47.  18.   8.  64.  22.\n",
      "  50.  14.  46.  44.  20.  16.  38.  43.  65.  25.  78.  67.  13.  42.\n",
      "  32.  30.  76.   0.   7.  66.  35.  21.  48.  19.   5.   9.  79.  53.\n",
      "  28.  72. 108.  75.  82.  40.  59.  80.  15.  34.  84.  81.   1.  73.\n",
      "   3.  97.   6.  89. 127. 119. 116.  90.  88.  83. 102. 105. 104. 114.\n",
      " 101. 162. 109. 106. 153.  85.  93.  87. 100. 115.  91.  94.  95. 121.\n",
      " 110.  86.  99. 112. 120.  98. 139. 152.  96.  92. 103. 135. 107. 141.\n",
      " 117. 159. 126.]\n",
      "earliest_cr_line 129 [16616 16070 16160 15613 16647 16831 16525 17286 16586 16039 16343 16221\n",
      " 17378 17531 16952 16708 16435 16282 17166 17044 17013 16860 15736 15948\n",
      " 16101 14487 15674 16769 17225 17347 16555 14913 15064 16404 15856 15644\n",
      " 15978 16494 17409 16009 16891 17105 15583 16678 17074 15917 15552 16251\n",
      " 14122 16190 16466 16374 16129 16739 16982 15825 15764 15094 15430 15886\n",
      " 17470 14517 15521 15795 17317 15705 15308 17439 14152 16800 17135 16313\n",
      " 16921 15155 15033 14729 15399 15125 14425 15217 15460 15339 15005 17500\n",
      " 14213 15491 14699 17197 17562 14334 15186 17256 15370 14760 14790 14275\n",
      " 17590 15247 13847 14852 14882 15278 14609 14943 14668 14456 14303 14821\n",
      " 13878 14548 14395 14974 13909 13969 13938 14578 14640 14364 14244 14183\n",
      " 13786 13999 14060 13817 14030 13756 14091 13725 13664]\n",
      "all_util 138 [ nan  75.  85.  84.  67.  66.  56.  65.  82.  54.   9.  87.  19.  53.\n",
      "  58.  41.  47.  50.  52.  73.  83.  89.  35.  62.  44.  49.  55.  64.\n",
      "  48.  70. 101.  40.  21.  72.  69.  80.  60.  88.  22.  94.  61.  59.\n",
      "  42.  77.  74.  96.  86.  78.  71.  27.  43.  33.  45.  97.  68.  46.\n",
      "  26.  63.  36.  38.  39.  98.  25.  32.  51.  76.  31.  93.  57.  29.\n",
      "  23. 100. 107.  81. 103.  30. 126.  90.   2.  34.  37.  28.  11.  91.\n",
      "  15.  79.  20.  16.  18.  92. 116. 105.   0. 108.   7.  24.  17.  95.\n",
      "   6.  14.   1.  10.   8. 111.  12. 102. 113.  99.   3.  13. 110.   5.\n",
      " 112. 106. 114.   4. 120. 104. 109. 125. 122. 145. 118. 131. 115. 119.\n",
      " 117. 123. 121. 135. 130. 128. 161. 157. 153. 140. 127. 132.]\n",
      "percent_bc_gt_75 148 [ 21.4   75.    33.3  100.     0.    50.    66.7   12.5   16.7   80.\n",
      "  25.      nan  71.4   83.3   20.    40.    85.7   60.     6.2   57.1\n",
      "  87.5   44.4   36.4   28.6   55.6   42.9   14.3   11.1   10.    37.5\n",
      "  77.8   88.9   30.    22.2    9.1   26.7   70.    90.9   23.1   15.4\n",
      "  63.6   91.7   90.     5.6   38.5   46.7    7.7   86.7   62.5   45.5\n",
      "  54.5   18.2   55.    18.7   30.8   27.3   41.7   53.8    6.7    5.9\n",
      "  23.5    8.3    1.     7.1   81.8    5.    58.3   61.5    4.     4.8\n",
      "  72.7   31.2   92.3   13.3   46.2   35.7    8.8    0.5    6.3   57.9\n",
      "  52.9   76.9   69.2   15.8   64.7   84.6   17.6   10.3   47.6   92.9\n",
      "   8.7    0.67  10.5   21.1   81.3   78.6   64.3   68.7   78.9   26.3\n",
      "  43.8   82.4   23.8   73.3   35.3    0.33  76.5   35.    72.2   47.4\n",
      "  88.2   31.6    0.75  31.3   68.4   34.6   38.9   53.3    0.14  11.8\n",
      "  40.9   29.4   70.6    8.    27.8    3.8   20.8   58.8   93.7   36.8\n",
      "  73.7    5.3   19.    47.1   56.3    0.6   12.    43.7   41.2    0.2\n",
      "   4.3   61.9   81.2   36.    52.2   52.4   90.5   18.5 ]\n",
      "mo_sin_rcnt_rev_tl_op 177 [  5.   9.   4.  14.  12.   0.   7.  52.  11.   3.   1.   6.   2.  27.\n",
      "   8.  51.  18.  23.  26.  80.  16.  65.  21.  40.  28.  nan  13.  50.\n",
      "  24.  17.  19.  20.  34.  32.  10.  22.  45. 150.  15.  25. 113.  81.\n",
      "  37.  36.  48.  43.  47.  49. 111. 119.  30.  64.  29.  31.  35.  38.\n",
      "  96.  33.  41.  54.  69.  78.  57.  89. 100.  70.  61.  42.  97. 141.\n",
      "  82. 105.  63.  98.  46.  39. 168. 164.  58.  60.  68.  86.  99.  92.\n",
      "  53.  59.  93.  62.  72.  84. 124.  74. 110.  73. 125. 154.  67.  77.\n",
      "  88. 108. 114.  66.  76.  56. 118.  79.  85.  55.  44.  95.  87.  94.\n",
      "  83. 104. 148. 122. 120. 115. 102. 184. 236.  75. 130. 129. 131.  71.\n",
      " 107.  91. 101. 174. 145. 128. 139. 109. 121.  90. 183. 106. 178. 135.\n",
      " 132. 138. 169. 136. 144. 117. 103. 116. 112. 159. 176. 149. 123. 153.\n",
      " 147. 186. 182. 172. 160. 143. 126. 196. 137. 208. 223. 166. 228. 173.\n",
      " 134. 133. 304. 157. 142. 217. 210. 162. 161.]\n",
      "mths_since_rcnt_il 207 [ nan   2.  14.  27.  21.  15.   3.   6.   4.  32. 145.   5.  80.  10.\n",
      "  16.  30.  13.  37.  22.  12.   7.   9.  29.   1.  18.  64.   8.  11.\n",
      "  33.  17.  38.  25.  92.  20.  19.  28.  34.  77. 116.  23.  69.  24.\n",
      "  52.  47.  26. 147.  73. 105.  72. 109.  88. 103.  71.  40.  57.  31.\n",
      " 129.  49. 114.  86.  82.  39.  58.  35. 133.  54.  59.  48. 164.  41.\n",
      "  44.  46.  75.  36.  87. 108.  65.  45. 125.  85. 115.  50.  42.  62.\n",
      "  51. 141. 100.  74. 102.  96.   0.  81.  43.  68. 122.  70.  67. 127.\n",
      " 136. 134. 142.  61. 153.  97. 219.  66.  89. 165.  55.  53. 140. 149.\n",
      "  98. 146.  78.  94.  84. 178. 112. 101.  56. 329. 138.  95. 195.  60.\n",
      "  79. 104. 126.  76. 113.  63.  99. 119. 175. 111. 120. 150.  83. 110.\n",
      " 118. 185. 131. 128. 160. 132. 189. 123. 144. 139. 117. 156. 106. 291.\n",
      "  91. 107. 174. 124. 137. 218. 130. 197.  90. 148.  93. 212. 152. 158.\n",
      " 177. 161. 135. 121. 202. 268. 179. 172. 248. 171. 163. 242. 159. 228.\n",
      " 170. 240. 237. 181. 168. 245. 167. 155. 162. 193. 184. 216. 235. 151.\n",
      " 166. 180. 157. 176. 183. 187. 207. 143. 173. 311. 264.]\n",
      "mths_since_recent_bc 317 [  5.   9.   4. 123.  12.   8.   0.   7. 152.  52.  37.  10.  18.   6.\n",
      "  48.   2.  85.  13. 139.  32. 164.  51.   3.  14.  99.  35.  28.  26.\n",
      "  80.  17.  97.  nan  19.  82. 176.  25.  16.  30.  73.  20.  69.  44.\n",
      "  65.  11.  23.  29.  41. 154.  61.   1.  50.  34. 127. 156.  83.  31.\n",
      "  43. 102.  15.  96.  27.  45.  21.  49.  38.  90.  88. 111.  36.  22.\n",
      "  57. 119.  33.  67.  64.  76. 173.  47.  46. 227. 134.  81.  60.  56.\n",
      "  55. 159. 113.  79. 115.  24.  58.  86.  87.  40.  91.  72.  42. 121.\n",
      "  74. 101. 140. 158. 118.  54. 116.  62. 100.  63.  70. 107.  71. 141.\n",
      "  93.  84.  53. 104.  59. 126. 167.  68. 132.  98. 157.  66.  89. 247.\n",
      " 168.  78.  39. 112.  75.  92.  95. 138. 129. 196. 106.  94. 125. 109.\n",
      " 197. 108. 136. 153.  77. 103. 137. 208. 117. 124. 105. 148. 110. 270.\n",
      " 149. 239. 204. 120. 300. 184. 280. 178. 142. 299. 217. 131. 114. 170.\n",
      " 181. 128. 162. 145. 309. 192. 240. 187. 135. 144. 257. 122. 143. 146.\n",
      " 294. 260. 147. 130. 202. 169. 298. 221. 289. 171. 182. 194. 190. 166.\n",
      " 214. 174. 199. 198. 151. 133. 313. 155. 207. 244. 416. 330. 223. 271.\n",
      " 212. 311. 161. 177. 229. 245. 150. 237. 295. 213. 183. 254. 296. 179.\n",
      " 195. 276. 203. 172. 335. 186. 242. 180. 163. 345. 252. 222. 201. 160.\n",
      " 243. 258. 278. 368. 283. 175. 234. 293. 616. 210. 209. 230. 228. 261.\n",
      " 165. 315. 185. 205. 417. 220. 219. 225. 226. 441. 312. 251. 267. 264.\n",
      " 256. 303. 322. 206. 191. 320. 224. 319. 231. 292. 553. 200. 317. 353.\n",
      " 193. 347. 249. 451. 274. 188. 341. 364. 337. 189. 279. 248. 216. 360.\n",
      " 273. 355. 388. 363. 285. 307. 376. 316. 268. 304. 255. 211. 246. 218.\n",
      " 314. 318. 334. 323. 327. 331. 262. 348. 266.]\n",
      "annual_inc_joint 416 [      nan 205000.    40507.08 101000.   580000.   117291.    91000.\n",
      "  80000.   115000.   159000.    90000.   120000.   126170.   107000.\n",
      "  71000.    64000.   215705.    83200.   115546.    86000.   106800.\n",
      " 100000.   105000.    71258.    39192.   154000.   137000.   121000.\n",
      " 185000.   135164.    82000.   292000.   300000.    94000.   125000.\n",
      "  38000.   133040.   118000.    50000.    73680.   170000.    95000.\n",
      "  96000.    40344.02 149000.    70000.    69000.    73220.   291000.\n",
      " 152000.   111000.   109222.    66000.    84619.   145400.    96500.\n",
      " 160000.   280000.   113000.   109000.   103000.   238000.    76360.\n",
      "  59088.   212000.   119000.   140000.   135000.   145000.   104500.\n",
      " 123000.    72500.   159804.   177000.    73000.    59000.    63000.\n",
      "  55000.   155000.   167000.   175000.    92900.    78000.   147000.\n",
      " 165000.    55600.    58000.    97500.   182000.   106767.   210000.\n",
      " 110000.    77500.    77496.   275000.    77668.    75000.   202000.\n",
      " 181000.   123400.   180000.    54000.    97362.   100500.   128000.\n",
      "  89520.   195000.   321000.   207000.    93000.   102400.   101600.\n",
      "  86108.    92200.    98000.   106995.    92116.    60408.   130000.\n",
      "  65000.   305000.   288000.   221000.   230000.   196000.    89000.\n",
      " 146500.    45200.    98075.    94714.    57000.   109500.   142000.\n",
      "  76051.    75300.    92000.   127000.   162000.    38648.4   61000.\n",
      " 225000.   108400.    83000.    33876.   151000.    79400.   133500.\n",
      " 131000.    74900.   156000.    68000.    47000.    47670.    20918.\n",
      "  88800.    87000.   148000.    66379.   153000.   220000.   240000.\n",
      " 124200.    86500.   117000.   150000.   102000.    72000.    84000.\n",
      "  91658.   144000.   169000.   132000.    53900.    62200.    64869.\n",
      " 108000.    53000.    97180.   208500.   340000.   224000.   172000.\n",
      " 112000.    68444.   116000.    67000.   111181.    88000.    74000.\n",
      " 124000.   168794.    31872.36  60000.    80085.   133000.   272000.\n",
      " 132200.   104000.   256000.    82750.   156600.    85000.   132250.\n",
      " 272612.5   53292.    61500.   126000.   235000.    52000.    49278.\n",
      " 144427.   106000.    70882.   234000.    75920.    56000.    37848.\n",
      " 114000.    84418.    62400.   138000.    92130.    46000.    91900.\n",
      " 108866.    98800.   122000.    46500.    76000.    77000.    99987.\n",
      " 122400.   134500.   104730.   188500.   161000.   136000.    76201.\n",
      "  35636.   139500.   153039.   104954.4   96200.    56573.    60559.\n",
      "  86556.   515000.    79680.   109154.    97000.   117500.   287000.\n",
      " 134000.    88400.    95084.   190000.   285000.   102500.   166000.\n",
      " 131313.   106537.6   46986.   143000.    81212.8  109420.    79139.\n",
      " 116796.   134904.   182100.    94400.    33672.    78800.   117893.\n",
      " 690000.    95420.   107400.   193000.   197000.    99000.    84400.\n",
      "  77924.    62731.    30900.   165037.   129000.    52891.    54340.\n",
      "  79000.   107496.    70765.   104430.    62000.   188300.    74500.\n",
      " 109717.   200000.    99804.    58975.68 107560.   253960.    58520.\n",
      " 100119.    80442.   166109.   167500.   127440.   139800.   147300.\n",
      "  41000.    77700.    84252.    83800.    92560.   178000.   103428.\n",
      "  75800.   262000.    41200.   188000.    76065.    78487.    79200.\n",
      "  40034.   102840.    60259.    72537.6  260000.   174000.   138921.\n",
      "  95600.   140829.57  41352.    61126.68  37000.   176000.   201264.\n",
      "  81120.    51275.   129500.   344420.   150242.    63202.25 139000.\n",
      " 116216.   209660.    69600.   106600.   183000.   104998.4  101500.\n",
      " 162320.    76800.    55500.    91174.   171000.    76400.   117394.\n",
      "  94580.    66192.    87392.    71332.    52690.   255000.   226000.\n",
      "  78200.   119888.53 122800.   250000.   325000.    62621.28  71300.\n",
      "  85067.   229000.   122440.    45309.   130004.    24451.   132936.\n",
      "  26000.    65647.    49000.    71600.    45000.    39620.   104720.\n",
      " 330000.   168000.   203400.   117880.   166120.   112700.    91726.\n",
      " 105310.   142480.   264000.   278000.    74641.    85024.    44100.\n",
      "  40000.   201000.    74142.    41378.    41544.   166741.   388000.\n",
      " 106720.08  86200.    92250.   197800.   158000.    78100.    91500.\n",
      "  51600.   146000.   191000.  ]\n"
     ]
    }
   ],
   "source": [
    "n_options = {}\n",
    "for column in reduced_df.columns:\n",
    "    n_options[column] = len(reduced_df[column].unique())\n",
    "#n_options\n",
    "order_n_options=sorted(n_options, key=lambda dict_key: n_options[dict_key])\n",
    "\n",
    "for i in order_n_options[0:50]:\n",
    "    print(i, n_options[i],reduced_df[i].unique())"
   ]
  },
  {
   "cell_type": "markdown",
   "metadata": {},
   "source": [
    "Based on these results, we will have to encode several data as dummy variables:\n",
    "\n",
    "- application_type\n",
    "- term\n",
    "- verification_status\n",
    "- home_ownership\n",
    "- purpose\n"
   ]
  },
  {
   "cell_type": "markdown",
   "metadata": {},
   "source": [
    "## Additional Multicolinearity Analysis\n",
    "I performed some additional analysis on multicolinearity. Some of the dummy variables were over 7,000. The reason being is the one hot encoding is dropping the first thing it encounters. In some cases there are only 1 or two instances of it. Therefore, there is some repetition in dummy variables. As a solution, I tried using only one of the possible answers."
   ]
  },
  {
   "cell_type": "code",
   "execution_count": 8,
   "metadata": {},
   "outputs": [
    {
     "name": "stdout",
     "output_type": "stream",
     "text": [
      "credit_card 22313\n",
      "debt_consolidation 59915\n",
      "home_improvement 6356\n",
      "small_business 1182\n",
      "other 5548\n",
      "car 1147\n",
      "moving 719\n",
      "major_purchase 2219\n",
      "medical 1131\n",
      "vacation 698\n",
      "house 496\n",
      "educational 35\n",
      "wedding 230\n",
      "renewable_energy 80\n"
     ]
    }
   ],
   "source": [
    "for p in reduced_df['purpose'].unique():\n",
    "    print(p, len(df[df['purpose']==p]))"
   ]
  },
  {
   "cell_type": "code",
   "execution_count": 9,
   "metadata": {},
   "outputs": [],
   "source": [
    "# Consolidated where logical\n",
    "reduced_df['purpose'].replace('credit_card','debt_consolidation',inplace=True)\n",
    "reduced_df['purpose'].replace('educational','other',inplace=True)\n",
    "reduced_df['purpose'].replace('wedding','major_purchase',inplace=True)\n",
    "reduced_df['purpose'].replace('vacation','major_purchase',inplace=True)\n",
    "reduced_df['purpose'].replace('moving','house',inplace=True)\n",
    "reduced_df['purpose'].replace('home_improvement ','house',inplace=True)\n",
    "reduced_df['purpose'].replace('renewable_energy ','house',inplace=True)"
   ]
  },
  {
   "cell_type": "code",
   "execution_count": 10,
   "metadata": {},
   "outputs": [
    {
     "name": "stdout",
     "output_type": "stream",
     "text": [
      "{'application_type_Joint App', 'purpose_home_improvement', 'purpose_house', 'purpose_medical', 'purpose_renewable_energy', 'purpose_debt_consolidation', 'purpose_major_purchase', 'term_ 60 months', 'verification_status_Verified', 'purpose_small_business', 'purpose_other', 'verification_status_Source Verified'}\n",
      "(102069, 76)\n"
     ]
    }
   ],
   "source": [
    "seta=set(reduced_df.columns)\n",
    "\n",
    "\n",
    "# 8/8 consolidated purpose\n",
    "\n",
    "reduced_df=pd.get_dummies(data=reduced_df,columns=['application_type','term',\n",
    "                                                   'verification_status','purpose'],\n",
    "                          drop_first=True)\n",
    "\n",
    "# 8/8 removed 'home_ownership\n",
    "reduced_df['home_ownership'] = np.where(reduced_df['home_ownership']=='OWN',1,0)\n",
    "\n",
    "setb=set(reduced_df.columns)\n",
    "print(setb-seta)\n",
    "print(reduced_df.shape)"
   ]
  },
  {
   "cell_type": "markdown",
   "metadata": {},
   "source": [
    "# How to treat NaN?"
   ]
  },
  {
   "cell_type": "markdown",
   "metadata": {},
   "source": [
    "For now, let's remove majority NaN columns..."
   ]
  },
  {
   "cell_type": "code",
   "execution_count": 11,
   "metadata": {},
   "outputs": [
    {
     "name": "stdout",
     "output_type": "stream",
     "text": [
      "0 annual_inc_joint 940\n",
      "1 dti_joint 940\n",
      "2 mths_since_last_record 17208\n",
      "3 mths_since_recent_bc_dlq 24010\n",
      "4 mths_since_last_major_derog 26492\n",
      "5 mths_since_rcnt_il 28765\n",
      "6 all_util 29451\n",
      "7 inq_fi 29454\n",
      "8 inq_last_12m 29454\n",
      "9 open_acc_6m 29454\n",
      "10 open_il_12m 29454\n",
      "11 open_il_24m 29454\n",
      "12 open_rv_12m 29454\n",
      "13 open_rv_24m 29454\n",
      "14 total_cu_tl 29454\n",
      "15 mths_since_recent_revol_delinq 33581\n",
      "16 mths_since_last_delinq 50173\n",
      "17 mths_since_recent_inq 87988\n",
      "18 mo_sin_old_il_acct 92446\n",
      "19 mo_sin_old_rev_tl_op 95277\n",
      "20 mo_sin_rcnt_rev_tl_op 95277\n",
      "21 mo_sin_rcnt_tl 95278\n",
      "22 num_accts_ever_120_pd 95278\n",
      "23 num_bc_tl 95278\n",
      "24 num_il_tl 95278\n"
     ]
    }
   ],
   "source": [
    "has_data = {}\n",
    "for column in reduced_df.columns:\n",
    "    has_data[column] = len(reduced_df[column].dropna())\n",
    "has_data\n",
    "\n",
    "order_has_data=sorted(has_data, key=lambda dict_key: has_data[dict_key])\n",
    "\n",
    "top_sparse=25\n",
    "for i,j in zip(range(top_sparse),order_has_data[0:top_sparse]):\n",
    "    print(i,j, has_data[j])"
   ]
  },
  {
   "cell_type": "code",
   "execution_count": 12,
   "metadata": {},
   "outputs": [
    {
     "name": "stdout",
     "output_type": "stream",
     "text": [
      "(102069, 57)\n"
     ]
    }
   ],
   "source": [
    "nonnan_df=reduced_df.drop(columns=order_has_data[0:19])\n",
    "print(nonnan_df.shape)"
   ]
  },
  {
   "cell_type": "code",
   "execution_count": 13,
   "metadata": {},
   "outputs": [
    {
     "name": "stdout",
     "output_type": "stream",
     "text": [
      "19 88994\n",
      "(88994, 57)\n"
     ]
    }
   ],
   "source": [
    "print(len(reduced_df.dropna()),len(nonnan_df.dropna()))\n",
    "nonnan_df=nonnan_df.dropna()\n",
    "print(nonnan_df.shape)\n",
    "\n",
    "n_options = {}\n",
    "for column in nonnan_df.columns:\n",
    "    n_options[column] = len(nonnan_df[column].unique())\n",
    "#n_options\n",
    "order_n_options=sorted(n_options, key=lambda dict_key: n_options[dict_key])\n"
   ]
  },
  {
   "cell_type": "code",
   "execution_count": 14,
   "metadata": {},
   "outputs": [
    {
     "data": {
      "text/plain": [
       "count    88994.000000\n",
       "mean         0.078956\n",
       "std          0.049376\n",
       "min          0.000204\n",
       "25%          0.046985\n",
       "50%          0.072803\n",
       "75%          0.104707\n",
       "max          4.216600\n",
       "Name: percent_of_income, dtype: float64"
      ]
     },
     "execution_count": 14,
     "metadata": {},
     "output_type": "execute_result"
    }
   ],
   "source": [
    "revolving = [\n",
    "    'bc_open_to_buy',\n",
    "    'num_rev_accts',\n",
    "    'num_rev_tl_bal_gt_0',\n",
    "    'revol_bal',\n",
    "    'revol_util',\n",
    "    'total_rev_hi_lim',\n",
    "    'tot_hi_cred_lim',\n",
    "    'num_il_tl',\n",
    "    'open_acc',\n",
    "    'num_bc_tl',\n",
    "    'num_sats',\n",
    "    'num_op_rev_tl',\n",
    "    'num_bc_sats',\n",
    "    'mo_sin_old_rev_tl_op',\n",
    "    'total_il_high_credit_limit'\n",
    "]\n",
    "\n",
    "to_remove = revolving.copy()\n",
    "to_remove += ['grade'] # Extra code to drop grade\n",
    "\n",
    "# Additional factors to remove\n",
    "if 'installment' not in to_remove:\n",
    "    to_remove += ['installment']\n",
    "to_remove += ['total_pymnt','loan_amnt']\n",
    "   \n",
    "    \n",
    "features = list(set(nonnan_df.columns) - set(to_remove))\n",
    "\n",
    "nonnan_df['percent_of_income'] = nonnan_df['installment']*12/nonnan_df['annual_inc']\n",
    "nonnan_df['percent_of_income'].describe()"
   ]
  },
  {
   "cell_type": "markdown",
   "metadata": {},
   "source": [
    "# Let's work with training and test sets"
   ]
  },
  {
   "cell_type": "code",
   "execution_count": 15,
   "metadata": {},
   "outputs": [
    {
     "name": "stdout",
     "output_type": "stream",
     "text": [
      "(102069, 153) (88994, 58)\n",
      "['purpose_home_improvement', 'mort_acc', 'pub_rec_bankruptcies', 'issue_d', 'home_ownership', 'term_ 60 months', 'earliest_cr_line', 'num_accts_ever_120_pd', 'application_type_Joint App', 'num_tl_90g_dpd_24m', 'percent_bc_gt_75', 'total_bal_ex_mort', 'tot_coll_amt', 'delinq_2yrs', 'purpose_other', 'verification_status_Source Verified', 'chargeoff_within_12_mths', 'inq_last_6mths', 'pub_rec', 'dti', 'collections_12_mths_ex_med', 'purpose_renewable_energy', 'int_rate', 'fico_est', 'verification_status_Verified', 'purpose_debt_consolidation', 'emp_length', 'mo_sin_rcnt_rev_tl_op', 'purpose_major_purchase', 'mths_since_recent_bc', 'annual_inc', 'num_tl_op_past_12m', 'tax_liens', 'total_bc_limit', 'purpose_house', 'purpose_medical', 'purpose_small_business', 'mo_sin_rcnt_tl']\n",
      "(71195, 38) (17799, 38)\n"
     ]
    }
   ],
   "source": [
    "print(df.shape,nonnan_df.shape)\n",
    "\n",
    "# need to look at interest rate as well!!!\n",
    "y=nonnan_df['total_pymnt']/(nonnan_df['installment']*36 + nonnan_df['installment']*nonnan_df['term_ 60 months']*24)\n",
    "#y=nonnan_df['total_pymnt']/nonnan_df['loan_amnt']\n",
    "print(features)\n",
    "traintest_df=nonnan_df[features]\n",
    "\n",
    "X_train, X_test, y_train, y_test = train_test_split(\n",
    "    traintest_df,y,test_size=0.2,random_state=42)#,stratify=nonnan_df[['loan_status']])\n",
    "\n",
    "Xscaler = StandardScaler()\n",
    "Xscaler.fit_transform(X_train,X_test)\n",
    "\n",
    "print(X_train.shape,X_test.shape)"
   ]
  },
  {
   "cell_type": "code",
   "execution_count": 16,
   "metadata": {},
   "outputs": [
    {
     "name": "stdout",
     "output_type": "stream",
     "text": [
      "PCA used 3 components to capture >95% variance.\n",
      "Total variance captured = 0.999345.\n"
     ]
    }
   ],
   "source": [
    "# your code here\n",
    "\n",
    "pca = PCA(n_components=.95,svd_solver=\"full\")\n",
    "principalComponents = pca.fit(X_train)\n",
    "\n",
    "print(\"PCA used %d components to capture >95%% variance.\"% len(pca.components_))\n",
    "print(\"Total variance captured = %f.\" % pca.explained_variance_ratio_.sum())\n",
    "#print(principalComponents.components_)\n",
    "\n",
    "X_pca_train = pca.transform(X_train)\n",
    "X_pca_test = pca.transform(X_test)\n"
   ]
  },
  {
   "cell_type": "code",
   "execution_count": 17,
   "metadata": {},
   "outputs": [
    {
     "name": "stdout",
     "output_type": "stream",
     "text": [
      "-5.992964322654766\n",
      "[-1.03128394e-02  4.85627011e-03  1.91650287e-03  4.50594596e-03\n",
      "  1.41114258e-04 -1.39204368e-01 -1.28172093e-04  1.07984147e-03\n",
      "  2.95760028e-02 -6.61058657e-04 -3.97635570e-05  5.99996852e-08\n",
      "  6.94452534e-07 -1.35754417e-03 -1.67308701e-04 -8.54477008e-03\n",
      "  6.98101735e-03 -5.94881932e-03  1.18311212e-03 -1.15044973e-03\n",
      " -1.16996298e-02 -3.82847911e-03 -1.39306914e-02  1.37822635e-04\n",
      " -1.09867858e-02 -9.40989186e-03  1.13049906e-03 -8.50317535e-05\n",
      " -1.50432176e-02  1.94419070e-04  1.29746037e-08 -3.85033938e-03\n",
      "  2.63204466e-04  6.37458302e-08 -1.15769488e-02 -1.80447321e-02\n",
      " -4.06818184e-02  4.58706575e-05]\n",
      "The training set OLS regression R^2 score is: 0.256537\n",
      "The test set OLS regression R^2 score is: 0.255281\n"
     ]
    }
   ],
   "source": [
    "LCOLSModel = LinearRegression().fit(X_train, y_train)\n",
    "\n",
    "print(LCOLSModel.intercept_)\n",
    "print(LCOLSModel.coef_)\n",
    "\n",
    "# your code here\n",
    "trainR2 = r2_score(y_train,LCOLSModel.predict(X_train))\n",
    "\n",
    "testR2 = r2_score(y_test,LCOLSModel.predict(X_test))\n",
    "\n",
    "print(\"The training set OLS regression R^2 score is: %f\" % trainR2)\n",
    "print(\"The test set OLS regression R^2 score is: %f\" % testR2)"
   ]
  },
  {
   "cell_type": "code",
   "execution_count": 18,
   "metadata": {},
   "outputs": [
    {
     "name": "stdout",
     "output_type": "stream",
     "text": [
      "Best model searched:\n",
      "alpha = 100\n",
      "intercept = -5.892840126666618\n",
      "betas = [-3.12926827e-03  4.83525052e-03  1.83724021e-03  4.45217559e-03\n",
      "  1.74085776e-04 -1.37714253e-01 -1.27922174e-04  1.07787799e-03\n",
      "  2.54484880e-02 -6.55392875e-04 -3.84763914e-05  5.89838194e-08\n",
      "  6.88134901e-07 -1.34000116e-03  6.93183495e-03 -8.56934937e-03\n",
      "  6.07566545e-03 -5.89162402e-03  1.21934060e-03 -1.14451634e-03\n",
      " -1.09717164e-02  1.15418993e-03 -1.40205730e-02  1.34812362e-04\n",
      " -1.09168122e-02 -2.39592258e-03  1.12011773e-03 -8.47909375e-05\n",
      " -7.48025743e-03  1.93821657e-04  1.22968089e-08 -3.82175623e-03\n",
      "  2.01787023e-04  6.05487935e-08 -3.70823209e-03 -9.45634607e-03\n",
      " -2.89662720e-02  4.63635617e-05], \n",
      "The training set Ridge regression R^2 score is: 0.256518\n",
      "The test set Ridge regression R^2 score is: 0.255231\n"
     ]
    }
   ],
   "source": [
    "lambdas = [.001, .005, 1, 5, 10, 50, 100, 500, 1000]\n",
    "\n",
    "kfold = KFold(5, shuffle=True) # use this for testing\n",
    "\n",
    "LCRRModel = RidgeCV(alphas=lambdas, cv=kfold)\n",
    "LCRRModel.fit(X_train, y_train)\n",
    "LCRR_shrinkage_parameter=LCRRModel.alpha_\n",
    "\n",
    "print(\"Best model searched:\\nalpha = {}\\nintercept = {}\\nbetas = {}, \".format(LCRR_shrinkage_parameter,\n",
    "                                                                            LCRRModel.intercept_,\n",
    "                                                                            LCRRModel.coef_\n",
    "                                                                            )\n",
    "     )\n",
    "\n",
    "RRtrainR2 = r2_score(y_train,LCRRModel.predict(X_train))\n",
    "RRtestR2 = r2_score(y_test,LCRRModel.predict(X_test))\n",
    "print(\"The training set Ridge regression R^2 score is: %f\" % RRtrainR2)\n",
    "print(\"The test set Ridge regression R^2 score is: %f\" % RRtestR2)"
   ]
  },
  {
   "cell_type": "code",
   "execution_count": 19,
   "metadata": {},
   "outputs": [
    {
     "name": "stdout",
     "output_type": "stream",
     "text": [
      "Best model searched:\n",
      "alpha = 0.001\n",
      "intercept = 2.8600087094245503\n",
      "betas = [ 0.00000000e+00  4.49205847e-03  0.00000000e+00  0.00000000e+00\n",
      "  0.00000000e+00 -1.32216266e-01 -1.14831672e-04  1.86092416e-04\n",
      "  0.00000000e+00 -0.00000000e+00 -2.91307162e-05  5.22733184e-08\n",
      "  7.02596247e-07 -3.32557805e-06  0.00000000e+00 -0.00000000e+00\n",
      "  0.00000000e+00 -4.65709665e-03  0.00000000e+00 -1.12010463e-03\n",
      " -0.00000000e+00  0.00000000e+00 -1.45469421e-02  1.33098606e-04\n",
      " -8.75643537e-04 -0.00000000e+00  1.05095270e-03 -6.21496598e-05\n",
      " -0.00000000e+00  1.86913488e-04  3.41120536e-09 -3.53564147e-03\n",
      "  0.00000000e+00  2.86630989e-08 -0.00000000e+00 -0.00000000e+00\n",
      " -0.00000000e+00  3.68923291e-05], \n",
      "The training set Lasso regression R^2 score is: 0.255566\n",
      "The test set Lasso regression R^2 score is: 0.254431\n"
     ]
    }
   ],
   "source": [
    "LCLRModel = LassoCV(alphas=lambdas, cv=kfold)\n",
    "LCLRModel.fit(X_train, y_train)\n",
    "LCLR_shrinkage_parameter = LCLRModel.alpha_\n",
    "print(\"Best model searched:\\nalpha = {}\\nintercept = {}\\nbetas = {}, \".format(LCLR_shrinkage_parameter,\n",
    "                                                                            LCLRModel.intercept_,\n",
    "                                                                            LCLRModel.coef_\n",
    "                                                                            )\n",
    "     )\n",
    "\n",
    "LRtrainR2 = r2_score(y_train,LCLRModel.predict(X_train))\n",
    "LRtestR2 = r2_score(y_test,LCLRModel.predict(X_test))\n",
    "print(\"The training set Lasso regression R^2 score is: %f\" % LRtrainR2)\n",
    "print(\"The test set Lasso regression R^2 score is: %f\" % LRtestR2)"
   ]
  },
  {
   "cell_type": "code",
   "execution_count": 20,
   "metadata": {},
   "outputs": [],
   "source": [
    "coef_df=pd.DataFrame(np.array([X_train.columns,\n",
    "                               LCOLSModel.coef_,\n",
    "                               LCRRModel.coef_,\n",
    "                               LCLRModel.coef_]).T,columns=[\"feature\",\"OLS\",\"RR\",\"LR\"])"
   ]
  },
  {
   "cell_type": "code",
   "execution_count": 21,
   "metadata": {},
   "outputs": [
    {
     "name": "stdout",
     "output_type": "stream",
     "text": [
      "                                feature          OLS           RR           LR\n",
      "0              purpose_home_improvement   -0.0103128  -0.00312927            0\n",
      "1                              mort_acc   0.00485627   0.00483525   0.00449206\n",
      "2                  pub_rec_bankruptcies    0.0019165   0.00183724            0\n",
      "3                               issue_d   0.00450595   0.00445218            0\n",
      "4                        home_ownership  0.000141114  0.000174086            0\n",
      "5                       term_ 60 months    -0.139204    -0.137714    -0.132216\n",
      "6                      earliest_cr_line -0.000128172 -0.000127922 -0.000114832\n",
      "7                 num_accts_ever_120_pd   0.00107984   0.00107788  0.000186092\n",
      "8            application_type_Joint App     0.029576    0.0254485            0\n",
      "9                    num_tl_90g_dpd_24m -0.000661059 -0.000655393           -0\n",
      "10                     percent_bc_gt_75 -3.97636e-05 -3.84764e-05 -2.91307e-05\n",
      "11                    total_bal_ex_mort  5.99997e-08  5.89838e-08  5.22733e-08\n",
      "12                         tot_coll_amt  6.94453e-07  6.88135e-07  7.02596e-07\n",
      "13                          delinq_2yrs  -0.00135754     -0.00134 -3.32558e-06\n",
      "14                        purpose_other -0.000167309   0.00693183            0\n",
      "15  verification_status_Source Verified  -0.00854477  -0.00856935           -0\n",
      "16             chargeoff_within_12_mths   0.00698102   0.00607567            0\n",
      "17                       inq_last_6mths  -0.00594882  -0.00589162   -0.0046571\n",
      "18                              pub_rec   0.00118311   0.00121934            0\n",
      "19                                  dti  -0.00115045  -0.00114452   -0.0011201\n",
      "20           collections_12_mths_ex_med   -0.0116996   -0.0109717           -0\n",
      "21             purpose_renewable_energy  -0.00382848   0.00115419            0\n",
      "22                             int_rate   -0.0139307   -0.0140206   -0.0145469\n",
      "23                             fico_est  0.000137823  0.000134812  0.000133099\n",
      "24         verification_status_Verified   -0.0109868   -0.0109168 -0.000875644\n",
      "25           purpose_debt_consolidation  -0.00940989  -0.00239592           -0\n",
      "26                           emp_length    0.0011305   0.00112012   0.00105095\n",
      "27                mo_sin_rcnt_rev_tl_op -8.50318e-05 -8.47909e-05 -6.21497e-05\n",
      "28               purpose_major_purchase   -0.0150432  -0.00748026           -0\n",
      "29                 mths_since_recent_bc  0.000194419  0.000193822  0.000186913\n",
      "30                           annual_inc  1.29746e-08  1.22968e-08  3.41121e-09\n",
      "31                   num_tl_op_past_12m  -0.00385034  -0.00382176  -0.00353564\n",
      "32                            tax_liens  0.000263204  0.000201787            0\n",
      "33                       total_bc_limit  6.37458e-08  6.05488e-08  2.86631e-08\n",
      "34                        purpose_house   -0.0115769  -0.00370823           -0\n",
      "35                      purpose_medical   -0.0180447  -0.00945635           -0\n",
      "36               purpose_small_business   -0.0406818   -0.0289663           -0\n",
      "37                       mo_sin_rcnt_tl  4.58707e-05  4.63636e-05  3.68923e-05\n"
     ]
    }
   ],
   "source": [
    "print(coef_df)"
   ]
  },
  {
   "cell_type": "code",
   "execution_count": 22,
   "metadata": {},
   "outputs": [
    {
     "data": {
      "image/png": "[encoded data removed]",
      "text/plain": [
       "<Figure size 1440x720 with 1 Axes>"
      ]
     },
     "metadata": {},
     "output_type": "display_data"
    }
   ],
   "source": [
    "# your code here\n",
    "plt.figure(figsize=(20,10))\n",
    "plt.bar(coef_df[\"feature\"],[-abs(x) for x in coef_df[\"OLS\"].values],label='OLS',alpha=1.0)\n",
    "plt.bar(coef_df[\"feature\"],[-abs(x) for x in coef_df[\"RR\"].values],label='RR',alpha=0.5)\n",
    "plt.bar(coef_df[\"feature\"],[abs(x) for x in coef_df[\"LR\"].values],alpha=0.5)\n",
    "plt.yscale(\"linear\")\n",
    "\n",
    "plt.legend()\n",
    "plt.show()"
   ]
  },
  {
   "cell_type": "code",
   "execution_count": 26,
   "metadata": {},
   "outputs": [
    {
     "ename": "KeyboardInterrupt",
     "evalue": "",
     "output_type": "error",
     "traceback": [
      "\u001b[1;31m---------------------------------------------------------------------------\u001b[0m",
      "\u001b[1;31mKeyboardInterrupt\u001b[0m                         Traceback (most recent call last)",
      "\u001b[1;32m<ipython-input-26-bbb06622c9f0>\u001b[0m in \u001b[0;36m<module>\u001b[1;34m()\u001b[0m\n\u001b[0;32m      5\u001b[0m     \u001b[0ms\u001b[0m \u001b[1;33m=\u001b[0m \u001b[0mi\u001b[0m \u001b[1;33m*\u001b[0m \u001b[1;36m4\u001b[0m\u001b[1;33m\u001b[0m\u001b[0m\n\u001b[0;32m      6\u001b[0m     \u001b[0mRF_model\u001b[0m \u001b[1;33m=\u001b[0m \u001b[0mRandomForestRegressor\u001b[0m\u001b[1;33m(\u001b[0m\u001b[0ms\u001b[0m\u001b[1;33m)\u001b[0m\u001b[1;33m\u001b[0m\u001b[0m\n\u001b[1;32m----> 7\u001b[1;33m     \u001b[0mcv\u001b[0m \u001b[1;33m=\u001b[0m \u001b[0mcross_val_score\u001b[0m\u001b[1;33m(\u001b[0m\u001b[0mRF_model\u001b[0m\u001b[1;33m,\u001b[0m\u001b[0mX_train\u001b[0m\u001b[1;33m,\u001b[0m\u001b[0my_train\u001b[0m\u001b[1;33m,\u001b[0m\u001b[0mcv\u001b[0m\u001b[1;33m=\u001b[0m\u001b[1;36m6\u001b[0m\u001b[1;33m)\u001b[0m\u001b[1;33m\u001b[0m\u001b[0m\n\u001b[0m\u001b[0;32m      8\u001b[0m     \u001b[0msize\u001b[0m \u001b[1;33m+=\u001b[0m \u001b[1;33m[\u001b[0m\u001b[0ms\u001b[0m\u001b[1;33m]\u001b[0m\u001b[1;33m\u001b[0m\u001b[0m\n\u001b[0;32m      9\u001b[0m     \u001b[0mavg_score\u001b[0m \u001b[1;33m+=\u001b[0m  \u001b[1;33m[\u001b[0m\u001b[0mnp\u001b[0m\u001b[1;33m.\u001b[0m\u001b[0maverage\u001b[0m\u001b[1;33m(\u001b[0m\u001b[0mcv\u001b[0m\u001b[1;33m)\u001b[0m\u001b[1;33m]\u001b[0m\u001b[1;33m\u001b[0m\u001b[0m\n",
      "\u001b[1;32m~\\AppData\\Local\\Continuum\\anaconda3\\lib\\site-packages\\sklearn\\model_selection\\_validation.py\u001b[0m in \u001b[0;36mcross_val_score\u001b[1;34m(estimator, X, y, groups, scoring, cv, n_jobs, verbose, fit_params, pre_dispatch)\u001b[0m\n\u001b[0;32m    340\u001b[0m                                 \u001b[0mn_jobs\u001b[0m\u001b[1;33m=\u001b[0m\u001b[0mn_jobs\u001b[0m\u001b[1;33m,\u001b[0m \u001b[0mverbose\u001b[0m\u001b[1;33m=\u001b[0m\u001b[0mverbose\u001b[0m\u001b[1;33m,\u001b[0m\u001b[1;33m\u001b[0m\u001b[0m\n\u001b[0;32m    341\u001b[0m                                 \u001b[0mfit_params\u001b[0m\u001b[1;33m=\u001b[0m\u001b[0mfit_params\u001b[0m\u001b[1;33m,\u001b[0m\u001b[1;33m\u001b[0m\u001b[0m\n\u001b[1;32m--> 342\u001b[1;33m                                 pre_dispatch=pre_dispatch)\n\u001b[0m\u001b[0;32m    343\u001b[0m     \u001b[1;32mreturn\u001b[0m \u001b[0mcv_results\u001b[0m\u001b[1;33m[\u001b[0m\u001b[1;34m'test_score'\u001b[0m\u001b[1;33m]\u001b[0m\u001b[1;33m\u001b[0m\u001b[0m\n\u001b[0;32m    344\u001b[0m \u001b[1;33m\u001b[0m\u001b[0m\n",
      "\u001b[1;32m~\\AppData\\Local\\Continuum\\anaconda3\\lib\\site-packages\\sklearn\\model_selection\\_validation.py\u001b[0m in \u001b[0;36mcross_validate\u001b[1;34m(estimator, X, y, groups, scoring, cv, n_jobs, verbose, fit_params, pre_dispatch, return_train_score)\u001b[0m\n\u001b[0;32m    204\u001b[0m             \u001b[0mfit_params\u001b[0m\u001b[1;33m,\u001b[0m \u001b[0mreturn_train_score\u001b[0m\u001b[1;33m=\u001b[0m\u001b[0mreturn_train_score\u001b[0m\u001b[1;33m,\u001b[0m\u001b[1;33m\u001b[0m\u001b[0m\n\u001b[0;32m    205\u001b[0m             return_times=True)\n\u001b[1;32m--> 206\u001b[1;33m         for train, test in cv.split(X, y, groups))\n\u001b[0m\u001b[0;32m    207\u001b[0m \u001b[1;33m\u001b[0m\u001b[0m\n\u001b[0;32m    208\u001b[0m     \u001b[1;32mif\u001b[0m \u001b[0mreturn_train_score\u001b[0m\u001b[1;33m:\u001b[0m\u001b[1;33m\u001b[0m\u001b[0m\n",
      "\u001b[1;32m~\\AppData\\Local\\Continuum\\anaconda3\\lib\\site-packages\\sklearn\\externals\\joblib\\parallel.py\u001b[0m in \u001b[0;36m__call__\u001b[1;34m(self, iterable)\u001b[0m\n\u001b[0;32m    777\u001b[0m             \u001b[1;31m# was dispatched. In particular this covers the edge\u001b[0m\u001b[1;33m\u001b[0m\u001b[1;33m\u001b[0m\u001b[0m\n\u001b[0;32m    778\u001b[0m             \u001b[1;31m# case of Parallel used with an exhausted iterator.\u001b[0m\u001b[1;33m\u001b[0m\u001b[1;33m\u001b[0m\u001b[0m\n\u001b[1;32m--> 779\u001b[1;33m             \u001b[1;32mwhile\u001b[0m \u001b[0mself\u001b[0m\u001b[1;33m.\u001b[0m\u001b[0mdispatch_one_batch\u001b[0m\u001b[1;33m(\u001b[0m\u001b[0miterator\u001b[0m\u001b[1;33m)\u001b[0m\u001b[1;33m:\u001b[0m\u001b[1;33m\u001b[0m\u001b[0m\n\u001b[0m\u001b[0;32m    780\u001b[0m                 \u001b[0mself\u001b[0m\u001b[1;33m.\u001b[0m\u001b[0m_iterating\u001b[0m \u001b[1;33m=\u001b[0m \u001b[1;32mTrue\u001b[0m\u001b[1;33m\u001b[0m\u001b[0m\n\u001b[0;32m    781\u001b[0m             \u001b[1;32melse\u001b[0m\u001b[1;33m:\u001b[0m\u001b[1;33m\u001b[0m\u001b[0m\n",
      "\u001b[1;32m~\\AppData\\Local\\Continuum\\anaconda3\\lib\\site-packages\\sklearn\\externals\\joblib\\parallel.py\u001b[0m in \u001b[0;36mdispatch_one_batch\u001b[1;34m(self, iterator)\u001b[0m\n\u001b[0;32m    623\u001b[0m                 \u001b[1;32mreturn\u001b[0m \u001b[1;32mFalse\u001b[0m\u001b[1;33m\u001b[0m\u001b[0m\n\u001b[0;32m    624\u001b[0m             \u001b[1;32melse\u001b[0m\u001b[1;33m:\u001b[0m\u001b[1;33m\u001b[0m\u001b[0m\n\u001b[1;32m--> 625\u001b[1;33m                 \u001b[0mself\u001b[0m\u001b[1;33m.\u001b[0m\u001b[0m_dispatch\u001b[0m\u001b[1;33m(\u001b[0m\u001b[0mtasks\u001b[0m\u001b[1;33m)\u001b[0m\u001b[1;33m\u001b[0m\u001b[0m\n\u001b[0m\u001b[0;32m    626\u001b[0m                 \u001b[1;32mreturn\u001b[0m \u001b[1;32mTrue\u001b[0m\u001b[1;33m\u001b[0m\u001b[0m\n\u001b[0;32m    627\u001b[0m \u001b[1;33m\u001b[0m\u001b[0m\n",
      "\u001b[1;32m~\\AppData\\Local\\Continuum\\anaconda3\\lib\\site-packages\\sklearn\\externals\\joblib\\parallel.py\u001b[0m in \u001b[0;36m_dispatch\u001b[1;34m(self, batch)\u001b[0m\n\u001b[0;32m    586\u001b[0m         \u001b[0mdispatch_timestamp\u001b[0m \u001b[1;33m=\u001b[0m \u001b[0mtime\u001b[0m\u001b[1;33m.\u001b[0m\u001b[0mtime\u001b[0m\u001b[1;33m(\u001b[0m\u001b[1;33m)\u001b[0m\u001b[1;33m\u001b[0m\u001b[0m\n\u001b[0;32m    587\u001b[0m         \u001b[0mcb\u001b[0m \u001b[1;33m=\u001b[0m \u001b[0mBatchCompletionCallBack\u001b[0m\u001b[1;33m(\u001b[0m\u001b[0mdispatch_timestamp\u001b[0m\u001b[1;33m,\u001b[0m \u001b[0mlen\u001b[0m\u001b[1;33m(\u001b[0m\u001b[0mbatch\u001b[0m\u001b[1;33m)\u001b[0m\u001b[1;33m,\u001b[0m \u001b[0mself\u001b[0m\u001b[1;33m)\u001b[0m\u001b[1;33m\u001b[0m\u001b[0m\n\u001b[1;32m--> 588\u001b[1;33m         \u001b[0mjob\u001b[0m \u001b[1;33m=\u001b[0m \u001b[0mself\u001b[0m\u001b[1;33m.\u001b[0m\u001b[0m_backend\u001b[0m\u001b[1;33m.\u001b[0m\u001b[0mapply_async\u001b[0m\u001b[1;33m(\u001b[0m\u001b[0mbatch\u001b[0m\u001b[1;33m,\u001b[0m \u001b[0mcallback\u001b[0m\u001b[1;33m=\u001b[0m\u001b[0mcb\u001b[0m\u001b[1;33m)\u001b[0m\u001b[1;33m\u001b[0m\u001b[0m\n\u001b[0m\u001b[0;32m    589\u001b[0m         \u001b[0mself\u001b[0m\u001b[1;33m.\u001b[0m\u001b[0m_jobs\u001b[0m\u001b[1;33m.\u001b[0m\u001b[0mappend\u001b[0m\u001b[1;33m(\u001b[0m\u001b[0mjob\u001b[0m\u001b[1;33m)\u001b[0m\u001b[1;33m\u001b[0m\u001b[0m\n\u001b[0;32m    590\u001b[0m \u001b[1;33m\u001b[0m\u001b[0m\n",
      "\u001b[1;32m~\\AppData\\Local\\Continuum\\anaconda3\\lib\\site-packages\\sklearn\\externals\\joblib\\_parallel_backends.py\u001b[0m in \u001b[0;36mapply_async\u001b[1;34m(self, func, callback)\u001b[0m\n\u001b[0;32m    109\u001b[0m     \u001b[1;32mdef\u001b[0m \u001b[0mapply_async\u001b[0m\u001b[1;33m(\u001b[0m\u001b[0mself\u001b[0m\u001b[1;33m,\u001b[0m \u001b[0mfunc\u001b[0m\u001b[1;33m,\u001b[0m \u001b[0mcallback\u001b[0m\u001b[1;33m=\u001b[0m\u001b[1;32mNone\u001b[0m\u001b[1;33m)\u001b[0m\u001b[1;33m:\u001b[0m\u001b[1;33m\u001b[0m\u001b[0m\n\u001b[0;32m    110\u001b[0m         \u001b[1;34m\"\"\"Schedule a func to be run\"\"\"\u001b[0m\u001b[1;33m\u001b[0m\u001b[0m\n\u001b[1;32m--> 111\u001b[1;33m         \u001b[0mresult\u001b[0m \u001b[1;33m=\u001b[0m \u001b[0mImmediateResult\u001b[0m\u001b[1;33m(\u001b[0m\u001b[0mfunc\u001b[0m\u001b[1;33m)\u001b[0m\u001b[1;33m\u001b[0m\u001b[0m\n\u001b[0m\u001b[0;32m    112\u001b[0m         \u001b[1;32mif\u001b[0m \u001b[0mcallback\u001b[0m\u001b[1;33m:\u001b[0m\u001b[1;33m\u001b[0m\u001b[0m\n\u001b[0;32m    113\u001b[0m             \u001b[0mcallback\u001b[0m\u001b[1;33m(\u001b[0m\u001b[0mresult\u001b[0m\u001b[1;33m)\u001b[0m\u001b[1;33m\u001b[0m\u001b[0m\n",
      "\u001b[1;32m~\\AppData\\Local\\Continuum\\anaconda3\\lib\\site-packages\\sklearn\\externals\\joblib\\_parallel_backends.py\u001b[0m in \u001b[0;36m__init__\u001b[1;34m(self, batch)\u001b[0m\n\u001b[0;32m    330\u001b[0m         \u001b[1;31m# Don't delay the application, to avoid keeping the input\u001b[0m\u001b[1;33m\u001b[0m\u001b[1;33m\u001b[0m\u001b[0m\n\u001b[0;32m    331\u001b[0m         \u001b[1;31m# arguments in memory\u001b[0m\u001b[1;33m\u001b[0m\u001b[1;33m\u001b[0m\u001b[0m\n\u001b[1;32m--> 332\u001b[1;33m         \u001b[0mself\u001b[0m\u001b[1;33m.\u001b[0m\u001b[0mresults\u001b[0m \u001b[1;33m=\u001b[0m \u001b[0mbatch\u001b[0m\u001b[1;33m(\u001b[0m\u001b[1;33m)\u001b[0m\u001b[1;33m\u001b[0m\u001b[0m\n\u001b[0m\u001b[0;32m    333\u001b[0m \u001b[1;33m\u001b[0m\u001b[0m\n\u001b[0;32m    334\u001b[0m     \u001b[1;32mdef\u001b[0m \u001b[0mget\u001b[0m\u001b[1;33m(\u001b[0m\u001b[0mself\u001b[0m\u001b[1;33m)\u001b[0m\u001b[1;33m:\u001b[0m\u001b[1;33m\u001b[0m\u001b[0m\n",
      "\u001b[1;32m~\\AppData\\Local\\Continuum\\anaconda3\\lib\\site-packages\\sklearn\\externals\\joblib\\parallel.py\u001b[0m in \u001b[0;36m__call__\u001b[1;34m(self)\u001b[0m\n\u001b[0;32m    129\u001b[0m \u001b[1;33m\u001b[0m\u001b[0m\n\u001b[0;32m    130\u001b[0m     \u001b[1;32mdef\u001b[0m \u001b[0m__call__\u001b[0m\u001b[1;33m(\u001b[0m\u001b[0mself\u001b[0m\u001b[1;33m)\u001b[0m\u001b[1;33m:\u001b[0m\u001b[1;33m\u001b[0m\u001b[0m\n\u001b[1;32m--> 131\u001b[1;33m         \u001b[1;32mreturn\u001b[0m \u001b[1;33m[\u001b[0m\u001b[0mfunc\u001b[0m\u001b[1;33m(\u001b[0m\u001b[1;33m*\u001b[0m\u001b[0margs\u001b[0m\u001b[1;33m,\u001b[0m \u001b[1;33m**\u001b[0m\u001b[0mkwargs\u001b[0m\u001b[1;33m)\u001b[0m \u001b[1;32mfor\u001b[0m \u001b[0mfunc\u001b[0m\u001b[1;33m,\u001b[0m \u001b[0margs\u001b[0m\u001b[1;33m,\u001b[0m \u001b[0mkwargs\u001b[0m \u001b[1;32min\u001b[0m \u001b[0mself\u001b[0m\u001b[1;33m.\u001b[0m\u001b[0mitems\u001b[0m\u001b[1;33m]\u001b[0m\u001b[1;33m\u001b[0m\u001b[0m\n\u001b[0m\u001b[0;32m    132\u001b[0m \u001b[1;33m\u001b[0m\u001b[0m\n\u001b[0;32m    133\u001b[0m     \u001b[1;32mdef\u001b[0m \u001b[0m__len__\u001b[0m\u001b[1;33m(\u001b[0m\u001b[0mself\u001b[0m\u001b[1;33m)\u001b[0m\u001b[1;33m:\u001b[0m\u001b[1;33m\u001b[0m\u001b[0m\n",
      "\u001b[1;32m~\\AppData\\Local\\Continuum\\anaconda3\\lib\\site-packages\\sklearn\\externals\\joblib\\parallel.py\u001b[0m in \u001b[0;36m<listcomp>\u001b[1;34m(.0)\u001b[0m\n\u001b[0;32m    129\u001b[0m \u001b[1;33m\u001b[0m\u001b[0m\n\u001b[0;32m    130\u001b[0m     \u001b[1;32mdef\u001b[0m \u001b[0m__call__\u001b[0m\u001b[1;33m(\u001b[0m\u001b[0mself\u001b[0m\u001b[1;33m)\u001b[0m\u001b[1;33m:\u001b[0m\u001b[1;33m\u001b[0m\u001b[0m\n\u001b[1;32m--> 131\u001b[1;33m         \u001b[1;32mreturn\u001b[0m \u001b[1;33m[\u001b[0m\u001b[0mfunc\u001b[0m\u001b[1;33m(\u001b[0m\u001b[1;33m*\u001b[0m\u001b[0margs\u001b[0m\u001b[1;33m,\u001b[0m \u001b[1;33m**\u001b[0m\u001b[0mkwargs\u001b[0m\u001b[1;33m)\u001b[0m \u001b[1;32mfor\u001b[0m \u001b[0mfunc\u001b[0m\u001b[1;33m,\u001b[0m \u001b[0margs\u001b[0m\u001b[1;33m,\u001b[0m \u001b[0mkwargs\u001b[0m \u001b[1;32min\u001b[0m \u001b[0mself\u001b[0m\u001b[1;33m.\u001b[0m\u001b[0mitems\u001b[0m\u001b[1;33m]\u001b[0m\u001b[1;33m\u001b[0m\u001b[0m\n\u001b[0m\u001b[0;32m    132\u001b[0m \u001b[1;33m\u001b[0m\u001b[0m\n\u001b[0;32m    133\u001b[0m     \u001b[1;32mdef\u001b[0m \u001b[0m__len__\u001b[0m\u001b[1;33m(\u001b[0m\u001b[0mself\u001b[0m\u001b[1;33m)\u001b[0m\u001b[1;33m:\u001b[0m\u001b[1;33m\u001b[0m\u001b[0m\n",
      "\u001b[1;32m~\\AppData\\Local\\Continuum\\anaconda3\\lib\\site-packages\\sklearn\\model_selection\\_validation.py\u001b[0m in \u001b[0;36m_fit_and_score\u001b[1;34m(estimator, X, y, scorer, train, test, verbose, parameters, fit_params, return_train_score, return_parameters, return_n_test_samples, return_times, error_score)\u001b[0m\n\u001b[0;32m    456\u001b[0m             \u001b[0mestimator\u001b[0m\u001b[1;33m.\u001b[0m\u001b[0mfit\u001b[0m\u001b[1;33m(\u001b[0m\u001b[0mX_train\u001b[0m\u001b[1;33m,\u001b[0m \u001b[1;33m**\u001b[0m\u001b[0mfit_params\u001b[0m\u001b[1;33m)\u001b[0m\u001b[1;33m\u001b[0m\u001b[0m\n\u001b[0;32m    457\u001b[0m         \u001b[1;32melse\u001b[0m\u001b[1;33m:\u001b[0m\u001b[1;33m\u001b[0m\u001b[0m\n\u001b[1;32m--> 458\u001b[1;33m             \u001b[0mestimator\u001b[0m\u001b[1;33m.\u001b[0m\u001b[0mfit\u001b[0m\u001b[1;33m(\u001b[0m\u001b[0mX_train\u001b[0m\u001b[1;33m,\u001b[0m \u001b[0my_train\u001b[0m\u001b[1;33m,\u001b[0m \u001b[1;33m**\u001b[0m\u001b[0mfit_params\u001b[0m\u001b[1;33m)\u001b[0m\u001b[1;33m\u001b[0m\u001b[0m\n\u001b[0m\u001b[0;32m    459\u001b[0m \u001b[1;33m\u001b[0m\u001b[0m\n\u001b[0;32m    460\u001b[0m     \u001b[1;32mexcept\u001b[0m \u001b[0mException\u001b[0m \u001b[1;32mas\u001b[0m \u001b[0me\u001b[0m\u001b[1;33m:\u001b[0m\u001b[1;33m\u001b[0m\u001b[0m\n",
      "\u001b[1;32m~\\AppData\\Local\\Continuum\\anaconda3\\lib\\site-packages\\sklearn\\ensemble\\forest.py\u001b[0m in \u001b[0;36mfit\u001b[1;34m(self, X, y, sample_weight)\u001b[0m\n\u001b[0;32m    326\u001b[0m                     \u001b[0mt\u001b[0m\u001b[1;33m,\u001b[0m \u001b[0mself\u001b[0m\u001b[1;33m,\u001b[0m \u001b[0mX\u001b[0m\u001b[1;33m,\u001b[0m \u001b[0my\u001b[0m\u001b[1;33m,\u001b[0m \u001b[0msample_weight\u001b[0m\u001b[1;33m,\u001b[0m \u001b[0mi\u001b[0m\u001b[1;33m,\u001b[0m \u001b[0mlen\u001b[0m\u001b[1;33m(\u001b[0m\u001b[0mtrees\u001b[0m\u001b[1;33m)\u001b[0m\u001b[1;33m,\u001b[0m\u001b[1;33m\u001b[0m\u001b[0m\n\u001b[0;32m    327\u001b[0m                     verbose=self.verbose, class_weight=self.class_weight)\n\u001b[1;32m--> 328\u001b[1;33m                 for i, t in enumerate(trees))\n\u001b[0m\u001b[0;32m    329\u001b[0m \u001b[1;33m\u001b[0m\u001b[0m\n\u001b[0;32m    330\u001b[0m             \u001b[1;31m# Collect newly grown trees\u001b[0m\u001b[1;33m\u001b[0m\u001b[1;33m\u001b[0m\u001b[0m\n",
      "\u001b[1;32m~\\AppData\\Local\\Continuum\\anaconda3\\lib\\site-packages\\sklearn\\externals\\joblib\\parallel.py\u001b[0m in \u001b[0;36m__call__\u001b[1;34m(self, iterable)\u001b[0m\n\u001b[0;32m    777\u001b[0m             \u001b[1;31m# was dispatched. In particular this covers the edge\u001b[0m\u001b[1;33m\u001b[0m\u001b[1;33m\u001b[0m\u001b[0m\n\u001b[0;32m    778\u001b[0m             \u001b[1;31m# case of Parallel used with an exhausted iterator.\u001b[0m\u001b[1;33m\u001b[0m\u001b[1;33m\u001b[0m\u001b[0m\n\u001b[1;32m--> 779\u001b[1;33m             \u001b[1;32mwhile\u001b[0m \u001b[0mself\u001b[0m\u001b[1;33m.\u001b[0m\u001b[0mdispatch_one_batch\u001b[0m\u001b[1;33m(\u001b[0m\u001b[0miterator\u001b[0m\u001b[1;33m)\u001b[0m\u001b[1;33m:\u001b[0m\u001b[1;33m\u001b[0m\u001b[0m\n\u001b[0m\u001b[0;32m    780\u001b[0m                 \u001b[0mself\u001b[0m\u001b[1;33m.\u001b[0m\u001b[0m_iterating\u001b[0m \u001b[1;33m=\u001b[0m \u001b[1;32mTrue\u001b[0m\u001b[1;33m\u001b[0m\u001b[0m\n\u001b[0;32m    781\u001b[0m             \u001b[1;32melse\u001b[0m\u001b[1;33m:\u001b[0m\u001b[1;33m\u001b[0m\u001b[0m\n",
      "\u001b[1;32m~\\AppData\\Local\\Continuum\\anaconda3\\lib\\site-packages\\sklearn\\externals\\joblib\\parallel.py\u001b[0m in \u001b[0;36mdispatch_one_batch\u001b[1;34m(self, iterator)\u001b[0m\n\u001b[0;32m    623\u001b[0m                 \u001b[1;32mreturn\u001b[0m \u001b[1;32mFalse\u001b[0m\u001b[1;33m\u001b[0m\u001b[0m\n\u001b[0;32m    624\u001b[0m             \u001b[1;32melse\u001b[0m\u001b[1;33m:\u001b[0m\u001b[1;33m\u001b[0m\u001b[0m\n\u001b[1;32m--> 625\u001b[1;33m                 \u001b[0mself\u001b[0m\u001b[1;33m.\u001b[0m\u001b[0m_dispatch\u001b[0m\u001b[1;33m(\u001b[0m\u001b[0mtasks\u001b[0m\u001b[1;33m)\u001b[0m\u001b[1;33m\u001b[0m\u001b[0m\n\u001b[0m\u001b[0;32m    626\u001b[0m                 \u001b[1;32mreturn\u001b[0m \u001b[1;32mTrue\u001b[0m\u001b[1;33m\u001b[0m\u001b[0m\n\u001b[0;32m    627\u001b[0m \u001b[1;33m\u001b[0m\u001b[0m\n",
      "\u001b[1;32m~\\AppData\\Local\\Continuum\\anaconda3\\lib\\site-packages\\sklearn\\externals\\joblib\\parallel.py\u001b[0m in \u001b[0;36m_dispatch\u001b[1;34m(self, batch)\u001b[0m\n\u001b[0;32m    586\u001b[0m         \u001b[0mdispatch_timestamp\u001b[0m \u001b[1;33m=\u001b[0m \u001b[0mtime\u001b[0m\u001b[1;33m.\u001b[0m\u001b[0mtime\u001b[0m\u001b[1;33m(\u001b[0m\u001b[1;33m)\u001b[0m\u001b[1;33m\u001b[0m\u001b[0m\n\u001b[0;32m    587\u001b[0m         \u001b[0mcb\u001b[0m \u001b[1;33m=\u001b[0m \u001b[0mBatchCompletionCallBack\u001b[0m\u001b[1;33m(\u001b[0m\u001b[0mdispatch_timestamp\u001b[0m\u001b[1;33m,\u001b[0m \u001b[0mlen\u001b[0m\u001b[1;33m(\u001b[0m\u001b[0mbatch\u001b[0m\u001b[1;33m)\u001b[0m\u001b[1;33m,\u001b[0m \u001b[0mself\u001b[0m\u001b[1;33m)\u001b[0m\u001b[1;33m\u001b[0m\u001b[0m\n\u001b[1;32m--> 588\u001b[1;33m         \u001b[0mjob\u001b[0m \u001b[1;33m=\u001b[0m \u001b[0mself\u001b[0m\u001b[1;33m.\u001b[0m\u001b[0m_backend\u001b[0m\u001b[1;33m.\u001b[0m\u001b[0mapply_async\u001b[0m\u001b[1;33m(\u001b[0m\u001b[0mbatch\u001b[0m\u001b[1;33m,\u001b[0m \u001b[0mcallback\u001b[0m\u001b[1;33m=\u001b[0m\u001b[0mcb\u001b[0m\u001b[1;33m)\u001b[0m\u001b[1;33m\u001b[0m\u001b[0m\n\u001b[0m\u001b[0;32m    589\u001b[0m         \u001b[0mself\u001b[0m\u001b[1;33m.\u001b[0m\u001b[0m_jobs\u001b[0m\u001b[1;33m.\u001b[0m\u001b[0mappend\u001b[0m\u001b[1;33m(\u001b[0m\u001b[0mjob\u001b[0m\u001b[1;33m)\u001b[0m\u001b[1;33m\u001b[0m\u001b[0m\n\u001b[0;32m    590\u001b[0m \u001b[1;33m\u001b[0m\u001b[0m\n",
      "\u001b[1;32m~\\AppData\\Local\\Continuum\\anaconda3\\lib\\site-packages\\sklearn\\externals\\joblib\\_parallel_backends.py\u001b[0m in \u001b[0;36mapply_async\u001b[1;34m(self, func, callback)\u001b[0m\n\u001b[0;32m    109\u001b[0m     \u001b[1;32mdef\u001b[0m \u001b[0mapply_async\u001b[0m\u001b[1;33m(\u001b[0m\u001b[0mself\u001b[0m\u001b[1;33m,\u001b[0m \u001b[0mfunc\u001b[0m\u001b[1;33m,\u001b[0m \u001b[0mcallback\u001b[0m\u001b[1;33m=\u001b[0m\u001b[1;32mNone\u001b[0m\u001b[1;33m)\u001b[0m\u001b[1;33m:\u001b[0m\u001b[1;33m\u001b[0m\u001b[0m\n\u001b[0;32m    110\u001b[0m         \u001b[1;34m\"\"\"Schedule a func to be run\"\"\"\u001b[0m\u001b[1;33m\u001b[0m\u001b[0m\n\u001b[1;32m--> 111\u001b[1;33m         \u001b[0mresult\u001b[0m \u001b[1;33m=\u001b[0m \u001b[0mImmediateResult\u001b[0m\u001b[1;33m(\u001b[0m\u001b[0mfunc\u001b[0m\u001b[1;33m)\u001b[0m\u001b[1;33m\u001b[0m\u001b[0m\n\u001b[0m\u001b[0;32m    112\u001b[0m         \u001b[1;32mif\u001b[0m \u001b[0mcallback\u001b[0m\u001b[1;33m:\u001b[0m\u001b[1;33m\u001b[0m\u001b[0m\n\u001b[0;32m    113\u001b[0m             \u001b[0mcallback\u001b[0m\u001b[1;33m(\u001b[0m\u001b[0mresult\u001b[0m\u001b[1;33m)\u001b[0m\u001b[1;33m\u001b[0m\u001b[0m\n",
      "\u001b[1;32m~\\AppData\\Local\\Continuum\\anaconda3\\lib\\site-packages\\sklearn\\externals\\joblib\\_parallel_backends.py\u001b[0m in \u001b[0;36m__init__\u001b[1;34m(self, batch)\u001b[0m\n\u001b[0;32m    330\u001b[0m         \u001b[1;31m# Don't delay the application, to avoid keeping the input\u001b[0m\u001b[1;33m\u001b[0m\u001b[1;33m\u001b[0m\u001b[0m\n\u001b[0;32m    331\u001b[0m         \u001b[1;31m# arguments in memory\u001b[0m\u001b[1;33m\u001b[0m\u001b[1;33m\u001b[0m\u001b[0m\n\u001b[1;32m--> 332\u001b[1;33m         \u001b[0mself\u001b[0m\u001b[1;33m.\u001b[0m\u001b[0mresults\u001b[0m \u001b[1;33m=\u001b[0m \u001b[0mbatch\u001b[0m\u001b[1;33m(\u001b[0m\u001b[1;33m)\u001b[0m\u001b[1;33m\u001b[0m\u001b[0m\n\u001b[0m\u001b[0;32m    333\u001b[0m \u001b[1;33m\u001b[0m\u001b[0m\n\u001b[0;32m    334\u001b[0m     \u001b[1;32mdef\u001b[0m \u001b[0mget\u001b[0m\u001b[1;33m(\u001b[0m\u001b[0mself\u001b[0m\u001b[1;33m)\u001b[0m\u001b[1;33m:\u001b[0m\u001b[1;33m\u001b[0m\u001b[0m\n",
      "\u001b[1;32m~\\AppData\\Local\\Continuum\\anaconda3\\lib\\site-packages\\sklearn\\externals\\joblib\\parallel.py\u001b[0m in \u001b[0;36m__call__\u001b[1;34m(self)\u001b[0m\n\u001b[0;32m    129\u001b[0m \u001b[1;33m\u001b[0m\u001b[0m\n\u001b[0;32m    130\u001b[0m     \u001b[1;32mdef\u001b[0m \u001b[0m__call__\u001b[0m\u001b[1;33m(\u001b[0m\u001b[0mself\u001b[0m\u001b[1;33m)\u001b[0m\u001b[1;33m:\u001b[0m\u001b[1;33m\u001b[0m\u001b[0m\n\u001b[1;32m--> 131\u001b[1;33m         \u001b[1;32mreturn\u001b[0m \u001b[1;33m[\u001b[0m\u001b[0mfunc\u001b[0m\u001b[1;33m(\u001b[0m\u001b[1;33m*\u001b[0m\u001b[0margs\u001b[0m\u001b[1;33m,\u001b[0m \u001b[1;33m**\u001b[0m\u001b[0mkwargs\u001b[0m\u001b[1;33m)\u001b[0m \u001b[1;32mfor\u001b[0m \u001b[0mfunc\u001b[0m\u001b[1;33m,\u001b[0m \u001b[0margs\u001b[0m\u001b[1;33m,\u001b[0m \u001b[0mkwargs\u001b[0m \u001b[1;32min\u001b[0m \u001b[0mself\u001b[0m\u001b[1;33m.\u001b[0m\u001b[0mitems\u001b[0m\u001b[1;33m]\u001b[0m\u001b[1;33m\u001b[0m\u001b[0m\n\u001b[0m\u001b[0;32m    132\u001b[0m \u001b[1;33m\u001b[0m\u001b[0m\n\u001b[0;32m    133\u001b[0m     \u001b[1;32mdef\u001b[0m \u001b[0m__len__\u001b[0m\u001b[1;33m(\u001b[0m\u001b[0mself\u001b[0m\u001b[1;33m)\u001b[0m\u001b[1;33m:\u001b[0m\u001b[1;33m\u001b[0m\u001b[0m\n",
      "\u001b[1;32m~\\AppData\\Local\\Continuum\\anaconda3\\lib\\site-packages\\sklearn\\externals\\joblib\\parallel.py\u001b[0m in \u001b[0;36m<listcomp>\u001b[1;34m(.0)\u001b[0m\n\u001b[0;32m    129\u001b[0m \u001b[1;33m\u001b[0m\u001b[0m\n\u001b[0;32m    130\u001b[0m     \u001b[1;32mdef\u001b[0m \u001b[0m__call__\u001b[0m\u001b[1;33m(\u001b[0m\u001b[0mself\u001b[0m\u001b[1;33m)\u001b[0m\u001b[1;33m:\u001b[0m\u001b[1;33m\u001b[0m\u001b[0m\n\u001b[1;32m--> 131\u001b[1;33m         \u001b[1;32mreturn\u001b[0m \u001b[1;33m[\u001b[0m\u001b[0mfunc\u001b[0m\u001b[1;33m(\u001b[0m\u001b[1;33m*\u001b[0m\u001b[0margs\u001b[0m\u001b[1;33m,\u001b[0m \u001b[1;33m**\u001b[0m\u001b[0mkwargs\u001b[0m\u001b[1;33m)\u001b[0m \u001b[1;32mfor\u001b[0m \u001b[0mfunc\u001b[0m\u001b[1;33m,\u001b[0m \u001b[0margs\u001b[0m\u001b[1;33m,\u001b[0m \u001b[0mkwargs\u001b[0m \u001b[1;32min\u001b[0m \u001b[0mself\u001b[0m\u001b[1;33m.\u001b[0m\u001b[0mitems\u001b[0m\u001b[1;33m]\u001b[0m\u001b[1;33m\u001b[0m\u001b[0m\n\u001b[0m\u001b[0;32m    132\u001b[0m \u001b[1;33m\u001b[0m\u001b[0m\n\u001b[0;32m    133\u001b[0m     \u001b[1;32mdef\u001b[0m \u001b[0m__len__\u001b[0m\u001b[1;33m(\u001b[0m\u001b[0mself\u001b[0m\u001b[1;33m)\u001b[0m\u001b[1;33m:\u001b[0m\u001b[1;33m\u001b[0m\u001b[0m\n",
      "\u001b[1;32m~\\AppData\\Local\\Continuum\\anaconda3\\lib\\site-packages\\sklearn\\ensemble\\forest.py\u001b[0m in \u001b[0;36m_parallel_build_trees\u001b[1;34m(tree, forest, X, y, sample_weight, tree_idx, n_trees, verbose, class_weight)\u001b[0m\n\u001b[0;32m    119\u001b[0m             \u001b[0mcurr_sample_weight\u001b[0m \u001b[1;33m*=\u001b[0m \u001b[0mcompute_sample_weight\u001b[0m\u001b[1;33m(\u001b[0m\u001b[1;34m'balanced'\u001b[0m\u001b[1;33m,\u001b[0m \u001b[0my\u001b[0m\u001b[1;33m,\u001b[0m \u001b[0mindices\u001b[0m\u001b[1;33m)\u001b[0m\u001b[1;33m\u001b[0m\u001b[0m\n\u001b[0;32m    120\u001b[0m \u001b[1;33m\u001b[0m\u001b[0m\n\u001b[1;32m--> 121\u001b[1;33m         \u001b[0mtree\u001b[0m\u001b[1;33m.\u001b[0m\u001b[0mfit\u001b[0m\u001b[1;33m(\u001b[0m\u001b[0mX\u001b[0m\u001b[1;33m,\u001b[0m \u001b[0my\u001b[0m\u001b[1;33m,\u001b[0m \u001b[0msample_weight\u001b[0m\u001b[1;33m=\u001b[0m\u001b[0mcurr_sample_weight\u001b[0m\u001b[1;33m,\u001b[0m \u001b[0mcheck_input\u001b[0m\u001b[1;33m=\u001b[0m\u001b[1;32mFalse\u001b[0m\u001b[1;33m)\u001b[0m\u001b[1;33m\u001b[0m\u001b[0m\n\u001b[0m\u001b[0;32m    122\u001b[0m     \u001b[1;32melse\u001b[0m\u001b[1;33m:\u001b[0m\u001b[1;33m\u001b[0m\u001b[0m\n\u001b[0;32m    123\u001b[0m         \u001b[0mtree\u001b[0m\u001b[1;33m.\u001b[0m\u001b[0mfit\u001b[0m\u001b[1;33m(\u001b[0m\u001b[0mX\u001b[0m\u001b[1;33m,\u001b[0m \u001b[0my\u001b[0m\u001b[1;33m,\u001b[0m \u001b[0msample_weight\u001b[0m\u001b[1;33m=\u001b[0m\u001b[0msample_weight\u001b[0m\u001b[1;33m,\u001b[0m \u001b[0mcheck_input\u001b[0m\u001b[1;33m=\u001b[0m\u001b[1;32mFalse\u001b[0m\u001b[1;33m)\u001b[0m\u001b[1;33m\u001b[0m\u001b[0m\n",
      "\u001b[1;32m~\\AppData\\Local\\Continuum\\anaconda3\\lib\\site-packages\\sklearn\\tree\\tree.py\u001b[0m in \u001b[0;36mfit\u001b[1;34m(self, X, y, sample_weight, check_input, X_idx_sorted)\u001b[0m\n\u001b[0;32m   1122\u001b[0m             \u001b[0msample_weight\u001b[0m\u001b[1;33m=\u001b[0m\u001b[0msample_weight\u001b[0m\u001b[1;33m,\u001b[0m\u001b[1;33m\u001b[0m\u001b[0m\n\u001b[0;32m   1123\u001b[0m             \u001b[0mcheck_input\u001b[0m\u001b[1;33m=\u001b[0m\u001b[0mcheck_input\u001b[0m\u001b[1;33m,\u001b[0m\u001b[1;33m\u001b[0m\u001b[0m\n\u001b[1;32m-> 1124\u001b[1;33m             X_idx_sorted=X_idx_sorted)\n\u001b[0m\u001b[0;32m   1125\u001b[0m         \u001b[1;32mreturn\u001b[0m \u001b[0mself\u001b[0m\u001b[1;33m\u001b[0m\u001b[0m\n\u001b[0;32m   1126\u001b[0m \u001b[1;33m\u001b[0m\u001b[0m\n",
      "\u001b[1;32m~\\AppData\\Local\\Continuum\\anaconda3\\lib\\site-packages\\sklearn\\tree\\tree.py\u001b[0m in \u001b[0;36mfit\u001b[1;34m(self, X, y, sample_weight, check_input, X_idx_sorted)\u001b[0m\n\u001b[0;32m    360\u001b[0m                                            min_impurity_split)\n\u001b[0;32m    361\u001b[0m \u001b[1;33m\u001b[0m\u001b[0m\n\u001b[1;32m--> 362\u001b[1;33m         \u001b[0mbuilder\u001b[0m\u001b[1;33m.\u001b[0m\u001b[0mbuild\u001b[0m\u001b[1;33m(\u001b[0m\u001b[0mself\u001b[0m\u001b[1;33m.\u001b[0m\u001b[0mtree_\u001b[0m\u001b[1;33m,\u001b[0m \u001b[0mX\u001b[0m\u001b[1;33m,\u001b[0m \u001b[0my\u001b[0m\u001b[1;33m,\u001b[0m \u001b[0msample_weight\u001b[0m\u001b[1;33m,\u001b[0m \u001b[0mX_idx_sorted\u001b[0m\u001b[1;33m)\u001b[0m\u001b[1;33m\u001b[0m\u001b[0m\n\u001b[0m\u001b[0;32m    363\u001b[0m \u001b[1;33m\u001b[0m\u001b[0m\n\u001b[0;32m    364\u001b[0m         \u001b[1;32mif\u001b[0m \u001b[0mself\u001b[0m\u001b[1;33m.\u001b[0m\u001b[0mn_outputs_\u001b[0m \u001b[1;33m==\u001b[0m \u001b[1;36m1\u001b[0m\u001b[1;33m:\u001b[0m\u001b[1;33m\u001b[0m\u001b[0m\n",
      "\u001b[1;31mKeyboardInterrupt\u001b[0m: "
     ]
    }
   ],
   "source": [
    "size = []\n",
    "avg_score = []\n",
    "sd_score = []\n",
    "for i in range(3,15):\n",
    "    s = i * 4\n",
    "    RF_model = RandomForestRegressor(s)\n",
    "    cv = cross_val_score(RF_model,X_train,y_train,cv=6)\n",
    "    size += [s]\n",
    "    avg_score +=  [np.average(cv)]\n",
    "    sd_score += [np.std(cv)]\n",
    "    print(i,'complete')\n",
    "    "
   ]
  },
  {
   "cell_type": "code",
   "execution_count": null,
   "metadata": {},
   "outputs": [],
   "source": [
    "plt.plot(size,avg_score)\n",
    "bound = []\n",
    "for i in range(len(size)):\n",
    "    bound += [avg_score[i]+sd_score[i]]\n",
    "plt.plot(size,bound,c='orange')\n",
    "\n",
    "bound = []\n",
    "for i in range(len(size)):\n",
    "    bound += [avg_score[i]-sd_score[i]]\n",
    "plt.plot(size,bound,c='orange')\n",
    "plt.legend(['Average','$\\mu\\pm\\sigma$'])\n",
    "plt.title('Cross validation of decision tree')\n",
    "plt.xlabel('Tree Depth')\n",
    "plt.ylabel('$R^2$ from cross validation')\n"
   ]
  },
  {
   "cell_type": "code",
   "execution_count": 28,
   "metadata": {},
   "outputs": [],
   "source": [
    "cat_preds = pickle.load(open(\"pred_for_final.pkl\",'rb'))"
   ]
  },
  {
   "cell_type": "code",
   "execution_count": 29,
   "metadata": {},
   "outputs": [
    {
     "name": "stdout",
     "output_type": "stream",
     "text": [
      "(70563, 42) (17641, 42)\n"
     ]
    }
   ],
   "source": [
    "tdf = pd.concat([nonnan_df,cat_preds],axis=1).dropna()\n",
    "\n",
    "\n",
    "y=tdf['total_pymnt']/(tdf['installment']*36 + tdf['installment']*tdf['term_ 60 months']*24)\n",
    "#y=nonnan_df['total_pymnt']/nonnan_df['loan_amnt']\n",
    "\n",
    "features += list(cat_preds.columns)\n",
    "\n",
    "traintest_df=tdf[features]\n",
    "\n",
    "X_train, X_test, y_train, y_test = train_test_split(\n",
    "    traintest_df,y,test_size=0.2,random_state=42)#,stratify=nonnan_df[['loan_status']])\n",
    "\n",
    "Xscaler = StandardScaler()\n",
    "Xscaler.fit_transform(X_train,X_test)\n",
    "\n",
    "print(X_train.shape,X_test.shape)"
   ]
  },
  {
   "cell_type": "code",
   "execution_count": 30,
   "metadata": {},
   "outputs": [
    {
     "name": "stdout",
     "output_type": "stream",
     "text": [
      "3 complete\n",
      "mean 0.1847070374256743\n",
      "4 complete\n",
      "mean 0.19965401082656312\n",
      "5 complete\n",
      "mean 0.20846487257475357\n",
      "6 complete\n",
      "mean 0.2164694911286292\n",
      "7 complete\n",
      "mean 0.21925550087544066\n",
      "8 complete\n",
      "mean 0.22181269418229088\n",
      "9 complete\n",
      "mean 0.2243163481834055\n",
      "10 complete\n",
      "mean 0.22781721833990512\n",
      "11 complete\n",
      "mean 0.2286372232438428\n",
      "12 complete\n",
      "mean 0.2299221679301426\n",
      "13 complete\n",
      "mean 0.23193060500197885\n",
      "14 complete\n",
      "mean 0.23361269911410645\n"
     ]
    }
   ],
   "source": [
    "size = []\n",
    "avg_score = []\n",
    "sd_score = []\n",
    "for i in range(3,15):\n",
    "    s = i * 4\n",
    "    RF_model = RandomForestRegressor(s)\n",
    "    cv = cross_val_score(RF_model,X_train,y_train,cv=6)\n",
    "    size += [s]\n",
    "    avg_score +=  [np.average(cv)]\n",
    "    sd_score += [np.std(cv)]\n",
    "    print(i,'complete')\n",
    "    print('mean' , np.average(cv))"
   ]
  },
  {
   "cell_type": "code",
   "execution_count": 31,
   "metadata": {},
   "outputs": [
    {
     "data": {
      "text/plain": [
       "Text(0,0.5,'$R^2$ from cross validation')"
      ]
     },
     "execution_count": 31,
     "metadata": {},
     "output_type": "execute_result"
    },
    {
     "data": {
      "image/png": "[encoded data removed]",
      "text/plain": [
       "<Figure size 432x288 with 1 Axes>"
      ]
     },
     "metadata": {},
     "output_type": "display_data"
    }
   ],
   "source": [
    "plt.plot(size,avg_score)\n",
    "bound = []\n",
    "for i in range(len(size)):\n",
    "    bound += [avg_score[i]+sd_score[i]]\n",
    "plt.plot(size,bound,c='orange')\n",
    "\n",
    "bound = []\n",
    "for i in range(len(size)):\n",
    "    bound += [avg_score[i]-sd_score[i]]\n",
    "plt.plot(size,bound,c='orange')\n",
    "plt.legend(['Average','$\\mu\\pm\\sigma$'])\n",
    "plt.title('Cross validation of decision tree')\n",
    "plt.xlabel('Tree Depth')\n",
    "plt.ylabel('$R^2$ from cross validation')"
   ]
  },
  {
   "cell_type": "markdown",
   "metadata": {},
   "source": [
    "Our ridge outperforms the Random forest."
   ]
  },
  {
   "cell_type": "code",
   "execution_count": 34,
   "metadata": {},
   "outputs": [
    {
     "name": "stdout",
     "output_type": "stream",
     "text": [
      "Best model searched:\n",
      "alpha = 10\n",
      "intercept = -10.920647350902028\n",
      "betas = [-1.24823099e-02  4.34297637e-03 -1.37950312e-03  6.90204785e-03\n",
      "  2.96274281e-03 -1.30219515e-01 -1.32269776e-04  1.41330530e-03\n",
      "  0.00000000e+00  1.88713591e-03 -3.28908875e-05  9.31528466e-08\n",
      "  9.44791262e-07 -2.04175569e-03 -3.38352464e-03 -9.36506083e-03\n",
      " -4.62424505e-04 -5.67269230e-03  5.75942062e-03 -1.22057544e-03\n",
      " -7.84185173e-03 -1.99653041e-02 -1.31222535e-02  1.37921487e-04\n",
      " -1.12998801e-02 -1.12393624e-02  7.61401870e-04 -2.88941607e-05\n",
      " -1.45949029e-02  1.79701123e-04 -2.76715480e-09 -3.62299357e-03\n",
      " -5.44099062e-03  9.45485215e-08 -1.50462666e-02 -2.14192392e-02\n",
      " -3.64637507e-02  2.14954002e-05  0.00000000e+00  2.19430002e-01\n",
      " -2.27860674e-03 -5.60412009e-02], \n",
      "The training set Ridge regression R^2 score is: 0.262973\n",
      "The test set Ridge regression R^2 score is: 0.278390\n"
     ]
    }
   ],
   "source": [
    "lambdas = [.001, .005, 1, 5, 10, 50, 100, 500, 1000]\n",
    "\n",
    "kfold = KFold(5, shuffle=True) # use this for testing\n",
    "\n",
    "LCRRModel = RidgeCV(alphas=lambdas, cv=kfold)\n",
    "LCRRModel.fit(X_train, y_train)\n",
    "LCRR_shrinkage_parameter=LCRRModel.alpha_\n",
    "\n",
    "print(\"Best model searched:\\nalpha = {}\\nintercept = {}\\nbetas = {}, \".format(LCRR_shrinkage_parameter,\n",
    "                                                                            LCRRModel.intercept_,\n",
    "                                                                            LCRRModel.coef_\n",
    "                                                                            )\n",
    "     )\n",
    "\n",
    "RRtrainR2 = r2_score(y_train,LCRRModel.predict(X_train))\n",
    "RRtestR2 = r2_score(y_test,LCRRModel.predict(X_test))\n",
    "print(\"The training set Ridge regression R^2 score is: %f\" % RRtrainR2)\n",
    "print(\"The test set Ridge regression R^2 score is: %f\" % RRtestR2)"
   ]
  },
  {
   "cell_type": "code",
   "execution_count": 33,
   "metadata": {},
   "outputs": [],
   "source": [
    "LCRRModel.predict(X_test)"
   ]
  },
  {
   "cell_type": "code",
   "execution_count": 41,
   "metadata": {},
   "outputs": [
    {
     "data": {
      "text/plain": [
       "<matplotlib.collections.PathCollection at 0x15e03111eb8>"
      ]
     },
     "execution_count": 41,
     "metadata": {},
     "output_type": "execute_result"
    },
    {
     "data": {
      "image/png": "[encoded data removed]",
      "text/plain": [
       "<Figure size 432x288 with 1 Axes>"
      ]
     },
     "metadata": {},
     "output_type": "display_data"
    }
   ],
   "source": [
    "y_hat = LCRRModel.predict(X_test)\n",
    "resid = y_hat - y_test\n",
    "plt.scatter(y_hat,resid,marker='.',alpha=.5)"
   ]
  },
  {
   "cell_type": "markdown",
   "metadata": {},
   "source": []
  }
 ],
 "metadata": {
  "kernelspec": {
   "display_name": "Python 3",
   "language": "python",
   "name": "python3"
  },
  "language_info": {
   "codemirror_mode": {
    "name": "ipython",
    "version": 3
   },
   "file_extension": ".py",
   "mimetype": "text/x-python",
   "name": "python",
   "nbconvert_exporter": "python",
   "pygments_lexer": "ipython3",
   "version": "3.6.5"
  },
  "toc": {
   "base_numbering": 1,
   "nav_menu": {},
   "number_sections": false,
   "sideBar": true,
   "skip_h1_title": false,
   "title_cell": "Table of Contents",
   "title_sidebar": "Contents",
   "toc_cell": false,
   "toc_position": {},
   "toc_section_display": true,
   "toc_window_display": false
  }
 },
 "nbformat": 4,
 "nbformat_minor": 2
}
