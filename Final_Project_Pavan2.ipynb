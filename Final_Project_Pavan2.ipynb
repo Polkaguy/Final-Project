{
 "cells": [
  {
   "cell_type": "code",
   "execution_count": 1,
   "metadata": {},
   "outputs": [
    {
     "name": "stderr",
     "output_type": "stream",
     "text": [
      "Using TensorFlow backend.\n"
     ]
    }
   ],
   "source": [
    "import pandas as pd\n",
    "import numpy as np\n",
    "import matplotlib.pyplot as plt\n",
    "import os\n",
    "import re\n",
    "\n",
    "import warnings\n",
    "warnings.filterwarnings('ignore')\n",
    "\n",
    "from sklearn.metrics import r2_score\n",
    "from sklearn.preprocessing import PolynomialFeatures\n",
    "from sklearn.preprocessing import StandardScaler\n",
    "from sklearn.linear_model import Ridge\n",
    "from sklearn.linear_model import Lasso\n",
    "from sklearn.linear_model import RidgeCV\n",
    "from sklearn.linear_model import LassoCV\n",
    "from sklearn.linear_model import LinearRegression\n",
    "from sklearn.decomposition import PCA\n",
    "from sklearn.linear_model import LogisticRegression\n",
    "from sklearn.linear_model import LogisticRegressionCV\n",
    "\n",
    "from sklearn.model_selection import cross_val_score\n",
    "from sklearn.utils import resample\n",
    "from sklearn.tree import DecisionTreeClassifier\n",
    "from sklearn.ensemble import RandomForestClassifier\n",
    "from sklearn.ensemble import AdaBoostClassifier\n",
    "from sklearn.linear_model import LogisticRegressionCV\n",
    "\n",
    "from sklearn.model_selection import GridSearchCV\n",
    "\n",
    "from sklearn.model_selection import cross_val_score\n",
    "from sklearn.metrics import accuracy_score\n",
    "from sklearn.model_selection import KFold\n",
    "from sklearn.metrics import make_scorer\n",
    "\n",
    "from keras.models import Sequential\n",
    "from keras.layers import Dense\n",
    "\n",
    "import tensorflow as tf\n",
    "\n",
    "from sklearn.model_selection import train_test_split\n",
    "from sklearn.model_selection import cross_val_score\n",
    "from sklearn.model_selection import LeaveOneOut\n",
    "from sklearn.model_selection import KFold\n",
    "\n",
    "#import statsmodels.api as sm,\n",
    "\n",
    "import seaborn as sns; sns.set()\n",
    "\n",
    "from pandas.core import datetools\n",
    "%matplotlib inline\n"
   ]
  },
  {
   "cell_type": "markdown",
   "metadata": {},
   "source": [
    "# Data Acquisition\n",
    "The following code imports and validates the LendingClub data."
   ]
  },
  {
   "cell_type": "code",
   "execution_count": 2,
   "metadata": {},
   "outputs": [],
   "source": [
    "converters = dict(\n",
    "    id=str,\n",
    "    desc=str,\n",
    "    hardship_type=str,\n",
    "    hardship_reason=str,\n",
    "    hardship_status=str,\n",
    "    hardship_loan_status=str,\n",
    "    verification_status_joint=str\n",
    ")\n",
    "dates = [\n",
    "    'next_pymnt_d',\n",
    "    'hardship_start_date',\n",
    "    'hardship_end_date',\n",
    "    'payment_plan_start_date',\n",
    "    'earliest_cr_line',\n",
    "    'issue_d'\n",
    "]"
   ]
  },
  {
   "cell_type": "code",
   "execution_count": 3,
   "metadata": {},
   "outputs": [],
   "source": [
    "import pickle\n",
    "df = pickle.load(open(\"sub_data.p\",'rb'))"
   ]
  },
  {
   "cell_type": "code",
   "execution_count": 3,
   "metadata": {},
   "outputs": [
    {
     "name": "stdout",
     "output_type": "stream",
     "text": [
      "Reading ./Source Data/Loan Data/LoanStats3a_securev1.csv\n",
      "Reading ./Source Data/Loan Data/LoanStats3b_securev1.csv\n",
      "Reading ./Source Data/Loan Data/LoanStats3c_securev1.csv\n",
      "Reading ./Source Data/Loan Data/LoanStats3d_securev1.csv\n",
      "Reading ./Source Data/Loan Data/LoanStats_securev1_2016Q1.csv\n",
      "Reading ./Source Data/Loan Data/LoanStats_securev1_2016Q2.csv\n",
      "Reading ./Source Data/Loan Data/LoanStats_securev1_2016Q3.csv\n",
      "Reading ./Source Data/Loan Data/LoanStats_securev1_2016Q4.csv\n",
      "Reading ./Source Data/Loan Data/LoanStats_securev1_2017Q1.csv\n",
      "Reading ./Source Data/Loan Data/LoanStats_securev1_2017Q2.csv\n",
      "Reading ./Source Data/Loan Data/LoanStats_securev1_2017Q3.csv\n",
      "Reading ./Source Data/Loan Data/LoanStats_securev1_2017Q4.csv\n",
      "Reading ./Source Data/Loan Data/LoanStats_securev1_2018Q1.csv\n",
      "(1873317, 152)\n"
     ]
    }
   ],
   "source": [
    "# Imports loan data\n",
    "\n",
    "df = pd.DataFrame()\n",
    "basepath='./Source Data/Loan Data/'\n",
    "files = os.listdir(basepath)\n",
    "csvs = []\n",
    "\n",
    "for file in files:\n",
    "    if re.match('.*csv$',file):\n",
    "        csvs += [file]\n",
    "\n",
    "if 0:\n",
    "    #ignore this - was trying to pickle the data into\n",
    "    #formats like feather, hdf5, native python pickling, etc\n",
    "    # but found issues on python 3.7\n",
    "    df=pd.read_pickle(basepath+'df.pkl')\n",
    "else:\n",
    "    cols = df.dtypes\n",
    "    for csv in csvs:\n",
    "        path = basepath + csv\n",
    "        print(\"Reading\",path)\n",
    "        tdf = pd.read_csv(path,header=1,low_memory=False)\n",
    "        df=df.append(tdf)\n",
    "    \n",
    "df.reset_index(inplace=True) # This will help with joining back data if necessary.\n",
    "\n",
    "print(df.shape)"
   ]
  },
  {
   "cell_type": "code",
   "execution_count": 4,
   "metadata": {},
   "outputs": [
    {
     "name": "stdout",
     "output_type": "stream",
     "text": [
      "index                                                  int64\n",
      "id                                                    object\n",
      "member_id                                            float64\n",
      "loan_amnt                                            float64\n",
      "funded_amnt                                          float64\n",
      "funded_amnt_inv                                      float64\n",
      "term                                                  object\n",
      "int_rate                                              object\n",
      "installment                                          float64\n",
      "grade                                                 object\n",
      "sub_grade                                             object\n",
      "emp_title                                             object\n",
      "emp_length                                            object\n",
      "home_ownership                                        object\n",
      "annual_inc                                           float64\n",
      "verification_status                                   object\n",
      "issue_d                                       datetime64[ns]\n",
      "loan_status                                           object\n",
      "pymnt_plan                                            object\n",
      "url                                                   object\n",
      "desc                                                  object\n",
      "purpose                                               object\n",
      "title                                                 object\n",
      "zip_code                                              object\n",
      "addr_state                                            object\n",
      "dti                                                  float64\n",
      "delinq_2yrs                                          float64\n",
      "earliest_cr_line                                     float64\n",
      "fico_range_low                                       float64\n",
      "fico_range_high                                      float64\n",
      "inq_last_6mths                                       float64\n",
      "mths_since_last_delinq                               float64\n",
      "mths_since_last_record                               float64\n",
      "open_acc                                             float64\n",
      "pub_rec                                              float64\n",
      "revol_bal                                            float64\n",
      "revol_util                                            object\n",
      "total_acc                                            float64\n",
      "initial_list_status                                   object\n",
      "out_prncp                                            float64\n",
      "out_prncp_inv                                        float64\n",
      "total_pymnt                                          float64\n",
      "total_pymnt_inv                                      float64\n",
      "total_rec_prncp                                      float64\n",
      "total_rec_int                                        float64\n",
      "total_rec_late_fee                                   float64\n",
      "recoveries                                           float64\n",
      "collection_recovery_fee                              float64\n",
      "last_pymnt_d                                  datetime64[ns]\n",
      "last_pymnt_amnt                                      float64\n",
      "next_pymnt_d                                  datetime64[ns]\n",
      "last_credit_pull_d                                    object\n",
      "last_fico_range_high                                 float64\n",
      "last_fico_range_low                                  float64\n",
      "collections_12_mths_ex_med                           float64\n",
      "mths_since_last_major_derog                          float64\n",
      "policy_code                                          float64\n",
      "application_type                                      object\n",
      "annual_inc_joint                                     float64\n",
      "dti_joint                                            float64\n",
      "verification_status_joint                             object\n",
      "acc_now_delinq                                       float64\n",
      "tot_coll_amt                                         float64\n",
      "tot_cur_bal                                          float64\n",
      "open_acc_6m                                          float64\n",
      "open_act_il                                          float64\n",
      "open_il_12m                                          float64\n",
      "open_il_24m                                          float64\n",
      "mths_since_rcnt_il                                   float64\n",
      "total_bal_il                                         float64\n",
      "il_util                                              float64\n",
      "open_rv_12m                                          float64\n",
      "open_rv_24m                                          float64\n",
      "max_bal_bc                                           float64\n",
      "all_util                                             float64\n",
      "total_rev_hi_lim                                     float64\n",
      "inq_fi                                               float64\n",
      "total_cu_tl                                          float64\n",
      "inq_last_12m                                         float64\n",
      "acc_open_past_24mths                                 float64\n",
      "avg_cur_bal                                          float64\n",
      "bc_open_to_buy                                       float64\n",
      "bc_util                                              float64\n",
      "chargeoff_within_12_mths                             float64\n",
      "delinq_amnt                                          float64\n",
      "mo_sin_old_il_acct                                   float64\n",
      "mo_sin_old_rev_tl_op                                 float64\n",
      "mo_sin_rcnt_rev_tl_op                                float64\n",
      "mo_sin_rcnt_tl                                       float64\n",
      "mort_acc                                             float64\n",
      "mths_since_recent_bc                                 float64\n",
      "mths_since_recent_bc_dlq                             float64\n",
      "mths_since_recent_inq                                float64\n",
      "mths_since_recent_revol_delinq                       float64\n",
      "num_accts_ever_120_pd                                float64\n",
      "num_actv_bc_tl                                       float64\n",
      "num_actv_rev_tl                                      float64\n",
      "num_bc_sats                                          float64\n",
      "num_bc_tl                                            float64\n",
      "num_il_tl                                            float64\n",
      "num_op_rev_tl                                        float64\n",
      "num_rev_accts                                        float64\n",
      "num_rev_tl_bal_gt_0                                  float64\n",
      "num_sats                                             float64\n",
      "num_tl_120dpd_2m                                     float64\n",
      "num_tl_30dpd                                         float64\n",
      "num_tl_90g_dpd_24m                                   float64\n",
      "num_tl_op_past_12m                                   float64\n",
      "pct_tl_nvr_dlq                                       float64\n",
      "percent_bc_gt_75                                     float64\n",
      "pub_rec_bankruptcies                                 float64\n",
      "tax_liens                                            float64\n",
      "tot_hi_cred_lim                                      float64\n",
      "total_bal_ex_mort                                    float64\n",
      "total_bc_limit                                       float64\n",
      "total_il_high_credit_limit                           float64\n",
      "revol_bal_joint                                      float64\n",
      "sec_app_fico_range_low                               float64\n",
      "sec_app_fico_range_high                              float64\n",
      "sec_app_earliest_cr_line                              object\n",
      "sec_app_inq_last_6mths                               float64\n",
      "sec_app_mort_acc                                     float64\n",
      "sec_app_open_acc                                     float64\n",
      "sec_app_revol_util                                   float64\n",
      "sec_app_open_act_il                                  float64\n",
      "sec_app_num_rev_accts                                float64\n",
      "sec_app_chargeoff_within_12_mths                     float64\n",
      "sec_app_collections_12_mths_ex_med                   float64\n",
      "sec_app_mths_since_last_major_derog                  float64\n",
      "hardship_flag                                         object\n",
      "hardship_type                                         object\n",
      "hardship_reason                                       object\n",
      "hardship_status                                       object\n",
      "deferral_term                                        float64\n",
      "hardship_amount                                      float64\n",
      "hardship_start_date                           datetime64[ns]\n",
      "hardship_end_date                             datetime64[ns]\n",
      "payment_plan_start_date                       datetime64[ns]\n",
      "hardship_length                                      float64\n",
      "hardship_dpd                                         float64\n",
      "hardship_loan_status                                  object\n",
      "orig_projected_additional_accrued_interest           float64\n",
      "hardship_payoff_balance_amount                       float64\n",
      "hardship_last_payment_amount                         float64\n",
      "disbursement_method                                   object\n",
      "debt_settlement_flag                                  object\n",
      "debt_settlement_flag_date                     datetime64[ns]\n",
      "settlement_status                                     object\n",
      "settlement_date                                       object\n",
      "settlement_amount                                    float64\n",
      "settlement_percentage                                float64\n",
      "settlement_term                                      float64\n",
      "duration                                             float64\n",
      "dtype: object\n"
     ]
    }
   ],
   "source": [
    "pd.set_option('display.max_rows', 200)\n",
    "print(df.dtypes)\n",
    "pd.set_option('display.max_rows', 200)"
   ]
  },
  {
   "cell_type": "code",
   "execution_count": 5,
   "metadata": {},
   "outputs": [],
   "source": [
    "# Checks for duplicates within our combined data\n",
    "#df['count']=1 # Generate field to measure the number of occurances\n",
    "\n",
    "#counts = df.groupby('id')['count'].count()\n",
    "#print('Data are duplicated %i times.' % len(counts[counts>1]))"
   ]
  },
  {
   "cell_type": "markdown",
   "metadata": {},
   "source": [
    "Data are duplicated 0 times.\n",
    "\n",
    "Some data are not useful as a predictor. Because we are going to use these data as a training set, we need to remove data that are not useful for predictions. There are two categories of data that are not useful for predictions. First, we need information about loans that have fully run their course. That is to say, we need to see loans that have either been paid in full or written off. It is not useful to see loans that are currently delinquent or current on payments but still early in the loan. Second, we need to remove predictors that are not import for predicting the loan. For example the URL has no impact on the borrower's ability to repay the loan. If we need this data in the future, we can still pair it back with the original dataframe."
   ]
  },
  {
   "cell_type": "code",
   "execution_count": 6,
   "metadata": {},
   "outputs": [
    {
     "name": "stdout",
     "output_type": "stream",
     "text": [
      "0 member_id 0\n",
      "1 orig_projected_additional_accrued_interest 584\n",
      "2 hardship_type 742\n",
      "3 hardship_reason 742\n",
      "4 hardship_status 742\n",
      "5 deferral_term 742\n",
      "6 hardship_amount 742\n",
      "7 hardship_start_date 742\n",
      "8 hardship_end_date 742\n",
      "9 payment_plan_start_date 742\n",
      "10 hardship_length 742\n",
      "11 hardship_dpd 742\n",
      "12 hardship_loan_status 742\n",
      "13 hardship_payoff_balance_amount 742\n",
      "14 hardship_last_payment_amount 742\n",
      "15 sec_app_mths_since_last_major_derog 1884\n",
      "16 debt_settlement_flag_date 2268\n",
      "17 settlement_status 2268\n",
      "18 settlement_date 2268\n",
      "19 settlement_amount 2268\n",
      "20 settlement_percentage 2268\n",
      "21 settlement_term 2268\n",
      "22 sec_app_revol_util 5469\n",
      "23 revol_bal_joint 5555\n",
      "24 sec_app_fico_range_low 5555\n",
      "25 sec_app_fico_range_high 5555\n",
      "26 sec_app_earliest_cr_line 5555\n",
      "27 sec_app_inq_last_6mths 5555\n",
      "28 sec_app_mort_acc 5555\n",
      "29 sec_app_open_acc 5555\n",
      "30 sec_app_open_act_il 5555\n",
      "31 sec_app_num_rev_accts 5555\n",
      "32 sec_app_chargeoff_within_12_mths 5555\n",
      "33 sec_app_collections_12_mths_ex_med 5555\n",
      "34 verification_status_joint 6776\n",
      "35 annual_inc_joint 6817\n",
      "36 dti_joint 6817\n",
      "37 desc 12631\n",
      "38 mths_since_last_record 31031\n",
      "39 mths_since_recent_bc_dlq 44420\n",
      "40 mths_since_last_major_derog 49384\n",
      "41 mths_since_recent_revol_delinq 62830\n",
      "42 next_pymnt_d 85258\n",
      "43 il_util 86640\n",
      "44 mths_since_last_delinq 93023\n",
      "45 mths_since_rcnt_il 97673\n",
      "46 all_util 100579\n",
      "47 open_acc_6m 100592\n",
      "48 open_act_il 100592\n",
      "49 open_il_12m 100592\n"
     ]
    }
   ],
   "source": [
    "has_data = {}\n",
    "for column in df.columns:\n",
    "    has_data[column] = len(df[column].dropna())\n",
    "#print(len(has_data))\n",
    "#has_data\n",
    "\n",
    "order_has_data=sorted(has_data, key=lambda dict_key: has_data[dict_key])\n",
    "\n",
    "top_sparse=50\n",
    "for i,j in zip(order_has_data[0:top_sparse],range(top_sparse)):\n",
    "    print(j, i, has_data[i])"
   ]
  },
  {
   "cell_type": "markdown",
   "metadata": {},
   "source": [
    "Based on the data, it appears that joint applications are a fairly new development in these data. We see only about 50,000 instances where the data are included for joint applications. The following visualization shows the relationship for income in joint applicants."
   ]
  },
  {
   "cell_type": "code",
   "execution_count": 7,
   "metadata": {},
   "outputs": [
    {
     "data": {
      "image/png": "[encoded data removed]",
      "text/plain": [
       "<Figure size 432x288 with 1 Axes>"
      ]
     },
     "metadata": {},
     "output_type": "display_data"
    }
   ],
   "source": [
    "joint_fil = (df['annual_inc']>0)&(df['annual_inc_joint']>0)\n",
    "plt.scatter(df[joint_fil]['annual_inc'],df[joint_fil]['annual_inc_joint'])\n",
    "plt.title('Income vs. Joint Income')\n",
    "plt.xlabel('Annual income')\n",
    "plt.ylabel('Annual income joint')\n",
    "plt.show;\n"
   ]
  },
  {
   "cell_type": "markdown",
   "metadata": {},
   "source": [
    "Because of the high risk of multicolinearity, and the small number of observations, we are dropping this from the dataset. We will still keep a dummy variable that treats joint applications differently, but we will not consider the joint income of applicants."
   ]
  },
  {
   "cell_type": "code",
   "execution_count": 8,
   "metadata": {},
   "outputs": [
    {
     "name": "stdout",
     "output_type": "stream",
     "text": [
      "(187331, 153)\n"
     ]
    }
   ],
   "source": [
    "# Convert dates to datetime\n",
    "df['issue_d'] = pd.to_datetime(df['issue_d'])\n",
    "df['earliest_cr_line'] = pd.to_datetime(df['earliest_cr_line'])\n",
    "\n",
    "#determine age of credit line prior to loan issue and convert to integer\n",
    "# days of credit history\n",
    "df['earliest_cr_line'] = (df['issue_d']-df['earliest_cr_line']).dt.days\n",
    "\n",
    "# convert issue_d to a year to consider economic conditions\n",
    "#SHOULD WE GO TO QUARTERS?\n",
    "df['issue_d'] = df['issue_d'].dt.year\n",
    "\n",
    "print(df.shape)"
   ]
  },
  {
   "cell_type": "code",
   "execution_count": 9,
   "metadata": {},
   "outputs": [
    {
     "name": "stdout",
     "output_type": "stream",
     "text": [
      "(102069, 36)\n"
     ]
    }
   ],
   "source": [
    "# Limit to loans that are paid in full or written off. Uses dates so that \n",
    "# loans that are delinquent are not disproportionaltely dropped from data\n",
    "\n",
    "mature_filter = (df['loan_status']=='Fully Paid')|(df['loan_status']=='Charged Off')\n",
    "#mature_filter = (df['loan_status']=='Fully Paid')\n",
    "#latest_mature = df[~mature_filter]['issue_d'].min()\n",
    "#latest_mature\n",
    "#reduced_df = df[df['issue_d']<=latest_mature]\n",
    "reduced_df = df[mature_filter] # Pulls only loans that are charged off or paid in full.\n",
    "#\n",
    "## Use my documentation to filter to only \n",
    "data_dict = pd.read_excel('./Source Data/LCDataDictionary.xlsx',sheet_name='LoanStats')\n",
    "features = list(data_dict[data_dict['Useful Predictor']=='Yes']['LoanStatNew'].values)\n",
    "kaggle_features=[\"addr_state\", \"annual_inc\", \"delinq_2yrs\", \"desc\", \"dti\", \"earliest_cr_line\", \"emp_length\",\n",
    "                 \"emp_title\", \"grade\", \"home_ownership\", \"id\", \"inq_fi\", \"inq_last_6mths\", \"installment\",\n",
    "                 \"int_rate\", \"loan_amnt\", \"loan_status\", \"mths_since_last_delinq\", \"mths_since_last_major_derog\",\n",
    "                 \"mths_since_last_record\", \"open_acc\", \"pub_rec\", \"purpose\", \"pymnt_plan\", \"revol_bal\",\n",
    "                 \"revol_util\", \"sub_grade\", \"term\", \"title\", \"total_acc\", \"url\", \"verification_status\", \"zip_code\"]\n",
    "#reduced_df=reduced_df[features]\n",
    "non_kaggle_features=['application_type','fico_range_low','fico_range_high',\"total_pymnt\"]\n",
    "reduced_df=reduced_df[kaggle_features+non_kaggle_features]\n",
    "\n",
    "# Combines fields when necessary\n",
    "reduced_df['fico_est'] = (reduced_df['fico_range_low']+reduced_df['fico_range_high'])/2\n",
    "\n",
    "reduced_df.drop(columns=['fico_range_low','fico_range_high'],inplace=True)\n",
    "\n",
    "print(reduced_df.shape)"
   ]
  },
  {
   "cell_type": "code",
   "execution_count": 10,
   "metadata": {},
   "outputs": [],
   "source": [
    "# backup our df\n",
    "backup_df = reduced_df.copy()"
   ]
  },
  {
   "cell_type": "code",
   "execution_count": 11,
   "metadata": {},
   "outputs": [],
   "source": [
    "#restore our df\n",
    "reduced_df = backup_df.copy()"
   ]
  },
  {
   "cell_type": "code",
   "execution_count": 12,
   "metadata": {},
   "outputs": [
    {
     "name": "stdout",
     "output_type": "stream",
     "text": [
      "(102069, 28)\n"
     ]
    }
   ],
   "source": [
    "# Convert strings to numbers emp_length, int_rate, revol_util\n",
    "emp_length_map={'10+ years':10, '< 1 year':0, '1 year':1, '3 years':3, '8 years':8, '9 years':9,\n",
    "                '4 years':4, '5 years':5, '6 years':6, '2 years':2, '7 years':7}\n",
    "\n",
    "reduced_df['emp_length']=reduced_df['emp_length'].replace(pd.Series(emp_length_map))\n",
    "\n",
    "grade_map={\"A\":1,\"B\":2,\"C\":3,\"D\":4,\"E\":5,\"F\":6,\"G\":7}\n",
    "reduced_df['grade']=reduced_df['grade'].replace(pd.Series(grade_map))\n",
    "\n",
    "reduced_df['int_rate']=reduced_df['int_rate'].apply(lambda x: float(x[:-1]))\n",
    "reduced_df['revol_util']=reduced_df['revol_util'].apply(lambda x:\n",
    "                                                        x[:-1] if isinstance(x, str) else np.nan).astype(float)\n",
    "\n",
    "reduced_df['earliest_cr_line']=reduced_df['earliest_cr_line'].apply(lambda x:\n",
    "                                                        0.0 if np.isnan(x) else x)\n",
    "\n",
    "reduced_df.drop(columns=['title','emp_title','desc','url','id','sub_grade','addr_state','zip_code'],inplace=True)\n",
    "\n",
    "print(reduced_df.shape)"
   ]
  },
  {
   "cell_type": "markdown",
   "metadata": {},
   "source": [
    "# Which values are categorical?"
   ]
  },
  {
   "cell_type": "code",
   "execution_count": 13,
   "metadata": {},
   "outputs": [
    {
     "name": "stdout",
     "output_type": "stream",
     "text": [
      "pymnt_plan 1 ['n']\n",
      "loan_status 2 ['Fully Paid' 'Charged Off']\n",
      "term 2 [' 36 months' ' 60 months']\n",
      "application_type 2 ['Individual' 'Joint App']\n",
      "verification_status 3 ['Verified' 'Source Verified' 'Not Verified']\n",
      "home_ownership 6 ['MORTGAGE' 'OWN' 'RENT' 'ANY' 'NONE' 'OTHER']\n",
      "grade 7 [1 2 5 4 3 7 6]\n",
      "inq_last_6mths 9 [2. 1. 0. 3. 5. 4. 6. 8. 7.]\n",
      "emp_length 12 [ 0. nan 10.  2.  7.  8.  3.  1.  6.  9.  5.  4.]\n",
      "purpose 14 ['credit_card' 'debt_consolidation' 'home_improvement' 'small_business'\n",
      " 'other' 'car' 'moving' 'major_purchase' 'medical' 'vacation' 'house'\n",
      " 'educational' 'wedding' 'renewable_energy']\n",
      "pub_rec 18 [ 0.  1.  2.  3.  5.  6.  7.  4.  8. 13. 12.  9. 20. 19. 15. 11. 46. 10.]\n",
      "delinq_2yrs 20 [ 0.  1.  4.  2. 10.  3.  5. 15.  8.  7.  6.  9. 11. 12. 13. 19. 14. 16.\n",
      " 20. 18.]\n",
      "inq_fi 20 [nan  2.  1.  0.  3.  6.  5.  4.  8.  7. 14.  9. 13. 15. 10. 11. 12. 17.\n",
      " 19. 28.]\n",
      "fico_est 38 [717.  662.  692.  697.  687.  682.  702.  667.  762.  737.  727.  802.\n",
      " 672.  752.  722.  712.  772.  707.  677.  747.  782.  742.  732.  787.\n",
      " 757.  777.  807.  767.  817.  822.  812.  792.  827.  797.  837.  832.\n",
      " 842.  847.5]\n",
      "open_acc 57 [19.  7.  8.  9. 17. 25. 10. 18.  4. 13. 15. 11.  5.  6. 12. 22. 14. 16.\n",
      "  3. 28. 23. 20. 21. 29. 24. 38.  2. 34. 26. 27. 31. 47. 30. 32.  1. 36.\n",
      " 33. 41. 48. 42. 43. 35. 44. 53. 37. 39. 45. 52. 40. 51. 57. 46. 55. 76.\n",
      " 56. 68. 49.]\n",
      "total_acc 108 [ 47.  17.  27.  29.  20.  24.  55.  10.  25.  37.  14.  23.  22.  31.\n",
      "  39.  48.  69.  36.  26.  18.   8.  42.  21.  13.   7.   9.  35.  19.\n",
      "  38.  46.  28.  11.  45.  60.  12.  15.  30.  34.  33.  44.  56.  40.\n",
      "  43.  32.   4.  16.   3.   6.  49.  41.   5.  63.  52.   2.  53.  59.\n",
      "  77.  66.  57.  81.  50.  83.  89.  54.  62.  61.  58.  51.  73.  65.\n",
      "  93.  72.  71.  79.  68.  70.  90.  75.  67.  99.  76.  64. 110.  91.\n",
      "  74.  78. 111.  87.  84. 100.  88. 116.  94.  80.  82. 129.  97.  92.\n",
      "  95.  86.  85. 105.  96. 121.  98. 118. 112. 176.]\n",
      "mths_since_last_delinq 117 [ 65.  48.  54.  14.  nan  29.  19.  18.  69.  62.   4.  23.  12.  30.\n",
      "   8.  26.  10.   3.  39.   9.  17.   6.  47.  11.  25.  15.  20.  73.\n",
      "  33.  52.  16.  56.  36.  31.  28.  68.  51.   2.  77.  40.  60.  79.\n",
      "  58.  55.  74.  71.  13.  41.  43.  37.   5.  49.   7.  75.  64.  24.\n",
      "  21.  50.  76.  27.  80.  42.  61.  35.  44.  59.  34.  78.  57.  32.\n",
      "  45.  67.  63.  70.   0.  22.  72.  81.   1.  53. 108.  82.  38.  66.\n",
      "  46.  97. 103.  84. 127.  83.  90. 114. 106.  85.  88.  91. 100. 121.\n",
      "  89.  87. 120.  86.  94. 152.  96.  93.  98. 104. 135. 141.  92. 109.\n",
      " 110. 117.  95. 159. 126.]\n",
      "mths_since_last_record 122 [ nan 113.  62.  69.  36.  70.  71.  74.  35.  52.  90.  76.  54.  87.\n",
      "  81.  47.  67. 109.  46.  65.  27.  68.  30.  75.  37.  89. 103.  93.\n",
      "  40.  94.  82.  98.  41.  78.  97. 104.  53. 102. 116.  96.  48.  64.\n",
      "  79.  49.  57. 114.  73.  32.  45. 101.  72.  55. 106. 107.  77. 112.\n",
      "  61. 105.  85.  83.  59.  31.  88.  51.  43.  38. 110.  33. 100.  50.\n",
      "  44.   9.   2.  80.  99.  95.  42. 118.  60.  56.  17. 117.  92.  22.\n",
      " 119. 111. 115.  16.   0.  19.  58. 108.  86.  29.  34.  14.   8.  10.\n",
      "  66.  20.  91.  25.  63.   4.  23.  84.   3.   6.  24.  39.  11.  26.\n",
      "  21.  12.   5.  18.  28.  15.  13.   7.   1. 120.]\n",
      "earliest_cr_line 129 [16616. 16070. 16160. 15613. 16647. 16831. 16525. 17286. 16586. 16039.\n",
      " 16343. 16221. 17378. 17531. 16952. 16708. 16435. 16282. 17166. 17044.\n",
      " 17013. 16860. 15736. 15948. 16101. 14487. 15674. 16769. 17225. 17347.\n",
      " 16555. 14913. 15064. 16404. 15856. 15644. 15978. 16494. 17409. 16009.\n",
      " 16891. 17105. 15583. 16678. 17074. 15917. 15552. 16251. 14122. 16190.\n",
      " 16466. 16374. 16129. 16739. 16982. 15825. 15764. 15094. 15430. 15886.\n",
      " 17470. 14517. 15521. 15795. 17317. 15705. 15308. 17439. 14152. 16800.\n",
      " 17135. 16313. 16921. 15155. 15033. 14729. 15399. 15125. 14425. 15217.\n",
      " 15460. 15339. 15005. 17500. 14213. 15491. 14699. 17197. 17562. 14334.\n",
      " 15186. 17256. 15370. 14760. 14790. 14275. 17590. 15247. 13847. 14852.\n",
      " 14882. 15278. 14609. 14943. 14668. 14456. 14303. 14821. 13878. 14548.\n",
      " 14395. 14974. 13909. 13969. 13938. 14578. 14640. 14364. 14244. 14183.\n",
      " 13786. 13999. 14060. 13817. 14030. 13756. 14091. 13725. 13664.]\n",
      "mths_since_last_major_derog 129 [ nan  61.  41.  63.  37.  12.  33.  39.  26.  57.  11.  52.  31.  51.\n",
      "  10.  62.  69.  49.  36.  68.  23.   2.  77.   4.  54.  60.  45.  56.\n",
      "  29.  24.  27.  58.  55.  74.  71.  17.  70.  47.  18.   8.  64.  22.\n",
      "  50.  14.  46.  44.  20.  16.  38.  43.  65.  25.  78.  67.  13.  42.\n",
      "  32.  30.  76.   0.   7.  66.  35.  21.  48.  19.   5.   9.  79.  53.\n",
      "  28.  72. 108.  75.  82.  40.  59.  80.  15.  34.  84.  81.   1.  73.\n",
      "   3.  97.   6.  89. 127. 119. 116.  90.  88.  83. 102. 105. 104. 114.\n",
      " 101. 162. 109. 106. 153.  85.  93.  87. 100. 115.  91.  94.  95. 121.\n",
      " 110.  86.  99. 112. 120.  98. 139. 152.  96.  92. 103. 135. 107. 141.\n",
      " 117. 159. 126.]\n",
      "int_rate 543 [ 7.26 12.85  9.67 12.12 18.25 12.69  6.92 10.42 13.99 17.1  12.29  6.89\n",
      " 15.61 16.29 18.06 20.   10.91  8.18 11.47  9.99 17.14  6.49 15.31 17.99\n",
      " 10.49 18.99 13.49 14.16  7.89 12.99  9.17  8.9  17.57 10.99 14.47 20.49\n",
      "  8.59 13.11 16.99  7.21  5.79 15.41 17.86 13.06  8.19 18.75  9.44  9.25\n",
      "  9.16 21.45 16.2  14.46 18.24 18.84 11.53 21.49  7.9   7.59 10.16 12.35\n",
      " 13.59  8.39 14.09 15.8  11.49  9.75 12.22 17.27 14.99 15.99 26.77 30.74\n",
      " 25.99 19.53 10.64  9.49 14.64 10.15 14.3  15.59 18.54 11.55 11.44  6.03\n",
      " 12.49 14.65 19.99 14.33 13.65  8.67 13.33 16.78 15.88 10.37  5.32 11.99\n",
      " 19.05 20.99 22.99  6.62 13.67 23.76 20.5  15.05 16.55 11.48  7.49  9.76\n",
      " 11.67 17.77 10.75 23.99 16.49  7.99 12.62 14.31 13.53 18.79  9.71 22.15\n",
      "  7.39 11.71  7.69 19.72 13.68 21.18 13.35 11.39  6.39 13.18 11.14  7.62\n",
      "  9.07  6.24  9.8  12.59 14.49 12.39 29.49 18.49 13.98 25.28 21.99 16.89\n",
      " 15.65 16.07 26.57 12.21  6.97 30.79  8.49 13.44 22.95 12.74  9.91  6.99\n",
      " 18.39 24.08  6.68  9.93 15.96 25.69 12.79 22.39 10.51 13.66 10.78 14.08\n",
      " 22.47 21.97 13.79 17.76 21.48 20.31 23.43 19.03 26.06 22.2  16.02 23.88\n",
      " 23.7  22.45 27.31 19.52 15.1  19.22 19.2  18.85 14.98  8.99 24.99  7.51\n",
      "  6.08 17.09 15.22 22.9  10.38 10.59 25.8   7.35 19.24 28.99 10.95 20.2\n",
      " 17.47 16.59 12.61 25.83 28.88 23.5  24.74 21.   18.55 19.19  7.24 15.23\n",
      " 21.98 12.8  17.56 30.94  7.07 18.2  15.27 20.75 10.65  8.24  7.29 24.85\n",
      " 11.12 10.74 16.7   7.12 23.28 26.24 24.5  25.78 14.27 18.64 15.21 11.22\n",
      " 23.32 25.57 19.69 14.85 27.34 19.48 20.89 21.74  5.93 16.24 15.62  6.54\n",
      "  6.72 12.73 30.84 14.96 15.33 30.49 14.72 12.05 19.47 14.48 13.05 30.75\n",
      " 29.69  6.91 22.4  12.88 15.77 17.97 14.26 14.84 24.49 26.3   6.71 24.11\n",
      " 19.89 29.99 15.81  7.14 28.69 13.48 22.74 16.32 10.62 25.29 10.25 21.6\n",
      " 23.83  5.99  8.94  8.38 13.47 17.58 16.   25.89 23.13 21.7  13.43 25.49\n",
      " 19.97  7.91 12.68  5.42 23.4  18.3   7.74 12.42  6.76 30.89  7.66  7.88\n",
      " 28.18 14.93 22.35 11.89 11.11 13.92 18.92 14.54  9.2  15.83 23.63 12.09\n",
      " 17.49 21.15 13.72 11.86  7.97 10.71 30.99 28.67  5.31 28.34 11.36 12.53\n",
      " 13.23 20.8  22.91  6.   20.86 14.91 16.45 19.29 11.83 28.72 20.9  25.82\n",
      " 12.18 13.61 14.79 10.   20.03 14.07 24.89 21.67 12.87  9.43  9.63 11.34\n",
      " 23.1  13.22 13.8  29.96 27.99 27.88 14.59 24.2  10.36 18.62 16.77 14.11\n",
      " 12.72 25.44 17.19 25.88 30.65 10.9  17.8  16.4  11.26 28.14  9.32 20.62\n",
      "  6.07 26.14 17.74 10.41  8.6   9.62 15.13 16.82 26.99 20.3  19.42  7.68\n",
      " 26.49  9.45 12.92 15.2   6.17 12.84 12.98 18.07 29.67 20.25 15.04  9.88\n",
      " 25.11 11.58 14.35 12.23  8.32 30.17 11.46 12.17 14.18 27.49 14.17 19.91\n",
      " 25.81 15.58 15.7  25.09 19.74 24.24 13.58 22.64 15.95 12.54 22.11 14.42\n",
      " 15.28 16.08 15.57 13.85 11.98 27.79 17.88 13.16 24.84 22.7  17.51 21.27\n",
      " 19.79 23.33 15.68 19.36 24.83 24.33 14.61 24.7   7.4  11.97 17.04 18.45\n",
      " 22.85 15.37  7.43 10.28  8.63  8.    9.33 17.43  7.34 19.39 10.39  9.92\n",
      " 20.77  9.38 19.04 18.67  7.37 10.33 11.09 11.41 22.06 20.85  7.05 16.01\n",
      " 17.93 21.28 20.39 13.57 17.39 16.69 14.22 28.49 11.03 18.17 14.74 22.78\n",
      " 13.04 16.9  20.16 23.91  8.07 11.28 11.59  8.88 21.36 25.65 18.43 21.85\n",
      "  9.96 23.26  7.75 14.83 11.72  7.96 17.26 10.2  23.22 13.87 16.35 10.08\n",
      " 13.55 20.11 21.82 18.09 22.48 24.76 12.41 13.75 19.66 14.38 16.95 15.45\n",
      "  9.83 11.91  9.01 11.78 17.06 19.16 19.41 10.83 13.24 23.52 11.54 18.21\n",
      " 14.12 16.11 17.44]\n",
      "revol_util 1098 [ 33.9   50.5   51.3  ... 109.9  104.     7.28]\n",
      "loan_amnt 1371 [15000.  6000.  7000. ... 34150.   750. 36600.]\n",
      "dti 4247 [ 10.01  10.91  13.88 ... 293.    40.83  47.41]\n",
      "annual_inc 9031 [140000.    21000.    60000.   ...  91829.92   7500.    19526.  ]\n",
      "installment 29131 [464.95 201.74 224.79 ... 354.59 526.46 273.05]\n",
      "revol_bal 36511 [ 42084.   5760.   5849. ... 121349.    129.  43077.]\n"
     ]
    },
    {
     "name": "stdout",
     "output_type": "stream",
     "text": [
      "total_pymnt 101210 [16693.44316128  4325.34        7662.18       ...  8855.69999417\n",
      " 15408.15226162 21528.11917407]\n"
     ]
    }
   ],
   "source": [
    "n_options = {}\n",
    "for column in reduced_df.columns:\n",
    "    n_options[column] = len(reduced_df[column].unique())\n",
    "#n_options\n",
    "order_n_options=sorted(n_options, key=lambda dict_key: n_options[dict_key])\n",
    "\n",
    "for i in order_n_options[0:50]:\n",
    "    print(i, n_options[i],reduced_df[i].unique())"
   ]
  },
  {
   "cell_type": "markdown",
   "metadata": {},
   "source": [
    "Based on these results, we will have to encode several data as dummy variables:\n",
    "\n",
    "- application_type\n",
    "- term\n",
    "- verification_status\n",
    "- home_ownership\n",
    "- purpose\n"
   ]
  },
  {
   "cell_type": "code",
   "execution_count": 14,
   "metadata": {},
   "outputs": [
    {
     "name": "stdout",
     "output_type": "stream",
     "text": [
      "{'term_ 60 months', 'home_ownership_OWN', 'purpose_major_purchase', 'purpose_home_improvement', 'home_ownership_MORTGAGE', 'purpose_debt_consolidation', 'purpose_wedding', 'home_ownership_NONE', 'purpose_other', 'home_ownership_RENT', 'purpose_educational', 'verification_status_Verified', 'purpose_house', 'verification_status_Source Verified', 'purpose_moving', 'purpose_credit_card', 'loan_status_Fully Paid', 'purpose_medical', 'purpose_renewable_energy', 'home_ownership_OTHER', 'application_type_Joint App', 'purpose_small_business', 'purpose_vacation'}\n",
      "(102069, 44)\n"
     ]
    }
   ],
   "source": [
    "seta=set(reduced_df.columns)\n",
    "\n",
    "reduced_df=pd.get_dummies(data=reduced_df,columns=['pymnt_plan','loan_status','application_type','term',\n",
    "                                                   'verification_status',\n",
    "                                                   'home_ownership','purpose'],\n",
    "                          drop_first=True)\n",
    "\n",
    "\n",
    "setb=set(reduced_df.columns)\n",
    "print(setb-seta)\n",
    "print(reduced_df.shape)"
   ]
  },
  {
   "cell_type": "markdown",
   "metadata": {},
   "source": [
    "# How to treat NaN?"
   ]
  },
  {
   "cell_type": "markdown",
   "metadata": {},
   "source": [
    "For now, let's remove majority NaN columns..."
   ]
  },
  {
   "cell_type": "code",
   "execution_count": 15,
   "metadata": {},
   "outputs": [
    {
     "name": "stdout",
     "output_type": "stream",
     "text": [
      "0 mths_since_last_record 17208\n",
      "1 mths_since_last_major_derog 26492\n",
      "2 inq_fi 29454\n",
      "3 mths_since_last_delinq 50173\n",
      "4 emp_length 96546\n",
      "5 revol_util 102003\n",
      "6 dti 102061\n",
      "7 annual_inc 102069\n",
      "8 delinq_2yrs 102069\n",
      "9 earliest_cr_line 102069\n",
      "10 grade 102069\n",
      "11 inq_last_6mths 102069\n",
      "12 installment 102069\n",
      "13 int_rate 102069\n",
      "14 loan_amnt 102069\n",
      "15 open_acc 102069\n",
      "16 pub_rec 102069\n",
      "17 revol_bal 102069\n",
      "18 total_acc 102069\n",
      "19 total_pymnt 102069\n",
      "20 fico_est 102069\n",
      "21 loan_status_Fully Paid 102069\n",
      "22 application_type_Joint App 102069\n",
      "23 term_ 60 months 102069\n",
      "24 verification_status_Source Verified 102069\n"
     ]
    }
   ],
   "source": [
    "has_data = {}\n",
    "for column in reduced_df.columns:\n",
    "    has_data[column] = len(reduced_df[column].dropna())\n",
    "has_data\n",
    "\n",
    "order_has_data=sorted(has_data, key=lambda dict_key: has_data[dict_key])\n",
    "\n",
    "top_sparse=25\n",
    "for i,j in zip(range(top_sparse),order_has_data[0:top_sparse]):\n",
    "    print(i,j, has_data[j])"
   ]
  },
  {
   "cell_type": "code",
   "execution_count": 16,
   "metadata": {},
   "outputs": [
    {
     "name": "stdout",
     "output_type": "stream",
     "text": [
      "(102069, 44)\n",
      "1498 102069\n"
     ]
    }
   ],
   "source": [
    "nonnan_df=reduced_df.fillna(0)\n",
    "#nonnan_df=reduced_df.drop(columns=order_has_data[0:4])\n",
    "print(nonnan_df.shape)\n",
    "print(len(reduced_df.dropna()),len(nonnan_df.dropna()))"
   ]
  },
  {
   "cell_type": "code",
   "execution_count": 17,
   "metadata": {},
   "outputs": [
    {
     "name": "stdout",
     "output_type": "stream",
     "text": [
      "(102069, 44)\n",
      "loan_status_Fully Paid 2 [1 0]\n",
      "application_type_Joint App 2 [0 1]\n",
      "term_ 60 months 2 [0 1]\n",
      "verification_status_Source Verified 2 [0 1]\n",
      "verification_status_Verified 2 [1 0]\n",
      "home_ownership_MORTGAGE 2 [1 0]\n",
      "home_ownership_NONE 2 [0 1]\n",
      "home_ownership_OTHER 2 [0 1]\n",
      "home_ownership_OWN 2 [0 1]\n",
      "home_ownership_RENT 2 [0 1]\n",
      "purpose_credit_card 2 [1 0]\n",
      "purpose_debt_consolidation 2 [0 1]\n",
      "purpose_educational 2 [0 1]\n",
      "purpose_home_improvement 2 [0 1]\n",
      "purpose_house 2 [0 1]\n",
      "purpose_major_purchase 2 [0 1]\n",
      "purpose_medical 2 [0 1]\n",
      "purpose_moving 2 [0 1]\n",
      "purpose_other 2 [0 1]\n",
      "purpose_renewable_energy 2 [0 1]\n",
      "purpose_small_business 2 [0 1]\n",
      "purpose_vacation 2 [0 1]\n",
      "purpose_wedding 2 [0 1]\n",
      "grade 7 [1 2 5 4 3 7 6]\n",
      "inq_last_6mths 9 [2. 1. 0. 3. 5. 4. 6. 8. 7.]\n",
      "emp_length 11 [ 0. 10.  2.  7.  8.  3.  1.  6.  9.  5.  4.]\n",
      "pub_rec 18 [ 0.  1.  2.  3.  5.  6.  7.  4.  8. 13. 12.  9. 20. 19. 15. 11. 46. 10.]\n",
      "inq_fi 19 [ 0.  2.  1.  3.  6.  5.  4.  8.  7. 14.  9. 13. 15. 10. 11. 12. 17. 19.\n",
      " 28.]\n",
      "delinq_2yrs 20 [ 0.  1.  4.  2. 10.  3.  5. 15.  8.  7.  6.  9. 11. 12. 13. 19. 14. 16.\n",
      " 20. 18.]\n",
      "fico_est 38 [717.  662.  692.  697.  687.  682.  702.  667.  762.  737.  727.  802.\n",
      " 672.  752.  722.  712.  772.  707.  677.  747.  782.  742.  732.  787.\n",
      " 757.  777.  807.  767.  817.  822.  812.  792.  827.  797.  837.  832.\n",
      " 842.  847.5]\n",
      "open_acc 57 [19.  7.  8.  9. 17. 25. 10. 18.  4. 13. 15. 11.  5.  6. 12. 22. 14. 16.\n",
      "  3. 28. 23. 20. 21. 29. 24. 38.  2. 34. 26. 27. 31. 47. 30. 32.  1. 36.\n",
      " 33. 41. 48. 42. 43. 35. 44. 53. 37. 39. 45. 52. 40. 51. 57. 46. 55. 76.\n",
      " 56. 68. 49.]\n",
      "total_acc 108 [ 47.  17.  27.  29.  20.  24.  55.  10.  25.  37.  14.  23.  22.  31.\n",
      "  39.  48.  69.  36.  26.  18.   8.  42.  21.  13.   7.   9.  35.  19.\n",
      "  38.  46.  28.  11.  45.  60.  12.  15.  30.  34.  33.  44.  56.  40.\n",
      "  43.  32.   4.  16.   3.   6.  49.  41.   5.  63.  52.   2.  53.  59.\n",
      "  77.  66.  57.  81.  50.  83.  89.  54.  62.  61.  58.  51.  73.  65.\n",
      "  93.  72.  71.  79.  68.  70.  90.  75.  67.  99.  76.  64. 110.  91.\n",
      "  74.  78. 111.  87.  84. 100.  88. 116.  94.  80.  82. 129.  97.  92.\n",
      "  95.  86.  85. 105.  96. 121.  98. 118. 112. 176.]\n",
      "mths_since_last_delinq 116 [ 65.  48.  54.  14.   0.  29.  19.  18.  69.  62.   4.  23.  12.  30.\n",
      "   8.  26.  10.   3.  39.   9.  17.   6.  47.  11.  25.  15.  20.  73.\n",
      "  33.  52.  16.  56.  36.  31.  28.  68.  51.   2.  77.  40.  60.  79.\n",
      "  58.  55.  74.  71.  13.  41.  43.  37.   5.  49.   7.  75.  64.  24.\n",
      "  21.  50.  76.  27.  80.  42.  61.  35.  44.  59.  34.  78.  57.  32.\n",
      "  45.  67.  63.  70.  22.  72.  81.   1.  53. 108.  82.  38.  66.  46.\n",
      "  97. 103.  84. 127.  83.  90. 114. 106.  85.  88.  91. 100. 121.  89.\n",
      "  87. 120.  86.  94. 152.  96.  93.  98. 104. 135. 141.  92. 109. 110.\n",
      " 117.  95. 159. 126.]\n",
      "mths_since_last_record 121 [  0. 113.  62.  69.  36.  70.  71.  74.  35.  52.  90.  76.  54.  87.\n",
      "  81.  47.  67. 109.  46.  65.  27.  68.  30.  75.  37.  89. 103.  93.\n",
      "  40.  94.  82.  98.  41.  78.  97. 104.  53. 102. 116.  96.  48.  64.\n",
      "  79.  49.  57. 114.  73.  32.  45. 101.  72.  55. 106. 107.  77. 112.\n",
      "  61. 105.  85.  83.  59.  31.  88.  51.  43.  38. 110.  33. 100.  50.\n",
      "  44.   9.   2.  80.  99.  95.  42. 118.  60.  56.  17. 117.  92.  22.\n",
      " 119. 111. 115.  16.  19.  58. 108.  86.  29.  34.  14.   8.  10.  66.\n",
      "  20.  91.  25.  63.   4.  23.  84.   3.   6.  24.  39.  11.  26.  21.\n",
      "  12.   5.  18.  28.  15.  13.   7.   1. 120.]\n",
      "mths_since_last_major_derog 128 [  0.  61.  41.  63.  37.  12.  33.  39.  26.  57.  11.  52.  31.  51.\n",
      "  10.  62.  69.  49.  36.  68.  23.   2.  77.   4.  54.  60.  45.  56.\n",
      "  29.  24.  27.  58.  55.  74.  71.  17.  70.  47.  18.   8.  64.  22.\n",
      "  50.  14.  46.  44.  20.  16.  38.  43.  65.  25.  78.  67.  13.  42.\n",
      "  32.  30.  76.   7.  66.  35.  21.  48.  19.   5.   9.  79.  53.  28.\n",
      "  72. 108.  75.  82.  40.  59.  80.  15.  34.  84.  81.   1.  73.   3.\n",
      "  97.   6.  89. 127. 119. 116.  90.  88.  83. 102. 105. 104. 114. 101.\n",
      " 162. 109. 106. 153.  85.  93.  87. 100. 115.  91.  94.  95. 121. 110.\n",
      "  86.  99. 112. 120.  98. 139. 152.  96.  92. 103. 135. 107. 141. 117.\n",
      " 159. 126.]\n",
      "earliest_cr_line 129 [16616. 16070. 16160. 15613. 16647. 16831. 16525. 17286. 16586. 16039.\n",
      " 16343. 16221. 17378. 17531. 16952. 16708. 16435. 16282. 17166. 17044.\n",
      " 17013. 16860. 15736. 15948. 16101. 14487. 15674. 16769. 17225. 17347.\n",
      " 16555. 14913. 15064. 16404. 15856. 15644. 15978. 16494. 17409. 16009.\n",
      " 16891. 17105. 15583. 16678. 17074. 15917. 15552. 16251. 14122. 16190.\n",
      " 16466. 16374. 16129. 16739. 16982. 15825. 15764. 15094. 15430. 15886.\n",
      " 17470. 14517. 15521. 15795. 17317. 15705. 15308. 17439. 14152. 16800.\n",
      " 17135. 16313. 16921. 15155. 15033. 14729. 15399. 15125. 14425. 15217.\n",
      " 15460. 15339. 15005. 17500. 14213. 15491. 14699. 17197. 17562. 14334.\n",
      " 15186. 17256. 15370. 14760. 14790. 14275. 17590. 15247. 13847. 14852.\n",
      " 14882. 15278. 14609. 14943. 14668. 14456. 14303. 14821. 13878. 14548.\n",
      " 14395. 14974. 13909. 13969. 13938. 14578. 14640. 14364. 14244. 14183.\n",
      " 13786. 13999. 14060. 13817. 14030. 13756. 14091. 13725. 13664.]\n",
      "int_rate 543 [ 7.26 12.85  9.67 12.12 18.25 12.69  6.92 10.42 13.99 17.1  12.29  6.89\n",
      " 15.61 16.29 18.06 20.   10.91  8.18 11.47  9.99 17.14  6.49 15.31 17.99\n",
      " 10.49 18.99 13.49 14.16  7.89 12.99  9.17  8.9  17.57 10.99 14.47 20.49\n",
      "  8.59 13.11 16.99  7.21  5.79 15.41 17.86 13.06  8.19 18.75  9.44  9.25\n",
      "  9.16 21.45 16.2  14.46 18.24 18.84 11.53 21.49  7.9   7.59 10.16 12.35\n",
      " 13.59  8.39 14.09 15.8  11.49  9.75 12.22 17.27 14.99 15.99 26.77 30.74\n",
      " 25.99 19.53 10.64  9.49 14.64 10.15 14.3  15.59 18.54 11.55 11.44  6.03\n",
      " 12.49 14.65 19.99 14.33 13.65  8.67 13.33 16.78 15.88 10.37  5.32 11.99\n",
      " 19.05 20.99 22.99  6.62 13.67 23.76 20.5  15.05 16.55 11.48  7.49  9.76\n",
      " 11.67 17.77 10.75 23.99 16.49  7.99 12.62 14.31 13.53 18.79  9.71 22.15\n",
      "  7.39 11.71  7.69 19.72 13.68 21.18 13.35 11.39  6.39 13.18 11.14  7.62\n",
      "  9.07  6.24  9.8  12.59 14.49 12.39 29.49 18.49 13.98 25.28 21.99 16.89\n",
      " 15.65 16.07 26.57 12.21  6.97 30.79  8.49 13.44 22.95 12.74  9.91  6.99\n",
      " 18.39 24.08  6.68  9.93 15.96 25.69 12.79 22.39 10.51 13.66 10.78 14.08\n",
      " 22.47 21.97 13.79 17.76 21.48 20.31 23.43 19.03 26.06 22.2  16.02 23.88\n",
      " 23.7  22.45 27.31 19.52 15.1  19.22 19.2  18.85 14.98  8.99 24.99  7.51\n",
      "  6.08 17.09 15.22 22.9  10.38 10.59 25.8   7.35 19.24 28.99 10.95 20.2\n",
      " 17.47 16.59 12.61 25.83 28.88 23.5  24.74 21.   18.55 19.19  7.24 15.23\n",
      " 21.98 12.8  17.56 30.94  7.07 18.2  15.27 20.75 10.65  8.24  7.29 24.85\n",
      " 11.12 10.74 16.7   7.12 23.28 26.24 24.5  25.78 14.27 18.64 15.21 11.22\n",
      " 23.32 25.57 19.69 14.85 27.34 19.48 20.89 21.74  5.93 16.24 15.62  6.54\n",
      "  6.72 12.73 30.84 14.96 15.33 30.49 14.72 12.05 19.47 14.48 13.05 30.75\n",
      " 29.69  6.91 22.4  12.88 15.77 17.97 14.26 14.84 24.49 26.3   6.71 24.11\n",
      " 19.89 29.99 15.81  7.14 28.69 13.48 22.74 16.32 10.62 25.29 10.25 21.6\n",
      " 23.83  5.99  8.94  8.38 13.47 17.58 16.   25.89 23.13 21.7  13.43 25.49\n",
      " 19.97  7.91 12.68  5.42 23.4  18.3   7.74 12.42  6.76 30.89  7.66  7.88\n",
      " 28.18 14.93 22.35 11.89 11.11 13.92 18.92 14.54  9.2  15.83 23.63 12.09\n",
      " 17.49 21.15 13.72 11.86  7.97 10.71 30.99 28.67  5.31 28.34 11.36 12.53\n",
      " 13.23 20.8  22.91  6.   20.86 14.91 16.45 19.29 11.83 28.72 20.9  25.82\n",
      " 12.18 13.61 14.79 10.   20.03 14.07 24.89 21.67 12.87  9.43  9.63 11.34\n",
      " 23.1  13.22 13.8  29.96 27.99 27.88 14.59 24.2  10.36 18.62 16.77 14.11\n",
      " 12.72 25.44 17.19 25.88 30.65 10.9  17.8  16.4  11.26 28.14  9.32 20.62\n",
      "  6.07 26.14 17.74 10.41  8.6   9.62 15.13 16.82 26.99 20.3  19.42  7.68\n",
      " 26.49  9.45 12.92 15.2   6.17 12.84 12.98 18.07 29.67 20.25 15.04  9.88\n",
      " 25.11 11.58 14.35 12.23  8.32 30.17 11.46 12.17 14.18 27.49 14.17 19.91\n",
      " 25.81 15.58 15.7  25.09 19.74 24.24 13.58 22.64 15.95 12.54 22.11 14.42\n",
      " 15.28 16.08 15.57 13.85 11.98 27.79 17.88 13.16 24.84 22.7  17.51 21.27\n",
      " 19.79 23.33 15.68 19.36 24.83 24.33 14.61 24.7   7.4  11.97 17.04 18.45\n",
      " 22.85 15.37  7.43 10.28  8.63  8.    9.33 17.43  7.34 19.39 10.39  9.92\n",
      " 20.77  9.38 19.04 18.67  7.37 10.33 11.09 11.41 22.06 20.85  7.05 16.01\n",
      " 17.93 21.28 20.39 13.57 17.39 16.69 14.22 28.49 11.03 18.17 14.74 22.78\n",
      " 13.04 16.9  20.16 23.91  8.07 11.28 11.59  8.88 21.36 25.65 18.43 21.85\n",
      "  9.96 23.26  7.75 14.83 11.72  7.96 17.26 10.2  23.22 13.87 16.35 10.08\n",
      " 13.55 20.11 21.82 18.09 22.48 24.76 12.41 13.75 19.66 14.38 16.95 15.45\n",
      "  9.83 11.91  9.01 11.78 17.06 19.16 19.41 10.83 13.24 23.52 11.54 18.21\n",
      " 14.12 16.11 17.44]\n",
      "revol_util 1097 [ 33.9   50.5   51.3  ... 109.9  104.     7.28]\n",
      "loan_amnt 1371 [15000.  6000.  7000. ... 34150.   750. 36600.]\n",
      "dti 4246 [ 10.01  10.91  13.88 ... 293.    40.83  47.41]\n",
      "annual_inc 9031 [140000.    21000.    60000.   ...  91829.92   7500.    19526.  ]\n",
      "installment 29131 [464.95 201.74 224.79 ... 354.59 526.46 273.05]\n",
      "revol_bal 36511 [ 42084.   5760.   5849. ... 121349.    129.  43077.]\n",
      "total_pymnt 101210 [16693.44316128  4325.34        7662.18       ...  8855.69999417\n",
      " 15408.15226162 21528.11917407]\n"
     ]
    }
   ],
   "source": [
    "nonnan_df=nonnan_df.dropna()\n",
    "print(nonnan_df.shape)\n",
    "\n",
    "n_options = {}\n",
    "for column in nonnan_df.columns:\n",
    "    n_options[column] = len(nonnan_df[column].unique())\n",
    "#n_options\n",
    "order_n_options=sorted(n_options, key=lambda dict_key: n_options[dict_key])\n",
    "\n",
    "for i in order_n_options[0:49]:\n",
    "    print(i, n_options[i],nonnan_df[i].unique())"
   ]
  },
  {
   "cell_type": "markdown",
   "metadata": {},
   "source": [
    "# What factors are correlated?"
   ]
  },
  {
   "cell_type": "code",
   "execution_count": 18,
   "metadata": {},
   "outputs": [
    {
     "name": "stdout",
     "output_type": "stream",
     "text": [
      "grade                            int64\n",
      "inq_last_6mths                 float64\n",
      "emp_length                     float64\n",
      "pub_rec                        float64\n",
      "inq_fi                         float64\n",
      "delinq_2yrs                    float64\n",
      "fico_est                       float64\n",
      "open_acc                       float64\n",
      "total_acc                      float64\n",
      "mths_since_last_delinq         float64\n",
      "mths_since_last_record         float64\n",
      "mths_since_last_major_derog    float64\n",
      "earliest_cr_line               float64\n",
      "int_rate                       float64\n",
      "revol_util                     float64\n",
      "loan_amnt                      float64\n",
      "dti                            float64\n",
      "annual_inc                     float64\n",
      "installment                    float64\n",
      "revol_bal                      float64\n",
      "total_pymnt                    float64\n",
      "dtype: object\n"
     ]
    }
   ],
   "source": [
    "#correlatable columns\n",
    "corr_columns = order_n_options[23:]\n",
    "print(nonnan_df[corr_columns].dtypes)"
   ]
  },
  {
   "cell_type": "code",
   "execution_count": 19,
   "metadata": {},
   "outputs": [
    {
     "name": "stdout",
     "output_type": "stream",
     "text": [
      "Factors with high correlation (> +/-0.7) are:\n",
      "\t 0 grade vs int_rate = 0.9537742810438863\n",
      "\t 1 int_rate vs grade = 0.9537742810438863\n",
      "\t 2 loan_amnt vs installment = 0.9534544047118316\n",
      "\t 3 loan_amnt vs total_pymnt = 0.8461576004787498\n",
      "\t 4 installment vs loan_amnt = 0.9534544047118317\n",
      "\t 5 installment vs total_pymnt = 0.8093655265644444\n",
      "\t 6 total_pymnt vs loan_amnt = 0.8461576004787498\n",
      "\t 7 total_pymnt vs installment = 0.8093655265644443\n"
     ]
    },
    {
     "data": {
      "image/png": "[encoded data removed]",
      "text/plain": [
       "<Figure size 936x720 with 2 Axes>"
      ]
     },
     "metadata": {},
     "output_type": "display_data"
    }
   ],
   "source": [
    "corr_df=nonnan_df[corr_columns]\n",
    "\n",
    "matrix=np.corrcoef(corr_df,rowvar=False)-np.eye(len(corr_df.columns))\n",
    "\n",
    "\n",
    "i,j=np.nonzero(abs(matrix) > 0.7)\n",
    "print(\"Factors with high correlation (> +/-0.7) are:\")\n",
    "for k in range(len(i)):\n",
    "    print(\"\\t\",k,corr_df.columns[i[k]],\"vs\",corr_df.columns[j[k]],\"=\",matrix[i[k]][j[k]])\n",
    "    \n",
    "\n",
    "# cube each value to highlight higher correlation elements\n",
    "matrix=abs(matrix**3)\n",
    "plt.figure(figsize=(13,10))\n",
    "plt.pcolor(matrix,cmap='brg')\n",
    "\n",
    "plt.xticks(range(len(corr_df.columns)), corr_df.columns,rotation='vertical')\n",
    "plt.yticks(range(len(corr_df.columns)), corr_df.columns)\n",
    "plt.colorbar(cmap='brg')\n",
    "plt.show()"
   ]
  },
  {
   "cell_type": "markdown",
   "metadata": {},
   "source": [
    "## Removing redundancy\n",
    "We see that some of the factors in this dataset are two ways of measuring the same thing. For example, interest rates (`int_rate`) and the grading of the loan (`grade`) two ways of saying the same thing. A lower grade of loan indicates higher risk and higher risk is offset with a higher interest rate. Indeed, we see a large amount of correlation between the two fields.\n",
    "\n",
    "As another example, we can see the percentage of bankcard accounts > 75% of the limit (`percent_bc_gt_75`) is highly correlated with the utilization of bank cards(`revol_bal`). Both of these are similar to the maximum amount of credit utilization (`total_rev_hi_lim`).\n",
    "\n",
    "For this reason we need to select variables with high correlation and choose the variables that will have the biggest impact on our model. I have created the following groups that will need to be consolidated.\n",
    "\n",
    "## High-Magnitude Factors\n",
    "The following code regularizes the data and then looks for the regressor that, when considered independently has the higest impact on the model."
   ]
  },
  {
   "cell_type": "code",
   "execution_count": 20,
   "metadata": {},
   "outputs": [
    {
     "ename": "KeyError",
     "evalue": "\"labels ['out_prncp' 'out_prncp_inv'] not contained in axis\"",
     "output_type": "error",
     "traceback": [
      "\u001b[1;31m---------------------------------------------------------------------------\u001b[0m",
      "\u001b[1;31mKeyError\u001b[0m                                  Traceback (most recent call last)",
      "\u001b[1;32m<ipython-input-20-cee3ecb15d63>\u001b[0m in \u001b[0;36m<module>\u001b[1;34m()\u001b[0m\n\u001b[0;32m      1\u001b[0m \u001b[1;31m# Create standardized dataframe\u001b[0m\u001b[1;33m\u001b[0m\u001b[1;33m\u001b[0m\u001b[0m\n\u001b[0;32m      2\u001b[0m \u001b[0mstd_df\u001b[0m \u001b[1;33m=\u001b[0m \u001b[0mnonnan_df\u001b[0m\u001b[1;33m.\u001b[0m\u001b[0mcopy\u001b[0m\u001b[1;33m(\u001b[0m\u001b[1;33m)\u001b[0m\u001b[1;33m\u001b[0m\u001b[0m\n\u001b[1;32m----> 3\u001b[1;33m \u001b[0mstd_df\u001b[0m\u001b[1;33m.\u001b[0m\u001b[0mdrop\u001b[0m\u001b[1;33m(\u001b[0m\u001b[0mcolumns\u001b[0m\u001b[1;33m=\u001b[0m\u001b[1;33m[\u001b[0m\u001b[1;34m'out_prncp'\u001b[0m\u001b[1;33m,\u001b[0m \u001b[1;34m'out_prncp_inv'\u001b[0m\u001b[1;33m]\u001b[0m\u001b[1;33m,\u001b[0m\u001b[0minplace\u001b[0m\u001b[1;33m=\u001b[0m\u001b[1;32mTrue\u001b[0m\u001b[1;33m)\u001b[0m \u001b[1;31m# Drop because there is no variation in these columns\u001b[0m\u001b[1;33m\u001b[0m\u001b[0m\n\u001b[0m\u001b[0;32m      4\u001b[0m \u001b[0my\u001b[0m\u001b[1;33m=\u001b[0m\u001b[0mnonnan_df\u001b[0m\u001b[1;33m[\u001b[0m\u001b[1;34m'total_pymnt'\u001b[0m\u001b[1;33m]\u001b[0m\u001b[1;33m/\u001b[0m\u001b[0mnonnan_df\u001b[0m\u001b[1;33m[\u001b[0m\u001b[1;34m'loan_amnt'\u001b[0m\u001b[1;33m]\u001b[0m\u001b[1;33m\u001b[0m\u001b[0m\n\u001b[0;32m      5\u001b[0m \u001b[1;32mfor\u001b[0m \u001b[0mcol\u001b[0m \u001b[1;32min\u001b[0m \u001b[0mstd_df\u001b[0m\u001b[1;33m.\u001b[0m\u001b[0mcolumns\u001b[0m\u001b[1;33m:\u001b[0m\u001b[1;33m\u001b[0m\u001b[0m\n",
      "\u001b[1;32m~\\AppData\\Local\\Continuum\\anaconda3\\lib\\site-packages\\pandas\\core\\frame.py\u001b[0m in \u001b[0;36mdrop\u001b[1;34m(self, labels, axis, index, columns, level, inplace, errors)\u001b[0m\n\u001b[0;32m   3692\u001b[0m                                            \u001b[0mindex\u001b[0m\u001b[1;33m=\u001b[0m\u001b[0mindex\u001b[0m\u001b[1;33m,\u001b[0m \u001b[0mcolumns\u001b[0m\u001b[1;33m=\u001b[0m\u001b[0mcolumns\u001b[0m\u001b[1;33m,\u001b[0m\u001b[1;33m\u001b[0m\u001b[0m\n\u001b[0;32m   3693\u001b[0m                                            \u001b[0mlevel\u001b[0m\u001b[1;33m=\u001b[0m\u001b[0mlevel\u001b[0m\u001b[1;33m,\u001b[0m \u001b[0minplace\u001b[0m\u001b[1;33m=\u001b[0m\u001b[0minplace\u001b[0m\u001b[1;33m,\u001b[0m\u001b[1;33m\u001b[0m\u001b[0m\n\u001b[1;32m-> 3694\u001b[1;33m                                            errors=errors)\n\u001b[0m\u001b[0;32m   3695\u001b[0m \u001b[1;33m\u001b[0m\u001b[0m\n\u001b[0;32m   3696\u001b[0m     @rewrite_axis_style_signature('mapper', [('copy', True),\n",
      "\u001b[1;32m~\\AppData\\Local\\Continuum\\anaconda3\\lib\\site-packages\\pandas\\core\\generic.py\u001b[0m in \u001b[0;36mdrop\u001b[1;34m(self, labels, axis, index, columns, level, inplace, errors)\u001b[0m\n\u001b[0;32m   3106\u001b[0m         \u001b[1;32mfor\u001b[0m \u001b[0maxis\u001b[0m\u001b[1;33m,\u001b[0m \u001b[0mlabels\u001b[0m \u001b[1;32min\u001b[0m \u001b[0maxes\u001b[0m\u001b[1;33m.\u001b[0m\u001b[0mitems\u001b[0m\u001b[1;33m(\u001b[0m\u001b[1;33m)\u001b[0m\u001b[1;33m:\u001b[0m\u001b[1;33m\u001b[0m\u001b[0m\n\u001b[0;32m   3107\u001b[0m             \u001b[1;32mif\u001b[0m \u001b[0mlabels\u001b[0m \u001b[1;32mis\u001b[0m \u001b[1;32mnot\u001b[0m \u001b[1;32mNone\u001b[0m\u001b[1;33m:\u001b[0m\u001b[1;33m\u001b[0m\u001b[0m\n\u001b[1;32m-> 3108\u001b[1;33m                 \u001b[0mobj\u001b[0m \u001b[1;33m=\u001b[0m \u001b[0mobj\u001b[0m\u001b[1;33m.\u001b[0m\u001b[0m_drop_axis\u001b[0m\u001b[1;33m(\u001b[0m\u001b[0mlabels\u001b[0m\u001b[1;33m,\u001b[0m \u001b[0maxis\u001b[0m\u001b[1;33m,\u001b[0m \u001b[0mlevel\u001b[0m\u001b[1;33m=\u001b[0m\u001b[0mlevel\u001b[0m\u001b[1;33m,\u001b[0m \u001b[0merrors\u001b[0m\u001b[1;33m=\u001b[0m\u001b[0merrors\u001b[0m\u001b[1;33m)\u001b[0m\u001b[1;33m\u001b[0m\u001b[0m\n\u001b[0m\u001b[0;32m   3109\u001b[0m \u001b[1;33m\u001b[0m\u001b[0m\n\u001b[0;32m   3110\u001b[0m         \u001b[1;32mif\u001b[0m \u001b[0minplace\u001b[0m\u001b[1;33m:\u001b[0m\u001b[1;33m\u001b[0m\u001b[0m\n",
      "\u001b[1;32m~\\AppData\\Local\\Continuum\\anaconda3\\lib\\site-packages\\pandas\\core\\generic.py\u001b[0m in \u001b[0;36m_drop_axis\u001b[1;34m(self, labels, axis, level, errors)\u001b[0m\n\u001b[0;32m   3138\u001b[0m                 \u001b[0mnew_axis\u001b[0m \u001b[1;33m=\u001b[0m \u001b[0maxis\u001b[0m\u001b[1;33m.\u001b[0m\u001b[0mdrop\u001b[0m\u001b[1;33m(\u001b[0m\u001b[0mlabels\u001b[0m\u001b[1;33m,\u001b[0m \u001b[0mlevel\u001b[0m\u001b[1;33m=\u001b[0m\u001b[0mlevel\u001b[0m\u001b[1;33m,\u001b[0m \u001b[0merrors\u001b[0m\u001b[1;33m=\u001b[0m\u001b[0merrors\u001b[0m\u001b[1;33m)\u001b[0m\u001b[1;33m\u001b[0m\u001b[0m\n\u001b[0;32m   3139\u001b[0m             \u001b[1;32melse\u001b[0m\u001b[1;33m:\u001b[0m\u001b[1;33m\u001b[0m\u001b[0m\n\u001b[1;32m-> 3140\u001b[1;33m                 \u001b[0mnew_axis\u001b[0m \u001b[1;33m=\u001b[0m \u001b[0maxis\u001b[0m\u001b[1;33m.\u001b[0m\u001b[0mdrop\u001b[0m\u001b[1;33m(\u001b[0m\u001b[0mlabels\u001b[0m\u001b[1;33m,\u001b[0m \u001b[0merrors\u001b[0m\u001b[1;33m=\u001b[0m\u001b[0merrors\u001b[0m\u001b[1;33m)\u001b[0m\u001b[1;33m\u001b[0m\u001b[0m\n\u001b[0m\u001b[0;32m   3141\u001b[0m             \u001b[0mdropped\u001b[0m \u001b[1;33m=\u001b[0m \u001b[0mself\u001b[0m\u001b[1;33m.\u001b[0m\u001b[0mreindex\u001b[0m\u001b[1;33m(\u001b[0m\u001b[1;33m**\u001b[0m\u001b[1;33m{\u001b[0m\u001b[0maxis_name\u001b[0m\u001b[1;33m:\u001b[0m \u001b[0mnew_axis\u001b[0m\u001b[1;33m}\u001b[0m\u001b[1;33m)\u001b[0m\u001b[1;33m\u001b[0m\u001b[0m\n\u001b[0;32m   3142\u001b[0m             \u001b[1;32mtry\u001b[0m\u001b[1;33m:\u001b[0m\u001b[1;33m\u001b[0m\u001b[0m\n",
      "\u001b[1;32m~\\AppData\\Local\\Continuum\\anaconda3\\lib\\site-packages\\pandas\\core\\indexes\\base.py\u001b[0m in \u001b[0;36mdrop\u001b[1;34m(self, labels, errors)\u001b[0m\n\u001b[0;32m   4385\u001b[0m             \u001b[1;32mif\u001b[0m \u001b[0merrors\u001b[0m \u001b[1;33m!=\u001b[0m \u001b[1;34m'ignore'\u001b[0m\u001b[1;33m:\u001b[0m\u001b[1;33m\u001b[0m\u001b[0m\n\u001b[0;32m   4386\u001b[0m                 raise KeyError(\n\u001b[1;32m-> 4387\u001b[1;33m                     'labels %s not contained in axis' % labels[mask])\n\u001b[0m\u001b[0;32m   4388\u001b[0m             \u001b[0mindexer\u001b[0m \u001b[1;33m=\u001b[0m \u001b[0mindexer\u001b[0m\u001b[1;33m[\u001b[0m\u001b[1;33m~\u001b[0m\u001b[0mmask\u001b[0m\u001b[1;33m]\u001b[0m\u001b[1;33m\u001b[0m\u001b[0m\n\u001b[0;32m   4389\u001b[0m         \u001b[1;32mreturn\u001b[0m \u001b[0mself\u001b[0m\u001b[1;33m.\u001b[0m\u001b[0mdelete\u001b[0m\u001b[1;33m(\u001b[0m\u001b[0mindexer\u001b[0m\u001b[1;33m)\u001b[0m\u001b[1;33m\u001b[0m\u001b[0m\n",
      "\u001b[1;31mKeyError\u001b[0m: \"labels ['out_prncp' 'out_prncp_inv'] not contained in axis\""
     ]
    }
   ],
   "source": [
    "# Create standardized dataframe\n",
    "std_df = nonnan_df.copy()\n",
    "std_df.drop(columns=['out_prncp', 'out_prncp_inv'],inplace=True) # Drop because there is no variation in these columns\n",
    "y=nonnan_df['total_pymnt']/nonnan_df['loan_amnt']\n",
    "for col in std_df.columns:\n",
    "    std_df[col] = (std_df[col] - std_df[col].min()) / (std_df[col].max() - std_df[col].min())\n",
    "x_full=std_df.drop(columns=['loan_amnt','loan_amnt'])\n",
    "# Revolving debt maximum related variables\n",
    "revolving = [\n",
    "    'bc_open_to_buy',\n",
    "    'num_rev_accts',\n",
    "    'num_rev_tl_bal_gt_0',\n",
    "    'revol_bal',\n",
    "    'revol_util',\n",
    "    'total_rev_hi_lim',\n",
    "    'tot_hi_cred_lim',\n",
    "    'num_il_tl',\n",
    "    'open_acc',\n",
    "    'num_bc_tl'\n",
    "]\n",
    "\n",
    "test_df = pd.DataFrame(columns=['Predictor','ABS Coef','R2'])\n",
    "for col in revolving:\n",
    "    cols_to_drop = revolving.copy()\n",
    "    cols_to_drop.remove(col)\n",
    "    x=x_full.drop(columns=cols_to_drop)\n",
    "    test_reg = LinearRegression().fit(x,y)\n",
    "    test_coef = test_reg.coef_[list(x.columns).index(col)]\n",
    "    test_score = test_reg.score(x,y)\n",
    "    test_df = test_df.append({\n",
    "        'Predictor':col,\n",
    "        'ABS Coef':abs(test_coef),\n",
    "        'R2':test_score\n",
    "    },ignore_index=True)\n",
    "test_df"
   ]
  },
  {
   "cell_type": "markdown",
   "metadata": {},
   "source": [
    "By far, total Revolving Debt limit has the biggest impact in terms of magnitude. We should keep this as the one regressor to represent revolving debt. This will help us to eliminate multicolinearity. Let's explore the impact this has on our correlation matrix\n",
    "\n",
    "Note:\n",
    "I did not perform the same analysis for the grade and interest rate. The loans are structured so that the grade determines the range of interest rates. The steps within the grade specifically determine the interest rate. Therefore, the grade the step and the rate all give the same information, but the rate gives the specific detail.\n",
    "\n",
    "Note: In the new dataset, I replace the payment amount with the percentage of income that is dedicated to the payment. We can have all the factors to calculate loan amount (term, rate, and original balance) as individual regressors. Replacing it will still capture a critical element of the loan amount while removing multicolinearity."
   ]
  },
  {
   "cell_type": "code",
   "execution_count": null,
   "metadata": {},
   "outputs": [],
   "source": [
    "reduc_corr_columns = corr_columns.copy()\n",
    "\n",
    "#reduc_corr_columns[]\n",
    "to_remove = revolving.copy()\n",
    "to_remove += ['grade'] # Extra code to drop grade\n",
    "\n",
    "to_remove.remove('total_rev_hi_lim')\n",
    "for x in to_remove:\n",
    "    reduc_corr_columns.remove(x)\n",
    "\n",
    "corr_df=nonnan_df[reduc_corr_columns]\n",
    "\n",
    "matrix=np.corrcoef(corr_df,rowvar=False)-np.eye(len(corr_df.columns))\n",
    "\n",
    "\n",
    "i,j=np.nonzero(abs(matrix) > 0.7)\n",
    "print(\"Factors with high correlation (> +/-0.7) are:\")\n",
    "for k in range(len(i)):\n",
    "    print(\"\\t\",k,corr_df.columns[i[k]],\"vs\",corr_df.columns[j[k]],\"=\",matrix[i[k]][j[k]])\n",
    "    \n",
    "\n",
    "# cube each value to highlight higher correlation elements\n",
    "matrix=abs(matrix**3)\n",
    "plt.figure(figsize=(13,10))\n",
    "plt.pcolor(matrix,cmap='brg')\n",
    "\n",
    "plt.xticks(range(len(corr_df.columns)), corr_df.columns,rotation='vertical')\n",
    "plt.yticks(range(len(corr_df.columns)), corr_df.columns)\n",
    "plt.colorbar(cmap='brg')\n",
    "plt.show()"
   ]
  },
  {
   "cell_type": "markdown",
   "metadata": {},
   "source": [
    "Notes:\n",
    "- We still see some multicolinearity with the loan payment section. I plan to address additional factors in the factoring for income section.\n",
    "- Total payments is one of the planned Y variables. For instances where it has high correlation, we expect to see strong relationships.\n"
   ]
  },
  {
   "cell_type": "markdown",
   "metadata": {},
   "source": [
    "# Factoring for income\n",
    "The correlation matrix emphasizes some factors in the data are highly correlated. In some instances, this correlation may be due to the fact that the predictors are dependent on other predictors. For example, we can consider three predictors in concert: the income, the loan repayment and the interest rate assigned by Lending Club. We are assuming that a higher amount of risk is related to a higher interest rate. That is to say, Lending Club assesses that loans are riskier based on loan to income ratio."
   ]
  },
  {
   "cell_type": "code",
   "execution_count": null,
   "metadata": {},
   "outputs": [],
   "source": [
    "# Shows the relationship between loan repayment and income:\n",
    "features = ['annual_inc','installment','int_rate']"
   ]
  },
  {
   "cell_type": "code",
   "execution_count": null,
   "metadata": {},
   "outputs": [],
   "source": [
    "# Large outliers make the trend difficult to understand so I'm making a trimmed df\n",
    "temp_df = nonnan_df[nonnan_df['annual_inc']<150000][['installment','annual_inc']]\n",
    "x = temp_df['annual_inc']\n",
    "y = temp_df['installment']\n",
    "plt.figure(figsize=(12,12))\n",
    "plt.hexbin(x,y,gridsize =40)\n",
    "plt.xlabel('Annual Income ($)')\n",
    "plt.ylabel('Loan Installment Amount ($)')\n",
    "plt.title('Income vs. Payment')\n",
    "plt.show()"
   ]
  },
  {
   "cell_type": "markdown",
   "metadata": {},
   "source": [
    "While it looks like income and loan amount are both approximately normally distributed, we see that there is a clear fan pattern here. No monthly loan payment is larger than approximately 1% of annual income. We may be able to keep valuable information from both datasets and reduce multicolinearity by considering not the individuals variables, but the relationships between them."
   ]
  },
  {
   "cell_type": "code",
   "execution_count": null,
   "metadata": {},
   "outputs": [],
   "source": [
    "nonnan_df['percent_of_income'] = nonnan_df['installment']*12/nonnan_df['annual_inc']\n",
    "nonnan_df['percent_of_income'].describe()"
   ]
  },
  {
   "cell_type": "markdown",
   "metadata": {},
   "source": [
    "Because we see some odd cases, I looked up an extreme and found that we see odd values when considering joint incomes. These instances are rare (fewer than 40 cases where total payments are greater than total income). This loan was funded as a joint application. As a result we are going to have to throw out any data about joint applications as it only represents 8000 cases, but creates significant leverage points."
   ]
  },
  {
   "cell_type": "code",
   "execution_count": 21,
   "metadata": {},
   "outputs": [
    {
     "ename": "IndexError",
     "evalue": "single positional indexer is out-of-bounds",
     "output_type": "error",
     "traceback": [
      "\u001b[1;31m---------------------------------------------------------------------------\u001b[0m",
      "\u001b[1;31mIndexError\u001b[0m                                Traceback (most recent call last)",
      "\u001b[1;32m<ipython-input-21-67915c834755>\u001b[0m in \u001b[0;36m<module>\u001b[1;34m()\u001b[0m\n\u001b[0;32m      1\u001b[0m \u001b[1;31m# Testing an extreme example from the\u001b[0m\u001b[1;33m\u001b[0m\u001b[1;33m\u001b[0m\u001b[0m\n\u001b[1;32m----> 2\u001b[1;33m \u001b[0mdf\u001b[0m\u001b[1;33m.\u001b[0m\u001b[0miloc\u001b[0m\u001b[1;33m[\u001b[0m\u001b[1;36m1542746\u001b[0m\u001b[1;33m]\u001b[0m\u001b[1;33m\u001b[0m\u001b[0m\n\u001b[0m",
      "\u001b[1;32m~\\AppData\\Local\\Continuum\\anaconda3\\lib\\site-packages\\pandas\\core\\indexing.py\u001b[0m in \u001b[0;36m__getitem__\u001b[1;34m(self, key)\u001b[0m\n\u001b[0;32m   1476\u001b[0m \u001b[1;33m\u001b[0m\u001b[0m\n\u001b[0;32m   1477\u001b[0m             \u001b[0mmaybe_callable\u001b[0m \u001b[1;33m=\u001b[0m \u001b[0mcom\u001b[0m\u001b[1;33m.\u001b[0m\u001b[0m_apply_if_callable\u001b[0m\u001b[1;33m(\u001b[0m\u001b[0mkey\u001b[0m\u001b[1;33m,\u001b[0m \u001b[0mself\u001b[0m\u001b[1;33m.\u001b[0m\u001b[0mobj\u001b[0m\u001b[1;33m)\u001b[0m\u001b[1;33m\u001b[0m\u001b[0m\n\u001b[1;32m-> 1478\u001b[1;33m             \u001b[1;32mreturn\u001b[0m \u001b[0mself\u001b[0m\u001b[1;33m.\u001b[0m\u001b[0m_getitem_axis\u001b[0m\u001b[1;33m(\u001b[0m\u001b[0mmaybe_callable\u001b[0m\u001b[1;33m,\u001b[0m \u001b[0maxis\u001b[0m\u001b[1;33m=\u001b[0m\u001b[0maxis\u001b[0m\u001b[1;33m)\u001b[0m\u001b[1;33m\u001b[0m\u001b[0m\n\u001b[0m\u001b[0;32m   1479\u001b[0m \u001b[1;33m\u001b[0m\u001b[0m\n\u001b[0;32m   1480\u001b[0m     \u001b[1;32mdef\u001b[0m \u001b[0m_is_scalar_access\u001b[0m\u001b[1;33m(\u001b[0m\u001b[0mself\u001b[0m\u001b[1;33m,\u001b[0m \u001b[0mkey\u001b[0m\u001b[1;33m)\u001b[0m\u001b[1;33m:\u001b[0m\u001b[1;33m\u001b[0m\u001b[0m\n",
      "\u001b[1;32m~\\AppData\\Local\\Continuum\\anaconda3\\lib\\site-packages\\pandas\\core\\indexing.py\u001b[0m in \u001b[0;36m_getitem_axis\u001b[1;34m(self, key, axis)\u001b[0m\n\u001b[0;32m   2100\u001b[0m \u001b[1;33m\u001b[0m\u001b[0m\n\u001b[0;32m   2101\u001b[0m             \u001b[1;31m# validate the location\u001b[0m\u001b[1;33m\u001b[0m\u001b[1;33m\u001b[0m\u001b[0m\n\u001b[1;32m-> 2102\u001b[1;33m             \u001b[0mself\u001b[0m\u001b[1;33m.\u001b[0m\u001b[0m_validate_integer\u001b[0m\u001b[1;33m(\u001b[0m\u001b[0mkey\u001b[0m\u001b[1;33m,\u001b[0m \u001b[0maxis\u001b[0m\u001b[1;33m)\u001b[0m\u001b[1;33m\u001b[0m\u001b[0m\n\u001b[0m\u001b[0;32m   2103\u001b[0m \u001b[1;33m\u001b[0m\u001b[0m\n\u001b[0;32m   2104\u001b[0m             \u001b[1;32mreturn\u001b[0m \u001b[0mself\u001b[0m\u001b[1;33m.\u001b[0m\u001b[0m_get_loc\u001b[0m\u001b[1;33m(\u001b[0m\u001b[0mkey\u001b[0m\u001b[1;33m,\u001b[0m \u001b[0maxis\u001b[0m\u001b[1;33m=\u001b[0m\u001b[0maxis\u001b[0m\u001b[1;33m)\u001b[0m\u001b[1;33m\u001b[0m\u001b[0m\n",
      "\u001b[1;32m~\\AppData\\Local\\Continuum\\anaconda3\\lib\\site-packages\\pandas\\core\\indexing.py\u001b[0m in \u001b[0;36m_validate_integer\u001b[1;34m(self, key, axis)\u001b[0m\n\u001b[0;32m   2007\u001b[0m         \u001b[0ml\u001b[0m \u001b[1;33m=\u001b[0m \u001b[0mlen\u001b[0m\u001b[1;33m(\u001b[0m\u001b[0max\u001b[0m\u001b[1;33m)\u001b[0m\u001b[1;33m\u001b[0m\u001b[0m\n\u001b[0;32m   2008\u001b[0m         \u001b[1;32mif\u001b[0m \u001b[0mkey\u001b[0m \u001b[1;33m>=\u001b[0m \u001b[0ml\u001b[0m \u001b[1;32mor\u001b[0m \u001b[0mkey\u001b[0m \u001b[1;33m<\u001b[0m \u001b[1;33m-\u001b[0m\u001b[0ml\u001b[0m\u001b[1;33m:\u001b[0m\u001b[1;33m\u001b[0m\u001b[0m\n\u001b[1;32m-> 2009\u001b[1;33m             \u001b[1;32mraise\u001b[0m \u001b[0mIndexError\u001b[0m\u001b[1;33m(\u001b[0m\u001b[1;34m\"single positional indexer is out-of-bounds\"\u001b[0m\u001b[1;33m)\u001b[0m\u001b[1;33m\u001b[0m\u001b[0m\n\u001b[0m\u001b[0;32m   2010\u001b[0m \u001b[1;33m\u001b[0m\u001b[0m\n\u001b[0;32m   2011\u001b[0m     \u001b[1;32mdef\u001b[0m \u001b[0m_getitem_tuple\u001b[0m\u001b[1;33m(\u001b[0m\u001b[0mself\u001b[0m\u001b[1;33m,\u001b[0m \u001b[0mtup\u001b[0m\u001b[1;33m)\u001b[0m\u001b[1;33m:\u001b[0m\u001b[1;33m\u001b[0m\u001b[0m\n",
      "\u001b[1;31mIndexError\u001b[0m: single positional indexer is out-of-bounds"
     ]
    }
   ],
   "source": [
    "# Testing an extreme example from the\n",
    "df.iloc[1542746]"
   ]
  },
  {
   "cell_type": "code",
   "execution_count": 22,
   "metadata": {},
   "outputs": [],
   "source": [
    "nonnan_df = nonnan_df[nonnan_df['application_type_Joint App']==0]"
   ]
  },
  {
   "cell_type": "code",
   "execution_count": 23,
   "metadata": {},
   "outputs": [],
   "source": [
    "# Additional factors to remove\n",
    "to_remove=[]\n",
    "if 'installment' not in to_remove:\n",
    "    #to_remove += ['installment']\n",
    "    to_remove += ['total_pymnt','loan_amnt','grade','loan_status_Fully Paid']\n",
    "features = list(set(nonnan_df.columns) - set(to_remove))"
   ]
  },
  {
   "cell_type": "markdown",
   "metadata": {},
   "source": [
    "# Let's work with training and test sets"
   ]
  },
  {
   "cell_type": "code",
   "execution_count": 24,
   "metadata": {},
   "outputs": [
    {
     "name": "stdout",
     "output_type": "stream",
     "text": [
      "(187331, 153) (101129, 44)\n",
      "['term_ 60 months', 'home_ownership_OWN', 'pub_rec', 'earliest_cr_line', 'purpose_major_purchase', 'emp_length', 'dti', 'purpose_home_improvement', 'inq_last_6mths', 'home_ownership_MORTGAGE', 'installment', 'purpose_debt_consolidation', 'mths_since_last_major_derog', 'purpose_wedding', 'home_ownership_NONE', 'purpose_other', 'home_ownership_RENT', 'purpose_educational', 'verification_status_Verified', 'purpose_house', 'open_acc', 'fico_est', 'verification_status_Source Verified', 'purpose_moving', 'inq_fi', 'purpose_credit_card', 'purpose_medical', 'int_rate', 'revol_util', 'total_acc', 'home_ownership_OTHER', 'application_type_Joint App', 'purpose_renewable_energy', 'purpose_small_business', 'mths_since_last_record', 'delinq_2yrs', 'purpose_vacation', 'annual_inc', 'revol_bal', 'mths_since_last_delinq']\n",
      "Index(['term_ 60 months', 'home_ownership_OWN', 'pub_rec', 'earliest_cr_line',\n",
      "       'purpose_major_purchase', 'emp_length', 'dti',\n",
      "       'purpose_home_improvement', 'inq_last_6mths', 'home_ownership_MORTGAGE',\n",
      "       'installment', 'purpose_debt_consolidation',\n",
      "       'mths_since_last_major_derog', 'purpose_wedding', 'home_ownership_NONE',\n",
      "       'purpose_other', 'home_ownership_RENT', 'purpose_educational',\n",
      "       'verification_status_Verified', 'purpose_house', 'open_acc', 'fico_est',\n",
      "       'verification_status_Source Verified', 'purpose_moving', 'inq_fi',\n",
      "       'purpose_credit_card', 'purpose_medical', 'int_rate', 'revol_util',\n",
      "       'total_acc', 'home_ownership_OTHER', 'application_type_Joint App',\n",
      "       'purpose_renewable_energy', 'purpose_small_business',\n",
      "       'mths_since_last_record', 'delinq_2yrs', 'purpose_vacation',\n",
      "       'annual_inc', 'revol_bal', 'mths_since_last_delinq'],\n",
      "      dtype='object')\n",
      "(64722, 40) (16181, 40) (20226, 40)\n"
     ]
    }
   ],
   "source": [
    "print(df.shape,nonnan_df.shape)\n",
    "\n",
    "# need to look at interest rate as well!!!\n",
    "#y=nonnan_df['total_pymnt']/(nonnan_df['installment']*36 + nonnan_df['installment']*nonnan_df['term_ 60 months']*24)\n",
    "y=nonnan_df['loan_status_Fully Paid']\n",
    "#y=nonnan_df['total_pymnt']/nonnan_df['loan_amnt']\n",
    "print(features)\n",
    "traintest_df=nonnan_df[features]\n",
    "print(traintest_df.columns)\n",
    "\n",
    "Xscaler = StandardScaler()\n",
    "Xscaler.fit_transform(traintest_df)\n",
    "\n",
    "X_traintune, X_test, y_traintune, y_test = train_test_split(\n",
    "    traintest_df,y,test_size=0.2)#,random_state=42)#,stratify=nonnan_df[['loan_status']])\n",
    "\n",
    "X_train, X_tune, y_train, y_tune = train_test_split(\n",
    "    X_traintune,y_traintune,test_size=0.2)#,random_state=42)#,stratify=nonnan_df[['loan_status']])\n",
    "\n",
    "print(X_train.shape,X_tune.shape,X_test.shape)"
   ]
  },
  {
   "cell_type": "code",
   "execution_count": 25,
   "metadata": {},
   "outputs": [
    {
     "name": "stdout",
     "output_type": "stream",
     "text": [
      "0.7959932363614789 0.4029759419559018\n"
     ]
    }
   ],
   "source": [
    "print(y.mean(),y.std())"
   ]
  },
  {
   "cell_type": "code",
   "execution_count": 26,
   "metadata": {},
   "outputs": [
    {
     "name": "stdout",
     "output_type": "stream",
     "text": [
      "PCA used 2 components to capture >95% variance.\n",
      "Total variance captured = 0.999923.\n"
     ]
    }
   ],
   "source": [
    "# your code here\n",
    "\n",
    "pca = PCA(n_components=.95,svd_solver=\"full\")\n",
    "principalComponents = pca.fit(X_train)\n",
    "\n",
    "print(\"PCA used %d components to capture >95%% variance.\"% len(pca.components_))\n",
    "print(\"Total variance captured = %f.\" % pca.explained_variance_ratio_.sum())\n",
    "#print(principalComponents.components_)\n",
    "\n",
    "X_pca_train = pca.transform(X_train)\n",
    "X_pca_test = pca.transform(X_test)\n"
   ]
  },
  {
   "cell_type": "code",
   "execution_count": 27,
   "metadata": {},
   "outputs": [
    {
     "name": "stdout",
     "output_type": "stream",
     "text": [
      "DecisionTreeClassifier(class_weight=None, criterion='gini', max_depth=1,\n",
      "            max_features=None, max_leaf_nodes=None,\n",
      "            min_impurity_decrease=0.0, min_impurity_split=None,\n",
      "            min_samples_leaf=1, min_samples_split=2,\n",
      "            min_weight_fraction_leaf=0.0, presort=False, random_state=None,\n",
      "            splitter='best')\n",
      "\n",
      "Best decision tree score: 0.7956799851673311 occurs at depth: 1\n",
      "Decision Tree test prediction accuracy: 0.797142\n"
     ]
    }
   ],
   "source": [
    "# your code here\n",
    "#kfold=KFold(5, shuffle=True)\n",
    "\n",
    "parameters = {'max_depth':range(1,10)}\n",
    "clf = GridSearchCV(DecisionTreeClassifier(), parameters, n_jobs=4,cv=5)\n",
    "clf.fit(X=X_train, y=y_train)\n",
    "dtclf = clf.best_estimator_\n",
    "\n",
    "results=clf.cv_results_\n",
    "\n",
    "print(dtclf)\n",
    "\n",
    "print(\"\\nBest decision tree score: {} occurs at depth: {}\".format(\n",
    "    clf.best_score_, clf.best_params_['max_depth']))\n",
    "\n",
    "print(\"Decision Tree test prediction accuracy: %f\" % accuracy_score(dtclf.predict(X_test),y_test))"
   ]
  },
  {
   "cell_type": "code",
   "execution_count": 28,
   "metadata": {},
   "outputs": [
    {
     "name": "stdout",
     "output_type": "stream",
     "text": [
      "Random Forest training prediction accuracy: 0.807222\n",
      "Random Forest test prediction accuracy: 0.800554\n"
     ]
    }
   ],
   "source": [
    "# your code here\n",
    "rfclf = RandomForestClassifier(n_estimators=25,max_depth=10)\n",
    "rfclf.fit(X_train, y_train)\n",
    "\n",
    "print(\"Random Forest training prediction accuracy: %f\" % accuracy_score(rfclf.predict(X_train),y_train))\n",
    "\n",
    "print(\"Random Forest test prediction accuracy: %f\" % accuracy_score(rfclf.predict(X_test),y_test))"
   ]
  },
  {
   "cell_type": "code",
   "execution_count": 29,
   "metadata": {},
   "outputs": [
    {
     "name": "stdout",
     "output_type": "stream",
     "text": [
      "Adaboost test prediction accuracy: 0.797884\n"
     ]
    }
   ],
   "source": [
    "# your code here\n",
    "basic=DecisionTreeClassifier(max_depth=3)\n",
    "abclf = AdaBoostClassifier(n_estimators=50,\n",
    "                         learning_rate=0.05,\n",
    "                         base_estimator=basic)\n",
    "# Train model\n",
    "abclf.fit(X_train, y_train)\n",
    "print(\"Adaboost test prediction accuracy: %f\" % accuracy_score(abclf.predict(X_test),y_test))"
   ]
  },
  {
   "cell_type": "code",
   "execution_count": 30,
   "metadata": {},
   "outputs": [
    {
     "name": "stdout",
     "output_type": "stream",
     "text": [
      "Logistic model accuracy: 0.7983288836151489\n"
     ]
    }
   ],
   "source": [
    "# your code here\n",
    "fitted_logreg = LogisticRegressionCV().fit(X_train, y_train)\n",
    "print(\"Logistic model accuracy: {}\".format(fitted_logreg.score(X_test, y_test)))\n",
    "\n",
    "#print(\"\\nLogistic coefficients weights:\")\n",
    "#print(*X_train, sep=' ')\n",
    "#print(*fitted_logreg.coef_[0], sep=' ')\n"
   ]
  },
  {
   "cell_type": "code",
   "execution_count": 31,
   "metadata": {},
   "outputs": [],
   "source": [
    "# pickle the models\n",
    "ensemble_dict={}\n",
    "ensemble_dict[\"DT\"]=dtclf\n",
    "ensemble_dict[\"RF\"]=rfclf\n",
    "ensemble_dict[\"Log\"]=fitted_logreg\n",
    "ensemble_dict[\"Ada\"]=abclf\n",
    "\n",
    "import pickle\n",
    "with open(\"ensemble.pkl\", 'wb') as outfile:\n",
    "    pickle.dump(ensemble_dict,outfile)"
   ]
  },
  {
   "cell_type": "markdown",
   "metadata": {},
   "source": [
    "# Ensemble Tuning"
   ]
  },
  {
   "cell_type": "code",
   "execution_count": 32,
   "metadata": {},
   "outputs": [
    {
     "name": "stdout",
     "output_type": "stream",
     "text": [
      "(16181, 4) (20226, 4) (16181, 40) (20226, 40)\n",
      "(16181, 44) (20226, 44)\n"
     ]
    }
   ],
   "source": [
    "with open(\"ensemble.pkl\", 'rb') as infile:\n",
    "    model_dict = pickle.load(infile)\n",
    "    \n",
    "ensemble_tune=pd.DataFrame()\n",
    "ensemble_test=pd.DataFrame()\n",
    "for k,v in model_dict.items():\n",
    "    ensemble_tune[k]=v.predict_proba(X_tune)[:,1]\n",
    "    ensemble_test[k]=v.predict_proba(X_test)[:,1]\n",
    "\n",
    "print(ensemble_tune.shape,ensemble_test.shape,X_tune.shape,X_test.shape)\n",
    "eX_tune=X_tune.reset_index(drop=True)\n",
    "eX_test=X_test.reset_index(drop=True)\n",
    "ey_tune=y_tune.reset_index(drop=True)\n",
    "ey_test=y_test.reset_index(drop=True)\n",
    "\n",
    "# your code here\n",
    "augmented_tune=pd.concat((ensemble_tune,eX_tune),axis=1)\n",
    "augmented_test=pd.concat((ensemble_test,eX_test),axis=1)\n",
    "\n",
    "print(augmented_tune.shape,augmented_test.shape)"
   ]
  },
  {
   "cell_type": "code",
   "execution_count": 33,
   "metadata": {},
   "outputs": [
    {
     "name": "stdout",
     "output_type": "stream",
     "text": [
      "0.7786512409769604\n"
     ]
    }
   ],
   "source": [
    "ensemble_clf=DecisionTreeClassifier(max_depth=10).fit(augmented_tune,ey_tune)\n",
    "print(ensemble_clf.score(augmented_test,ey_test))"
   ]
  },
  {
   "cell_type": "code",
   "execution_count": 34,
   "metadata": {},
   "outputs": [
    {
     "name": "stdout",
     "output_type": "stream",
     "text": [
      "0.8014436863443093\n"
     ]
    }
   ],
   "source": [
    "ensemble_rfclf = RandomForestClassifier(n_estimators=25,max_depth=10).fit(augmented_tune,ey_tune)\n",
    "print(ensemble_rfclf.score(augmented_test,ey_test))"
   ]
  },
  {
   "cell_type": "code",
   "execution_count": 35,
   "metadata": {},
   "outputs": [
    {
     "name": "stdout",
     "output_type": "stream",
     "text": [
      "Logistic model accuracy: 0.7984277662414714\n"
     ]
    }
   ],
   "source": [
    "# your code here\n",
    "ensemble_logreg = LogisticRegressionCV().fit(augmented_tune, ey_tune)\n",
    "print(\"Logistic model accuracy: {}\".format(ensemble_logreg.score(augmented_test, ey_test)))"
   ]
  },
  {
   "cell_type": "code",
   "execution_count": 36,
   "metadata": {},
   "outputs": [
    {
     "name": "stdout",
     "output_type": "stream",
     "text": [
      "Adaboost test prediction accuracy: 0.801345\n"
     ]
    }
   ],
   "source": [
    "# your code here\n",
    "basic=DecisionTreeClassifier(max_depth=3)\n",
    "ensemble_abclf = AdaBoostClassifier(n_estimators=50,\n",
    "                         learning_rate=0.05,\n",
    "                         base_estimator=basic)\n",
    "# Train model\n",
    "ensemble_abclf.fit(augmented_tune, ey_tune)\n",
    "print(\"Adaboost test prediction accuracy: %f\" % accuracy_score(ensemble_abclf.predict(augmented_test),ey_test))"
   ]
  },
  {
   "cell_type": "code",
   "execution_count": 48,
   "metadata": {},
   "outputs": [],
   "source": [
    "data_for_final = pd.DataFrame(index=traintest_df.index)\n",
    "\n",
    "for key in ensemble_dict.keys():\n",
    "    data_for_final[key] = ensemble_dict[key].predict(traintest_df)"
   ]
  },
  {
   "cell_type": "code",
   "execution_count": 49,
   "metadata": {},
   "outputs": [],
   "source": [
    "pickle.dump(data_for_final, open(\"pred_for_final.pkl\", 'wb'))"
   ]
  },
  {
   "cell_type": "markdown",
   "metadata": {},
   "source": [
    "# Linear Regression"
   ]
  },
  {
   "cell_type": "code",
   "execution_count": 37,
   "metadata": {},
   "outputs": [
    {
     "name": "stdout",
     "output_type": "stream",
     "text": [
      "1.055369432838285\n",
      "[-1.11429692e-01  3.92447252e-02 -7.71763907e-04 -3.38623656e-05\n",
      " -2.87387147e-02  2.55322959e-03 -4.21919459e-03 -1.78346693e-02\n",
      " -1.48243563e-02  6.36245627e-02 -5.10604364e-05 -4.41401414e-03\n",
      "  4.63307419e-07  8.79696377e-03  2.04445176e-01 -1.09634381e-02\n",
      "  1.17356998e-02 -2.39189953e-01 -1.76669887e-02  1.72566268e-02\n",
      " -2.84274791e-03  7.47749697e-04 -1.43218202e-02 -1.34929408e-02\n",
      " -5.85799100e-03  6.47520850e-03 -1.93723178e-02 -1.07611624e-02\n",
      " -1.25942872e-04  1.48412402e-03  1.04355859e-01  4.30211422e-16\n",
      "  7.64503636e-02 -7.71754950e-02 -1.93577008e-06 -3.09009145e-03\n",
      " -8.97830581e-03  1.21245752e-07  4.49148937e-07  2.14758485e-04]\n",
      "The training set OLS regression R^2 score is: 0.088940\n",
      "The test set OLS regression R^2 score is: 0.088825\n"
     ]
    }
   ],
   "source": [
    "LCOLSModel = LinearRegression().fit(X_train, y_train)\n",
    "\n",
    "print(LCOLSModel.intercept_)\n",
    "print(LCOLSModel.coef_)\n",
    "\n",
    "# your code here\n",
    "trainR2 = r2_score(y_train,LCOLSModel.predict(X_train))\n",
    "\n",
    "testR2 = r2_score(y_test,LCOLSModel.predict(X_test))\n",
    "\n",
    "print(\"The training set OLS regression R^2 score is: %f\" % trainR2)\n",
    "print(\"The test set OLS regression R^2 score is: %f\" % testR2)"
   ]
  },
  {
   "cell_type": "code",
   "execution_count": 38,
   "metadata": {},
   "outputs": [
    {
     "name": "stdout",
     "output_type": "stream",
     "text": [
      "Best model searched:\n",
      "alpha = 100\n",
      "intercept = 1.0807994811397408\n",
      "betas = [-1.10054426e-01  1.01525409e-03 -7.58621199e-04 -3.34269919e-05\n",
      " -1.80803049e-02  2.55856118e-03 -4.21419975e-03 -8.26629063e-03\n",
      " -1.47132113e-02  2.52020014e-02 -5.12329805e-05  4.76327289e-03\n",
      "  6.87421547e-08  1.12706077e-02  1.64991156e-03 -1.49404788e-03\n",
      " -2.63379573e-02 -4.86791751e-02 -1.74083242e-02  2.02445754e-02\n",
      " -2.83801460e-03  7.43579503e-04 -1.42037748e-02 -3.35891285e-03\n",
      " -5.88394642e-03  1.55191930e-02 -8.74139427e-03 -1.08489022e-02\n",
      " -1.23981121e-04  1.47898663e-03  2.57396054e-03  0.00000000e+00\n",
      "  2.86678659e-02 -5.99180526e-02 -3.18286886e-06 -3.06617581e-03\n",
      "  3.52580608e-04  1.20682452e-07  4.48429558e-07  2.14940028e-04], \n",
      "The training set Ridge regression R^2 score is: 0.088820\n",
      "The test set Ridge regression R^2 score is: 0.089031\n"
     ]
    }
   ],
   "source": [
    "lambdas = [.001, .005, 1, 5, 10, 50, 100, 500, 1000]\n",
    "\n",
    "kfold = KFold(5, shuffle=True) # use this for testing\n",
    "\n",
    "LCRRModel = RidgeCV(alphas=lambdas, cv=kfold)\n",
    "LCRRModel.fit(X_train, y_train)\n",
    "LCRR_shrinkage_parameter=LCRRModel.alpha_\n",
    "\n",
    "print(\"Best model searched:\\nalpha = {}\\nintercept = {}\\nbetas = {}, \".format(LCRR_shrinkage_parameter,\n",
    "                                                                            LCRRModel.intercept_,\n",
    "                                                                            LCRRModel.coef_\n",
    "                                                                            )\n",
    "     )\n",
    "\n",
    "RRtrainR2 = r2_score(y_train,LCRRModel.predict(X_train))\n",
    "RRtestR2 = r2_score(y_test,LCRRModel.predict(X_test))\n",
    "print(\"The training set Ridge regression R^2 score is: %f\" % RRtrainR2)\n",
    "print(\"The test set Ridge regression R^2 score is: %f\" % RRtestR2)"
   ]
  },
  {
   "cell_type": "code",
   "execution_count": 39,
   "metadata": {},
   "outputs": [
    {
     "name": "stdout",
     "output_type": "stream",
     "text": [
      "Best model searched:\n",
      "alpha = 0.001\n",
      "intercept = 1.092206382818869\n",
      "betas = [-1.02046564e-01 -0.00000000e+00 -0.00000000e+00 -3.36578134e-05\n",
      " -0.00000000e+00  2.60637703e-03 -4.14554274e-03 -0.00000000e+00\n",
      " -1.33240630e-02  2.13624990e-02 -5.13594218e-05  0.00000000e+00\n",
      " -3.20084041e-06  0.00000000e+00  0.00000000e+00 -0.00000000e+00\n",
      " -2.36840028e-02 -0.00000000e+00 -7.60089089e-03  0.00000000e+00\n",
      " -2.60339908e-03  7.33789187e-04 -5.52507474e-03 -0.00000000e+00\n",
      " -4.53832570e-03  7.16793326e-03 -0.00000000e+00 -1.17664045e-02\n",
      " -5.26625739e-05  1.39945459e-03  0.00000000e+00  0.00000000e+00\n",
      "  0.00000000e+00 -0.00000000e+00 -1.24969738e-05 -1.49788298e-03\n",
      " -0.00000000e+00  1.09078728e-07  4.47117079e-07  2.21771630e-04], \n",
      "The training set Lasso regression R^2 score is: 0.087974\n",
      "The test set Lasso regression R^2 score is: 0.088161\n"
     ]
    }
   ],
   "source": [
    "LCLRModel = LassoCV(alphas=lambdas, cv=kfold)\n",
    "LCLRModel.fit(X_train, y_train)\n",
    "LCLR_shrinkage_parameter = LCLRModel.alpha_\n",
    "print(\"Best model searched:\\nalpha = {}\\nintercept = {}\\nbetas = {}, \".format(LCLR_shrinkage_parameter,\n",
    "                                                                            LCLRModel.intercept_,\n",
    "                                                                            LCLRModel.coef_\n",
    "                                                                            )\n",
    "     )\n",
    "\n",
    "LRtrainR2 = r2_score(y_train,LCLRModel.predict(X_train))\n",
    "LRtestR2 = r2_score(y_test,LCLRModel.predict(X_test))\n",
    "print(\"The training set Lasso regression R^2 score is: %f\" % LRtrainR2)\n",
    "print(\"The test set Lasso regression R^2 score is: %f\" % LRtestR2)"
   ]
  },
  {
   "cell_type": "code",
   "execution_count": 40,
   "metadata": {},
   "outputs": [],
   "source": [
    "coef_df=pd.DataFrame(np.array([X_train.columns,\n",
    "                               LCOLSModel.coef_,\n",
    "                               LCRRModel.coef_,\n",
    "                               LCLRModel.coef_]).T,columns=[\"feature\",\"OLS\",\"RR\",\"LR\"])"
   ]
  },
  {
   "cell_type": "code",
   "execution_count": 41,
   "metadata": {},
   "outputs": [
    {
     "name": "stdout",
     "output_type": "stream",
     "text": [
      "                                feature          OLS           RR           LR\n",
      "0                       term_ 60 months     -0.11143    -0.110054    -0.102047\n",
      "1                    home_ownership_OWN    0.0392447   0.00101525           -0\n",
      "2                               pub_rec -0.000771764 -0.000758621           -0\n",
      "3                      earliest_cr_line -3.38624e-05  -3.3427e-05 -3.36578e-05\n",
      "4                purpose_major_purchase   -0.0287387   -0.0180803           -0\n",
      "5                            emp_length   0.00255323   0.00255856   0.00260638\n",
      "6                                   dti  -0.00421919   -0.0042142  -0.00414554\n",
      "7              purpose_home_improvement   -0.0178347  -0.00826629           -0\n",
      "8                        inq_last_6mths   -0.0148244   -0.0147132   -0.0133241\n",
      "9               home_ownership_MORTGAGE    0.0636246     0.025202    0.0213625\n",
      "10                          installment -5.10604e-05  -5.1233e-05 -5.13594e-05\n",
      "11           purpose_debt_consolidation  -0.00441401   0.00476327            0\n",
      "12          mths_since_last_major_derog  4.63307e-07  6.87422e-08 -3.20084e-06\n",
      "13                      purpose_wedding   0.00879696    0.0112706            0\n",
      "14                  home_ownership_NONE     0.204445   0.00164991            0\n",
      "15                        purpose_other   -0.0109634  -0.00149405           -0\n",
      "16                  home_ownership_RENT    0.0117357    -0.026338    -0.023684\n",
      "17                  purpose_educational     -0.23919   -0.0486792           -0\n",
      "18         verification_status_Verified    -0.017667   -0.0174083  -0.00760089\n",
      "19                        purpose_house    0.0172566    0.0202446            0\n",
      "20                             open_acc  -0.00284275  -0.00283801   -0.0026034\n",
      "21                             fico_est   0.00074775   0.00074358  0.000733789\n",
      "22  verification_status_Source Verified   -0.0143218   -0.0142038  -0.00552507\n",
      "23                       purpose_moving   -0.0134929  -0.00335891           -0\n",
      "24                               inq_fi  -0.00585799  -0.00588395  -0.00453833\n",
      "25                  purpose_credit_card   0.00647521    0.0155192   0.00716793\n",
      "26                      purpose_medical   -0.0193723  -0.00874139           -0\n",
      "27                             int_rate   -0.0107612   -0.0108489   -0.0117664\n",
      "28                           revol_util -0.000125943 -0.000123981 -5.26626e-05\n",
      "29                            total_acc   0.00148412   0.00147899   0.00139945\n",
      "30                 home_ownership_OTHER     0.104356   0.00257396            0\n",
      "31           application_type_Joint App  4.30211e-16            0            0\n",
      "32             purpose_renewable_energy    0.0764504    0.0286679            0\n",
      "33               purpose_small_business   -0.0771755   -0.0599181           -0\n",
      "34               mths_since_last_record -1.93577e-06 -3.18287e-06  -1.2497e-05\n",
      "35                          delinq_2yrs  -0.00309009  -0.00306618  -0.00149788\n",
      "36                     purpose_vacation  -0.00897831  0.000352581           -0\n",
      "37                           annual_inc  1.21246e-07  1.20682e-07  1.09079e-07\n",
      "38                            revol_bal  4.49149e-07   4.4843e-07  4.47117e-07\n",
      "39               mths_since_last_delinq  0.000214758   0.00021494  0.000221772\n"
     ]
    }
   ],
   "source": [
    "print(coef_df)"
   ]
  },
  {
   "cell_type": "code",
   "execution_count": 42,
   "metadata": {},
   "outputs": [
    {
     "ename": "TypeError",
     "evalue": "Unary negative expects numeric dtype, not object",
     "output_type": "error",
     "traceback": [
      "\u001b[1;31m---------------------------------------------------------------------------\u001b[0m",
      "\u001b[1;31mTypeError\u001b[0m                                 Traceback (most recent call last)",
      "\u001b[1;32m<ipython-input-42-d70c52889977>\u001b[0m in \u001b[0;36m<module>\u001b[1;34m()\u001b[0m\n\u001b[0;32m      1\u001b[0m \u001b[1;31m# your code here\u001b[0m\u001b[1;33m\u001b[0m\u001b[1;33m\u001b[0m\u001b[0m\n\u001b[0;32m      2\u001b[0m \u001b[0mplt\u001b[0m\u001b[1;33m.\u001b[0m\u001b[0mfigure\u001b[0m\u001b[1;33m(\u001b[0m\u001b[0mfigsize\u001b[0m\u001b[1;33m=\u001b[0m\u001b[1;33m(\u001b[0m\u001b[1;36m20\u001b[0m\u001b[1;33m,\u001b[0m\u001b[1;36m10\u001b[0m\u001b[1;33m)\u001b[0m\u001b[1;33m)\u001b[0m\u001b[1;33m\u001b[0m\u001b[0m\n\u001b[1;32m----> 3\u001b[1;33m \u001b[0mplt\u001b[0m\u001b[1;33m.\u001b[0m\u001b[0mbar\u001b[0m\u001b[1;33m(\u001b[0m\u001b[0mcoef_df\u001b[0m\u001b[1;33m[\u001b[0m\u001b[1;34m\"feature\"\u001b[0m\u001b[1;33m]\u001b[0m\u001b[1;33m,\u001b[0m\u001b[1;33m-\u001b[0m\u001b[0mabs\u001b[0m\u001b[1;33m(\u001b[0m\u001b[0mcoef_df\u001b[0m\u001b[1;33m[\u001b[0m\u001b[1;34m\"OLS\"\u001b[0m\u001b[1;33m]\u001b[0m\u001b[1;33m)\u001b[0m\u001b[1;33m,\u001b[0m\u001b[0mlabel\u001b[0m\u001b[1;33m=\u001b[0m\u001b[1;34m'OLS'\u001b[0m\u001b[1;33m,\u001b[0m\u001b[0malpha\u001b[0m\u001b[1;33m=\u001b[0m\u001b[1;36m1.0\u001b[0m\u001b[1;33m)\u001b[0m\u001b[1;33m\u001b[0m\u001b[0m\n\u001b[0m\u001b[0;32m      4\u001b[0m \u001b[0mplt\u001b[0m\u001b[1;33m.\u001b[0m\u001b[0mbar\u001b[0m\u001b[1;33m(\u001b[0m\u001b[0mcoef_df\u001b[0m\u001b[1;33m[\u001b[0m\u001b[1;34m\"feature\"\u001b[0m\u001b[1;33m]\u001b[0m\u001b[1;33m,\u001b[0m\u001b[1;33m-\u001b[0m\u001b[0mabs\u001b[0m\u001b[1;33m(\u001b[0m\u001b[0mcoef_df\u001b[0m\u001b[1;33m[\u001b[0m\u001b[1;34m\"RR\"\u001b[0m\u001b[1;33m]\u001b[0m\u001b[1;33m)\u001b[0m\u001b[1;33m,\u001b[0m\u001b[0mlabel\u001b[0m\u001b[1;33m=\u001b[0m\u001b[1;34m'RR'\u001b[0m\u001b[1;33m,\u001b[0m\u001b[0malpha\u001b[0m\u001b[1;33m=\u001b[0m\u001b[1;36m0.5\u001b[0m\u001b[1;33m)\u001b[0m\u001b[1;33m\u001b[0m\u001b[0m\n\u001b[0;32m      5\u001b[0m \u001b[0mplt\u001b[0m\u001b[1;33m.\u001b[0m\u001b[0mbar\u001b[0m\u001b[1;33m(\u001b[0m\u001b[0mcoef_df\u001b[0m\u001b[1;33m[\u001b[0m\u001b[1;34m\"feature\"\u001b[0m\u001b[1;33m]\u001b[0m\u001b[1;33m,\u001b[0m\u001b[0mabs\u001b[0m\u001b[1;33m(\u001b[0m\u001b[0mcoef_df\u001b[0m\u001b[1;33m[\u001b[0m\u001b[1;34m\"LR\"\u001b[0m\u001b[1;33m]\u001b[0m\u001b[1;33m)\u001b[0m\u001b[1;33m,\u001b[0m\u001b[0mlabel\u001b[0m\u001b[1;33m=\u001b[0m\u001b[1;34m'LR'\u001b[0m\u001b[1;33m,\u001b[0m\u001b[0malpha\u001b[0m\u001b[1;33m=\u001b[0m\u001b[1;36m0.5\u001b[0m\u001b[1;33m)\u001b[0m\u001b[1;33m\u001b[0m\u001b[0m\n",
      "\u001b[1;32m~\\AppData\\Local\\Continuum\\anaconda3\\lib\\site-packages\\pandas\\core\\generic.py\u001b[0m in \u001b[0;36m__neg__\u001b[1;34m(self)\u001b[0m\n\u001b[0;32m   1122\u001b[0m         \u001b[1;32melse\u001b[0m\u001b[1;33m:\u001b[0m\u001b[1;33m\u001b[0m\u001b[0m\n\u001b[0;32m   1123\u001b[0m             raise TypeError(\"Unary negative expects numeric dtype, not {}\"\n\u001b[1;32m-> 1124\u001b[1;33m                             .format(values.dtype))\n\u001b[0m\u001b[0;32m   1125\u001b[0m         \u001b[1;32mreturn\u001b[0m \u001b[0mself\u001b[0m\u001b[1;33m.\u001b[0m\u001b[0m__array_wrap__\u001b[0m\u001b[1;33m(\u001b[0m\u001b[0marr\u001b[0m\u001b[1;33m)\u001b[0m\u001b[1;33m\u001b[0m\u001b[0m\n\u001b[0;32m   1126\u001b[0m \u001b[1;33m\u001b[0m\u001b[0m\n",
      "\u001b[1;31mTypeError\u001b[0m: Unary negative expects numeric dtype, not object"
     ]
    },
    {
     "data": {
      "text/plain": [
       "<Figure size 1440x720 with 0 Axes>"
      ]
     },
     "metadata": {},
     "output_type": "display_data"
    }
   ],
   "source": [
    "# your code here\n",
    "plt.figure(figsize=(20,10))\n",
    "plt.bar(coef_df[\"feature\"],-abs(coef_df[\"OLS\"]),label='OLS',alpha=1.0)\n",
    "plt.bar(coef_df[\"feature\"],-abs(coef_df[\"RR\"]),label='RR',alpha=0.5)\n",
    "plt.bar(coef_df[\"feature\"],abs(coef_df[\"LR\"]),label='LR',alpha=0.5)\n",
    "plt.yscale(\"linear\")\n",
    "\n",
    "plt.legend()\n",
    "plt.show()"
   ]
  }
 ],
 "metadata": {
  "kernelspec": {
   "display_name": "Python 3",
   "language": "python",
   "name": "python3"
  },
  "language_info": {
   "codemirror_mode": {
    "name": "ipython",
    "version": 3
   },
   "file_extension": ".py",
   "mimetype": "text/x-python",
   "name": "python",
   "nbconvert_exporter": "python",
   "pygments_lexer": "ipython3",
   "version": "3.6.5"
  },
  "toc": {
   "base_numbering": 1,
   "nav_menu": {},
   "number_sections": false,
   "sideBar": true,
   "skip_h1_title": false,
   "title_cell": "Table of Contents",
   "title_sidebar": "Contents",
   "toc_cell": false,
   "toc_position": {},
   "toc_section_display": true,
   "toc_window_display": false
  }
 },
 "nbformat": 4,
 "nbformat_minor": 2
}
