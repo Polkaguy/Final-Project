{
 "cells": [
  {
   "cell_type": "code",
   "execution_count": 1,
   "metadata": {},
   "outputs": [],
   "source": [
    "import pandas as pd\n",
    "import numpy as np\n",
    "import matplotlib.pyplot as plt\n",
    "import os\n",
    "import re"
   ]
  },
  {
   "cell_type": "markdown",
   "metadata": {},
   "source": [
    "# Final Project"
   ]
  },
  {
   "cell_type": "markdown",
   "metadata": {},
   "source": [
    "# Data Acquisition\n",
    "The following code imports and validates the LendingClub data."
   ]
  },
  {
   "cell_type": "code",
   "execution_count": 2,
   "metadata": {},
   "outputs": [],
   "source": [
    "converters = dict(\n",
    "    id=str,\n",
    "    desc=str,\n",
    "    hardship_type=str,\n",
    "    hardship_reason=str,\n",
    "    hardship_status=str,\n",
    "    hardship_loan_status=str,\n",
    "    verification_status_joint=str\n",
    ")\n",
    "dates = [\n",
    "    'next_pymnt_d',\n",
    "    'hardship_start_date',\n",
    "    'hardship_end_date',\n",
    "    'payment_plan_start_date',\n",
    "    'earliest_cr_line',\n",
    "    'issue_d'\n",
    "]"
   ]
  },
  {
   "cell_type": "code",
   "execution_count": 3,
   "metadata": {},
   "outputs": [],
   "source": [
    "# Imports loan data\n",
    "\n",
    "df = pd.DataFrame()\n",
    "files = os.listdir('./Source Data/Loan Data')\n",
    "csvs = []\n",
    "for file in files:\n",
    "    if re.match('.*csv$',file):\n",
    "        csvs += [file]\n",
    "cols = df.dtypes\n",
    "for csv in csvs:\n",
    "    path = './Source Data/Loan Data/' + csv\n",
    "    tdf = pd.read_csv(path,header=1,low_memory=False,)\n",
    "    df=df.append(tdf)\n",
    "df.reset_index(inplace=True) # This will help with joining back data if necessary."
   ]
  },
  {
   "cell_type": "code",
   "execution_count": 4,
   "metadata": {},
   "outputs": [
    {
     "name": "stdout",
     "output_type": "stream",
     "text": [
      "index                                           int64\n",
      "id                                             object\n",
      "member_id                                     float64\n",
      "loan_amnt                                     float64\n",
      "funded_amnt                                   float64\n",
      "funded_amnt_inv                               float64\n",
      "term                                           object\n",
      "int_rate                                       object\n",
      "installment                                   float64\n",
      "grade                                          object\n",
      "sub_grade                                      object\n",
      "emp_title                                      object\n",
      "emp_length                                     object\n",
      "home_ownership                                 object\n",
      "annual_inc                                    float64\n",
      "verification_status                            object\n",
      "issue_d                                        object\n",
      "loan_status                                    object\n",
      "pymnt_plan                                     object\n",
      "url                                            object\n",
      "desc                                           object\n",
      "purpose                                        object\n",
      "title                                          object\n",
      "zip_code                                       object\n",
      "addr_state                                     object\n",
      "dti                                           float64\n",
      "delinq_2yrs                                   float64\n",
      "earliest_cr_line                               object\n",
      "fico_range_low                                float64\n",
      "fico_range_high                               float64\n",
      "inq_last_6mths                                float64\n",
      "mths_since_last_delinq                        float64\n",
      "mths_since_last_record                        float64\n",
      "open_acc                                      float64\n",
      "pub_rec                                       float64\n",
      "revol_bal                                     float64\n",
      "revol_util                                     object\n",
      "total_acc                                     float64\n",
      "initial_list_status                            object\n",
      "out_prncp                                     float64\n",
      "out_prncp_inv                                 float64\n",
      "total_pymnt                                   float64\n",
      "total_pymnt_inv                               float64\n",
      "total_rec_prncp                               float64\n",
      "total_rec_int                                 float64\n",
      "total_rec_late_fee                            float64\n",
      "recoveries                                    float64\n",
      "collection_recovery_fee                       float64\n",
      "last_pymnt_d                                   object\n",
      "last_pymnt_amnt                               float64\n",
      "next_pymnt_d                                   object\n",
      "last_credit_pull_d                             object\n",
      "last_fico_range_high                          float64\n",
      "last_fico_range_low                           float64\n",
      "collections_12_mths_ex_med                    float64\n",
      "mths_since_last_major_derog                   float64\n",
      "policy_code                                   float64\n",
      "application_type                               object\n",
      "annual_inc_joint                              float64\n",
      "dti_joint                                     float64\n",
      "verification_status_joint                      object\n",
      "acc_now_delinq                                float64\n",
      "tot_coll_amt                                  float64\n",
      "tot_cur_bal                                   float64\n",
      "open_acc_6m                                   float64\n",
      "open_act_il                                   float64\n",
      "open_il_12m                                   float64\n",
      "open_il_24m                                   float64\n",
      "mths_since_rcnt_il                            float64\n",
      "total_bal_il                                  float64\n",
      "il_util                                       float64\n",
      "open_rv_12m                                   float64\n",
      "open_rv_24m                                   float64\n",
      "max_bal_bc                                    float64\n",
      "all_util                                      float64\n",
      "                                               ...   \n",
      "total_cu_tl                                   float64\n",
      "inq_last_12m                                  float64\n",
      "acc_open_past_24mths                          float64\n",
      "avg_cur_bal                                   float64\n",
      "bc_open_to_buy                                float64\n",
      "bc_util                                       float64\n",
      "chargeoff_within_12_mths                      float64\n",
      "delinq_amnt                                   float64\n",
      "mo_sin_old_il_acct                            float64\n",
      "mo_sin_old_rev_tl_op                          float64\n",
      "mo_sin_rcnt_rev_tl_op                         float64\n",
      "mo_sin_rcnt_tl                                float64\n",
      "mort_acc                                      float64\n",
      "mths_since_recent_bc                          float64\n",
      "mths_since_recent_bc_dlq                      float64\n",
      "mths_since_recent_inq                         float64\n",
      "mths_since_recent_revol_delinq                float64\n",
      "num_accts_ever_120_pd                         float64\n",
      "num_actv_bc_tl                                float64\n",
      "num_actv_rev_tl                               float64\n",
      "num_bc_sats                                   float64\n",
      "num_bc_tl                                     float64\n",
      "num_il_tl                                     float64\n",
      "num_op_rev_tl                                 float64\n",
      "num_rev_accts                                 float64\n",
      "num_rev_tl_bal_gt_0                           float64\n",
      "num_sats                                      float64\n",
      "num_tl_120dpd_2m                              float64\n",
      "num_tl_30dpd                                  float64\n",
      "num_tl_90g_dpd_24m                            float64\n",
      "num_tl_op_past_12m                            float64\n",
      "pct_tl_nvr_dlq                                float64\n",
      "percent_bc_gt_75                              float64\n",
      "pub_rec_bankruptcies                          float64\n",
      "tax_liens                                     float64\n",
      "tot_hi_cred_lim                               float64\n",
      "total_bal_ex_mort                             float64\n",
      "total_bc_limit                                float64\n",
      "total_il_high_credit_limit                    float64\n",
      "revol_bal_joint                               float64\n",
      "sec_app_fico_range_low                        float64\n",
      "sec_app_fico_range_high                       float64\n",
      "sec_app_earliest_cr_line                       object\n",
      "sec_app_inq_last_6mths                        float64\n",
      "sec_app_mort_acc                              float64\n",
      "sec_app_open_acc                              float64\n",
      "sec_app_revol_util                            float64\n",
      "sec_app_open_act_il                           float64\n",
      "sec_app_num_rev_accts                         float64\n",
      "sec_app_chargeoff_within_12_mths              float64\n",
      "sec_app_collections_12_mths_ex_med            float64\n",
      "sec_app_mths_since_last_major_derog           float64\n",
      "hardship_flag                                  object\n",
      "hardship_type                                  object\n",
      "hardship_reason                                object\n",
      "hardship_status                                object\n",
      "deferral_term                                 float64\n",
      "hardship_amount                               float64\n",
      "hardship_start_date                            object\n",
      "hardship_end_date                              object\n",
      "payment_plan_start_date                        object\n",
      "hardship_length                               float64\n",
      "hardship_dpd                                  float64\n",
      "hardship_loan_status                           object\n",
      "orig_projected_additional_accrued_interest    float64\n",
      "hardship_payoff_balance_amount                float64\n",
      "hardship_last_payment_amount                  float64\n",
      "disbursement_method                            object\n",
      "debt_settlement_flag                           object\n",
      "debt_settlement_flag_date                      object\n",
      "settlement_status                              object\n",
      "settlement_date                                object\n",
      "settlement_amount                             float64\n",
      "settlement_percentage                         float64\n",
      "settlement_term                               float64\n",
      "Length: 152, dtype: object\n"
     ]
    }
   ],
   "source": [
    "pd.set_option('display.max_rows', 151)\n",
    "print(df.dtypes)\n",
    "pd.set_option('display.max_rows', 20)"
   ]
  },
  {
   "cell_type": "code",
   "execution_count": 5,
   "metadata": {},
   "outputs": [
    {
     "name": "stdout",
     "output_type": "stream",
     "text": [
      "Data are duplicated 0 times.\n"
     ]
    }
   ],
   "source": [
    "# Checks for duplicates within our combined data\n",
    "df['count']=1 # Generate field to measure the number of occurances\n",
    "\n",
    "counts = df.groupby('id')['count'].count()\n",
    "print('Data are duplicated %i times.' % len(counts[counts>1]))"
   ]
  },
  {
   "cell_type": "markdown",
   "metadata": {},
   "source": [
    "Some data are not useful as a predictor. Because we are going to use these data as a training set, we need to remove data that are not useful for predictions. There are two categories of data that are not useful for predictions. First, we need information about loans that have fully run their course. That is to say, we need to see loans that have either been paid in full or written off. It is not useful to see loans that are currently delinquent or current on payments but still early in the loan. Second, we need to remove predictors that are not import for predicting the loan. For example the URL has no impact on the borrower's ability to repay the loan. If we need this data in the future, we can still pair it back with the original dataframe."
   ]
  },
  {
   "cell_type": "code",
   "execution_count": 6,
   "metadata": {},
   "outputs": [
    {
     "data": {
      "text/plain": [
       "{'index': 1873317,\n",
       " 'id': 1873317,\n",
       " 'member_id': 0,\n",
       " 'loan_amnt': 1873290,\n",
       " 'funded_amnt': 1873290,\n",
       " 'funded_amnt_inv': 1873290,\n",
       " 'term': 1873290,\n",
       " 'int_rate': 1873290,\n",
       " 'installment': 1873290,\n",
       " 'grade': 1873290,\n",
       " 'sub_grade': 1873290,\n",
       " 'emp_title': 1751367,\n",
       " 'emp_length': 1758942,\n",
       " 'home_ownership': 1873290,\n",
       " 'annual_inc': 1873286,\n",
       " 'verification_status': 1873290,\n",
       " 'issue_d': 1873290,\n",
       " 'loan_status': 1873290,\n",
       " 'pymnt_plan': 1873290,\n",
       " 'url': 1873290,\n",
       " 'desc': 126067,\n",
       " 'purpose': 1873290,\n",
       " 'title': 1849965,\n",
       " 'zip_code': 1873289,\n",
       " 'addr_state': 1873290,\n",
       " 'dti': 1872449,\n",
       " 'delinq_2yrs': 1873261,\n",
       " 'earliest_cr_line': 1873261,\n",
       " 'fico_range_low': 1873290,\n",
       " 'fico_range_high': 1873290,\n",
       " 'inq_last_6mths': 1873260,\n",
       " 'mths_since_last_delinq': 930745,\n",
       " 'mths_since_last_record': 311441,\n",
       " 'open_acc': 1873261,\n",
       " 'pub_rec': 1873261,\n",
       " 'revol_bal': 1873290,\n",
       " 'revol_util': 1871931,\n",
       " 'total_acc': 1873261,\n",
       " 'initial_list_status': 1873290,\n",
       " 'out_prncp': 1873290,\n",
       " 'out_prncp_inv': 1873290,\n",
       " 'total_pymnt': 1873290,\n",
       " 'total_pymnt_inv': 1873290,\n",
       " 'total_rec_prncp': 1873290,\n",
       " 'total_rec_int': 1873290,\n",
       " 'total_rec_late_fee': 1873290,\n",
       " 'recoveries': 1873290,\n",
       " 'collection_recovery_fee': 1873290,\n",
       " 'last_pymnt_d': 1871346,\n",
       " 'last_pymnt_amnt': 1873290,\n",
       " 'next_pymnt_d': 852738,\n",
       " 'last_credit_pull_d': 1873216,\n",
       " 'last_fico_range_high': 1873290,\n",
       " 'last_fico_range_low': 1873290,\n",
       " 'collections_12_mths_ex_med': 1873145,\n",
       " 'mths_since_last_major_derog': 490703,\n",
       " 'policy_code': 1873290,\n",
       " 'application_type': 1873290,\n",
       " 'annual_inc_joint': 68056,\n",
       " 'dti_joint': 68052,\n",
       " 'verification_status_joint': 67736,\n",
       " 'acc_now_delinq': 1873261,\n",
       " 'tot_coll_amt': 1803014,\n",
       " 'tot_cur_bal': 1803014,\n",
       " 'open_acc_6m': 1007160,\n",
       " 'open_act_il': 1007161,\n",
       " 'open_il_12m': 1007161,\n",
       " 'open_il_24m': 1007161,\n",
       " 'mths_since_rcnt_il': 977488,\n",
       " 'total_bal_il': 1007161,\n",
       " 'il_util': 867280,\n",
       " 'open_rv_12m': 1007161,\n",
       " 'open_rv_24m': 1007161,\n",
       " 'max_bal_bc': 1007161,\n",
       " 'all_util': 1007043,\n",
       " 'total_rev_hi_lim': 1803014,\n",
       " 'inq_fi': 1007161,\n",
       " 'total_cu_tl': 1007160,\n",
       " 'inq_last_12m': 1007160,\n",
       " 'acc_open_past_24mths': 1823260,\n",
       " 'avg_cur_bal': 1802974,\n",
       " 'bc_open_to_buy': 1803433,\n",
       " 'bc_util': 1802461,\n",
       " 'chargeoff_within_12_mths': 1873145,\n",
       " 'delinq_amnt': 1873261,\n",
       " 'mo_sin_old_il_acct': 1748341,\n",
       " 'mo_sin_old_rev_tl_op': 1803013,\n",
       " 'mo_sin_rcnt_rev_tl_op': 1803013,\n",
       " 'mo_sin_rcnt_tl': 1803014,\n",
       " 'mort_acc': 1823260,\n",
       " 'mths_since_recent_bc': 1804655,\n",
       " 'mths_since_recent_bc_dlq': 442889,\n",
       " 'mths_since_recent_inq': 1625512,\n",
       " 'mths_since_recent_revol_delinq': 628495,\n",
       " 'num_accts_ever_120_pd': 1803014,\n",
       " 'num_actv_bc_tl': 1803014,\n",
       " 'num_actv_rev_tl': 1803014,\n",
       " 'num_bc_sats': 1814700,\n",
       " 'num_bc_tl': 1803014,\n",
       " 'num_il_tl': 1803014,\n",
       " 'num_op_rev_tl': 1803014,\n",
       " 'num_rev_accts': 1803013,\n",
       " 'num_rev_tl_bal_gt_0': 1803014,\n",
       " 'num_sats': 1814700,\n",
       " 'num_tl_120dpd_2m': 1728529,\n",
       " 'num_tl_30dpd': 1803014,\n",
       " 'num_tl_90g_dpd_24m': 1803014,\n",
       " 'num_tl_op_past_12m': 1803014,\n",
       " 'pct_tl_nvr_dlq': 1802860,\n",
       " 'percent_bc_gt_75': 1802993,\n",
       " 'pub_rec_bankruptcies': 1871925,\n",
       " 'tax_liens': 1873185,\n",
       " 'tot_hi_cred_lim': 1803014,\n",
       " 'total_bal_ex_mort': 1823260,\n",
       " 'total_bc_limit': 1823260,\n",
       " 'total_il_high_credit_limit': 1803014,\n",
       " 'revol_bal_joint': 55366,\n",
       " 'sec_app_fico_range_low': 55367,\n",
       " 'sec_app_fico_range_high': 55367,\n",
       " 'sec_app_earliest_cr_line': 55367,\n",
       " 'sec_app_inq_last_6mths': 55367,\n",
       " 'sec_app_mort_acc': 55367,\n",
       " 'sec_app_open_acc': 55367,\n",
       " 'sec_app_revol_util': 54417,\n",
       " 'sec_app_open_act_il': 55367,\n",
       " 'sec_app_num_rev_accts': 55367,\n",
       " 'sec_app_chargeoff_within_12_mths': 55367,\n",
       " 'sec_app_collections_12_mths_ex_med': 55367,\n",
       " 'sec_app_mths_since_last_major_derog': 18992,\n",
       " 'hardship_flag': 1873290,\n",
       " 'hardship_type': 7288,\n",
       " 'hardship_reason': 7288,\n",
       " 'hardship_status': 7288,\n",
       " 'deferral_term': 7288,\n",
       " 'hardship_amount': 7288,\n",
       " 'hardship_start_date': 7288,\n",
       " 'hardship_end_date': 7288,\n",
       " 'payment_plan_start_date': 7288,\n",
       " 'hardship_length': 7288,\n",
       " 'hardship_dpd': 7288,\n",
       " 'hardship_loan_status': 7288,\n",
       " 'orig_projected_additional_accrued_interest': 5846,\n",
       " 'hardship_payoff_balance_amount': 7288,\n",
       " 'hardship_last_payment_amount': 7288,\n",
       " 'disbursement_method': 1873290,\n",
       " 'debt_settlement_flag': 1873290,\n",
       " 'debt_settlement_flag_date': 21652,\n",
       " 'settlement_status': 21652,\n",
       " 'settlement_date': 21652,\n",
       " 'settlement_amount': 21652,\n",
       " 'settlement_percentage': 21652,\n",
       " 'settlement_term': 21652,\n",
       " 'count': 1873317}"
      ]
     },
     "execution_count": 6,
     "metadata": {},
     "output_type": "execute_result"
    }
   ],
   "source": [
    "has_data = {}\n",
    "for column in df.columns:\n",
    "    has_data[column] = len(df[column].dropna())\n",
    "has_data"
   ]
  },
  {
   "cell_type": "markdown",
   "metadata": {},
   "source": [
    "Based on the data, it appears that joint applications are a fairly new development in these data. We see only about 50,000 instances where the data are included for joint applications. The following visualization shows the relationship for income in joint applicants."
   ]
  },
  {
   "cell_type": "code",
   "execution_count": 7,
   "metadata": {},
   "outputs": [
    {
     "data": {
      "image/png": "[encoded data removed]",
      "text/plain": [
       "<Figure size 432x288 with 1 Axes>"
      ]
     },
     "metadata": {},
     "output_type": "display_data"
    }
   ],
   "source": [
    "joint_fil = (df['annual_inc']>0)&(df['annual_inc_joint']>0)\n",
    "plt.scatter(df[joint_fil]['annual_inc'],df[joint_fil]['annual_inc_joint'])\n",
    "plt.title('Income vs. Joint Income')\n",
    "plt.xlabel('Annual income')\n",
    "plt.ylabel('Annual income joint')\n",
    "plt.show;"
   ]
  },
  {
   "cell_type": "markdown",
   "metadata": {},
   "source": [
    "Because of the high risk of multicolinearity, and the small number of observations, we are dropping this from the dataset. We will still keep a dummy variable that treats joint applications differently, but we will not consider the joint income of applicants."
   ]
  },
  {
   "cell_type": "code",
   "execution_count": 9,
   "metadata": {},
   "outputs": [
    {
     "data": {
      "text/plain": [
       "Timestamp('2007-06-01 00:00:00')"
      ]
     },
     "execution_count": 9,
     "metadata": {},
     "output_type": "execute_result"
    }
   ],
   "source": [
    "# Limit to loans that are paid in full or written off. Uses dates so that \n",
    "# loans that are delinquent are not disproportionaltely dropped from data\n",
    "# Convert the loan issue date to a datetime\n",
    "df['issue_d'] = pd.to_datetime(df['issue_d'])\n",
    "mature_filter = (df['loan_status']=='Fully Paid')|(df['loan_status']=='Charged Off')\n",
    "#latest_mature = df[~mature_filter]['issue_d'].min()\n",
    "#latest_mature\n",
    "#reduced_df = df[df['issue_d']<=latest_mature]\n",
    "reduced_df = df[mature_filter] # Pulls only loans that are charged off or paid in full.\n",
    "#\n",
    "## Use my documentation to filter to only \n",
    "#data_dict = pd.read_excel('./Source Data/LCDataDictionary.xlsx',sheet_name='LoanStats')\n",
    "#features = list(data_dict[data_dict['Useful Predictor']=='Yes']['LoanStatNew'].values)\n",
    "#reduced_df=reduced_df[features]\n",
    "#\n",
    "## Combines fields when necessary\n",
    "#reduced_df['fico_est'] = (reduced_df['fico_range_low']+reduced_df['fico_range_high'])/2\n",
    "#reduced_df.drop(columns=[\n",
    "#    'fico_range_low',\n",
    "#    'fico_range_high',\n",
    "#],inplace=True)"
   ]
  },
  {
   "cell_type": "code",
   "execution_count": 11,
   "metadata": {},
   "outputs": [
    {
     "data": {
      "text/plain": [
       "1020552"
      ]
     },
     "execution_count": 11,
     "metadata": {},
     "output_type": "execute_result"
    }
   ],
   "source": [
    "len(df[mature_filter])"
   ]
  },
  {
   "cell_type": "code",
   "execution_count": 10,
   "metadata": {},
   "outputs": [
    {
     "data": {
      "text/plain": [
       "array(['Fully Paid', 'Charged Off', 'Current', 'Late (31-120 days)',\n",
       "       'In Grace Period', 'Late (16-30 days)', nan, 'Default',\n",
       "       'Does not meet the credit policy. Status:Fully Paid',\n",
       "       'Does not meet the credit policy. Status:Charged Off'],\n",
       "      dtype=object)"
      ]
     },
     "execution_count": 10,
     "metadata": {},
     "output_type": "execute_result"
    }
   ],
   "source": [
    "df['loan_status'].unique()"
   ]
  },
  {
   "cell_type": "code",
   "execution_count": null,
   "metadata": {},
   "outputs": [],
   "source": []
  },
  {
   "cell_type": "code",
   "execution_count": 27,
   "metadata": {},
   "outputs": [
    {
     "data": {
      "text/plain": [
       "{'acc_open_past_24mths': 58,\n",
       " 'all_util': 185,\n",
       " 'annual_inc': 80238,\n",
       " 'annual_inc_joint': 11233,\n",
       " 'application_type': 2,\n",
       " 'bc_open_to_buy': 84096,\n",
       " 'chargeoff_within_12_mths': 12,\n",
       " 'collection_recovery_fee': 110546,\n",
       " 'collections_12_mths_ex_med': 17,\n",
       " 'delinq_2yrs': 35,\n",
       " 'dti': 9010,\n",
       " 'dti_joint': 3921,\n",
       " 'earliest_cr_line': 742,\n",
       " 'emp_length': 12,\n",
       " 'home_ownership': 6,\n",
       " 'inq_fi': 32,\n",
       " 'inq_last_12m': 47,\n",
       " 'inq_last_6mths': 29,\n",
       " 'installment': 88440,\n",
       " 'int_rate': 638,\n",
       " 'loan_amnt': 1572,\n",
       " 'mo_sin_old_il_acct': 553,\n",
       " 'mo_sin_old_rev_tl_op': 774,\n",
       " 'mo_sin_rcnt_rev_tl_op': 314,\n",
       " 'mo_sin_rcnt_tl': 216,\n",
       " 'mort_acc': 47,\n",
       " 'mths_since_last_delinq': 172,\n",
       " 'mths_since_last_major_derog': 180,\n",
       " 'mths_since_last_record': 127,\n",
       " 'mths_since_rcnt_il': 381,\n",
       " 'mths_since_recent_bc': 520,\n",
       " 'mths_since_recent_bc_dlq': 173,\n",
       " 'mths_since_recent_inq': 27,\n",
       " 'mths_since_recent_revol_delinq': 174,\n",
       " 'num_accts_ever_120_pd': 44,\n",
       " 'num_bc_sats': 58,\n",
       " 'num_bc_tl': 74,\n",
       " 'num_il_tl': 121,\n",
       " 'num_op_rev_tl': 80,\n",
       " 'num_rev_accts': 113,\n",
       " 'num_rev_tl_bal_gt_0': 49,\n",
       " 'num_sats': 89,\n",
       " 'num_tl_90g_dpd_24m': 32,\n",
       " 'num_tl_op_past_12m': 34,\n",
       " 'open_acc': 89,\n",
       " 'open_acc_6m': 20,\n",
       " 'open_il_12m': 20,\n",
       " 'open_il_24m': 32,\n",
       " 'open_rv_12m': 30,\n",
       " 'open_rv_24m': 51,\n",
       " 'out_prncp': 351922,\n",
       " 'out_prncp_inv': 365499,\n",
       " 'pct_tl_nvr_dlq': 678,\n",
       " 'percent_bc_gt_75': 271,\n",
       " 'pub_rec': 44,\n",
       " 'pub_rec_bankruptcies': 13,\n",
       " 'revol_bal': 95830,\n",
       " 'revol_util': 1421,\n",
       " 'tax_liens': 43,\n",
       " 'term': 2,\n",
       " 'tot_coll_amt': 14752,\n",
       " 'tot_hi_cred_lim': 492542,\n",
       " 'total_bal_ex_mort': 199938,\n",
       " 'total_bc_limit': 19542,\n",
       " 'total_cu_tl': 63,\n",
       " 'total_il_high_credit_limit': 182408,\n",
       " 'total_pymnt': 1330264,\n",
       " 'total_rev_hi_lim': 32504,\n",
       " 'verification_status': 3,\n",
       " 'revol_bal_joint': 37644,\n",
       " 'sec_app_earliest_cr_line': 619,\n",
       " 'sec_app_inq_last_6mths': 8,\n",
       " 'sec_app_mort_acc': 22,\n",
       " 'sec_app_open_acc': 65,\n",
       " 'sec_app_num_rev_accts': 80,\n",
       " 'sec_app_chargeoff_within_12_mths': 21,\n",
       " 'sec_app_collections_12_mths_ex_med': 16,\n",
       " 'sec_app_mths_since_last_major_derog': 130,\n",
       " 'fico_est': 48,\n",
       " 'sec_app_fico_est': 63}"
      ]
     },
     "execution_count": 27,
     "metadata": {},
     "output_type": "execute_result"
    }
   ],
   "source": [
    "n_options = {}\n",
    "for column in reduced_df.columns:\n",
    "    n_options[column] = len(reduced_df[column].unique())\n",
    "n_options"
   ]
  },
  {
   "cell_type": "markdown",
   "metadata": {},
   "source": [
    "Based on these results, we will have to encode several data as dummy variables:\n",
    "- home_ownership\n",
    "- term\n",
    "- application_type\n",
    "- verification_status"
   ]
  },
  {
   "cell_type": "code",
   "execution_count": null,
   "metadata": {},
   "outputs": [],
   "source": []
  }
 ],
 "metadata": {
  "kernelspec": {
   "display_name": "Python 3",
   "language": "python",
   "name": "python3"
  },
  "language_info": {
   "codemirror_mode": {
    "name": "ipython",
    "version": 3
   },
   "file_extension": ".py",
   "mimetype": "text/x-python",
   "name": "python",
   "nbconvert_exporter": "python",
   "pygments_lexer": "ipython3",
   "version": "3.6.5"
  },
  "toc": {
   "base_numbering": 1,
   "nav_menu": {},
   "number_sections": false,
   "sideBar": true,
   "skip_h1_title": false,
   "title_cell": "Table of Contents",
   "title_sidebar": "Contents",
   "toc_cell": false,
   "toc_position": {},
   "toc_section_display": true,
   "toc_window_display": false
  }
 },
 "nbformat": 4,
 "nbformat_minor": 2
}
